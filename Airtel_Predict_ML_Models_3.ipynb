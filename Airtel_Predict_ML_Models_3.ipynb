{
  "nbformat": 4,
  "nbformat_minor": 0,
  "metadata": {
    "colab": {
      "provenance": []
    },
    "kernelspec": {
      "name": "python3",
      "display_name": "Python 3"
    },
    "language_info": {
      "name": "python"
    }
  },
  "cells": [
    {
      "cell_type": "markdown",
      "source": [
        "# **Airtel Stock Prices Prediction**"
      ],
      "metadata": {
        "id": "H68ezM7Pd8gG"
      }
    },
    {
      "cell_type": "markdown",
      "source": [
        "Models: \n",
        "1. Model Based Forecasting models like linear, exponential, \n",
        "Quadratic\n",
        "2. Persistence/Base model"
      ],
      "metadata": {
        "id": "gbhc126N4UmV"
      }
    },
    {
      "cell_type": "code",
      "source": [
        "import warnings \n",
        "warnings.filterwarnings(\"ignore\")"
      ],
      "metadata": {
        "id": "ofKr63y-FyxA"
      },
      "execution_count": 1,
      "outputs": []
    },
    {
      "cell_type": "code",
      "execution_count": 2,
      "metadata": {
        "id": "3lubtwzFc9x7"
      },
      "outputs": [],
      "source": [
        "# Base packages\n",
        "import pandas as pd\n",
        "import numpy as np\n",
        "\n",
        "# Visualization Packages\n",
        "from pandas.plotting import lag_plot\n",
        "import matplotlib.pyplot as plt\n",
        "import seaborn as sns\n",
        "\n",
        "from sklearn.metrics import mean_squared_error\n",
        "\n",
        "# Linear Regression\n",
        "import statsmodels.formula.api as smf"
      ]
    },
    {
      "cell_type": "code",
      "source": [
        "# Read csv file\n",
        "df_stock = pd.read_csv('BHARTIAIRTEL.csv')\n",
        "df_stock.head()"
      ],
      "metadata": {
        "colab": {
          "base_uri": "https://localhost:8080/",
          "height": 496
        },
        "id": "KegntA5G0NdR",
        "outputId": "8e9ba582-b99a-4c12-9903-271ce8a4057b"
      },
      "execution_count": 3,
      "outputs": [
        {
          "output_type": "execute_result",
          "data": {
            "text/plain": [
              "       Symbol Series       Date  Prev Close  Open Price  High Price  \\\n",
              "0  BHARTIARTL     EQ  04-Nov-22      818.65      815.70      821.80   \n",
              "1  BHARTIARTL     BL  03-Nov-22      802.10      809.85      809.85   \n",
              "2  BHARTIARTL     EQ  03-Nov-22      809.85      809.75      824.40   \n",
              "3  BHARTIARTL     EQ  31-Oct-22      816.85      823.00      833.80   \n",
              "4  BHARTIARTL     EQ  28-Oct-22      817.10      819.00      824.40   \n",
              "\n",
              "   Low Price  Last Price  Close Price  Average Price  Total Traded Quantity  \\\n",
              "0     809.20      816.10       816.40         814.59                3768226   \n",
              "1     809.85      809.85       809.85         809.85                3400871   \n",
              "2     804.20      817.50       818.65         817.78                5897840   \n",
              "3     820.00      832.00       832.00         829.27                5487233   \n",
              "4     811.30      819.50       816.85         816.70                3905093   \n",
              "\n",
              "       Turnover  No. of Trades Deliverable Qty % Dly Qt to Traded Qty  \n",
              "0  3.069542e+09          90470         2243180                  59.53  \n",
              "1  2.754195e+09              1               -                      -  \n",
              "2  4.823129e+09         160802         3380905                  57.32  \n",
              "3  4.550408e+09         166517         3411499                  62.17  \n",
              "4  3.189280e+09         106794         1890500                   67.1  "
            ],
            "text/html": [
              "\n",
              "  <div id=\"df-7f70c4b4-4aa5-49d9-aaeb-7aec2227fe81\">\n",
              "    <div class=\"colab-df-container\">\n",
              "      <div>\n",
              "<style scoped>\n",
              "    .dataframe tbody tr th:only-of-type {\n",
              "        vertical-align: middle;\n",
              "    }\n",
              "\n",
              "    .dataframe tbody tr th {\n",
              "        vertical-align: top;\n",
              "    }\n",
              "\n",
              "    .dataframe thead th {\n",
              "        text-align: right;\n",
              "    }\n",
              "</style>\n",
              "<table border=\"1\" class=\"dataframe\">\n",
              "  <thead>\n",
              "    <tr style=\"text-align: right;\">\n",
              "      <th></th>\n",
              "      <th>Symbol</th>\n",
              "      <th>Series</th>\n",
              "      <th>Date</th>\n",
              "      <th>Prev Close</th>\n",
              "      <th>Open Price</th>\n",
              "      <th>High Price</th>\n",
              "      <th>Low Price</th>\n",
              "      <th>Last Price</th>\n",
              "      <th>Close Price</th>\n",
              "      <th>Average Price</th>\n",
              "      <th>Total Traded Quantity</th>\n",
              "      <th>Turnover</th>\n",
              "      <th>No. of Trades</th>\n",
              "      <th>Deliverable Qty</th>\n",
              "      <th>% Dly Qt to Traded Qty</th>\n",
              "    </tr>\n",
              "  </thead>\n",
              "  <tbody>\n",
              "    <tr>\n",
              "      <th>0</th>\n",
              "      <td>BHARTIARTL</td>\n",
              "      <td>EQ</td>\n",
              "      <td>04-Nov-22</td>\n",
              "      <td>818.65</td>\n",
              "      <td>815.70</td>\n",
              "      <td>821.80</td>\n",
              "      <td>809.20</td>\n",
              "      <td>816.10</td>\n",
              "      <td>816.40</td>\n",
              "      <td>814.59</td>\n",
              "      <td>3768226</td>\n",
              "      <td>3.069542e+09</td>\n",
              "      <td>90470</td>\n",
              "      <td>2243180</td>\n",
              "      <td>59.53</td>\n",
              "    </tr>\n",
              "    <tr>\n",
              "      <th>1</th>\n",
              "      <td>BHARTIARTL</td>\n",
              "      <td>BL</td>\n",
              "      <td>03-Nov-22</td>\n",
              "      <td>802.10</td>\n",
              "      <td>809.85</td>\n",
              "      <td>809.85</td>\n",
              "      <td>809.85</td>\n",
              "      <td>809.85</td>\n",
              "      <td>809.85</td>\n",
              "      <td>809.85</td>\n",
              "      <td>3400871</td>\n",
              "      <td>2.754195e+09</td>\n",
              "      <td>1</td>\n",
              "      <td>-</td>\n",
              "      <td>-</td>\n",
              "    </tr>\n",
              "    <tr>\n",
              "      <th>2</th>\n",
              "      <td>BHARTIARTL</td>\n",
              "      <td>EQ</td>\n",
              "      <td>03-Nov-22</td>\n",
              "      <td>809.85</td>\n",
              "      <td>809.75</td>\n",
              "      <td>824.40</td>\n",
              "      <td>804.20</td>\n",
              "      <td>817.50</td>\n",
              "      <td>818.65</td>\n",
              "      <td>817.78</td>\n",
              "      <td>5897840</td>\n",
              "      <td>4.823129e+09</td>\n",
              "      <td>160802</td>\n",
              "      <td>3380905</td>\n",
              "      <td>57.32</td>\n",
              "    </tr>\n",
              "    <tr>\n",
              "      <th>3</th>\n",
              "      <td>BHARTIARTL</td>\n",
              "      <td>EQ</td>\n",
              "      <td>31-Oct-22</td>\n",
              "      <td>816.85</td>\n",
              "      <td>823.00</td>\n",
              "      <td>833.80</td>\n",
              "      <td>820.00</td>\n",
              "      <td>832.00</td>\n",
              "      <td>832.00</td>\n",
              "      <td>829.27</td>\n",
              "      <td>5487233</td>\n",
              "      <td>4.550408e+09</td>\n",
              "      <td>166517</td>\n",
              "      <td>3411499</td>\n",
              "      <td>62.17</td>\n",
              "    </tr>\n",
              "    <tr>\n",
              "      <th>4</th>\n",
              "      <td>BHARTIARTL</td>\n",
              "      <td>EQ</td>\n",
              "      <td>28-Oct-22</td>\n",
              "      <td>817.10</td>\n",
              "      <td>819.00</td>\n",
              "      <td>824.40</td>\n",
              "      <td>811.30</td>\n",
              "      <td>819.50</td>\n",
              "      <td>816.85</td>\n",
              "      <td>816.70</td>\n",
              "      <td>3905093</td>\n",
              "      <td>3.189280e+09</td>\n",
              "      <td>106794</td>\n",
              "      <td>1890500</td>\n",
              "      <td>67.1</td>\n",
              "    </tr>\n",
              "  </tbody>\n",
              "</table>\n",
              "</div>\n",
              "      <button class=\"colab-df-convert\" onclick=\"convertToInteractive('df-7f70c4b4-4aa5-49d9-aaeb-7aec2227fe81')\"\n",
              "              title=\"Convert this dataframe to an interactive table.\"\n",
              "              style=\"display:none;\">\n",
              "        \n",
              "  <svg xmlns=\"http://www.w3.org/2000/svg\" height=\"24px\"viewBox=\"0 0 24 24\"\n",
              "       width=\"24px\">\n",
              "    <path d=\"M0 0h24v24H0V0z\" fill=\"none\"/>\n",
              "    <path d=\"M18.56 5.44l.94 2.06.94-2.06 2.06-.94-2.06-.94-.94-2.06-.94 2.06-2.06.94zm-11 1L8.5 8.5l.94-2.06 2.06-.94-2.06-.94L8.5 2.5l-.94 2.06-2.06.94zm10 10l.94 2.06.94-2.06 2.06-.94-2.06-.94-.94-2.06-.94 2.06-2.06.94z\"/><path d=\"M17.41 7.96l-1.37-1.37c-.4-.4-.92-.59-1.43-.59-.52 0-1.04.2-1.43.59L10.3 9.45l-7.72 7.72c-.78.78-.78 2.05 0 2.83L4 21.41c.39.39.9.59 1.41.59.51 0 1.02-.2 1.41-.59l7.78-7.78 2.81-2.81c.8-.78.8-2.07 0-2.86zM5.41 20L4 18.59l7.72-7.72 1.47 1.35L5.41 20z\"/>\n",
              "  </svg>\n",
              "      </button>\n",
              "      \n",
              "  <style>\n",
              "    .colab-df-container {\n",
              "      display:flex;\n",
              "      flex-wrap:wrap;\n",
              "      gap: 12px;\n",
              "    }\n",
              "\n",
              "    .colab-df-convert {\n",
              "      background-color: #E8F0FE;\n",
              "      border: none;\n",
              "      border-radius: 50%;\n",
              "      cursor: pointer;\n",
              "      display: none;\n",
              "      fill: #1967D2;\n",
              "      height: 32px;\n",
              "      padding: 0 0 0 0;\n",
              "      width: 32px;\n",
              "    }\n",
              "\n",
              "    .colab-df-convert:hover {\n",
              "      background-color: #E2EBFA;\n",
              "      box-shadow: 0px 1px 2px rgba(60, 64, 67, 0.3), 0px 1px 3px 1px rgba(60, 64, 67, 0.15);\n",
              "      fill: #174EA6;\n",
              "    }\n",
              "\n",
              "    [theme=dark] .colab-df-convert {\n",
              "      background-color: #3B4455;\n",
              "      fill: #D2E3FC;\n",
              "    }\n",
              "\n",
              "    [theme=dark] .colab-df-convert:hover {\n",
              "      background-color: #434B5C;\n",
              "      box-shadow: 0px 1px 3px 1px rgba(0, 0, 0, 0.15);\n",
              "      filter: drop-shadow(0px 1px 2px rgba(0, 0, 0, 0.3));\n",
              "      fill: #FFFFFF;\n",
              "    }\n",
              "  </style>\n",
              "\n",
              "      <script>\n",
              "        const buttonEl =\n",
              "          document.querySelector('#df-7f70c4b4-4aa5-49d9-aaeb-7aec2227fe81 button.colab-df-convert');\n",
              "        buttonEl.style.display =\n",
              "          google.colab.kernel.accessAllowed ? 'block' : 'none';\n",
              "\n",
              "        async function convertToInteractive(key) {\n",
              "          const element = document.querySelector('#df-7f70c4b4-4aa5-49d9-aaeb-7aec2227fe81');\n",
              "          const dataTable =\n",
              "            await google.colab.kernel.invokeFunction('convertToInteractive',\n",
              "                                                     [key], {});\n",
              "          if (!dataTable) return;\n",
              "\n",
              "          const docLinkHtml = 'Like what you see? Visit the ' +\n",
              "            '<a target=\"_blank\" href=https://colab.research.google.com/notebooks/data_table.ipynb>data table notebook</a>'\n",
              "            + ' to learn more about interactive tables.';\n",
              "          element.innerHTML = '';\n",
              "          dataTable['output_type'] = 'display_data';\n",
              "          await google.colab.output.renderOutput(dataTable, element);\n",
              "          const docLink = document.createElement('div');\n",
              "          docLink.innerHTML = docLinkHtml;\n",
              "          element.appendChild(docLink);\n",
              "        }\n",
              "      </script>\n",
              "    </div>\n",
              "  </div>\n",
              "  "
            ]
          },
          "metadata": {},
          "execution_count": 3
        }
      ]
    },
    {
      "cell_type": "markdown",
      "source": [
        "**Exploratory Data Analysis (EDA)**"
      ],
      "metadata": {
        "id": "DTi-R_GTGszH"
      }
    },
    {
      "cell_type": "code",
      "execution_count": 4,
      "metadata": {
        "colab": {
          "base_uri": "https://localhost:8080/"
        },
        "id": "c97607d1",
        "outputId": "70ea4619-bcbe-4844-debb-c24ae17ad836"
      },
      "outputs": [
        {
          "output_type": "execute_result",
          "data": {
            "text/plain": [
              "(1743, 15)"
            ]
          },
          "metadata": {},
          "execution_count": 4
        }
      ],
      "source": [
        "df_stock.shape"
      ]
    },
    {
      "cell_type": "code",
      "execution_count": 5,
      "metadata": {
        "scrolled": true,
        "colab": {
          "base_uri": "https://localhost:8080/"
        },
        "id": "21a6209b",
        "outputId": "17257bd2-ebac-4d20-dddc-1999444dd525"
      },
      "outputs": [
        {
          "output_type": "stream",
          "name": "stdout",
          "text": [
            "<class 'pandas.core.frame.DataFrame'>\n",
            "RangeIndex: 1743 entries, 0 to 1742\n",
            "Data columns (total 15 columns):\n",
            " #   Column                  Non-Null Count  Dtype  \n",
            "---  ------                  --------------  -----  \n",
            " 0   Symbol                  1743 non-null   object \n",
            " 1   Series                  1743 non-null   object \n",
            " 2   Date                    1743 non-null   object \n",
            " 3   Prev Close              1743 non-null   float64\n",
            " 4   Open Price              1743 non-null   float64\n",
            " 5   High Price              1743 non-null   float64\n",
            " 6   Low Price               1743 non-null   float64\n",
            " 7   Last Price              1743 non-null   float64\n",
            " 8   Close Price             1743 non-null   float64\n",
            " 9   Average Price           1743 non-null   float64\n",
            " 10  Total Traded Quantity   1743 non-null   int64  \n",
            " 11  Turnover                1743 non-null   float64\n",
            " 12  No. of Trades           1743 non-null   int64  \n",
            " 13  Deliverable Qty         1743 non-null   object \n",
            " 14  % Dly Qt to Traded Qty  1743 non-null   object \n",
            "dtypes: float64(8), int64(2), object(5)\n",
            "memory usage: 204.4+ KB\n"
          ]
        }
      ],
      "source": [
        "df_stock.info()"
      ]
    },
    {
      "cell_type": "markdown",
      "source": [
        "Insights: 1. No null values in the dataset. \n",
        "2. Need to remove Series values other than 'EQ'\n",
        "3. Need to remove columns which are not useful for price predictions i.e. remove columns other than 'Date' and 'Close Price'\n",
        "4. 'Close Price' column to be renamed to 'Close_Price'\n",
        "5. Date column type to be changed from object to Date \n",
        "5. Sort data in ascending order of date\n",
        "6. Set Date column as new index"
      ],
      "metadata": {
        "id": "B9LE2JQ1S5m-"
      }
    },
    {
      "cell_type": "code",
      "source": [
        "# Dropping all Series column values which are not equal to 'EQ'\n",
        "values=['EQ']\n",
        "df_stock = df_stock[df_stock['Series'].isin(values)]"
      ],
      "metadata": {
        "id": "enZIZodeGszK"
      },
      "execution_count": 6,
      "outputs": []
    },
    {
      "cell_type": "code",
      "source": [
        "df_stock = df_stock[['Date', 'Close Price' ]]"
      ],
      "metadata": {
        "id": "HX09LJx_GszL"
      },
      "execution_count": 7,
      "outputs": []
    },
    {
      "cell_type": "code",
      "source": [
        "# Renaming of column name 'Close Price'\n",
        "df_stock = df_stock.rename(columns={'Close Price': 'Close_Price'})\n",
        "df_stock.head()"
      ],
      "metadata": {
        "colab": {
          "base_uri": "https://localhost:8080/",
          "height": 206
        },
        "outputId": "48680a88-21eb-4252-b5ee-058f6f4d25ce",
        "id": "CRyus_zEGszP"
      },
      "execution_count": 8,
      "outputs": [
        {
          "output_type": "execute_result",
          "data": {
            "text/plain": [
              "        Date  Close_Price\n",
              "0  04-Nov-22       816.40\n",
              "2  03-Nov-22       818.65\n",
              "3  31-Oct-22       832.00\n",
              "4  28-Oct-22       816.85\n",
              "5  27-Oct-22       817.10"
            ],
            "text/html": [
              "\n",
              "  <div id=\"df-1e511927-65c2-44ac-839e-3e123b46595a\">\n",
              "    <div class=\"colab-df-container\">\n",
              "      <div>\n",
              "<style scoped>\n",
              "    .dataframe tbody tr th:only-of-type {\n",
              "        vertical-align: middle;\n",
              "    }\n",
              "\n",
              "    .dataframe tbody tr th {\n",
              "        vertical-align: top;\n",
              "    }\n",
              "\n",
              "    .dataframe thead th {\n",
              "        text-align: right;\n",
              "    }\n",
              "</style>\n",
              "<table border=\"1\" class=\"dataframe\">\n",
              "  <thead>\n",
              "    <tr style=\"text-align: right;\">\n",
              "      <th></th>\n",
              "      <th>Date</th>\n",
              "      <th>Close_Price</th>\n",
              "    </tr>\n",
              "  </thead>\n",
              "  <tbody>\n",
              "    <tr>\n",
              "      <th>0</th>\n",
              "      <td>04-Nov-22</td>\n",
              "      <td>816.40</td>\n",
              "    </tr>\n",
              "    <tr>\n",
              "      <th>2</th>\n",
              "      <td>03-Nov-22</td>\n",
              "      <td>818.65</td>\n",
              "    </tr>\n",
              "    <tr>\n",
              "      <th>3</th>\n",
              "      <td>31-Oct-22</td>\n",
              "      <td>832.00</td>\n",
              "    </tr>\n",
              "    <tr>\n",
              "      <th>4</th>\n",
              "      <td>28-Oct-22</td>\n",
              "      <td>816.85</td>\n",
              "    </tr>\n",
              "    <tr>\n",
              "      <th>5</th>\n",
              "      <td>27-Oct-22</td>\n",
              "      <td>817.10</td>\n",
              "    </tr>\n",
              "  </tbody>\n",
              "</table>\n",
              "</div>\n",
              "      <button class=\"colab-df-convert\" onclick=\"convertToInteractive('df-1e511927-65c2-44ac-839e-3e123b46595a')\"\n",
              "              title=\"Convert this dataframe to an interactive table.\"\n",
              "              style=\"display:none;\">\n",
              "        \n",
              "  <svg xmlns=\"http://www.w3.org/2000/svg\" height=\"24px\"viewBox=\"0 0 24 24\"\n",
              "       width=\"24px\">\n",
              "    <path d=\"M0 0h24v24H0V0z\" fill=\"none\"/>\n",
              "    <path d=\"M18.56 5.44l.94 2.06.94-2.06 2.06-.94-2.06-.94-.94-2.06-.94 2.06-2.06.94zm-11 1L8.5 8.5l.94-2.06 2.06-.94-2.06-.94L8.5 2.5l-.94 2.06-2.06.94zm10 10l.94 2.06.94-2.06 2.06-.94-2.06-.94-.94-2.06-.94 2.06-2.06.94z\"/><path d=\"M17.41 7.96l-1.37-1.37c-.4-.4-.92-.59-1.43-.59-.52 0-1.04.2-1.43.59L10.3 9.45l-7.72 7.72c-.78.78-.78 2.05 0 2.83L4 21.41c.39.39.9.59 1.41.59.51 0 1.02-.2 1.41-.59l7.78-7.78 2.81-2.81c.8-.78.8-2.07 0-2.86zM5.41 20L4 18.59l7.72-7.72 1.47 1.35L5.41 20z\"/>\n",
              "  </svg>\n",
              "      </button>\n",
              "      \n",
              "  <style>\n",
              "    .colab-df-container {\n",
              "      display:flex;\n",
              "      flex-wrap:wrap;\n",
              "      gap: 12px;\n",
              "    }\n",
              "\n",
              "    .colab-df-convert {\n",
              "      background-color: #E8F0FE;\n",
              "      border: none;\n",
              "      border-radius: 50%;\n",
              "      cursor: pointer;\n",
              "      display: none;\n",
              "      fill: #1967D2;\n",
              "      height: 32px;\n",
              "      padding: 0 0 0 0;\n",
              "      width: 32px;\n",
              "    }\n",
              "\n",
              "    .colab-df-convert:hover {\n",
              "      background-color: #E2EBFA;\n",
              "      box-shadow: 0px 1px 2px rgba(60, 64, 67, 0.3), 0px 1px 3px 1px rgba(60, 64, 67, 0.15);\n",
              "      fill: #174EA6;\n",
              "    }\n",
              "\n",
              "    [theme=dark] .colab-df-convert {\n",
              "      background-color: #3B4455;\n",
              "      fill: #D2E3FC;\n",
              "    }\n",
              "\n",
              "    [theme=dark] .colab-df-convert:hover {\n",
              "      background-color: #434B5C;\n",
              "      box-shadow: 0px 1px 3px 1px rgba(0, 0, 0, 0.15);\n",
              "      filter: drop-shadow(0px 1px 2px rgba(0, 0, 0, 0.3));\n",
              "      fill: #FFFFFF;\n",
              "    }\n",
              "  </style>\n",
              "\n",
              "      <script>\n",
              "        const buttonEl =\n",
              "          document.querySelector('#df-1e511927-65c2-44ac-839e-3e123b46595a button.colab-df-convert');\n",
              "        buttonEl.style.display =\n",
              "          google.colab.kernel.accessAllowed ? 'block' : 'none';\n",
              "\n",
              "        async function convertToInteractive(key) {\n",
              "          const element = document.querySelector('#df-1e511927-65c2-44ac-839e-3e123b46595a');\n",
              "          const dataTable =\n",
              "            await google.colab.kernel.invokeFunction('convertToInteractive',\n",
              "                                                     [key], {});\n",
              "          if (!dataTable) return;\n",
              "\n",
              "          const docLinkHtml = 'Like what you see? Visit the ' +\n",
              "            '<a target=\"_blank\" href=https://colab.research.google.com/notebooks/data_table.ipynb>data table notebook</a>'\n",
              "            + ' to learn more about interactive tables.';\n",
              "          element.innerHTML = '';\n",
              "          dataTable['output_type'] = 'display_data';\n",
              "          await google.colab.output.renderOutput(dataTable, element);\n",
              "          const docLink = document.createElement('div');\n",
              "          docLink.innerHTML = docLinkHtml;\n",
              "          element.appendChild(docLink);\n",
              "        }\n",
              "      </script>\n",
              "    </div>\n",
              "  </div>\n",
              "  "
            ]
          },
          "metadata": {},
          "execution_count": 8
        }
      ]
    },
    {
      "cell_type": "code",
      "execution_count": 9,
      "metadata": {
        "scrolled": true,
        "colab": {
          "base_uri": "https://localhost:8080/"
        },
        "id": "b35a0f4e",
        "outputId": "ef888161-3715-4d8b-c3ba-2fc951283d4e"
      },
      "outputs": [
        {
          "output_type": "execute_result",
          "data": {
            "text/plain": [
              "Date           1726\n",
              "Close_Price    1492\n",
              "dtype: int64"
            ]
          },
          "metadata": {},
          "execution_count": 9
        }
      ],
      "source": [
        "df_stock.nunique()"
      ]
    },
    {
      "cell_type": "code",
      "source": [
        "# Find all duplicate rows\n",
        "df_stock[df_stock.duplicated()]"
      ],
      "metadata": {
        "colab": {
          "base_uri": "https://localhost:8080/",
          "height": 175
        },
        "id": "FsKahPBSUpKR",
        "outputId": "4e45be78-2ee4-4cd1-a2b4-d13f0076f19a"
      },
      "execution_count": 10,
      "outputs": [
        {
          "output_type": "execute_result",
          "data": {
            "text/plain": [
              "           Date  Close_Price\n",
              "756   04-Nov-19       378.00\n",
              "1498  03-Nov-16       308.95\n",
              "1500  02-Nov-16       309.60\n",
              "1502  01-Nov-16       317.45"
            ],
            "text/html": [
              "\n",
              "  <div id=\"df-18355535-cfbe-4518-922e-4d1256fb827b\">\n",
              "    <div class=\"colab-df-container\">\n",
              "      <div>\n",
              "<style scoped>\n",
              "    .dataframe tbody tr th:only-of-type {\n",
              "        vertical-align: middle;\n",
              "    }\n",
              "\n",
              "    .dataframe tbody tr th {\n",
              "        vertical-align: top;\n",
              "    }\n",
              "\n",
              "    .dataframe thead th {\n",
              "        text-align: right;\n",
              "    }\n",
              "</style>\n",
              "<table border=\"1\" class=\"dataframe\">\n",
              "  <thead>\n",
              "    <tr style=\"text-align: right;\">\n",
              "      <th></th>\n",
              "      <th>Date</th>\n",
              "      <th>Close_Price</th>\n",
              "    </tr>\n",
              "  </thead>\n",
              "  <tbody>\n",
              "    <tr>\n",
              "      <th>756</th>\n",
              "      <td>04-Nov-19</td>\n",
              "      <td>378.00</td>\n",
              "    </tr>\n",
              "    <tr>\n",
              "      <th>1498</th>\n",
              "      <td>03-Nov-16</td>\n",
              "      <td>308.95</td>\n",
              "    </tr>\n",
              "    <tr>\n",
              "      <th>1500</th>\n",
              "      <td>02-Nov-16</td>\n",
              "      <td>309.60</td>\n",
              "    </tr>\n",
              "    <tr>\n",
              "      <th>1502</th>\n",
              "      <td>01-Nov-16</td>\n",
              "      <td>317.45</td>\n",
              "    </tr>\n",
              "  </tbody>\n",
              "</table>\n",
              "</div>\n",
              "      <button class=\"colab-df-convert\" onclick=\"convertToInteractive('df-18355535-cfbe-4518-922e-4d1256fb827b')\"\n",
              "              title=\"Convert this dataframe to an interactive table.\"\n",
              "              style=\"display:none;\">\n",
              "        \n",
              "  <svg xmlns=\"http://www.w3.org/2000/svg\" height=\"24px\"viewBox=\"0 0 24 24\"\n",
              "       width=\"24px\">\n",
              "    <path d=\"M0 0h24v24H0V0z\" fill=\"none\"/>\n",
              "    <path d=\"M18.56 5.44l.94 2.06.94-2.06 2.06-.94-2.06-.94-.94-2.06-.94 2.06-2.06.94zm-11 1L8.5 8.5l.94-2.06 2.06-.94-2.06-.94L8.5 2.5l-.94 2.06-2.06.94zm10 10l.94 2.06.94-2.06 2.06-.94-2.06-.94-.94-2.06-.94 2.06-2.06.94z\"/><path d=\"M17.41 7.96l-1.37-1.37c-.4-.4-.92-.59-1.43-.59-.52 0-1.04.2-1.43.59L10.3 9.45l-7.72 7.72c-.78.78-.78 2.05 0 2.83L4 21.41c.39.39.9.59 1.41.59.51 0 1.02-.2 1.41-.59l7.78-7.78 2.81-2.81c.8-.78.8-2.07 0-2.86zM5.41 20L4 18.59l7.72-7.72 1.47 1.35L5.41 20z\"/>\n",
              "  </svg>\n",
              "      </button>\n",
              "      \n",
              "  <style>\n",
              "    .colab-df-container {\n",
              "      display:flex;\n",
              "      flex-wrap:wrap;\n",
              "      gap: 12px;\n",
              "    }\n",
              "\n",
              "    .colab-df-convert {\n",
              "      background-color: #E8F0FE;\n",
              "      border: none;\n",
              "      border-radius: 50%;\n",
              "      cursor: pointer;\n",
              "      display: none;\n",
              "      fill: #1967D2;\n",
              "      height: 32px;\n",
              "      padding: 0 0 0 0;\n",
              "      width: 32px;\n",
              "    }\n",
              "\n",
              "    .colab-df-convert:hover {\n",
              "      background-color: #E2EBFA;\n",
              "      box-shadow: 0px 1px 2px rgba(60, 64, 67, 0.3), 0px 1px 3px 1px rgba(60, 64, 67, 0.15);\n",
              "      fill: #174EA6;\n",
              "    }\n",
              "\n",
              "    [theme=dark] .colab-df-convert {\n",
              "      background-color: #3B4455;\n",
              "      fill: #D2E3FC;\n",
              "    }\n",
              "\n",
              "    [theme=dark] .colab-df-convert:hover {\n",
              "      background-color: #434B5C;\n",
              "      box-shadow: 0px 1px 3px 1px rgba(0, 0, 0, 0.15);\n",
              "      filter: drop-shadow(0px 1px 2px rgba(0, 0, 0, 0.3));\n",
              "      fill: #FFFFFF;\n",
              "    }\n",
              "  </style>\n",
              "\n",
              "      <script>\n",
              "        const buttonEl =\n",
              "          document.querySelector('#df-18355535-cfbe-4518-922e-4d1256fb827b button.colab-df-convert');\n",
              "        buttonEl.style.display =\n",
              "          google.colab.kernel.accessAllowed ? 'block' : 'none';\n",
              "\n",
              "        async function convertToInteractive(key) {\n",
              "          const element = document.querySelector('#df-18355535-cfbe-4518-922e-4d1256fb827b');\n",
              "          const dataTable =\n",
              "            await google.colab.kernel.invokeFunction('convertToInteractive',\n",
              "                                                     [key], {});\n",
              "          if (!dataTable) return;\n",
              "\n",
              "          const docLinkHtml = 'Like what you see? Visit the ' +\n",
              "            '<a target=\"_blank\" href=https://colab.research.google.com/notebooks/data_table.ipynb>data table notebook</a>'\n",
              "            + ' to learn more about interactive tables.';\n",
              "          element.innerHTML = '';\n",
              "          dataTable['output_type'] = 'display_data';\n",
              "          await google.colab.output.renderOutput(dataTable, element);\n",
              "          const docLink = document.createElement('div');\n",
              "          docLink.innerHTML = docLinkHtml;\n",
              "          element.appendChild(docLink);\n",
              "        }\n",
              "      </script>\n",
              "    </div>\n",
              "  </div>\n",
              "  "
            ]
          },
          "metadata": {},
          "execution_count": 10
        }
      ]
    },
    {
      "cell_type": "code",
      "source": [
        "# Remove duplicate rows\n",
        "df_stock = df_stock.drop_duplicates()\n",
        "df_stock.nunique()"
      ],
      "metadata": {
        "colab": {
          "base_uri": "https://localhost:8080/"
        },
        "id": "P8iAhRXkVSnw",
        "outputId": "4b32744e-c1db-4976-e0bb-ffbd39f5d5fe"
      },
      "execution_count": 11,
      "outputs": [
        {
          "output_type": "execute_result",
          "data": {
            "text/plain": [
              "Date           1726\n",
              "Close_Price    1492\n",
              "dtype: int64"
            ]
          },
          "metadata": {},
          "execution_count": 11
        }
      ]
    },
    {
      "cell_type": "code",
      "source": [
        "df_stock['Date'] = pd.to_datetime(df_stock['Date'])\n",
        "df_stock.head()"
      ],
      "metadata": {
        "colab": {
          "base_uri": "https://localhost:8080/",
          "height": 206
        },
        "outputId": "515a4b8e-b225-4572-d02b-c55713c4d70f",
        "id": "Xm_gABAJGszS"
      },
      "execution_count": 12,
      "outputs": [
        {
          "output_type": "execute_result",
          "data": {
            "text/plain": [
              "        Date  Close_Price\n",
              "0 2022-11-04       816.40\n",
              "2 2022-11-03       818.65\n",
              "3 2022-10-31       832.00\n",
              "4 2022-10-28       816.85\n",
              "5 2022-10-27       817.10"
            ],
            "text/html": [
              "\n",
              "  <div id=\"df-a996b8c4-d78f-4547-b8f3-631ef337d0b3\">\n",
              "    <div class=\"colab-df-container\">\n",
              "      <div>\n",
              "<style scoped>\n",
              "    .dataframe tbody tr th:only-of-type {\n",
              "        vertical-align: middle;\n",
              "    }\n",
              "\n",
              "    .dataframe tbody tr th {\n",
              "        vertical-align: top;\n",
              "    }\n",
              "\n",
              "    .dataframe thead th {\n",
              "        text-align: right;\n",
              "    }\n",
              "</style>\n",
              "<table border=\"1\" class=\"dataframe\">\n",
              "  <thead>\n",
              "    <tr style=\"text-align: right;\">\n",
              "      <th></th>\n",
              "      <th>Date</th>\n",
              "      <th>Close_Price</th>\n",
              "    </tr>\n",
              "  </thead>\n",
              "  <tbody>\n",
              "    <tr>\n",
              "      <th>0</th>\n",
              "      <td>2022-11-04</td>\n",
              "      <td>816.40</td>\n",
              "    </tr>\n",
              "    <tr>\n",
              "      <th>2</th>\n",
              "      <td>2022-11-03</td>\n",
              "      <td>818.65</td>\n",
              "    </tr>\n",
              "    <tr>\n",
              "      <th>3</th>\n",
              "      <td>2022-10-31</td>\n",
              "      <td>832.00</td>\n",
              "    </tr>\n",
              "    <tr>\n",
              "      <th>4</th>\n",
              "      <td>2022-10-28</td>\n",
              "      <td>816.85</td>\n",
              "    </tr>\n",
              "    <tr>\n",
              "      <th>5</th>\n",
              "      <td>2022-10-27</td>\n",
              "      <td>817.10</td>\n",
              "    </tr>\n",
              "  </tbody>\n",
              "</table>\n",
              "</div>\n",
              "      <button class=\"colab-df-convert\" onclick=\"convertToInteractive('df-a996b8c4-d78f-4547-b8f3-631ef337d0b3')\"\n",
              "              title=\"Convert this dataframe to an interactive table.\"\n",
              "              style=\"display:none;\">\n",
              "        \n",
              "  <svg xmlns=\"http://www.w3.org/2000/svg\" height=\"24px\"viewBox=\"0 0 24 24\"\n",
              "       width=\"24px\">\n",
              "    <path d=\"M0 0h24v24H0V0z\" fill=\"none\"/>\n",
              "    <path d=\"M18.56 5.44l.94 2.06.94-2.06 2.06-.94-2.06-.94-.94-2.06-.94 2.06-2.06.94zm-11 1L8.5 8.5l.94-2.06 2.06-.94-2.06-.94L8.5 2.5l-.94 2.06-2.06.94zm10 10l.94 2.06.94-2.06 2.06-.94-2.06-.94-.94-2.06-.94 2.06-2.06.94z\"/><path d=\"M17.41 7.96l-1.37-1.37c-.4-.4-.92-.59-1.43-.59-.52 0-1.04.2-1.43.59L10.3 9.45l-7.72 7.72c-.78.78-.78 2.05 0 2.83L4 21.41c.39.39.9.59 1.41.59.51 0 1.02-.2 1.41-.59l7.78-7.78 2.81-2.81c.8-.78.8-2.07 0-2.86zM5.41 20L4 18.59l7.72-7.72 1.47 1.35L5.41 20z\"/>\n",
              "  </svg>\n",
              "      </button>\n",
              "      \n",
              "  <style>\n",
              "    .colab-df-container {\n",
              "      display:flex;\n",
              "      flex-wrap:wrap;\n",
              "      gap: 12px;\n",
              "    }\n",
              "\n",
              "    .colab-df-convert {\n",
              "      background-color: #E8F0FE;\n",
              "      border: none;\n",
              "      border-radius: 50%;\n",
              "      cursor: pointer;\n",
              "      display: none;\n",
              "      fill: #1967D2;\n",
              "      height: 32px;\n",
              "      padding: 0 0 0 0;\n",
              "      width: 32px;\n",
              "    }\n",
              "\n",
              "    .colab-df-convert:hover {\n",
              "      background-color: #E2EBFA;\n",
              "      box-shadow: 0px 1px 2px rgba(60, 64, 67, 0.3), 0px 1px 3px 1px rgba(60, 64, 67, 0.15);\n",
              "      fill: #174EA6;\n",
              "    }\n",
              "\n",
              "    [theme=dark] .colab-df-convert {\n",
              "      background-color: #3B4455;\n",
              "      fill: #D2E3FC;\n",
              "    }\n",
              "\n",
              "    [theme=dark] .colab-df-convert:hover {\n",
              "      background-color: #434B5C;\n",
              "      box-shadow: 0px 1px 3px 1px rgba(0, 0, 0, 0.15);\n",
              "      filter: drop-shadow(0px 1px 2px rgba(0, 0, 0, 0.3));\n",
              "      fill: #FFFFFF;\n",
              "    }\n",
              "  </style>\n",
              "\n",
              "      <script>\n",
              "        const buttonEl =\n",
              "          document.querySelector('#df-a996b8c4-d78f-4547-b8f3-631ef337d0b3 button.colab-df-convert');\n",
              "        buttonEl.style.display =\n",
              "          google.colab.kernel.accessAllowed ? 'block' : 'none';\n",
              "\n",
              "        async function convertToInteractive(key) {\n",
              "          const element = document.querySelector('#df-a996b8c4-d78f-4547-b8f3-631ef337d0b3');\n",
              "          const dataTable =\n",
              "            await google.colab.kernel.invokeFunction('convertToInteractive',\n",
              "                                                     [key], {});\n",
              "          if (!dataTable) return;\n",
              "\n",
              "          const docLinkHtml = 'Like what you see? Visit the ' +\n",
              "            '<a target=\"_blank\" href=https://colab.research.google.com/notebooks/data_table.ipynb>data table notebook</a>'\n",
              "            + ' to learn more about interactive tables.';\n",
              "          element.innerHTML = '';\n",
              "          dataTable['output_type'] = 'display_data';\n",
              "          await google.colab.output.renderOutput(dataTable, element);\n",
              "          const docLink = document.createElement('div');\n",
              "          docLink.innerHTML = docLinkHtml;\n",
              "          element.appendChild(docLink);\n",
              "        }\n",
              "      </script>\n",
              "    </div>\n",
              "  </div>\n",
              "  "
            ]
          },
          "metadata": {},
          "execution_count": 12
        }
      ]
    },
    {
      "cell_type": "code",
      "source": [
        "# Set Date column as index \n",
        "df_stock=df_stock.set_index(pd.DatetimeIndex(df_stock['Date']))\n",
        "df_stock.info()"
      ],
      "metadata": {
        "colab": {
          "base_uri": "https://localhost:8080/"
        },
        "id": "GbJ4WnEIagVa",
        "outputId": "5c5cd22c-acc7-44ad-9f19-dccb7fa1047c"
      },
      "execution_count": 13,
      "outputs": [
        {
          "output_type": "stream",
          "name": "stdout",
          "text": [
            "<class 'pandas.core.frame.DataFrame'>\n",
            "DatetimeIndex: 1726 entries, 2022-11-04 to 2015-11-09\n",
            "Data columns (total 2 columns):\n",
            " #   Column       Non-Null Count  Dtype         \n",
            "---  ------       --------------  -----         \n",
            " 0   Date         1726 non-null   datetime64[ns]\n",
            " 1   Close_Price  1726 non-null   float64       \n",
            "dtypes: datetime64[ns](1), float64(1)\n",
            "memory usage: 40.5 KB\n"
          ]
        }
      ]
    },
    {
      "cell_type": "code",
      "source": [
        "# Sort index in ascending order\n",
        "df_stock = df_stock.sort_index(ascending=True)\n",
        "df_stock.head()"
      ],
      "metadata": {
        "colab": {
          "base_uri": "https://localhost:8080/",
          "height": 238
        },
        "id": "7lrm37JOZcyb",
        "outputId": "0ca48b92-84e8-421b-bb88-0f61c2b43bee"
      },
      "execution_count": 14,
      "outputs": [
        {
          "output_type": "execute_result",
          "data": {
            "text/plain": [
              "                 Date  Close_Price\n",
              "Date                              \n",
              "2015-11-09 2015-11-09       335.25\n",
              "2015-11-10 2015-11-10       331.65\n",
              "2015-11-11 2015-11-11       331.90\n",
              "2015-11-13 2015-11-13       333.90\n",
              "2015-11-16 2015-11-16       335.75"
            ],
            "text/html": [
              "\n",
              "  <div id=\"df-60404369-1f9a-406e-ad07-b2bfcd5d449f\">\n",
              "    <div class=\"colab-df-container\">\n",
              "      <div>\n",
              "<style scoped>\n",
              "    .dataframe tbody tr th:only-of-type {\n",
              "        vertical-align: middle;\n",
              "    }\n",
              "\n",
              "    .dataframe tbody tr th {\n",
              "        vertical-align: top;\n",
              "    }\n",
              "\n",
              "    .dataframe thead th {\n",
              "        text-align: right;\n",
              "    }\n",
              "</style>\n",
              "<table border=\"1\" class=\"dataframe\">\n",
              "  <thead>\n",
              "    <tr style=\"text-align: right;\">\n",
              "      <th></th>\n",
              "      <th>Date</th>\n",
              "      <th>Close_Price</th>\n",
              "    </tr>\n",
              "    <tr>\n",
              "      <th>Date</th>\n",
              "      <th></th>\n",
              "      <th></th>\n",
              "    </tr>\n",
              "  </thead>\n",
              "  <tbody>\n",
              "    <tr>\n",
              "      <th>2015-11-09</th>\n",
              "      <td>2015-11-09</td>\n",
              "      <td>335.25</td>\n",
              "    </tr>\n",
              "    <tr>\n",
              "      <th>2015-11-10</th>\n",
              "      <td>2015-11-10</td>\n",
              "      <td>331.65</td>\n",
              "    </tr>\n",
              "    <tr>\n",
              "      <th>2015-11-11</th>\n",
              "      <td>2015-11-11</td>\n",
              "      <td>331.90</td>\n",
              "    </tr>\n",
              "    <tr>\n",
              "      <th>2015-11-13</th>\n",
              "      <td>2015-11-13</td>\n",
              "      <td>333.90</td>\n",
              "    </tr>\n",
              "    <tr>\n",
              "      <th>2015-11-16</th>\n",
              "      <td>2015-11-16</td>\n",
              "      <td>335.75</td>\n",
              "    </tr>\n",
              "  </tbody>\n",
              "</table>\n",
              "</div>\n",
              "      <button class=\"colab-df-convert\" onclick=\"convertToInteractive('df-60404369-1f9a-406e-ad07-b2bfcd5d449f')\"\n",
              "              title=\"Convert this dataframe to an interactive table.\"\n",
              "              style=\"display:none;\">\n",
              "        \n",
              "  <svg xmlns=\"http://www.w3.org/2000/svg\" height=\"24px\"viewBox=\"0 0 24 24\"\n",
              "       width=\"24px\">\n",
              "    <path d=\"M0 0h24v24H0V0z\" fill=\"none\"/>\n",
              "    <path d=\"M18.56 5.44l.94 2.06.94-2.06 2.06-.94-2.06-.94-.94-2.06-.94 2.06-2.06.94zm-11 1L8.5 8.5l.94-2.06 2.06-.94-2.06-.94L8.5 2.5l-.94 2.06-2.06.94zm10 10l.94 2.06.94-2.06 2.06-.94-2.06-.94-.94-2.06-.94 2.06-2.06.94z\"/><path d=\"M17.41 7.96l-1.37-1.37c-.4-.4-.92-.59-1.43-.59-.52 0-1.04.2-1.43.59L10.3 9.45l-7.72 7.72c-.78.78-.78 2.05 0 2.83L4 21.41c.39.39.9.59 1.41.59.51 0 1.02-.2 1.41-.59l7.78-7.78 2.81-2.81c.8-.78.8-2.07 0-2.86zM5.41 20L4 18.59l7.72-7.72 1.47 1.35L5.41 20z\"/>\n",
              "  </svg>\n",
              "      </button>\n",
              "      \n",
              "  <style>\n",
              "    .colab-df-container {\n",
              "      display:flex;\n",
              "      flex-wrap:wrap;\n",
              "      gap: 12px;\n",
              "    }\n",
              "\n",
              "    .colab-df-convert {\n",
              "      background-color: #E8F0FE;\n",
              "      border: none;\n",
              "      border-radius: 50%;\n",
              "      cursor: pointer;\n",
              "      display: none;\n",
              "      fill: #1967D2;\n",
              "      height: 32px;\n",
              "      padding: 0 0 0 0;\n",
              "      width: 32px;\n",
              "    }\n",
              "\n",
              "    .colab-df-convert:hover {\n",
              "      background-color: #E2EBFA;\n",
              "      box-shadow: 0px 1px 2px rgba(60, 64, 67, 0.3), 0px 1px 3px 1px rgba(60, 64, 67, 0.15);\n",
              "      fill: #174EA6;\n",
              "    }\n",
              "\n",
              "    [theme=dark] .colab-df-convert {\n",
              "      background-color: #3B4455;\n",
              "      fill: #D2E3FC;\n",
              "    }\n",
              "\n",
              "    [theme=dark] .colab-df-convert:hover {\n",
              "      background-color: #434B5C;\n",
              "      box-shadow: 0px 1px 3px 1px rgba(0, 0, 0, 0.15);\n",
              "      filter: drop-shadow(0px 1px 2px rgba(0, 0, 0, 0.3));\n",
              "      fill: #FFFFFF;\n",
              "    }\n",
              "  </style>\n",
              "\n",
              "      <script>\n",
              "        const buttonEl =\n",
              "          document.querySelector('#df-60404369-1f9a-406e-ad07-b2bfcd5d449f button.colab-df-convert');\n",
              "        buttonEl.style.display =\n",
              "          google.colab.kernel.accessAllowed ? 'block' : 'none';\n",
              "\n",
              "        async function convertToInteractive(key) {\n",
              "          const element = document.querySelector('#df-60404369-1f9a-406e-ad07-b2bfcd5d449f');\n",
              "          const dataTable =\n",
              "            await google.colab.kernel.invokeFunction('convertToInteractive',\n",
              "                                                     [key], {});\n",
              "          if (!dataTable) return;\n",
              "\n",
              "          const docLinkHtml = 'Like what you see? Visit the ' +\n",
              "            '<a target=\"_blank\" href=https://colab.research.google.com/notebooks/data_table.ipynb>data table notebook</a>'\n",
              "            + ' to learn more about interactive tables.';\n",
              "          element.innerHTML = '';\n",
              "          dataTable['output_type'] = 'display_data';\n",
              "          await google.colab.output.renderOutput(dataTable, element);\n",
              "          const docLink = document.createElement('div');\n",
              "          docLink.innerHTML = docLinkHtml;\n",
              "          element.appendChild(docLink);\n",
              "        }\n",
              "      </script>\n",
              "    </div>\n",
              "  </div>\n",
              "  "
            ]
          },
          "metadata": {},
          "execution_count": 14
        }
      ]
    },
    {
      "cell_type": "code",
      "source": [
        "# Providing data range for understanding\n",
        "print(f'Dataframe contains stock prices between {df_stock.Date.min().strftime(\"%Y-%m-%d\")} and {df_stock.Date.max().strftime(\"%Y-%m-%d\")}')\n",
        "print(f'Total days {(df_stock.Date.max() - df_stock.Date.min()).days} days')"
      ],
      "metadata": {
        "colab": {
          "base_uri": "https://localhost:8080/"
        },
        "id": "u1QNI7l98ajd",
        "outputId": "b02f18ca-e91c-4fac-c41f-085b16524273"
      },
      "execution_count": 15,
      "outputs": [
        {
          "output_type": "stream",
          "name": "stdout",
          "text": [
            "Dataframe contains stock prices between 2015-11-09 and 2022-11-04\n",
            "Total days 2552 days\n"
          ]
        }
      ]
    },
    {
      "cell_type": "code",
      "source": [
        "df_stock['Date']= pd.to_datetime(df_stock[\"Date\"]).dt.strftime(\"%Y%m%d\")\n",
        "df_stock.head()"
      ],
      "metadata": {
        "colab": {
          "base_uri": "https://localhost:8080/",
          "height": 238
        },
        "id": "Nja5KJCc8LRM",
        "outputId": "f028aa8d-91ad-42b2-9385-2b39d4e2f4d8"
      },
      "execution_count": 16,
      "outputs": [
        {
          "output_type": "execute_result",
          "data": {
            "text/plain": [
              "                Date  Close_Price\n",
              "Date                             \n",
              "2015-11-09  20151109       335.25\n",
              "2015-11-10  20151110       331.65\n",
              "2015-11-11  20151111       331.90\n",
              "2015-11-13  20151113       333.90\n",
              "2015-11-16  20151116       335.75"
            ],
            "text/html": [
              "\n",
              "  <div id=\"df-8c2017cd-2e7d-426e-bd7a-4379e9b180a1\">\n",
              "    <div class=\"colab-df-container\">\n",
              "      <div>\n",
              "<style scoped>\n",
              "    .dataframe tbody tr th:only-of-type {\n",
              "        vertical-align: middle;\n",
              "    }\n",
              "\n",
              "    .dataframe tbody tr th {\n",
              "        vertical-align: top;\n",
              "    }\n",
              "\n",
              "    .dataframe thead th {\n",
              "        text-align: right;\n",
              "    }\n",
              "</style>\n",
              "<table border=\"1\" class=\"dataframe\">\n",
              "  <thead>\n",
              "    <tr style=\"text-align: right;\">\n",
              "      <th></th>\n",
              "      <th>Date</th>\n",
              "      <th>Close_Price</th>\n",
              "    </tr>\n",
              "    <tr>\n",
              "      <th>Date</th>\n",
              "      <th></th>\n",
              "      <th></th>\n",
              "    </tr>\n",
              "  </thead>\n",
              "  <tbody>\n",
              "    <tr>\n",
              "      <th>2015-11-09</th>\n",
              "      <td>20151109</td>\n",
              "      <td>335.25</td>\n",
              "    </tr>\n",
              "    <tr>\n",
              "      <th>2015-11-10</th>\n",
              "      <td>20151110</td>\n",
              "      <td>331.65</td>\n",
              "    </tr>\n",
              "    <tr>\n",
              "      <th>2015-11-11</th>\n",
              "      <td>20151111</td>\n",
              "      <td>331.90</td>\n",
              "    </tr>\n",
              "    <tr>\n",
              "      <th>2015-11-13</th>\n",
              "      <td>20151113</td>\n",
              "      <td>333.90</td>\n",
              "    </tr>\n",
              "    <tr>\n",
              "      <th>2015-11-16</th>\n",
              "      <td>20151116</td>\n",
              "      <td>335.75</td>\n",
              "    </tr>\n",
              "  </tbody>\n",
              "</table>\n",
              "</div>\n",
              "      <button class=\"colab-df-convert\" onclick=\"convertToInteractive('df-8c2017cd-2e7d-426e-bd7a-4379e9b180a1')\"\n",
              "              title=\"Convert this dataframe to an interactive table.\"\n",
              "              style=\"display:none;\">\n",
              "        \n",
              "  <svg xmlns=\"http://www.w3.org/2000/svg\" height=\"24px\"viewBox=\"0 0 24 24\"\n",
              "       width=\"24px\">\n",
              "    <path d=\"M0 0h24v24H0V0z\" fill=\"none\"/>\n",
              "    <path d=\"M18.56 5.44l.94 2.06.94-2.06 2.06-.94-2.06-.94-.94-2.06-.94 2.06-2.06.94zm-11 1L8.5 8.5l.94-2.06 2.06-.94-2.06-.94L8.5 2.5l-.94 2.06-2.06.94zm10 10l.94 2.06.94-2.06 2.06-.94-2.06-.94-.94-2.06-.94 2.06-2.06.94z\"/><path d=\"M17.41 7.96l-1.37-1.37c-.4-.4-.92-.59-1.43-.59-.52 0-1.04.2-1.43.59L10.3 9.45l-7.72 7.72c-.78.78-.78 2.05 0 2.83L4 21.41c.39.39.9.59 1.41.59.51 0 1.02-.2 1.41-.59l7.78-7.78 2.81-2.81c.8-.78.8-2.07 0-2.86zM5.41 20L4 18.59l7.72-7.72 1.47 1.35L5.41 20z\"/>\n",
              "  </svg>\n",
              "      </button>\n",
              "      \n",
              "  <style>\n",
              "    .colab-df-container {\n",
              "      display:flex;\n",
              "      flex-wrap:wrap;\n",
              "      gap: 12px;\n",
              "    }\n",
              "\n",
              "    .colab-df-convert {\n",
              "      background-color: #E8F0FE;\n",
              "      border: none;\n",
              "      border-radius: 50%;\n",
              "      cursor: pointer;\n",
              "      display: none;\n",
              "      fill: #1967D2;\n",
              "      height: 32px;\n",
              "      padding: 0 0 0 0;\n",
              "      width: 32px;\n",
              "    }\n",
              "\n",
              "    .colab-df-convert:hover {\n",
              "      background-color: #E2EBFA;\n",
              "      box-shadow: 0px 1px 2px rgba(60, 64, 67, 0.3), 0px 1px 3px 1px rgba(60, 64, 67, 0.15);\n",
              "      fill: #174EA6;\n",
              "    }\n",
              "\n",
              "    [theme=dark] .colab-df-convert {\n",
              "      background-color: #3B4455;\n",
              "      fill: #D2E3FC;\n",
              "    }\n",
              "\n",
              "    [theme=dark] .colab-df-convert:hover {\n",
              "      background-color: #434B5C;\n",
              "      box-shadow: 0px 1px 3px 1px rgba(0, 0, 0, 0.15);\n",
              "      filter: drop-shadow(0px 1px 2px rgba(0, 0, 0, 0.3));\n",
              "      fill: #FFFFFF;\n",
              "    }\n",
              "  </style>\n",
              "\n",
              "      <script>\n",
              "        const buttonEl =\n",
              "          document.querySelector('#df-8c2017cd-2e7d-426e-bd7a-4379e9b180a1 button.colab-df-convert');\n",
              "        buttonEl.style.display =\n",
              "          google.colab.kernel.accessAllowed ? 'block' : 'none';\n",
              "\n",
              "        async function convertToInteractive(key) {\n",
              "          const element = document.querySelector('#df-8c2017cd-2e7d-426e-bd7a-4379e9b180a1');\n",
              "          const dataTable =\n",
              "            await google.colab.kernel.invokeFunction('convertToInteractive',\n",
              "                                                     [key], {});\n",
              "          if (!dataTable) return;\n",
              "\n",
              "          const docLinkHtml = 'Like what you see? Visit the ' +\n",
              "            '<a target=\"_blank\" href=https://colab.research.google.com/notebooks/data_table.ipynb>data table notebook</a>'\n",
              "            + ' to learn more about interactive tables.';\n",
              "          element.innerHTML = '';\n",
              "          dataTable['output_type'] = 'display_data';\n",
              "          await google.colab.output.renderOutput(dataTable, element);\n",
              "          const docLink = document.createElement('div');\n",
              "          docLink.innerHTML = docLinkHtml;\n",
              "          element.appendChild(docLink);\n",
              "        }\n",
              "      </script>\n",
              "    </div>\n",
              "  </div>\n",
              "  "
            ]
          },
          "metadata": {},
          "execution_count": 16
        }
      ]
    },
    {
      "cell_type": "code",
      "source": [
        "df_stock.info()"
      ],
      "metadata": {
        "colab": {
          "base_uri": "https://localhost:8080/"
        },
        "id": "vfUXHwR_70tu",
        "outputId": "f5325c86-2aa5-4a57-f7d3-6dc852c64dc2"
      },
      "execution_count": 17,
      "outputs": [
        {
          "output_type": "stream",
          "name": "stdout",
          "text": [
            "<class 'pandas.core.frame.DataFrame'>\n",
            "DatetimeIndex: 1726 entries, 2015-11-09 to 2022-11-04\n",
            "Data columns (total 2 columns):\n",
            " #   Column       Non-Null Count  Dtype  \n",
            "---  ------       --------------  -----  \n",
            " 0   Date         1726 non-null   object \n",
            " 1   Close_Price  1726 non-null   float64\n",
            "dtypes: float64(1), object(1)\n",
            "memory usage: 40.5+ KB\n"
          ]
        }
      ]
    },
    {
      "cell_type": "code",
      "source": [
        "# Convert Date column to integer\n",
        "df_stock['Date'] = df_stock['Date'].astype('int64')"
      ],
      "metadata": {
        "id": "INEaquoI9XgI"
      },
      "execution_count": 18,
      "outputs": []
    },
    {
      "cell_type": "code",
      "source": [
        "df_stock.info()"
      ],
      "metadata": {
        "colab": {
          "base_uri": "https://localhost:8080/"
        },
        "id": "Zhb4-Bfi9l7x",
        "outputId": "8928f6b7-f795-4ff1-fb9b-fb901e93e3b7"
      },
      "execution_count": 19,
      "outputs": [
        {
          "output_type": "stream",
          "name": "stdout",
          "text": [
            "<class 'pandas.core.frame.DataFrame'>\n",
            "DatetimeIndex: 1726 entries, 2015-11-09 to 2022-11-04\n",
            "Data columns (total 2 columns):\n",
            " #   Column       Non-Null Count  Dtype  \n",
            "---  ------       --------------  -----  \n",
            " 0   Date         1726 non-null   int64  \n",
            " 1   Close_Price  1726 non-null   float64\n",
            "dtypes: float64(1), int64(1)\n",
            "memory usage: 40.5 KB\n"
          ]
        }
      ]
    },
    {
      "cell_type": "markdown",
      "source": [
        "**Finding Outliers and Treatment**"
      ],
      "metadata": {
        "id": "42PhAPQZY3WH"
      }
    },
    {
      "cell_type": "code",
      "execution_count": 20,
      "metadata": {
        "colab": {
          "base_uri": "https://localhost:8080/",
          "height": 172
        },
        "id": "5351743f",
        "outputId": "da60ce32-f220-479e-a691-9b38e972bac2"
      },
      "outputs": [
        {
          "output_type": "display_data",
          "data": {
            "text/plain": [
              "<Figure size 720x144 with 1 Axes>"
            ],
            "image/png": "[encoded data removed]"
          },
          "metadata": {
            "needs_background": "light"
          }
        }
      ],
      "source": [
        "# Boxplot\n",
        "plt.figure(figsize=(10,2))\n",
        "ax = sns.boxplot(x=df_stock['Close_Price'],whis=1.5,data=df_stock)"
      ]
    },
    {
      "cell_type": "markdown",
      "source": [
        "Insight: No outliers in the dataset"
      ],
      "metadata": {
        "id": "rcDDIIlWZJBT"
      }
    },
    {
      "cell_type": "markdown",
      "metadata": {
        "id": "eefb71ed"
      },
      "source": [
        "**Data Visualizations**"
      ]
    },
    {
      "cell_type": "markdown",
      "metadata": {
        "id": "d3c6b96b"
      },
      "source": [
        "**Histogram**"
      ]
    },
    {
      "cell_type": "code",
      "execution_count": 21,
      "metadata": {
        "colab": {
          "base_uri": "https://localhost:8080/",
          "height": 298
        },
        "id": "c8ea6f86",
        "outputId": "42507af5-d5e1-49f6-aeff-1cb784dbaa06"
      },
      "outputs": [
        {
          "output_type": "display_data",
          "data": {
            "text/plain": [
              "<Figure size 576x288 with 0 Axes>"
            ]
          },
          "metadata": {}
        },
        {
          "output_type": "display_data",
          "data": {
            "text/plain": [
              "<Figure size 432x288 with 1 Axes>"
            ],
            "image/png": "[encoded data removed]"
          },
          "metadata": {
            "needs_background": "light"
          }
        }
      ],
      "source": [
        "plt.figure(figsize=(8,4))\n",
        "df_stock.hist(\"Close_Price\")\n",
        "plt.show()"
      ]
    },
    {
      "cell_type": "markdown",
      "metadata": {
        "id": "364eb876"
      },
      "source": [
        "**Density Plot**"
      ]
    },
    {
      "cell_type": "code",
      "execution_count": 22,
      "metadata": {
        "colab": {
          "base_uri": "https://localhost:8080/",
          "height": 320
        },
        "id": "155a5528",
        "outputId": "56948b2b-f887-47bb-ffd1-0c1d4736cb53"
      },
      "outputs": [
        {
          "output_type": "display_data",
          "data": {
            "text/plain": [
              "<Figure size 720x360 with 1 Axes>"
            ],
            "image/png": "[encoded data removed]"
          },
          "metadata": {
            "needs_background": "light"
          }
        }
      ],
      "source": [
        "plt.figure(figsize=(10,5))\n",
        "df_stock[\"Close_Price\"].plot(kind='kde')\n",
        "plt.show()"
      ]
    },
    {
      "cell_type": "markdown",
      "source": [
        "**Scatter Plot**"
      ],
      "metadata": {
        "id": "A9-sE2wp9Zvx"
      }
    },
    {
      "cell_type": "code",
      "execution_count": 23,
      "metadata": {
        "colab": {
          "base_uri": "https://localhost:8080/",
          "height": 318
        },
        "id": "15d6af7f",
        "outputId": "d5708e3b-5c12-4ac6-b309-b56bc1c86ede"
      },
      "outputs": [
        {
          "output_type": "display_data",
          "data": {
            "text/plain": [
              "<Figure size 720x360 with 1 Axes>"
            ],
            "image/png": "[encoded data removed]"
          },
          "metadata": {
            "needs_background": "light"
          }
        }
      ],
      "source": [
        "plt.figure(figsize=(10,5))\n",
        "df_stock['Close_Price'].plot()\n",
        "plt.show()"
      ]
    },
    {
      "cell_type": "markdown",
      "metadata": {
        "id": "6c2184fa"
      },
      "source": [
        "Insight: Trend is upword or positive. Seasonality can be observed slightly."
      ]
    },
    {
      "cell_type": "markdown",
      "metadata": {
        "id": "947892aa"
      },
      "source": [
        "**Correlation between variables**"
      ]
    },
    {
      "cell_type": "code",
      "source": [
        "df_stock.corr()"
      ],
      "metadata": {
        "colab": {
          "base_uri": "https://localhost:8080/",
          "height": 112
        },
        "id": "wnhINctABhdC",
        "outputId": "bd437615-0654-4696-b8e9-d3acdf9f2a26"
      },
      "execution_count": 24,
      "outputs": [
        {
          "output_type": "execute_result",
          "data": {
            "text/plain": [
              "                 Date  Close_Price\n",
              "Date         1.000000     0.830831\n",
              "Close_Price  0.830831     1.000000"
            ],
            "text/html": [
              "\n",
              "  <div id=\"df-2d463bf6-105f-4f7d-bd2e-01c76d4c9b79\">\n",
              "    <div class=\"colab-df-container\">\n",
              "      <div>\n",
              "<style scoped>\n",
              "    .dataframe tbody tr th:only-of-type {\n",
              "        vertical-align: middle;\n",
              "    }\n",
              "\n",
              "    .dataframe tbody tr th {\n",
              "        vertical-align: top;\n",
              "    }\n",
              "\n",
              "    .dataframe thead th {\n",
              "        text-align: right;\n",
              "    }\n",
              "</style>\n",
              "<table border=\"1\" class=\"dataframe\">\n",
              "  <thead>\n",
              "    <tr style=\"text-align: right;\">\n",
              "      <th></th>\n",
              "      <th>Date</th>\n",
              "      <th>Close_Price</th>\n",
              "    </tr>\n",
              "  </thead>\n",
              "  <tbody>\n",
              "    <tr>\n",
              "      <th>Date</th>\n",
              "      <td>1.000000</td>\n",
              "      <td>0.830831</td>\n",
              "    </tr>\n",
              "    <tr>\n",
              "      <th>Close_Price</th>\n",
              "      <td>0.830831</td>\n",
              "      <td>1.000000</td>\n",
              "    </tr>\n",
              "  </tbody>\n",
              "</table>\n",
              "</div>\n",
              "      <button class=\"colab-df-convert\" onclick=\"convertToInteractive('df-2d463bf6-105f-4f7d-bd2e-01c76d4c9b79')\"\n",
              "              title=\"Convert this dataframe to an interactive table.\"\n",
              "              style=\"display:none;\">\n",
              "        \n",
              "  <svg xmlns=\"http://www.w3.org/2000/svg\" height=\"24px\"viewBox=\"0 0 24 24\"\n",
              "       width=\"24px\">\n",
              "    <path d=\"M0 0h24v24H0V0z\" fill=\"none\"/>\n",
              "    <path d=\"M18.56 5.44l.94 2.06.94-2.06 2.06-.94-2.06-.94-.94-2.06-.94 2.06-2.06.94zm-11 1L8.5 8.5l.94-2.06 2.06-.94-2.06-.94L8.5 2.5l-.94 2.06-2.06.94zm10 10l.94 2.06.94-2.06 2.06-.94-2.06-.94-.94-2.06-.94 2.06-2.06.94z\"/><path d=\"M17.41 7.96l-1.37-1.37c-.4-.4-.92-.59-1.43-.59-.52 0-1.04.2-1.43.59L10.3 9.45l-7.72 7.72c-.78.78-.78 2.05 0 2.83L4 21.41c.39.39.9.59 1.41.59.51 0 1.02-.2 1.41-.59l7.78-7.78 2.81-2.81c.8-.78.8-2.07 0-2.86zM5.41 20L4 18.59l7.72-7.72 1.47 1.35L5.41 20z\"/>\n",
              "  </svg>\n",
              "      </button>\n",
              "      \n",
              "  <style>\n",
              "    .colab-df-container {\n",
              "      display:flex;\n",
              "      flex-wrap:wrap;\n",
              "      gap: 12px;\n",
              "    }\n",
              "\n",
              "    .colab-df-convert {\n",
              "      background-color: #E8F0FE;\n",
              "      border: none;\n",
              "      border-radius: 50%;\n",
              "      cursor: pointer;\n",
              "      display: none;\n",
              "      fill: #1967D2;\n",
              "      height: 32px;\n",
              "      padding: 0 0 0 0;\n",
              "      width: 32px;\n",
              "    }\n",
              "\n",
              "    .colab-df-convert:hover {\n",
              "      background-color: #E2EBFA;\n",
              "      box-shadow: 0px 1px 2px rgba(60, 64, 67, 0.3), 0px 1px 3px 1px rgba(60, 64, 67, 0.15);\n",
              "      fill: #174EA6;\n",
              "    }\n",
              "\n",
              "    [theme=dark] .colab-df-convert {\n",
              "      background-color: #3B4455;\n",
              "      fill: #D2E3FC;\n",
              "    }\n",
              "\n",
              "    [theme=dark] .colab-df-convert:hover {\n",
              "      background-color: #434B5C;\n",
              "      box-shadow: 0px 1px 3px 1px rgba(0, 0, 0, 0.15);\n",
              "      filter: drop-shadow(0px 1px 2px rgba(0, 0, 0, 0.3));\n",
              "      fill: #FFFFFF;\n",
              "    }\n",
              "  </style>\n",
              "\n",
              "      <script>\n",
              "        const buttonEl =\n",
              "          document.querySelector('#df-2d463bf6-105f-4f7d-bd2e-01c76d4c9b79 button.colab-df-convert');\n",
              "        buttonEl.style.display =\n",
              "          google.colab.kernel.accessAllowed ? 'block' : 'none';\n",
              "\n",
              "        async function convertToInteractive(key) {\n",
              "          const element = document.querySelector('#df-2d463bf6-105f-4f7d-bd2e-01c76d4c9b79');\n",
              "          const dataTable =\n",
              "            await google.colab.kernel.invokeFunction('convertToInteractive',\n",
              "                                                     [key], {});\n",
              "          if (!dataTable) return;\n",
              "\n",
              "          const docLinkHtml = 'Like what you see? Visit the ' +\n",
              "            '<a target=\"_blank\" href=https://colab.research.google.com/notebooks/data_table.ipynb>data table notebook</a>'\n",
              "            + ' to learn more about interactive tables.';\n",
              "          element.innerHTML = '';\n",
              "          dataTable['output_type'] = 'display_data';\n",
              "          await google.colab.output.renderOutput(dataTable, element);\n",
              "          const docLink = document.createElement('div');\n",
              "          docLink.innerHTML = docLinkHtml;\n",
              "          element.appendChild(docLink);\n",
              "        }\n",
              "      </script>\n",
              "    </div>\n",
              "  </div>\n",
              "  "
            ]
          },
          "metadata": {},
          "execution_count": 24
        }
      ]
    },
    {
      "cell_type": "code",
      "execution_count": 25,
      "metadata": {
        "colab": {
          "base_uri": "https://localhost:8080/",
          "height": 391
        },
        "id": "3257684f",
        "outputId": "7ded7a7d-7999-4474-f6da-1910c739ef99"
      },
      "outputs": [
        {
          "output_type": "execute_result",
          "data": {
            "text/plain": [
              "<seaborn.axisgrid.PairGrid at 0x7f34aa7eb9d0>"
            ]
          },
          "metadata": {},
          "execution_count": 25
        },
        {
          "output_type": "display_data",
          "data": {
            "text/plain": [
              "<Figure size 360x360 with 6 Axes>"
            ],
            "image/png": "[encoded data removed]"
          },
          "metadata": {
            "needs_background": "light"
          }
        }
      ],
      "source": [
        "sns.pairplot(df_stock)"
      ]
    },
    {
      "cell_type": "markdown",
      "source": [
        "## **Model Based Forecasting**"
      ],
      "metadata": {
        "id": "mhcQ_ywHk7iQ"
      }
    },
    {
      "cell_type": "code",
      "source": [
        "# Create a new column with serial number to use in forecasting\n",
        "df_stock['t'] = range(1, 1+len(df_stock))\n",
        "df_stock.head()"
      ],
      "metadata": {
        "colab": {
          "base_uri": "https://localhost:8080/",
          "height": 238
        },
        "id": "wNY23l-KlJb3",
        "outputId": "cb2f4168-fff7-4721-da64-58b227966600"
      },
      "execution_count": 26,
      "outputs": [
        {
          "output_type": "execute_result",
          "data": {
            "text/plain": [
              "                Date  Close_Price  t\n",
              "Date                                \n",
              "2015-11-09  20151109       335.25  1\n",
              "2015-11-10  20151110       331.65  2\n",
              "2015-11-11  20151111       331.90  3\n",
              "2015-11-13  20151113       333.90  4\n",
              "2015-11-16  20151116       335.75  5"
            ],
            "text/html": [
              "\n",
              "  <div id=\"df-03514d2e-d536-44ef-97b5-c8045741d121\">\n",
              "    <div class=\"colab-df-container\">\n",
              "      <div>\n",
              "<style scoped>\n",
              "    .dataframe tbody tr th:only-of-type {\n",
              "        vertical-align: middle;\n",
              "    }\n",
              "\n",
              "    .dataframe tbody tr th {\n",
              "        vertical-align: top;\n",
              "    }\n",
              "\n",
              "    .dataframe thead th {\n",
              "        text-align: right;\n",
              "    }\n",
              "</style>\n",
              "<table border=\"1\" class=\"dataframe\">\n",
              "  <thead>\n",
              "    <tr style=\"text-align: right;\">\n",
              "      <th></th>\n",
              "      <th>Date</th>\n",
              "      <th>Close_Price</th>\n",
              "      <th>t</th>\n",
              "    </tr>\n",
              "    <tr>\n",
              "      <th>Date</th>\n",
              "      <th></th>\n",
              "      <th></th>\n",
              "      <th></th>\n",
              "    </tr>\n",
              "  </thead>\n",
              "  <tbody>\n",
              "    <tr>\n",
              "      <th>2015-11-09</th>\n",
              "      <td>20151109</td>\n",
              "      <td>335.25</td>\n",
              "      <td>1</td>\n",
              "    </tr>\n",
              "    <tr>\n",
              "      <th>2015-11-10</th>\n",
              "      <td>20151110</td>\n",
              "      <td>331.65</td>\n",
              "      <td>2</td>\n",
              "    </tr>\n",
              "    <tr>\n",
              "      <th>2015-11-11</th>\n",
              "      <td>20151111</td>\n",
              "      <td>331.90</td>\n",
              "      <td>3</td>\n",
              "    </tr>\n",
              "    <tr>\n",
              "      <th>2015-11-13</th>\n",
              "      <td>20151113</td>\n",
              "      <td>333.90</td>\n",
              "      <td>4</td>\n",
              "    </tr>\n",
              "    <tr>\n",
              "      <th>2015-11-16</th>\n",
              "      <td>20151116</td>\n",
              "      <td>335.75</td>\n",
              "      <td>5</td>\n",
              "    </tr>\n",
              "  </tbody>\n",
              "</table>\n",
              "</div>\n",
              "      <button class=\"colab-df-convert\" onclick=\"convertToInteractive('df-03514d2e-d536-44ef-97b5-c8045741d121')\"\n",
              "              title=\"Convert this dataframe to an interactive table.\"\n",
              "              style=\"display:none;\">\n",
              "        \n",
              "  <svg xmlns=\"http://www.w3.org/2000/svg\" height=\"24px\"viewBox=\"0 0 24 24\"\n",
              "       width=\"24px\">\n",
              "    <path d=\"M0 0h24v24H0V0z\" fill=\"none\"/>\n",
              "    <path d=\"M18.56 5.44l.94 2.06.94-2.06 2.06-.94-2.06-.94-.94-2.06-.94 2.06-2.06.94zm-11 1L8.5 8.5l.94-2.06 2.06-.94-2.06-.94L8.5 2.5l-.94 2.06-2.06.94zm10 10l.94 2.06.94-2.06 2.06-.94-2.06-.94-.94-2.06-.94 2.06-2.06.94z\"/><path d=\"M17.41 7.96l-1.37-1.37c-.4-.4-.92-.59-1.43-.59-.52 0-1.04.2-1.43.59L10.3 9.45l-7.72 7.72c-.78.78-.78 2.05 0 2.83L4 21.41c.39.39.9.59 1.41.59.51 0 1.02-.2 1.41-.59l7.78-7.78 2.81-2.81c.8-.78.8-2.07 0-2.86zM5.41 20L4 18.59l7.72-7.72 1.47 1.35L5.41 20z\"/>\n",
              "  </svg>\n",
              "      </button>\n",
              "      \n",
              "  <style>\n",
              "    .colab-df-container {\n",
              "      display:flex;\n",
              "      flex-wrap:wrap;\n",
              "      gap: 12px;\n",
              "    }\n",
              "\n",
              "    .colab-df-convert {\n",
              "      background-color: #E8F0FE;\n",
              "      border: none;\n",
              "      border-radius: 50%;\n",
              "      cursor: pointer;\n",
              "      display: none;\n",
              "      fill: #1967D2;\n",
              "      height: 32px;\n",
              "      padding: 0 0 0 0;\n",
              "      width: 32px;\n",
              "    }\n",
              "\n",
              "    .colab-df-convert:hover {\n",
              "      background-color: #E2EBFA;\n",
              "      box-shadow: 0px 1px 2px rgba(60, 64, 67, 0.3), 0px 1px 3px 1px rgba(60, 64, 67, 0.15);\n",
              "      fill: #174EA6;\n",
              "    }\n",
              "\n",
              "    [theme=dark] .colab-df-convert {\n",
              "      background-color: #3B4455;\n",
              "      fill: #D2E3FC;\n",
              "    }\n",
              "\n",
              "    [theme=dark] .colab-df-convert:hover {\n",
              "      background-color: #434B5C;\n",
              "      box-shadow: 0px 1px 3px 1px rgba(0, 0, 0, 0.15);\n",
              "      filter: drop-shadow(0px 1px 2px rgba(0, 0, 0, 0.3));\n",
              "      fill: #FFFFFF;\n",
              "    }\n",
              "  </style>\n",
              "\n",
              "      <script>\n",
              "        const buttonEl =\n",
              "          document.querySelector('#df-03514d2e-d536-44ef-97b5-c8045741d121 button.colab-df-convert');\n",
              "        buttonEl.style.display =\n",
              "          google.colab.kernel.accessAllowed ? 'block' : 'none';\n",
              "\n",
              "        async function convertToInteractive(key) {\n",
              "          const element = document.querySelector('#df-03514d2e-d536-44ef-97b5-c8045741d121');\n",
              "          const dataTable =\n",
              "            await google.colab.kernel.invokeFunction('convertToInteractive',\n",
              "                                                     [key], {});\n",
              "          if (!dataTable) return;\n",
              "\n",
              "          const docLinkHtml = 'Like what you see? Visit the ' +\n",
              "            '<a target=\"_blank\" href=https://colab.research.google.com/notebooks/data_table.ipynb>data table notebook</a>'\n",
              "            + ' to learn more about interactive tables.';\n",
              "          element.innerHTML = '';\n",
              "          dataTable['output_type'] = 'display_data';\n",
              "          await google.colab.output.renderOutput(dataTable, element);\n",
              "          const docLink = document.createElement('div');\n",
              "          docLink.innerHTML = docLinkHtml;\n",
              "          element.appendChild(docLink);\n",
              "        }\n",
              "      </script>\n",
              "    </div>\n",
              "  </div>\n",
              "  "
            ]
          },
          "metadata": {},
          "execution_count": 26
        }
      ]
    },
    {
      "cell_type": "code",
      "source": [
        "df_stock.tail()"
      ],
      "metadata": {
        "colab": {
          "base_uri": "https://localhost:8080/",
          "height": 238
        },
        "id": "CxWWJfZDPWTQ",
        "outputId": "ffd6b711-5c56-4243-8029-47a77497ed90"
      },
      "execution_count": 27,
      "outputs": [
        {
          "output_type": "execute_result",
          "data": {
            "text/plain": [
              "                Date  Close_Price     t\n",
              "Date                                   \n",
              "2022-10-27  20221027       817.10  1722\n",
              "2022-10-28  20221028       816.85  1723\n",
              "2022-10-31  20221031       832.00  1724\n",
              "2022-11-03  20221103       818.65  1725\n",
              "2022-11-04  20221104       816.40  1726"
            ],
            "text/html": [
              "\n",
              "  <div id=\"df-ab0076db-d95d-4e90-82e0-094dce959796\">\n",
              "    <div class=\"colab-df-container\">\n",
              "      <div>\n",
              "<style scoped>\n",
              "    .dataframe tbody tr th:only-of-type {\n",
              "        vertical-align: middle;\n",
              "    }\n",
              "\n",
              "    .dataframe tbody tr th {\n",
              "        vertical-align: top;\n",
              "    }\n",
              "\n",
              "    .dataframe thead th {\n",
              "        text-align: right;\n",
              "    }\n",
              "</style>\n",
              "<table border=\"1\" class=\"dataframe\">\n",
              "  <thead>\n",
              "    <tr style=\"text-align: right;\">\n",
              "      <th></th>\n",
              "      <th>Date</th>\n",
              "      <th>Close_Price</th>\n",
              "      <th>t</th>\n",
              "    </tr>\n",
              "    <tr>\n",
              "      <th>Date</th>\n",
              "      <th></th>\n",
              "      <th></th>\n",
              "      <th></th>\n",
              "    </tr>\n",
              "  </thead>\n",
              "  <tbody>\n",
              "    <tr>\n",
              "      <th>2022-10-27</th>\n",
              "      <td>20221027</td>\n",
              "      <td>817.10</td>\n",
              "      <td>1722</td>\n",
              "    </tr>\n",
              "    <tr>\n",
              "      <th>2022-10-28</th>\n",
              "      <td>20221028</td>\n",
              "      <td>816.85</td>\n",
              "      <td>1723</td>\n",
              "    </tr>\n",
              "    <tr>\n",
              "      <th>2022-10-31</th>\n",
              "      <td>20221031</td>\n",
              "      <td>832.00</td>\n",
              "      <td>1724</td>\n",
              "    </tr>\n",
              "    <tr>\n",
              "      <th>2022-11-03</th>\n",
              "      <td>20221103</td>\n",
              "      <td>818.65</td>\n",
              "      <td>1725</td>\n",
              "    </tr>\n",
              "    <tr>\n",
              "      <th>2022-11-04</th>\n",
              "      <td>20221104</td>\n",
              "      <td>816.40</td>\n",
              "      <td>1726</td>\n",
              "    </tr>\n",
              "  </tbody>\n",
              "</table>\n",
              "</div>\n",
              "      <button class=\"colab-df-convert\" onclick=\"convertToInteractive('df-ab0076db-d95d-4e90-82e0-094dce959796')\"\n",
              "              title=\"Convert this dataframe to an interactive table.\"\n",
              "              style=\"display:none;\">\n",
              "        \n",
              "  <svg xmlns=\"http://www.w3.org/2000/svg\" height=\"24px\"viewBox=\"0 0 24 24\"\n",
              "       width=\"24px\">\n",
              "    <path d=\"M0 0h24v24H0V0z\" fill=\"none\"/>\n",
              "    <path d=\"M18.56 5.44l.94 2.06.94-2.06 2.06-.94-2.06-.94-.94-2.06-.94 2.06-2.06.94zm-11 1L8.5 8.5l.94-2.06 2.06-.94-2.06-.94L8.5 2.5l-.94 2.06-2.06.94zm10 10l.94 2.06.94-2.06 2.06-.94-2.06-.94-.94-2.06-.94 2.06-2.06.94z\"/><path d=\"M17.41 7.96l-1.37-1.37c-.4-.4-.92-.59-1.43-.59-.52 0-1.04.2-1.43.59L10.3 9.45l-7.72 7.72c-.78.78-.78 2.05 0 2.83L4 21.41c.39.39.9.59 1.41.59.51 0 1.02-.2 1.41-.59l7.78-7.78 2.81-2.81c.8-.78.8-2.07 0-2.86zM5.41 20L4 18.59l7.72-7.72 1.47 1.35L5.41 20z\"/>\n",
              "  </svg>\n",
              "      </button>\n",
              "      \n",
              "  <style>\n",
              "    .colab-df-container {\n",
              "      display:flex;\n",
              "      flex-wrap:wrap;\n",
              "      gap: 12px;\n",
              "    }\n",
              "\n",
              "    .colab-df-convert {\n",
              "      background-color: #E8F0FE;\n",
              "      border: none;\n",
              "      border-radius: 50%;\n",
              "      cursor: pointer;\n",
              "      display: none;\n",
              "      fill: #1967D2;\n",
              "      height: 32px;\n",
              "      padding: 0 0 0 0;\n",
              "      width: 32px;\n",
              "    }\n",
              "\n",
              "    .colab-df-convert:hover {\n",
              "      background-color: #E2EBFA;\n",
              "      box-shadow: 0px 1px 2px rgba(60, 64, 67, 0.3), 0px 1px 3px 1px rgba(60, 64, 67, 0.15);\n",
              "      fill: #174EA6;\n",
              "    }\n",
              "\n",
              "    [theme=dark] .colab-df-convert {\n",
              "      background-color: #3B4455;\n",
              "      fill: #D2E3FC;\n",
              "    }\n",
              "\n",
              "    [theme=dark] .colab-df-convert:hover {\n",
              "      background-color: #434B5C;\n",
              "      box-shadow: 0px 1px 3px 1px rgba(0, 0, 0, 0.15);\n",
              "      filter: drop-shadow(0px 1px 2px rgba(0, 0, 0, 0.3));\n",
              "      fill: #FFFFFF;\n",
              "    }\n",
              "  </style>\n",
              "\n",
              "      <script>\n",
              "        const buttonEl =\n",
              "          document.querySelector('#df-ab0076db-d95d-4e90-82e0-094dce959796 button.colab-df-convert');\n",
              "        buttonEl.style.display =\n",
              "          google.colab.kernel.accessAllowed ? 'block' : 'none';\n",
              "\n",
              "        async function convertToInteractive(key) {\n",
              "          const element = document.querySelector('#df-ab0076db-d95d-4e90-82e0-094dce959796');\n",
              "          const dataTable =\n",
              "            await google.colab.kernel.invokeFunction('convertToInteractive',\n",
              "                                                     [key], {});\n",
              "          if (!dataTable) return;\n",
              "\n",
              "          const docLinkHtml = 'Like what you see? Visit the ' +\n",
              "            '<a target=\"_blank\" href=https://colab.research.google.com/notebooks/data_table.ipynb>data table notebook</a>'\n",
              "            + ' to learn more about interactive tables.';\n",
              "          element.innerHTML = '';\n",
              "          dataTable['output_type'] = 'display_data';\n",
              "          await google.colab.output.renderOutput(dataTable, element);\n",
              "          const docLink = document.createElement('div');\n",
              "          docLink.innerHTML = docLinkHtml;\n",
              "          element.appendChild(docLink);\n",
              "        }\n",
              "      </script>\n",
              "    </div>\n",
              "  </div>\n",
              "  "
            ]
          },
          "metadata": {},
          "execution_count": 27
        }
      ]
    },
    {
      "cell_type": "code",
      "source": [
        "# Add t Squared column and log of Sales column\n",
        "df_stock['log_Close_Price'] = np.log10(df_stock['Close_Price'])\n",
        "df_stock['t_square'] = np.square(df_stock['t'])\n",
        "df_stock.head()"
      ],
      "metadata": {
        "colab": {
          "base_uri": "https://localhost:8080/",
          "height": 238
        },
        "id": "--pC2nVOATp3",
        "outputId": "1045235f-b483-41fb-d8c3-13b9dea2f867"
      },
      "execution_count": 28,
      "outputs": [
        {
          "output_type": "execute_result",
          "data": {
            "text/plain": [
              "                Date  Close_Price  t  log_Close_Price  t_square\n",
              "Date                                                           \n",
              "2015-11-09  20151109       335.25  1         2.525369         1\n",
              "2015-11-10  20151110       331.65  2         2.520680         4\n",
              "2015-11-11  20151111       331.90  3         2.521007         9\n",
              "2015-11-13  20151113       333.90  4         2.523616        16\n",
              "2015-11-16  20151116       335.75  5         2.526016        25"
            ],
            "text/html": [
              "\n",
              "  <div id=\"df-83bb21b9-7433-4bde-b0a0-f53c98fe8342\">\n",
              "    <div class=\"colab-df-container\">\n",
              "      <div>\n",
              "<style scoped>\n",
              "    .dataframe tbody tr th:only-of-type {\n",
              "        vertical-align: middle;\n",
              "    }\n",
              "\n",
              "    .dataframe tbody tr th {\n",
              "        vertical-align: top;\n",
              "    }\n",
              "\n",
              "    .dataframe thead th {\n",
              "        text-align: right;\n",
              "    }\n",
              "</style>\n",
              "<table border=\"1\" class=\"dataframe\">\n",
              "  <thead>\n",
              "    <tr style=\"text-align: right;\">\n",
              "      <th></th>\n",
              "      <th>Date</th>\n",
              "      <th>Close_Price</th>\n",
              "      <th>t</th>\n",
              "      <th>log_Close_Price</th>\n",
              "      <th>t_square</th>\n",
              "    </tr>\n",
              "    <tr>\n",
              "      <th>Date</th>\n",
              "      <th></th>\n",
              "      <th></th>\n",
              "      <th></th>\n",
              "      <th></th>\n",
              "      <th></th>\n",
              "    </tr>\n",
              "  </thead>\n",
              "  <tbody>\n",
              "    <tr>\n",
              "      <th>2015-11-09</th>\n",
              "      <td>20151109</td>\n",
              "      <td>335.25</td>\n",
              "      <td>1</td>\n",
              "      <td>2.525369</td>\n",
              "      <td>1</td>\n",
              "    </tr>\n",
              "    <tr>\n",
              "      <th>2015-11-10</th>\n",
              "      <td>20151110</td>\n",
              "      <td>331.65</td>\n",
              "      <td>2</td>\n",
              "      <td>2.520680</td>\n",
              "      <td>4</td>\n",
              "    </tr>\n",
              "    <tr>\n",
              "      <th>2015-11-11</th>\n",
              "      <td>20151111</td>\n",
              "      <td>331.90</td>\n",
              "      <td>3</td>\n",
              "      <td>2.521007</td>\n",
              "      <td>9</td>\n",
              "    </tr>\n",
              "    <tr>\n",
              "      <th>2015-11-13</th>\n",
              "      <td>20151113</td>\n",
              "      <td>333.90</td>\n",
              "      <td>4</td>\n",
              "      <td>2.523616</td>\n",
              "      <td>16</td>\n",
              "    </tr>\n",
              "    <tr>\n",
              "      <th>2015-11-16</th>\n",
              "      <td>20151116</td>\n",
              "      <td>335.75</td>\n",
              "      <td>5</td>\n",
              "      <td>2.526016</td>\n",
              "      <td>25</td>\n",
              "    </tr>\n",
              "  </tbody>\n",
              "</table>\n",
              "</div>\n",
              "      <button class=\"colab-df-convert\" onclick=\"convertToInteractive('df-83bb21b9-7433-4bde-b0a0-f53c98fe8342')\"\n",
              "              title=\"Convert this dataframe to an interactive table.\"\n",
              "              style=\"display:none;\">\n",
              "        \n",
              "  <svg xmlns=\"http://www.w3.org/2000/svg\" height=\"24px\"viewBox=\"0 0 24 24\"\n",
              "       width=\"24px\">\n",
              "    <path d=\"M0 0h24v24H0V0z\" fill=\"none\"/>\n",
              "    <path d=\"M18.56 5.44l.94 2.06.94-2.06 2.06-.94-2.06-.94-.94-2.06-.94 2.06-2.06.94zm-11 1L8.5 8.5l.94-2.06 2.06-.94-2.06-.94L8.5 2.5l-.94 2.06-2.06.94zm10 10l.94 2.06.94-2.06 2.06-.94-2.06-.94-.94-2.06-.94 2.06-2.06.94z\"/><path d=\"M17.41 7.96l-1.37-1.37c-.4-.4-.92-.59-1.43-.59-.52 0-1.04.2-1.43.59L10.3 9.45l-7.72 7.72c-.78.78-.78 2.05 0 2.83L4 21.41c.39.39.9.59 1.41.59.51 0 1.02-.2 1.41-.59l7.78-7.78 2.81-2.81c.8-.78.8-2.07 0-2.86zM5.41 20L4 18.59l7.72-7.72 1.47 1.35L5.41 20z\"/>\n",
              "  </svg>\n",
              "      </button>\n",
              "      \n",
              "  <style>\n",
              "    .colab-df-container {\n",
              "      display:flex;\n",
              "      flex-wrap:wrap;\n",
              "      gap: 12px;\n",
              "    }\n",
              "\n",
              "    .colab-df-convert {\n",
              "      background-color: #E8F0FE;\n",
              "      border: none;\n",
              "      border-radius: 50%;\n",
              "      cursor: pointer;\n",
              "      display: none;\n",
              "      fill: #1967D2;\n",
              "      height: 32px;\n",
              "      padding: 0 0 0 0;\n",
              "      width: 32px;\n",
              "    }\n",
              "\n",
              "    .colab-df-convert:hover {\n",
              "      background-color: #E2EBFA;\n",
              "      box-shadow: 0px 1px 2px rgba(60, 64, 67, 0.3), 0px 1px 3px 1px rgba(60, 64, 67, 0.15);\n",
              "      fill: #174EA6;\n",
              "    }\n",
              "\n",
              "    [theme=dark] .colab-df-convert {\n",
              "      background-color: #3B4455;\n",
              "      fill: #D2E3FC;\n",
              "    }\n",
              "\n",
              "    [theme=dark] .colab-df-convert:hover {\n",
              "      background-color: #434B5C;\n",
              "      box-shadow: 0px 1px 3px 1px rgba(0, 0, 0, 0.15);\n",
              "      filter: drop-shadow(0px 1px 2px rgba(0, 0, 0, 0.3));\n",
              "      fill: #FFFFFF;\n",
              "    }\n",
              "  </style>\n",
              "\n",
              "      <script>\n",
              "        const buttonEl =\n",
              "          document.querySelector('#df-83bb21b9-7433-4bde-b0a0-f53c98fe8342 button.colab-df-convert');\n",
              "        buttonEl.style.display =\n",
              "          google.colab.kernel.accessAllowed ? 'block' : 'none';\n",
              "\n",
              "        async function convertToInteractive(key) {\n",
              "          const element = document.querySelector('#df-83bb21b9-7433-4bde-b0a0-f53c98fe8342');\n",
              "          const dataTable =\n",
              "            await google.colab.kernel.invokeFunction('convertToInteractive',\n",
              "                                                     [key], {});\n",
              "          if (!dataTable) return;\n",
              "\n",
              "          const docLinkHtml = 'Like what you see? Visit the ' +\n",
              "            '<a target=\"_blank\" href=https://colab.research.google.com/notebooks/data_table.ipynb>data table notebook</a>'\n",
              "            + ' to learn more about interactive tables.';\n",
              "          element.innerHTML = '';\n",
              "          dataTable['output_type'] = 'display_data';\n",
              "          await google.colab.output.renderOutput(dataTable, element);\n",
              "          const docLink = document.createElement('div');\n",
              "          docLink.innerHTML = docLinkHtml;\n",
              "          element.appendChild(docLink);\n",
              "        }\n",
              "      </script>\n",
              "    </div>\n",
              "  </div>\n",
              "  "
            ]
          },
          "metadata": {},
          "execution_count": 28
        }
      ]
    },
    {
      "cell_type": "code",
      "source": [
        "# Split data into train and test data\n",
        "n=19\n",
        "df_stock_train = df_stock.head(len(df_stock)-n)\n",
        "df_stock_test = df_stock.tail(n)\n",
        "print(df_stock_train.info())\n",
        "print(df_stock_test.info())"
      ],
      "metadata": {
        "id": "vlkUHDr-7hUO",
        "colab": {
          "base_uri": "https://localhost:8080/"
        },
        "outputId": "8b465e05-731a-4d64-b089-345fd4945b53"
      },
      "execution_count": 29,
      "outputs": [
        {
          "output_type": "stream",
          "name": "stdout",
          "text": [
            "<class 'pandas.core.frame.DataFrame'>\n",
            "DatetimeIndex: 1707 entries, 2015-11-09 to 2022-10-04\n",
            "Data columns (total 5 columns):\n",
            " #   Column           Non-Null Count  Dtype  \n",
            "---  ------           --------------  -----  \n",
            " 0   Date             1707 non-null   int64  \n",
            " 1   Close_Price      1707 non-null   float64\n",
            " 2   t                1707 non-null   int64  \n",
            " 3   log_Close_Price  1707 non-null   float64\n",
            " 4   t_square         1707 non-null   int64  \n",
            "dtypes: float64(2), int64(3)\n",
            "memory usage: 80.0 KB\n",
            "None\n",
            "<class 'pandas.core.frame.DataFrame'>\n",
            "DatetimeIndex: 19 entries, 2022-10-06 to 2022-11-04\n",
            "Data columns (total 5 columns):\n",
            " #   Column           Non-Null Count  Dtype  \n",
            "---  ------           --------------  -----  \n",
            " 0   Date             19 non-null     int64  \n",
            " 1   Close_Price      19 non-null     float64\n",
            " 2   t                19 non-null     int64  \n",
            " 3   log_Close_Price  19 non-null     float64\n",
            " 4   t_square         19 non-null     int64  \n",
            "dtypes: float64(2), int64(3)\n",
            "memory usage: 912.0 bytes\n",
            "None\n"
          ]
        }
      ]
    },
    {
      "cell_type": "markdown",
      "source": [
        "### **Linear Regression Model**"
      ],
      "metadata": {
        "id": "qs5yyQtN8Aj1"
      }
    },
    {
      "cell_type": "code",
      "source": [
        "linear_model = smf.ols('Close_Price ~ t', data=df_stock_train).fit()\n",
        "\n",
        "pred_linear = linear_model.predict(df_stock_test['t'])\n",
        "pred_linear.head()"
      ],
      "metadata": {
        "id": "gE4RDC6V8KLn",
        "colab": {
          "base_uri": "https://localhost:8080/"
        },
        "outputId": "5ef71b54-70c6-49a4-9dce-ea5b202ca749"
      },
      "execution_count": 30,
      "outputs": [
        {
          "output_type": "execute_result",
          "data": {
            "text/plain": [
              "Date\n",
              "2022-10-06    656.059769\n",
              "2022-10-07    656.290753\n",
              "2022-10-10    656.521737\n",
              "2022-10-11    656.752721\n",
              "2022-10-12    656.983706\n",
              "dtype: float64"
            ]
          },
          "metadata": {},
          "execution_count": 30
        }
      ]
    },
    {
      "cell_type": "code",
      "source": [
        "df_stock_test.head()"
      ],
      "metadata": {
        "id": "LdNmJhr5-sHP",
        "colab": {
          "base_uri": "https://localhost:8080/",
          "height": 238
        },
        "outputId": "bc3ce384-703b-4080-af6c-425930363ef6"
      },
      "execution_count": 31,
      "outputs": [
        {
          "output_type": "execute_result",
          "data": {
            "text/plain": [
              "                Date  Close_Price     t  log_Close_Price  t_square\n",
              "Date                                                              \n",
              "2022-10-06  20221006       788.60  1708         2.896857   2917264\n",
              "2022-10-07  20221007       793.10  1709         2.899328   2920681\n",
              "2022-10-10  20221010       792.35  1710         2.898917   2924100\n",
              "2022-10-11  20221011       780.30  1711         2.892262   2927521\n",
              "2022-10-12  20221012       775.55  1712         2.889610   2930944"
            ],
            "text/html": [
              "\n",
              "  <div id=\"df-6f4c5588-ba4d-4d31-b8e8-a05df1a02c41\">\n",
              "    <div class=\"colab-df-container\">\n",
              "      <div>\n",
              "<style scoped>\n",
              "    .dataframe tbody tr th:only-of-type {\n",
              "        vertical-align: middle;\n",
              "    }\n",
              "\n",
              "    .dataframe tbody tr th {\n",
              "        vertical-align: top;\n",
              "    }\n",
              "\n",
              "    .dataframe thead th {\n",
              "        text-align: right;\n",
              "    }\n",
              "</style>\n",
              "<table border=\"1\" class=\"dataframe\">\n",
              "  <thead>\n",
              "    <tr style=\"text-align: right;\">\n",
              "      <th></th>\n",
              "      <th>Date</th>\n",
              "      <th>Close_Price</th>\n",
              "      <th>t</th>\n",
              "      <th>log_Close_Price</th>\n",
              "      <th>t_square</th>\n",
              "    </tr>\n",
              "    <tr>\n",
              "      <th>Date</th>\n",
              "      <th></th>\n",
              "      <th></th>\n",
              "      <th></th>\n",
              "      <th></th>\n",
              "      <th></th>\n",
              "    </tr>\n",
              "  </thead>\n",
              "  <tbody>\n",
              "    <tr>\n",
              "      <th>2022-10-06</th>\n",
              "      <td>20221006</td>\n",
              "      <td>788.60</td>\n",
              "      <td>1708</td>\n",
              "      <td>2.896857</td>\n",
              "      <td>2917264</td>\n",
              "    </tr>\n",
              "    <tr>\n",
              "      <th>2022-10-07</th>\n",
              "      <td>20221007</td>\n",
              "      <td>793.10</td>\n",
              "      <td>1709</td>\n",
              "      <td>2.899328</td>\n",
              "      <td>2920681</td>\n",
              "    </tr>\n",
              "    <tr>\n",
              "      <th>2022-10-10</th>\n",
              "      <td>20221010</td>\n",
              "      <td>792.35</td>\n",
              "      <td>1710</td>\n",
              "      <td>2.898917</td>\n",
              "      <td>2924100</td>\n",
              "    </tr>\n",
              "    <tr>\n",
              "      <th>2022-10-11</th>\n",
              "      <td>20221011</td>\n",
              "      <td>780.30</td>\n",
              "      <td>1711</td>\n",
              "      <td>2.892262</td>\n",
              "      <td>2927521</td>\n",
              "    </tr>\n",
              "    <tr>\n",
              "      <th>2022-10-12</th>\n",
              "      <td>20221012</td>\n",
              "      <td>775.55</td>\n",
              "      <td>1712</td>\n",
              "      <td>2.889610</td>\n",
              "      <td>2930944</td>\n",
              "    </tr>\n",
              "  </tbody>\n",
              "</table>\n",
              "</div>\n",
              "      <button class=\"colab-df-convert\" onclick=\"convertToInteractive('df-6f4c5588-ba4d-4d31-b8e8-a05df1a02c41')\"\n",
              "              title=\"Convert this dataframe to an interactive table.\"\n",
              "              style=\"display:none;\">\n",
              "        \n",
              "  <svg xmlns=\"http://www.w3.org/2000/svg\" height=\"24px\"viewBox=\"0 0 24 24\"\n",
              "       width=\"24px\">\n",
              "    <path d=\"M0 0h24v24H0V0z\" fill=\"none\"/>\n",
              "    <path d=\"M18.56 5.44l.94 2.06.94-2.06 2.06-.94-2.06-.94-.94-2.06-.94 2.06-2.06.94zm-11 1L8.5 8.5l.94-2.06 2.06-.94-2.06-.94L8.5 2.5l-.94 2.06-2.06.94zm10 10l.94 2.06.94-2.06 2.06-.94-2.06-.94-.94-2.06-.94 2.06-2.06.94z\"/><path d=\"M17.41 7.96l-1.37-1.37c-.4-.4-.92-.59-1.43-.59-.52 0-1.04.2-1.43.59L10.3 9.45l-7.72 7.72c-.78.78-.78 2.05 0 2.83L4 21.41c.39.39.9.59 1.41.59.51 0 1.02-.2 1.41-.59l7.78-7.78 2.81-2.81c.8-.78.8-2.07 0-2.86zM5.41 20L4 18.59l7.72-7.72 1.47 1.35L5.41 20z\"/>\n",
              "  </svg>\n",
              "      </button>\n",
              "      \n",
              "  <style>\n",
              "    .colab-df-container {\n",
              "      display:flex;\n",
              "      flex-wrap:wrap;\n",
              "      gap: 12px;\n",
              "    }\n",
              "\n",
              "    .colab-df-convert {\n",
              "      background-color: #E8F0FE;\n",
              "      border: none;\n",
              "      border-radius: 50%;\n",
              "      cursor: pointer;\n",
              "      display: none;\n",
              "      fill: #1967D2;\n",
              "      height: 32px;\n",
              "      padding: 0 0 0 0;\n",
              "      width: 32px;\n",
              "    }\n",
              "\n",
              "    .colab-df-convert:hover {\n",
              "      background-color: #E2EBFA;\n",
              "      box-shadow: 0px 1px 2px rgba(60, 64, 67, 0.3), 0px 1px 3px 1px rgba(60, 64, 67, 0.15);\n",
              "      fill: #174EA6;\n",
              "    }\n",
              "\n",
              "    [theme=dark] .colab-df-convert {\n",
              "      background-color: #3B4455;\n",
              "      fill: #D2E3FC;\n",
              "    }\n",
              "\n",
              "    [theme=dark] .colab-df-convert:hover {\n",
              "      background-color: #434B5C;\n",
              "      box-shadow: 0px 1px 3px 1px rgba(0, 0, 0, 0.15);\n",
              "      filter: drop-shadow(0px 1px 2px rgba(0, 0, 0, 0.3));\n",
              "      fill: #FFFFFF;\n",
              "    }\n",
              "  </style>\n",
              "\n",
              "      <script>\n",
              "        const buttonEl =\n",
              "          document.querySelector('#df-6f4c5588-ba4d-4d31-b8e8-a05df1a02c41 button.colab-df-convert');\n",
              "        buttonEl.style.display =\n",
              "          google.colab.kernel.accessAllowed ? 'block' : 'none';\n",
              "\n",
              "        async function convertToInteractive(key) {\n",
              "          const element = document.querySelector('#df-6f4c5588-ba4d-4d31-b8e8-a05df1a02c41');\n",
              "          const dataTable =\n",
              "            await google.colab.kernel.invokeFunction('convertToInteractive',\n",
              "                                                     [key], {});\n",
              "          if (!dataTable) return;\n",
              "\n",
              "          const docLinkHtml = 'Like what you see? Visit the ' +\n",
              "            '<a target=\"_blank\" href=https://colab.research.google.com/notebooks/data_table.ipynb>data table notebook</a>'\n",
              "            + ' to learn more about interactive tables.';\n",
              "          element.innerHTML = '';\n",
              "          dataTable['output_type'] = 'display_data';\n",
              "          await google.colab.output.renderOutput(dataTable, element);\n",
              "          const docLink = document.createElement('div');\n",
              "          docLink.innerHTML = docLinkHtml;\n",
              "          element.appendChild(docLink);\n",
              "        }\n",
              "      </script>\n",
              "    </div>\n",
              "  </div>\n",
              "  "
            ]
          },
          "metadata": {},
          "execution_count": 31
        }
      ]
    },
    {
      "cell_type": "markdown",
      "source": [
        "**Evaluation of Model**"
      ],
      "metadata": {
        "id": "DaSQ848kgxJ6"
      }
    },
    {
      "cell_type": "code",
      "source": [
        "pred_linear"
      ],
      "metadata": {
        "colab": {
          "base_uri": "https://localhost:8080/"
        },
        "id": "hfPsxIoZSBKS",
        "outputId": "b19ddbc3-3448-4579-b0f1-657aa36b3dc0"
      },
      "execution_count": 32,
      "outputs": [
        {
          "output_type": "execute_result",
          "data": {
            "text/plain": [
              "Date\n",
              "2022-10-06    656.059769\n",
              "2022-10-07    656.290753\n",
              "2022-10-10    656.521737\n",
              "2022-10-11    656.752721\n",
              "2022-10-12    656.983706\n",
              "2022-10-13    657.214690\n",
              "2022-10-14    657.445674\n",
              "2022-10-17    657.676659\n",
              "2022-10-18    657.907643\n",
              "2022-10-19    658.138627\n",
              "2022-10-20    658.369612\n",
              "2022-10-21    658.600596\n",
              "2022-10-24    658.831580\n",
              "2022-10-25    659.062564\n",
              "2022-10-27    659.293549\n",
              "2022-10-28    659.524533\n",
              "2022-10-31    659.755517\n",
              "2022-11-03    659.986502\n",
              "2022-11-04    660.217486\n",
              "dtype: float64"
            ]
          },
          "metadata": {},
          "execution_count": 32
        }
      ]
    },
    {
      "cell_type": "code",
      "source": [
        "mse = mean_squared_error(df_stock_test['Close_Price'],pred_linear )\n",
        "rmse_linear = mse**.5\n",
        "print(mse)\n",
        "print(rmse_linear)"
      ],
      "metadata": {
        "colab": {
          "base_uri": "https://localhost:8080/"
        },
        "outputId": "9829a6dd-7723-45ec-8702-6ec5a09274b4",
        "id": "-8s-rXyigxJ6"
      },
      "execution_count": 33,
      "outputs": [
        {
          "output_type": "stream",
          "name": "stdout",
          "text": [
            "18880.079404581065\n",
            "137.404801242828\n"
          ]
        }
      ]
    },
    {
      "cell_type": "markdown",
      "source": [
        "**Understanding the predictions by charts**\n"
      ],
      "metadata": {
        "id": "lpN-H2iVgxJ6"
      }
    },
    {
      "cell_type": "code",
      "source": [
        "plt.plot(df_stock_test['Date'], df_stock_test['Close_Price'], color='red', label='Actual Stock Price')\n",
        "plt.plot(df_stock_test['Date'], pred_linear, color='blue', label='Predicted Stock Price')\n",
        "plt.title('Stock Prediction by Linear Regression')\n",
        "plt.xlabel('Date')\n",
        "plt.ylabel('Price')\n",
        "plt.legend()\n",
        "plt.show()"
      ],
      "metadata": {
        "colab": {
          "base_uri": "https://localhost:8080/",
          "height": 295
        },
        "outputId": "95b757f3-99f0-4dd6-9851-e29f4908d6eb",
        "id": "SP_VhGOEgxJ6"
      },
      "execution_count": 34,
      "outputs": [
        {
          "output_type": "display_data",
          "data": {
            "text/plain": [
              "<Figure size 432x288 with 1 Axes>"
            ],
            "image/png": "[encoded data removed]"
          },
          "metadata": {
            "needs_background": "light"
          }
        }
      ]
    },
    {
      "cell_type": "markdown",
      "source": [
        "### **Exponential Model**"
      ],
      "metadata": {
        "id": "zHxQyguR0bN8"
      }
    },
    {
      "cell_type": "code",
      "source": [
        "exp_model = smf.ols('log_Close_Price ~ t', data = df_stock_train).fit()\n",
        "pred_exp_log = exp_model.predict(df_stock_test['t'])\n",
        "pred_exp_log.head()"
      ],
      "metadata": {
        "colab": {
          "base_uri": "https://localhost:8080/"
        },
        "id": "dXYC9MEF0gZg",
        "outputId": "e47381be-090d-4c43-fb6c-a260c9367432"
      },
      "execution_count": 35,
      "outputs": [
        {
          "output_type": "execute_result",
          "data": {
            "text/plain": [
              "Date\n",
              "2022-10-06    2.820327\n",
              "2022-10-07    2.820534\n",
              "2022-10-10    2.820741\n",
              "2022-10-11    2.820948\n",
              "2022-10-12    2.821155\n",
              "dtype: float64"
            ]
          },
          "metadata": {},
          "execution_count": 35
        }
      ]
    },
    {
      "cell_type": "markdown",
      "source": [
        "**Evaluation of Model**"
      ],
      "metadata": {
        "id": "LZdZzSX7xYqm"
      }
    },
    {
      "cell_type": "code",
      "source": [
        "pred_exp = 10 ** pred_exp_log\n",
        "pred_exp"
      ],
      "metadata": {
        "colab": {
          "base_uri": "https://localhost:8080/"
        },
        "id": "vkt4asC9xBh3",
        "outputId": "e0a5be72-0b11-4ffe-c75a-75b48f1db374"
      },
      "execution_count": 36,
      "outputs": [
        {
          "output_type": "execute_result",
          "data": {
            "text/plain": [
              "Date\n",
              "2022-10-06    661.190972\n",
              "2022-10-07    661.506097\n",
              "2022-10-10    661.821372\n",
              "2022-10-11    662.136797\n",
              "2022-10-12    662.452373\n",
              "2022-10-13    662.768099\n",
              "2022-10-14    663.083976\n",
              "2022-10-17    663.400003\n",
              "2022-10-18    663.716181\n",
              "2022-10-19    664.032509\n",
              "2022-10-20    664.348989\n",
              "2022-10-21    664.665619\n",
              "2022-10-24    664.982400\n",
              "2022-10-25    665.299332\n",
              "2022-10-27    665.616415\n",
              "2022-10-28    665.933649\n",
              "2022-10-31    666.251034\n",
              "2022-11-03    666.568571\n",
              "2022-11-04    666.886259\n",
              "dtype: float64"
            ]
          },
          "metadata": {},
          "execution_count": 36
        }
      ]
    },
    {
      "cell_type": "code",
      "source": [
        "mse = mean_squared_error(df_stock_test['Close_Price'],pred_exp )\n",
        "rmse_exp = mse**.5\n",
        "print(mse)\n",
        "print(rmse_exp)"
      ],
      "metadata": {
        "colab": {
          "base_uri": "https://localhost:8080/"
        },
        "outputId": "3919decb-3e8e-4eaa-f22b-06e6edf77c58",
        "id": "kdhqRk69xYqm"
      },
      "execution_count": 37,
      "outputs": [
        {
          "output_type": "stream",
          "name": "stdout",
          "text": [
            "17296.467493915396\n",
            "131.51603512087564\n"
          ]
        }
      ]
    },
    {
      "cell_type": "markdown",
      "source": [
        "**Understanding the predictions by charts**\n"
      ],
      "metadata": {
        "id": "xEW1gMCpxYqm"
      }
    },
    {
      "cell_type": "code",
      "source": [
        "plt.plot(df_stock_test['Date'], df_stock_test['Close_Price'], color='red', label='Actual Stock Price')\n",
        "plt.plot(df_stock_test['Date'], pred_exp, color='blue', label='Predicted Stock Price')\n",
        "plt.title('Stock Prediction by Exponential Model')\n",
        "plt.xlabel('Date')\n",
        "plt.ylabel('Price')\n",
        "plt.legend()\n",
        "plt.show()"
      ],
      "metadata": {
        "colab": {
          "base_uri": "https://localhost:8080/",
          "height": 295
        },
        "outputId": "fd29be89-b401-4efc-942d-8a52a60b0832",
        "id": "nZFfOhPnxYqm"
      },
      "execution_count": 38,
      "outputs": [
        {
          "output_type": "display_data",
          "data": {
            "text/plain": [
              "<Figure size 432x288 with 1 Axes>"
            ],
            "image/png": "[encoded data removed]"
          },
          "metadata": {
            "needs_background": "light"
          }
        }
      ]
    },
    {
      "cell_type": "markdown",
      "source": [
        "### **Quadratic Model**"
      ],
      "metadata": {
        "id": "k7AShe0x2PKa"
      }
    },
    {
      "cell_type": "code",
      "source": [
        "# Create model\n",
        "quad_model = smf.ols('Close_Price ~ t + t_square ', data = df_stock_train).fit()\n",
        "pred_quad = quad_model.predict(df_stock_test[['t', 't_square']])"
      ],
      "metadata": {
        "id": "RYJK5Npw2PKa"
      },
      "execution_count": 39,
      "outputs": []
    },
    {
      "cell_type": "markdown",
      "source": [
        "**Evaluation of Model**"
      ],
      "metadata": {
        "id": "iq5F--RkyA3K"
      }
    },
    {
      "cell_type": "code",
      "source": [
        "# Prediction Values\n",
        "pred_quad"
      ],
      "metadata": {
        "colab": {
          "base_uri": "https://localhost:8080/"
        },
        "id": "IBoMvdRaS3Ks",
        "outputId": "38182bd1-c350-42f2-caaf-a658078cfa9d"
      },
      "execution_count": 40,
      "outputs": [
        {
          "output_type": "execute_result",
          "data": {
            "text/plain": [
              "Date\n",
              "2022-10-06    764.498864\n",
              "2022-10-07    765.110782\n",
              "2022-10-10    765.723146\n",
              "2022-10-11    766.335955\n",
              "2022-10-12    766.949210\n",
              "2022-10-13    767.562911\n",
              "2022-10-14    768.177058\n",
              "2022-10-17    768.791651\n",
              "2022-10-18    769.406689\n",
              "2022-10-19    770.022174\n",
              "2022-10-20    770.638104\n",
              "2022-10-21    771.254480\n",
              "2022-10-24    771.871301\n",
              "2022-10-25    772.488569\n",
              "2022-10-27    773.106282\n",
              "2022-10-28    773.724441\n",
              "2022-10-31    774.343046\n",
              "2022-11-03    774.962096\n",
              "2022-11-04    775.581593\n",
              "dtype: float64"
            ]
          },
          "metadata": {},
          "execution_count": 40
        }
      ]
    },
    {
      "cell_type": "code",
      "source": [
        "mse = mean_squared_error(df_stock_test['Close_Price'],pred_quad )\n",
        "rmse_quad = mse**.5\n",
        "print(mse)\n",
        "print(rmse_quad)"
      ],
      "metadata": {
        "colab": {
          "base_uri": "https://localhost:8080/"
        },
        "outputId": "c8a5b0bf-8847-4ed3-ed24-aeaf59142228",
        "id": "i342K9XlyA3a"
      },
      "execution_count": 41,
      "outputs": [
        {
          "output_type": "stream",
          "name": "stdout",
          "text": [
            "863.3293688262742\n",
            "29.382467030974002\n"
          ]
        }
      ]
    },
    {
      "cell_type": "markdown",
      "source": [
        "**Understanding the predictions by charts**\n"
      ],
      "metadata": {
        "id": "X4OvNtYDyA3b"
      }
    },
    {
      "cell_type": "code",
      "source": [
        "plt.plot(df_stock_test['Date'], df_stock_test['Close_Price'], color='red', label='Actual Stock Price')\n",
        "plt.plot(df_stock_test['Date'], pred_quad, color='blue', label='Predicted Stock Price')\n",
        "plt.title('Stock Prediction by Quadratic Model')\n",
        "plt.xlabel('Date')\n",
        "plt.ylabel('Price')\n",
        "plt.legend()\n",
        "plt.show()"
      ],
      "metadata": {
        "colab": {
          "base_uri": "https://localhost:8080/",
          "height": 295
        },
        "outputId": "45d976e8-9f62-497e-9730-71b59044bb0b",
        "id": "ffTBVZ1WyA3b"
      },
      "execution_count": 42,
      "outputs": [
        {
          "output_type": "display_data",
          "data": {
            "text/plain": [
              "<Figure size 432x288 with 1 Axes>"
            ],
            "image/png": "[encoded data removed]"
          },
          "metadata": {
            "needs_background": "light"
          }
        }
      ]
    },
    {
      "cell_type": "markdown",
      "source": [
        "## **Persistence/Base and Arima Models**"
      ],
      "metadata": {
        "id": "1l3c6MhdXC1o"
      }
    },
    {
      "cell_type": "markdown",
      "source": [
        "### **Persistence/Base Model**"
      ],
      "metadata": {
        "id": "8tyU0BbtXRme"
      }
    },
    {
      "cell_type": "code",
      "source": [
        "num_shift=5\n",
        "df_stock['Close_Price_minus_5'] = df_stock['Close_Price'].shift(num_shift)\n",
        "df_stock.head()"
      ],
      "metadata": {
        "colab": {
          "base_uri": "https://localhost:8080/",
          "height": 238
        },
        "id": "rJfgGz6YmU9r",
        "outputId": "49773c34-f3e3-46b1-d4d4-7eb4e815f62b"
      },
      "execution_count": 43,
      "outputs": [
        {
          "output_type": "execute_result",
          "data": {
            "text/plain": [
              "                Date  Close_Price  t  log_Close_Price  t_square  \\\n",
              "Date                                                              \n",
              "2015-11-09  20151109       335.25  1         2.525369         1   \n",
              "2015-11-10  20151110       331.65  2         2.520680         4   \n",
              "2015-11-11  20151111       331.90  3         2.521007         9   \n",
              "2015-11-13  20151113       333.90  4         2.523616        16   \n",
              "2015-11-16  20151116       335.75  5         2.526016        25   \n",
              "\n",
              "            Close_Price_minus_5  \n",
              "Date                             \n",
              "2015-11-09                  NaN  \n",
              "2015-11-10                  NaN  \n",
              "2015-11-11                  NaN  \n",
              "2015-11-13                  NaN  \n",
              "2015-11-16                  NaN  "
            ],
            "text/html": [
              "\n",
              "  <div id=\"df-69ead20a-ecf7-4607-819a-74000ef0b478\">\n",
              "    <div class=\"colab-df-container\">\n",
              "      <div>\n",
              "<style scoped>\n",
              "    .dataframe tbody tr th:only-of-type {\n",
              "        vertical-align: middle;\n",
              "    }\n",
              "\n",
              "    .dataframe tbody tr th {\n",
              "        vertical-align: top;\n",
              "    }\n",
              "\n",
              "    .dataframe thead th {\n",
              "        text-align: right;\n",
              "    }\n",
              "</style>\n",
              "<table border=\"1\" class=\"dataframe\">\n",
              "  <thead>\n",
              "    <tr style=\"text-align: right;\">\n",
              "      <th></th>\n",
              "      <th>Date</th>\n",
              "      <th>Close_Price</th>\n",
              "      <th>t</th>\n",
              "      <th>log_Close_Price</th>\n",
              "      <th>t_square</th>\n",
              "      <th>Close_Price_minus_5</th>\n",
              "    </tr>\n",
              "    <tr>\n",
              "      <th>Date</th>\n",
              "      <th></th>\n",
              "      <th></th>\n",
              "      <th></th>\n",
              "      <th></th>\n",
              "      <th></th>\n",
              "      <th></th>\n",
              "    </tr>\n",
              "  </thead>\n",
              "  <tbody>\n",
              "    <tr>\n",
              "      <th>2015-11-09</th>\n",
              "      <td>20151109</td>\n",
              "      <td>335.25</td>\n",
              "      <td>1</td>\n",
              "      <td>2.525369</td>\n",
              "      <td>1</td>\n",
              "      <td>NaN</td>\n",
              "    </tr>\n",
              "    <tr>\n",
              "      <th>2015-11-10</th>\n",
              "      <td>20151110</td>\n",
              "      <td>331.65</td>\n",
              "      <td>2</td>\n",
              "      <td>2.520680</td>\n",
              "      <td>4</td>\n",
              "      <td>NaN</td>\n",
              "    </tr>\n",
              "    <tr>\n",
              "      <th>2015-11-11</th>\n",
              "      <td>20151111</td>\n",
              "      <td>331.90</td>\n",
              "      <td>3</td>\n",
              "      <td>2.521007</td>\n",
              "      <td>9</td>\n",
              "      <td>NaN</td>\n",
              "    </tr>\n",
              "    <tr>\n",
              "      <th>2015-11-13</th>\n",
              "      <td>20151113</td>\n",
              "      <td>333.90</td>\n",
              "      <td>4</td>\n",
              "      <td>2.523616</td>\n",
              "      <td>16</td>\n",
              "      <td>NaN</td>\n",
              "    </tr>\n",
              "    <tr>\n",
              "      <th>2015-11-16</th>\n",
              "      <td>20151116</td>\n",
              "      <td>335.75</td>\n",
              "      <td>5</td>\n",
              "      <td>2.526016</td>\n",
              "      <td>25</td>\n",
              "      <td>NaN</td>\n",
              "    </tr>\n",
              "  </tbody>\n",
              "</table>\n",
              "</div>\n",
              "      <button class=\"colab-df-convert\" onclick=\"convertToInteractive('df-69ead20a-ecf7-4607-819a-74000ef0b478')\"\n",
              "              title=\"Convert this dataframe to an interactive table.\"\n",
              "              style=\"display:none;\">\n",
              "        \n",
              "  <svg xmlns=\"http://www.w3.org/2000/svg\" height=\"24px\"viewBox=\"0 0 24 24\"\n",
              "       width=\"24px\">\n",
              "    <path d=\"M0 0h24v24H0V0z\" fill=\"none\"/>\n",
              "    <path d=\"M18.56 5.44l.94 2.06.94-2.06 2.06-.94-2.06-.94-.94-2.06-.94 2.06-2.06.94zm-11 1L8.5 8.5l.94-2.06 2.06-.94-2.06-.94L8.5 2.5l-.94 2.06-2.06.94zm10 10l.94 2.06.94-2.06 2.06-.94-2.06-.94-.94-2.06-.94 2.06-2.06.94z\"/><path d=\"M17.41 7.96l-1.37-1.37c-.4-.4-.92-.59-1.43-.59-.52 0-1.04.2-1.43.59L10.3 9.45l-7.72 7.72c-.78.78-.78 2.05 0 2.83L4 21.41c.39.39.9.59 1.41.59.51 0 1.02-.2 1.41-.59l7.78-7.78 2.81-2.81c.8-.78.8-2.07 0-2.86zM5.41 20L4 18.59l7.72-7.72 1.47 1.35L5.41 20z\"/>\n",
              "  </svg>\n",
              "      </button>\n",
              "      \n",
              "  <style>\n",
              "    .colab-df-container {\n",
              "      display:flex;\n",
              "      flex-wrap:wrap;\n",
              "      gap: 12px;\n",
              "    }\n",
              "\n",
              "    .colab-df-convert {\n",
              "      background-color: #E8F0FE;\n",
              "      border: none;\n",
              "      border-radius: 50%;\n",
              "      cursor: pointer;\n",
              "      display: none;\n",
              "      fill: #1967D2;\n",
              "      height: 32px;\n",
              "      padding: 0 0 0 0;\n",
              "      width: 32px;\n",
              "    }\n",
              "\n",
              "    .colab-df-convert:hover {\n",
              "      background-color: #E2EBFA;\n",
              "      box-shadow: 0px 1px 2px rgba(60, 64, 67, 0.3), 0px 1px 3px 1px rgba(60, 64, 67, 0.15);\n",
              "      fill: #174EA6;\n",
              "    }\n",
              "\n",
              "    [theme=dark] .colab-df-convert {\n",
              "      background-color: #3B4455;\n",
              "      fill: #D2E3FC;\n",
              "    }\n",
              "\n",
              "    [theme=dark] .colab-df-convert:hover {\n",
              "      background-color: #434B5C;\n",
              "      box-shadow: 0px 1px 3px 1px rgba(0, 0, 0, 0.15);\n",
              "      filter: drop-shadow(0px 1px 2px rgba(0, 0, 0, 0.3));\n",
              "      fill: #FFFFFF;\n",
              "    }\n",
              "  </style>\n",
              "\n",
              "      <script>\n",
              "        const buttonEl =\n",
              "          document.querySelector('#df-69ead20a-ecf7-4607-819a-74000ef0b478 button.colab-df-convert');\n",
              "        buttonEl.style.display =\n",
              "          google.colab.kernel.accessAllowed ? 'block' : 'none';\n",
              "\n",
              "        async function convertToInteractive(key) {\n",
              "          const element = document.querySelector('#df-69ead20a-ecf7-4607-819a-74000ef0b478');\n",
              "          const dataTable =\n",
              "            await google.colab.kernel.invokeFunction('convertToInteractive',\n",
              "                                                     [key], {});\n",
              "          if (!dataTable) return;\n",
              "\n",
              "          const docLinkHtml = 'Like what you see? Visit the ' +\n",
              "            '<a target=\"_blank\" href=https://colab.research.google.com/notebooks/data_table.ipynb>data table notebook</a>'\n",
              "            + ' to learn more about interactive tables.';\n",
              "          element.innerHTML = '';\n",
              "          dataTable['output_type'] = 'display_data';\n",
              "          await google.colab.output.renderOutput(dataTable, element);\n",
              "          const docLink = document.createElement('div');\n",
              "          docLink.innerHTML = docLinkHtml;\n",
              "          element.appendChild(docLink);\n",
              "        }\n",
              "      </script>\n",
              "    </div>\n",
              "  </div>\n",
              "  "
            ]
          },
          "metadata": {},
          "execution_count": 43
        }
      ]
    },
    {
      "cell_type": "markdown",
      "source": [
        "**Evaluation of Model**"
      ],
      "metadata": {
        "id": "falunj2z2QSv"
      }
    },
    {
      "cell_type": "code",
      "source": [
        "df_stock[['Date', 'Close_Price', 'Close_Price_minus_5']].tail(19)"
      ],
      "metadata": {
        "colab": {
          "base_uri": "https://localhost:8080/",
          "height": 677
        },
        "id": "yS3QLHmxPWAs",
        "outputId": "03a8062b-e7a3-45e6-e5aa-3816db62a721"
      },
      "execution_count": 44,
      "outputs": [
        {
          "output_type": "execute_result",
          "data": {
            "text/plain": [
              "                Date  Close_Price  Close_Price_minus_5\n",
              "Date                                                  \n",
              "2022-10-06  20221006       788.60               761.45\n",
              "2022-10-07  20221007       793.10               764.65\n",
              "2022-10-10  20221010       792.35               799.90\n",
              "2022-10-11  20221011       780.30               803.35\n",
              "2022-10-12  20221012       775.55               808.70\n",
              "2022-10-13  20221013       768.90               788.60\n",
              "2022-10-14  20221014       765.95               793.10\n",
              "2022-10-17  20221017       766.00               792.35\n",
              "2022-10-18  20221018       783.15               780.30\n",
              "2022-10-19  20221019       783.40               775.55\n",
              "2022-10-20  20221020       792.90               768.90\n",
              "2022-10-21  20221021       797.45               765.95\n",
              "2022-10-24  20221024       802.10               766.00\n",
              "2022-10-25  20221025       802.30               783.15\n",
              "2022-10-27  20221027       817.10               783.40\n",
              "2022-10-28  20221028       816.85               792.90\n",
              "2022-10-31  20221031       832.00               797.45\n",
              "2022-11-03  20221103       818.65               802.10\n",
              "2022-11-04  20221104       816.40               802.30"
            ],
            "text/html": [
              "\n",
              "  <div id=\"df-0dd778f4-697d-4926-96ed-ca5e4722c9ff\">\n",
              "    <div class=\"colab-df-container\">\n",
              "      <div>\n",
              "<style scoped>\n",
              "    .dataframe tbody tr th:only-of-type {\n",
              "        vertical-align: middle;\n",
              "    }\n",
              "\n",
              "    .dataframe tbody tr th {\n",
              "        vertical-align: top;\n",
              "    }\n",
              "\n",
              "    .dataframe thead th {\n",
              "        text-align: right;\n",
              "    }\n",
              "</style>\n",
              "<table border=\"1\" class=\"dataframe\">\n",
              "  <thead>\n",
              "    <tr style=\"text-align: right;\">\n",
              "      <th></th>\n",
              "      <th>Date</th>\n",
              "      <th>Close_Price</th>\n",
              "      <th>Close_Price_minus_5</th>\n",
              "    </tr>\n",
              "    <tr>\n",
              "      <th>Date</th>\n",
              "      <th></th>\n",
              "      <th></th>\n",
              "      <th></th>\n",
              "    </tr>\n",
              "  </thead>\n",
              "  <tbody>\n",
              "    <tr>\n",
              "      <th>2022-10-06</th>\n",
              "      <td>20221006</td>\n",
              "      <td>788.60</td>\n",
              "      <td>761.45</td>\n",
              "    </tr>\n",
              "    <tr>\n",
              "      <th>2022-10-07</th>\n",
              "      <td>20221007</td>\n",
              "      <td>793.10</td>\n",
              "      <td>764.65</td>\n",
              "    </tr>\n",
              "    <tr>\n",
              "      <th>2022-10-10</th>\n",
              "      <td>20221010</td>\n",
              "      <td>792.35</td>\n",
              "      <td>799.90</td>\n",
              "    </tr>\n",
              "    <tr>\n",
              "      <th>2022-10-11</th>\n",
              "      <td>20221011</td>\n",
              "      <td>780.30</td>\n",
              "      <td>803.35</td>\n",
              "    </tr>\n",
              "    <tr>\n",
              "      <th>2022-10-12</th>\n",
              "      <td>20221012</td>\n",
              "      <td>775.55</td>\n",
              "      <td>808.70</td>\n",
              "    </tr>\n",
              "    <tr>\n",
              "      <th>2022-10-13</th>\n",
              "      <td>20221013</td>\n",
              "      <td>768.90</td>\n",
              "      <td>788.60</td>\n",
              "    </tr>\n",
              "    <tr>\n",
              "      <th>2022-10-14</th>\n",
              "      <td>20221014</td>\n",
              "      <td>765.95</td>\n",
              "      <td>793.10</td>\n",
              "    </tr>\n",
              "    <tr>\n",
              "      <th>2022-10-17</th>\n",
              "      <td>20221017</td>\n",
              "      <td>766.00</td>\n",
              "      <td>792.35</td>\n",
              "    </tr>\n",
              "    <tr>\n",
              "      <th>2022-10-18</th>\n",
              "      <td>20221018</td>\n",
              "      <td>783.15</td>\n",
              "      <td>780.30</td>\n",
              "    </tr>\n",
              "    <tr>\n",
              "      <th>2022-10-19</th>\n",
              "      <td>20221019</td>\n",
              "      <td>783.40</td>\n",
              "      <td>775.55</td>\n",
              "    </tr>\n",
              "    <tr>\n",
              "      <th>2022-10-20</th>\n",
              "      <td>20221020</td>\n",
              "      <td>792.90</td>\n",
              "      <td>768.90</td>\n",
              "    </tr>\n",
              "    <tr>\n",
              "      <th>2022-10-21</th>\n",
              "      <td>20221021</td>\n",
              "      <td>797.45</td>\n",
              "      <td>765.95</td>\n",
              "    </tr>\n",
              "    <tr>\n",
              "      <th>2022-10-24</th>\n",
              "      <td>20221024</td>\n",
              "      <td>802.10</td>\n",
              "      <td>766.00</td>\n",
              "    </tr>\n",
              "    <tr>\n",
              "      <th>2022-10-25</th>\n",
              "      <td>20221025</td>\n",
              "      <td>802.30</td>\n",
              "      <td>783.15</td>\n",
              "    </tr>\n",
              "    <tr>\n",
              "      <th>2022-10-27</th>\n",
              "      <td>20221027</td>\n",
              "      <td>817.10</td>\n",
              "      <td>783.40</td>\n",
              "    </tr>\n",
              "    <tr>\n",
              "      <th>2022-10-28</th>\n",
              "      <td>20221028</td>\n",
              "      <td>816.85</td>\n",
              "      <td>792.90</td>\n",
              "    </tr>\n",
              "    <tr>\n",
              "      <th>2022-10-31</th>\n",
              "      <td>20221031</td>\n",
              "      <td>832.00</td>\n",
              "      <td>797.45</td>\n",
              "    </tr>\n",
              "    <tr>\n",
              "      <th>2022-11-03</th>\n",
              "      <td>20221103</td>\n",
              "      <td>818.65</td>\n",
              "      <td>802.10</td>\n",
              "    </tr>\n",
              "    <tr>\n",
              "      <th>2022-11-04</th>\n",
              "      <td>20221104</td>\n",
              "      <td>816.40</td>\n",
              "      <td>802.30</td>\n",
              "    </tr>\n",
              "  </tbody>\n",
              "</table>\n",
              "</div>\n",
              "      <button class=\"colab-df-convert\" onclick=\"convertToInteractive('df-0dd778f4-697d-4926-96ed-ca5e4722c9ff')\"\n",
              "              title=\"Convert this dataframe to an interactive table.\"\n",
              "              style=\"display:none;\">\n",
              "        \n",
              "  <svg xmlns=\"http://www.w3.org/2000/svg\" height=\"24px\"viewBox=\"0 0 24 24\"\n",
              "       width=\"24px\">\n",
              "    <path d=\"M0 0h24v24H0V0z\" fill=\"none\"/>\n",
              "    <path d=\"M18.56 5.44l.94 2.06.94-2.06 2.06-.94-2.06-.94-.94-2.06-.94 2.06-2.06.94zm-11 1L8.5 8.5l.94-2.06 2.06-.94-2.06-.94L8.5 2.5l-.94 2.06-2.06.94zm10 10l.94 2.06.94-2.06 2.06-.94-2.06-.94-.94-2.06-.94 2.06-2.06.94z\"/><path d=\"M17.41 7.96l-1.37-1.37c-.4-.4-.92-.59-1.43-.59-.52 0-1.04.2-1.43.59L10.3 9.45l-7.72 7.72c-.78.78-.78 2.05 0 2.83L4 21.41c.39.39.9.59 1.41.59.51 0 1.02-.2 1.41-.59l7.78-7.78 2.81-2.81c.8-.78.8-2.07 0-2.86zM5.41 20L4 18.59l7.72-7.72 1.47 1.35L5.41 20z\"/>\n",
              "  </svg>\n",
              "      </button>\n",
              "      \n",
              "  <style>\n",
              "    .colab-df-container {\n",
              "      display:flex;\n",
              "      flex-wrap:wrap;\n",
              "      gap: 12px;\n",
              "    }\n",
              "\n",
              "    .colab-df-convert {\n",
              "      background-color: #E8F0FE;\n",
              "      border: none;\n",
              "      border-radius: 50%;\n",
              "      cursor: pointer;\n",
              "      display: none;\n",
              "      fill: #1967D2;\n",
              "      height: 32px;\n",
              "      padding: 0 0 0 0;\n",
              "      width: 32px;\n",
              "    }\n",
              "\n",
              "    .colab-df-convert:hover {\n",
              "      background-color: #E2EBFA;\n",
              "      box-shadow: 0px 1px 2px rgba(60, 64, 67, 0.3), 0px 1px 3px 1px rgba(60, 64, 67, 0.15);\n",
              "      fill: #174EA6;\n",
              "    }\n",
              "\n",
              "    [theme=dark] .colab-df-convert {\n",
              "      background-color: #3B4455;\n",
              "      fill: #D2E3FC;\n",
              "    }\n",
              "\n",
              "    [theme=dark] .colab-df-convert:hover {\n",
              "      background-color: #434B5C;\n",
              "      box-shadow: 0px 1px 3px 1px rgba(0, 0, 0, 0.15);\n",
              "      filter: drop-shadow(0px 1px 2px rgba(0, 0, 0, 0.3));\n",
              "      fill: #FFFFFF;\n",
              "    }\n",
              "  </style>\n",
              "\n",
              "      <script>\n",
              "        const buttonEl =\n",
              "          document.querySelector('#df-0dd778f4-697d-4926-96ed-ca5e4722c9ff button.colab-df-convert');\n",
              "        buttonEl.style.display =\n",
              "          google.colab.kernel.accessAllowed ? 'block' : 'none';\n",
              "\n",
              "        async function convertToInteractive(key) {\n",
              "          const element = document.querySelector('#df-0dd778f4-697d-4926-96ed-ca5e4722c9ff');\n",
              "          const dataTable =\n",
              "            await google.colab.kernel.invokeFunction('convertToInteractive',\n",
              "                                                     [key], {});\n",
              "          if (!dataTable) return;\n",
              "\n",
              "          const docLinkHtml = 'Like what you see? Visit the ' +\n",
              "            '<a target=\"_blank\" href=https://colab.research.google.com/notebooks/data_table.ipynb>data table notebook</a>'\n",
              "            + ' to learn more about interactive tables.';\n",
              "          element.innerHTML = '';\n",
              "          dataTable['output_type'] = 'display_data';\n",
              "          await google.colab.output.renderOutput(dataTable, element);\n",
              "          const docLink = document.createElement('div');\n",
              "          docLink.innerHTML = docLinkHtml;\n",
              "          element.appendChild(docLink);\n",
              "        }\n",
              "      </script>\n",
              "    </div>\n",
              "  </div>\n",
              "  "
            ]
          },
          "metadata": {},
          "execution_count": 44
        }
      ]
    },
    {
      "cell_type": "code",
      "source": [
        "mse = mean_squared_error(df_stock.iloc[num_shift:,1],df_stock.iloc[num_shift:, 5] )\n",
        "rmse_base = mse**.5\n",
        "print(mse)\n",
        "print(rmse_base)"
      ],
      "metadata": {
        "colab": {
          "base_uri": "https://localhost:8080/"
        },
        "outputId": "40c1a965-3c7d-44d6-a1e4-dc24e1f004c9",
        "id": "ajd01LC72QSv"
      },
      "execution_count": 45,
      "outputs": [
        {
          "output_type": "stream",
          "name": "stdout",
          "text": [
            "384.6090136548519\n",
            "19.611451084885378\n"
          ]
        }
      ]
    },
    {
      "cell_type": "markdown",
      "source": [
        "**Understanding the predictions by charts**\n"
      ],
      "metadata": {
        "id": "OS8Alp-G2QSv"
      }
    },
    {
      "cell_type": "code",
      "source": [
        "plt.plot(df_stock['Date'].tail(19), df_stock['Close_Price'].tail(19), color='red', label='Actual Stock Price')\n",
        "plt.plot(df_stock['Date'].tail(19), df_stock['Close_Price_minus_5'].tail(19), color='blue', label='Predicted Stock Price')\n",
        "plt.title('Stock Prediction by Base Model')\n",
        "plt.xlabel('Date')\n",
        "plt.ylabel('Price')\n",
        "plt.legend()\n",
        "plt.show()"
      ],
      "metadata": {
        "colab": {
          "base_uri": "https://localhost:8080/",
          "height": 295
        },
        "outputId": "3d203263-6bfa-44d4-a627-aaf58491943e",
        "id": "Svf4z3v22QSv"
      },
      "execution_count": 46,
      "outputs": [
        {
          "output_type": "display_data",
          "data": {
            "text/plain": [
              "<Figure size 432x288 with 1 Axes>"
            ],
            "image/png": "[encoded data removed]"
          },
          "metadata": {
            "needs_background": "light"
          }
        }
      ]
    },
    {
      "cell_type": "markdown",
      "source": [
        "### **Comparing above results**"
      ],
      "metadata": {
        "id": "4ZmunZu5JE-I"
      }
    },
    {
      "cell_type": "code",
      "source": [
        "data = {'Model':['RMSE_Lin', 'RMSE_Exp', 'RMSE_Quad', 'RMSE_Base'],\n",
        "        'RMSE_Value' : [rmse_linear, rmse_exp, rmse_quad, rmse_base]}\n",
        "\n",
        "df_rmse = pd.DataFrame(data)\n",
        "df_rmse"
      ],
      "metadata": {
        "colab": {
          "base_uri": "https://localhost:8080/",
          "height": 175
        },
        "id": "CpiFF3_rJOv6",
        "outputId": "257e36d8-38dd-459d-a622-2625d1bdc42a"
      },
      "execution_count": 47,
      "outputs": [
        {
          "output_type": "execute_result",
          "data": {
            "text/plain": [
              "       Model  RMSE_Value\n",
              "0   RMSE_Lin  137.404801\n",
              "1   RMSE_Exp  131.516035\n",
              "2  RMSE_Quad   29.382467\n",
              "3  RMSE_Base   19.611451"
            ],
            "text/html": [
              "\n",
              "  <div id=\"df-69065f67-d8e1-4041-b347-9c178bd6f56a\">\n",
              "    <div class=\"colab-df-container\">\n",
              "      <div>\n",
              "<style scoped>\n",
              "    .dataframe tbody tr th:only-of-type {\n",
              "        vertical-align: middle;\n",
              "    }\n",
              "\n",
              "    .dataframe tbody tr th {\n",
              "        vertical-align: top;\n",
              "    }\n",
              "\n",
              "    .dataframe thead th {\n",
              "        text-align: right;\n",
              "    }\n",
              "</style>\n",
              "<table border=\"1\" class=\"dataframe\">\n",
              "  <thead>\n",
              "    <tr style=\"text-align: right;\">\n",
              "      <th></th>\n",
              "      <th>Model</th>\n",
              "      <th>RMSE_Value</th>\n",
              "    </tr>\n",
              "  </thead>\n",
              "  <tbody>\n",
              "    <tr>\n",
              "      <th>0</th>\n",
              "      <td>RMSE_Lin</td>\n",
              "      <td>137.404801</td>\n",
              "    </tr>\n",
              "    <tr>\n",
              "      <th>1</th>\n",
              "      <td>RMSE_Exp</td>\n",
              "      <td>131.516035</td>\n",
              "    </tr>\n",
              "    <tr>\n",
              "      <th>2</th>\n",
              "      <td>RMSE_Quad</td>\n",
              "      <td>29.382467</td>\n",
              "    </tr>\n",
              "    <tr>\n",
              "      <th>3</th>\n",
              "      <td>RMSE_Base</td>\n",
              "      <td>19.611451</td>\n",
              "    </tr>\n",
              "  </tbody>\n",
              "</table>\n",
              "</div>\n",
              "      <button class=\"colab-df-convert\" onclick=\"convertToInteractive('df-69065f67-d8e1-4041-b347-9c178bd6f56a')\"\n",
              "              title=\"Convert this dataframe to an interactive table.\"\n",
              "              style=\"display:none;\">\n",
              "        \n",
              "  <svg xmlns=\"http://www.w3.org/2000/svg\" height=\"24px\"viewBox=\"0 0 24 24\"\n",
              "       width=\"24px\">\n",
              "    <path d=\"M0 0h24v24H0V0z\" fill=\"none\"/>\n",
              "    <path d=\"M18.56 5.44l.94 2.06.94-2.06 2.06-.94-2.06-.94-.94-2.06-.94 2.06-2.06.94zm-11 1L8.5 8.5l.94-2.06 2.06-.94-2.06-.94L8.5 2.5l-.94 2.06-2.06.94zm10 10l.94 2.06.94-2.06 2.06-.94-2.06-.94-.94-2.06-.94 2.06-2.06.94z\"/><path d=\"M17.41 7.96l-1.37-1.37c-.4-.4-.92-.59-1.43-.59-.52 0-1.04.2-1.43.59L10.3 9.45l-7.72 7.72c-.78.78-.78 2.05 0 2.83L4 21.41c.39.39.9.59 1.41.59.51 0 1.02-.2 1.41-.59l7.78-7.78 2.81-2.81c.8-.78.8-2.07 0-2.86zM5.41 20L4 18.59l7.72-7.72 1.47 1.35L5.41 20z\"/>\n",
              "  </svg>\n",
              "      </button>\n",
              "      \n",
              "  <style>\n",
              "    .colab-df-container {\n",
              "      display:flex;\n",
              "      flex-wrap:wrap;\n",
              "      gap: 12px;\n",
              "    }\n",
              "\n",
              "    .colab-df-convert {\n",
              "      background-color: #E8F0FE;\n",
              "      border: none;\n",
              "      border-radius: 50%;\n",
              "      cursor: pointer;\n",
              "      display: none;\n",
              "      fill: #1967D2;\n",
              "      height: 32px;\n",
              "      padding: 0 0 0 0;\n",
              "      width: 32px;\n",
              "    }\n",
              "\n",
              "    .colab-df-convert:hover {\n",
              "      background-color: #E2EBFA;\n",
              "      box-shadow: 0px 1px 2px rgba(60, 64, 67, 0.3), 0px 1px 3px 1px rgba(60, 64, 67, 0.15);\n",
              "      fill: #174EA6;\n",
              "    }\n",
              "\n",
              "    [theme=dark] .colab-df-convert {\n",
              "      background-color: #3B4455;\n",
              "      fill: #D2E3FC;\n",
              "    }\n",
              "\n",
              "    [theme=dark] .colab-df-convert:hover {\n",
              "      background-color: #434B5C;\n",
              "      box-shadow: 0px 1px 3px 1px rgba(0, 0, 0, 0.15);\n",
              "      filter: drop-shadow(0px 1px 2px rgba(0, 0, 0, 0.3));\n",
              "      fill: #FFFFFF;\n",
              "    }\n",
              "  </style>\n",
              "\n",
              "      <script>\n",
              "        const buttonEl =\n",
              "          document.querySelector('#df-69065f67-d8e1-4041-b347-9c178bd6f56a button.colab-df-convert');\n",
              "        buttonEl.style.display =\n",
              "          google.colab.kernel.accessAllowed ? 'block' : 'none';\n",
              "\n",
              "        async function convertToInteractive(key) {\n",
              "          const element = document.querySelector('#df-69065f67-d8e1-4041-b347-9c178bd6f56a');\n",
              "          const dataTable =\n",
              "            await google.colab.kernel.invokeFunction('convertToInteractive',\n",
              "                                                     [key], {});\n",
              "          if (!dataTable) return;\n",
              "\n",
              "          const docLinkHtml = 'Like what you see? Visit the ' +\n",
              "            '<a target=\"_blank\" href=https://colab.research.google.com/notebooks/data_table.ipynb>data table notebook</a>'\n",
              "            + ' to learn more about interactive tables.';\n",
              "          element.innerHTML = '';\n",
              "          dataTable['output_type'] = 'display_data';\n",
              "          await google.colab.output.renderOutput(dataTable, element);\n",
              "          const docLink = document.createElement('div');\n",
              "          docLink.innerHTML = docLinkHtml;\n",
              "          element.appendChild(docLink);\n",
              "        }\n",
              "      </script>\n",
              "    </div>\n",
              "  </div>\n",
              "  "
            ]
          },
          "metadata": {},
          "execution_count": 47
        }
      ]
    },
    {
      "cell_type": "markdown",
      "source": [
        "Observation: Even though RMSE for Base model is least, this model is not reliable since it takes n days prior close_price as current days close price. So, comparing all these above models, Quadratic Model is good . "
      ],
      "metadata": {
        "id": "CoM7RonwMLur"
      }
    }
  ]
}