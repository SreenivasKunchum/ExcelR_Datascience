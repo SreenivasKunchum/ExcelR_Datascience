{
  "nbformat": 4,
  "nbformat_minor": 0,
  "metadata": {
    "colab": {
      "name": "SK_Assignment9_AR_Books.ipynb",
      "provenance": [],
      "collapsed_sections": []
    },
    "kernelspec": {
      "name": "python3",
      "display_name": "Python 3"
    },
    "language_info": {
      "name": "python"
    }
  },
  "cells": [
    {
      "cell_type": "markdown",
      "source": [
        "**Assignment 9 - Association Rules - Books**"
      ],
      "metadata": {
        "id": "nFHUJWKaES05"
      }
    },
    {
      "cell_type": "code",
      "execution_count": 29,
      "metadata": {
        "id": "lyPu0FFbCaaJ"
      },
      "outputs": [],
      "source": [
        "import pandas as pd\n",
        "import numpy as np\n",
        "import matplotlib.pyplot as plt\n",
        "\n",
        "from mlxtend.frequent_patterns import association_rules\n",
        "from mlxtend.frequent_patterns import apriori\n",
        "\n",
        "from mlxtend.preprocessing import TransactionEncoder"
      ]
    },
    {
      "cell_type": "code",
      "source": [
        "# Read csv file\n",
        "df_books = pd.read_csv('book.csv')\n",
        "df_books.head()"
      ],
      "metadata": {
        "colab": {
          "base_uri": "https://localhost:8080/",
          "height": 206
        },
        "id": "BbgouwIQFbt9",
        "outputId": "1d2046b0-c961-442b-f9f6-24c222c96b3c"
      },
      "execution_count": 30,
      "outputs": [
        {
          "output_type": "execute_result",
          "data": {
            "text/plain": [
              "   ChildBks  YouthBks  CookBks  DoItYBks  RefBks  ArtBks  GeogBks  ItalCook  \\\n",
              "0         0         1        0         1       0       0        1         0   \n",
              "1         1         0        0         0       0       0        0         0   \n",
              "2         0         0        0         0       0       0        0         0   \n",
              "3         1         1        1         0       1       0        1         0   \n",
              "4         0         0        1         0       0       0        1         0   \n",
              "\n",
              "   ItalAtlas  ItalArt  Florence  \n",
              "0          0        0         0  \n",
              "1          0        0         0  \n",
              "2          0        0         0  \n",
              "3          0        0         0  \n",
              "4          0        0         0  "
            ],
            "text/html": [
              "\n",
              "  <div id=\"df-6b939209-de7a-4bf8-ba7e-0099d3962b02\">\n",
              "    <div class=\"colab-df-container\">\n",
              "      <div>\n",
              "<style scoped>\n",
              "    .dataframe tbody tr th:only-of-type {\n",
              "        vertical-align: middle;\n",
              "    }\n",
              "\n",
              "    .dataframe tbody tr th {\n",
              "        vertical-align: top;\n",
              "    }\n",
              "\n",
              "    .dataframe thead th {\n",
              "        text-align: right;\n",
              "    }\n",
              "</style>\n",
              "<table border=\"1\" class=\"dataframe\">\n",
              "  <thead>\n",
              "    <tr style=\"text-align: right;\">\n",
              "      <th></th>\n",
              "      <th>ChildBks</th>\n",
              "      <th>YouthBks</th>\n",
              "      <th>CookBks</th>\n",
              "      <th>DoItYBks</th>\n",
              "      <th>RefBks</th>\n",
              "      <th>ArtBks</th>\n",
              "      <th>GeogBks</th>\n",
              "      <th>ItalCook</th>\n",
              "      <th>ItalAtlas</th>\n",
              "      <th>ItalArt</th>\n",
              "      <th>Florence</th>\n",
              "    </tr>\n",
              "  </thead>\n",
              "  <tbody>\n",
              "    <tr>\n",
              "      <th>0</th>\n",
              "      <td>0</td>\n",
              "      <td>1</td>\n",
              "      <td>0</td>\n",
              "      <td>1</td>\n",
              "      <td>0</td>\n",
              "      <td>0</td>\n",
              "      <td>1</td>\n",
              "      <td>0</td>\n",
              "      <td>0</td>\n",
              "      <td>0</td>\n",
              "      <td>0</td>\n",
              "    </tr>\n",
              "    <tr>\n",
              "      <th>1</th>\n",
              "      <td>1</td>\n",
              "      <td>0</td>\n",
              "      <td>0</td>\n",
              "      <td>0</td>\n",
              "      <td>0</td>\n",
              "      <td>0</td>\n",
              "      <td>0</td>\n",
              "      <td>0</td>\n",
              "      <td>0</td>\n",
              "      <td>0</td>\n",
              "      <td>0</td>\n",
              "    </tr>\n",
              "    <tr>\n",
              "      <th>2</th>\n",
              "      <td>0</td>\n",
              "      <td>0</td>\n",
              "      <td>0</td>\n",
              "      <td>0</td>\n",
              "      <td>0</td>\n",
              "      <td>0</td>\n",
              "      <td>0</td>\n",
              "      <td>0</td>\n",
              "      <td>0</td>\n",
              "      <td>0</td>\n",
              "      <td>0</td>\n",
              "    </tr>\n",
              "    <tr>\n",
              "      <th>3</th>\n",
              "      <td>1</td>\n",
              "      <td>1</td>\n",
              "      <td>1</td>\n",
              "      <td>0</td>\n",
              "      <td>1</td>\n",
              "      <td>0</td>\n",
              "      <td>1</td>\n",
              "      <td>0</td>\n",
              "      <td>0</td>\n",
              "      <td>0</td>\n",
              "      <td>0</td>\n",
              "    </tr>\n",
              "    <tr>\n",
              "      <th>4</th>\n",
              "      <td>0</td>\n",
              "      <td>0</td>\n",
              "      <td>1</td>\n",
              "      <td>0</td>\n",
              "      <td>0</td>\n",
              "      <td>0</td>\n",
              "      <td>1</td>\n",
              "      <td>0</td>\n",
              "      <td>0</td>\n",
              "      <td>0</td>\n",
              "      <td>0</td>\n",
              "    </tr>\n",
              "  </tbody>\n",
              "</table>\n",
              "</div>\n",
              "      <button class=\"colab-df-convert\" onclick=\"convertToInteractive('df-6b939209-de7a-4bf8-ba7e-0099d3962b02')\"\n",
              "              title=\"Convert this dataframe to an interactive table.\"\n",
              "              style=\"display:none;\">\n",
              "        \n",
              "  <svg xmlns=\"http://www.w3.org/2000/svg\" height=\"24px\"viewBox=\"0 0 24 24\"\n",
              "       width=\"24px\">\n",
              "    <path d=\"M0 0h24v24H0V0z\" fill=\"none\"/>\n",
              "    <path d=\"M18.56 5.44l.94 2.06.94-2.06 2.06-.94-2.06-.94-.94-2.06-.94 2.06-2.06.94zm-11 1L8.5 8.5l.94-2.06 2.06-.94-2.06-.94L8.5 2.5l-.94 2.06-2.06.94zm10 10l.94 2.06.94-2.06 2.06-.94-2.06-.94-.94-2.06-.94 2.06-2.06.94z\"/><path d=\"M17.41 7.96l-1.37-1.37c-.4-.4-.92-.59-1.43-.59-.52 0-1.04.2-1.43.59L10.3 9.45l-7.72 7.72c-.78.78-.78 2.05 0 2.83L4 21.41c.39.39.9.59 1.41.59.51 0 1.02-.2 1.41-.59l7.78-7.78 2.81-2.81c.8-.78.8-2.07 0-2.86zM5.41 20L4 18.59l7.72-7.72 1.47 1.35L5.41 20z\"/>\n",
              "  </svg>\n",
              "      </button>\n",
              "      \n",
              "  <style>\n",
              "    .colab-df-container {\n",
              "      display:flex;\n",
              "      flex-wrap:wrap;\n",
              "      gap: 12px;\n",
              "    }\n",
              "\n",
              "    .colab-df-convert {\n",
              "      background-color: #E8F0FE;\n",
              "      border: none;\n",
              "      border-radius: 50%;\n",
              "      cursor: pointer;\n",
              "      display: none;\n",
              "      fill: #1967D2;\n",
              "      height: 32px;\n",
              "      padding: 0 0 0 0;\n",
              "      width: 32px;\n",
              "    }\n",
              "\n",
              "    .colab-df-convert:hover {\n",
              "      background-color: #E2EBFA;\n",
              "      box-shadow: 0px 1px 2px rgba(60, 64, 67, 0.3), 0px 1px 3px 1px rgba(60, 64, 67, 0.15);\n",
              "      fill: #174EA6;\n",
              "    }\n",
              "\n",
              "    [theme=dark] .colab-df-convert {\n",
              "      background-color: #3B4455;\n",
              "      fill: #D2E3FC;\n",
              "    }\n",
              "\n",
              "    [theme=dark] .colab-df-convert:hover {\n",
              "      background-color: #434B5C;\n",
              "      box-shadow: 0px 1px 3px 1px rgba(0, 0, 0, 0.15);\n",
              "      filter: drop-shadow(0px 1px 2px rgba(0, 0, 0, 0.3));\n",
              "      fill: #FFFFFF;\n",
              "    }\n",
              "  </style>\n",
              "\n",
              "      <script>\n",
              "        const buttonEl =\n",
              "          document.querySelector('#df-6b939209-de7a-4bf8-ba7e-0099d3962b02 button.colab-df-convert');\n",
              "        buttonEl.style.display =\n",
              "          google.colab.kernel.accessAllowed ? 'block' : 'none';\n",
              "\n",
              "        async function convertToInteractive(key) {\n",
              "          const element = document.querySelector('#df-6b939209-de7a-4bf8-ba7e-0099d3962b02');\n",
              "          const dataTable =\n",
              "            await google.colab.kernel.invokeFunction('convertToInteractive',\n",
              "                                                     [key], {});\n",
              "          if (!dataTable) return;\n",
              "\n",
              "          const docLinkHtml = 'Like what you see? Visit the ' +\n",
              "            '<a target=\"_blank\" href=https://colab.research.google.com/notebooks/data_table.ipynb>data table notebook</a>'\n",
              "            + ' to learn more about interactive tables.';\n",
              "          element.innerHTML = '';\n",
              "          dataTable['output_type'] = 'display_data';\n",
              "          await google.colab.output.renderOutput(dataTable, element);\n",
              "          const docLink = document.createElement('div');\n",
              "          docLink.innerHTML = docLinkHtml;\n",
              "          element.appendChild(docLink);\n",
              "        }\n",
              "      </script>\n",
              "    </div>\n",
              "  </div>\n",
              "  "
            ]
          },
          "metadata": {},
          "execution_count": 30
        }
      ]
    },
    {
      "cell_type": "markdown",
      "source": [
        "**Exploratory Data Analysis (EDA)**"
      ],
      "metadata": {
        "id": "eTpBcsyaFz7F"
      }
    },
    {
      "cell_type": "code",
      "source": [
        "df_books.shape"
      ],
      "metadata": {
        "colab": {
          "base_uri": "https://localhost:8080/"
        },
        "id": "Vhf_Zg-3GaCu",
        "outputId": "ee1d7b6a-d2bf-49c4-dbd8-feb02f0acb78"
      },
      "execution_count": 31,
      "outputs": [
        {
          "output_type": "execute_result",
          "data": {
            "text/plain": [
              "(2000, 11)"
            ]
          },
          "metadata": {},
          "execution_count": 31
        }
      ]
    },
    {
      "cell_type": "code",
      "source": [
        "df_books[df_books.isna()].count()"
      ],
      "metadata": {
        "colab": {
          "base_uri": "https://localhost:8080/"
        },
        "id": "HpE3zf58G7bm",
        "outputId": "717cf74f-c40d-4f20-be05-4c90a99c047d"
      },
      "execution_count": 32,
      "outputs": [
        {
          "output_type": "execute_result",
          "data": {
            "text/plain": [
              "ChildBks     0\n",
              "YouthBks     0\n",
              "CookBks      0\n",
              "DoItYBks     0\n",
              "RefBks       0\n",
              "ArtBks       0\n",
              "GeogBks      0\n",
              "ItalCook     0\n",
              "ItalAtlas    0\n",
              "ItalArt      0\n",
              "Florence     0\n",
              "dtype: int64"
            ]
          },
          "metadata": {},
          "execution_count": 32
        }
      ]
    },
    {
      "cell_type": "code",
      "source": [
        "df_books.info()"
      ],
      "metadata": {
        "colab": {
          "base_uri": "https://localhost:8080/"
        },
        "id": "kZ6aZLPyI7e5",
        "outputId": "7eaff796-842f-4cff-84bf-79e4501079e7"
      },
      "execution_count": 33,
      "outputs": [
        {
          "output_type": "stream",
          "name": "stdout",
          "text": [
            "<class 'pandas.core.frame.DataFrame'>\n",
            "RangeIndex: 2000 entries, 0 to 1999\n",
            "Data columns (total 11 columns):\n",
            " #   Column     Non-Null Count  Dtype\n",
            "---  ------     --------------  -----\n",
            " 0   ChildBks   2000 non-null   int64\n",
            " 1   YouthBks   2000 non-null   int64\n",
            " 2   CookBks    2000 non-null   int64\n",
            " 3   DoItYBks   2000 non-null   int64\n",
            " 4   RefBks     2000 non-null   int64\n",
            " 5   ArtBks     2000 non-null   int64\n",
            " 6   GeogBks    2000 non-null   int64\n",
            " 7   ItalCook   2000 non-null   int64\n",
            " 8   ItalAtlas  2000 non-null   int64\n",
            " 9   ItalArt    2000 non-null   int64\n",
            " 10  Florence   2000 non-null   int64\n",
            "dtypes: int64(11)\n",
            "memory usage: 172.0 KB\n"
          ]
        }
      ]
    },
    {
      "cell_type": "code",
      "source": [
        "df_books[df_books.duplicated()].count()"
      ],
      "metadata": {
        "colab": {
          "base_uri": "https://localhost:8080/"
        },
        "id": "jHLwuzw7HeWX",
        "outputId": "f2e49b3d-b701-43d1-aa15-670b1aab31c3"
      },
      "execution_count": 34,
      "outputs": [
        {
          "output_type": "execute_result",
          "data": {
            "text/plain": [
              "ChildBks     1680\n",
              "YouthBks     1680\n",
              "CookBks      1680\n",
              "DoItYBks     1680\n",
              "RefBks       1680\n",
              "ArtBks       1680\n",
              "GeogBks      1680\n",
              "ItalCook     1680\n",
              "ItalAtlas    1680\n",
              "ItalArt      1680\n",
              "Florence     1680\n",
              "dtype: int64"
            ]
          },
          "metadata": {},
          "execution_count": 34
        }
      ]
    },
    {
      "cell_type": "code",
      "source": [
        "columns = df_books.columns\n",
        "for i in columns:\n",
        "  print(df_books[i].value_counts())"
      ],
      "metadata": {
        "colab": {
          "base_uri": "https://localhost:8080/"
        },
        "id": "I_ZqUrrjG3GM",
        "outputId": "2bf1c183-a034-4812-cd33-31497b668c99"
      },
      "execution_count": 35,
      "outputs": [
        {
          "output_type": "stream",
          "name": "stdout",
          "text": [
            "0    1154\n",
            "1     846\n",
            "Name: ChildBks, dtype: int64\n",
            "0    1505\n",
            "1     495\n",
            "Name: YouthBks, dtype: int64\n",
            "0    1138\n",
            "1     862\n",
            "Name: CookBks, dtype: int64\n",
            "0    1436\n",
            "1     564\n",
            "Name: DoItYBks, dtype: int64\n",
            "0    1571\n",
            "1     429\n",
            "Name: RefBks, dtype: int64\n",
            "0    1518\n",
            "1     482\n",
            "Name: ArtBks, dtype: int64\n",
            "0    1448\n",
            "1     552\n",
            "Name: GeogBks, dtype: int64\n",
            "0    1773\n",
            "1     227\n",
            "Name: ItalCook, dtype: int64\n",
            "0    1926\n",
            "1      74\n",
            "Name: ItalAtlas, dtype: int64\n",
            "0    1903\n",
            "1      97\n",
            "Name: ItalArt, dtype: int64\n",
            "0    1783\n",
            "1     217\n",
            "Name: Florence, dtype: int64\n"
          ]
        }
      ]
    },
    {
      "cell_type": "markdown",
      "source": [
        "Observation: All columns are numerical columns with categorical data.\n",
        "\n",
        "No null values exist.\n",
        "\n",
        "Many duplicate records exists indicates that a few association rules can be extracted."
      ],
      "metadata": {
        "id": "y-XSvrkxIxg5"
      }
    },
    {
      "cell_type": "markdown",
      "source": [
        "**Assoication Rules Extraction and Observations**"
      ],
      "metadata": {
        "id": "LAnDmdmeJZlP"
      }
    },
    {
      "cell_type": "markdown",
      "source": [
        "**Association Rules with minimum support: 0.1**"
      ],
      "metadata": {
        "id": "uAeyVfRGf1Be"
      }
    },
    {
      "cell_type": "code",
      "source": [
        "# Extract frequent item sets using apriori\n",
        "frequent_items = apriori(df_books, min_support=0.1, max_len=None, use_colnames=True)"
      ],
      "metadata": {
        "id": "YeIV59qpJiXZ"
      },
      "execution_count": 36,
      "outputs": []
    },
    {
      "cell_type": "code",
      "source": [
        "frequent_items.count()"
      ],
      "metadata": {
        "colab": {
          "base_uri": "https://localhost:8080/"
        },
        "id": "PbOolhJ1LmVC",
        "outputId": "7d133692-c924-4b77-a7f7-82e8636bad17"
      },
      "execution_count": 37,
      "outputs": [
        {
          "output_type": "execute_result",
          "data": {
            "text/plain": [
              "support     39\n",
              "itemsets    39\n",
              "dtype: int64"
            ]
          },
          "metadata": {},
          "execution_count": 37
        }
      ]
    },
    {
      "cell_type": "code",
      "source": [
        "#Extract rules\n",
        "rules = association_rules(frequent_items, metric='lift', min_threshold=0.5 )\n",
        "rules.sort_values('lift', ascending=False)"
      ],
      "metadata": {
        "colab": {
          "base_uri": "https://localhost:8080/",
          "height": 468
        },
        "id": "UfeZLAhINFb6",
        "outputId": "baa7338d-3ca1-4c08-8d57-9229fb1dad58"
      },
      "execution_count": 38,
      "outputs": [
        {
          "output_type": "execute_result",
          "data": {
            "text/plain": [
              "           antecedents          consequents  antecedent support  \\\n",
              "29           (CookBks)           (ItalCook)              0.4310   \n",
              "28          (ItalCook)            (CookBks)              0.1135   \n",
              "76  (ChildBks, ArtBks)            (GeogBks)              0.1625   \n",
              "81           (GeogBks)   (ChildBks, ArtBks)              0.2760   \n",
              "86            (ArtBks)  (DoItYBks, CookBks)              0.2410   \n",
              "..                 ...                  ...                 ...   \n",
              "5           (DoItYBks)           (ChildBks)              0.2820   \n",
              "13           (CookBks)           (YouthBks)              0.4310   \n",
              "12          (YouthBks)            (CookBks)              0.2475   \n",
              "3            (CookBks)           (ChildBks)              0.4310   \n",
              "2           (ChildBks)            (CookBks)              0.4230   \n",
              "\n",
              "    consequent support  support  confidence      lift  leverage  conviction  \n",
              "29              0.1135   0.1135    0.263341  2.320186  0.064582    1.203406  \n",
              "28              0.4310   0.1135    1.000000  2.320186  0.064582         inf  \n",
              "76              0.2760   0.1020    0.627692  2.274247  0.057150    1.944628  \n",
              "81              0.1625   0.1020    0.369565  2.274247  0.057150    1.328448  \n",
              "86              0.1875   0.1015    0.421162  2.246196  0.056313    1.403674  \n",
              "..                 ...      ...         ...       ...       ...         ...  \n",
              "5               0.4230   0.1840    0.652482  1.542511  0.064714    1.660347  \n",
              "13              0.2475   0.1620    0.375870  1.518667  0.055328    1.205678  \n",
              "12              0.4310   0.1620    0.654545  1.518667  0.055328    1.647105  \n",
              "3               0.4230   0.2560    0.593968  1.404179  0.073687    1.421069  \n",
              "2               0.4310   0.2560    0.605201  1.404179  0.073687    1.441240  \n",
              "\n",
              "[100 rows x 9 columns]"
            ],
            "text/html": [
              "\n",
              "  <div id=\"df-c9cdf3ee-c61a-4b36-a08c-3f4047d4fb04\">\n",
              "    <div class=\"colab-df-container\">\n",
              "      <div>\n",
              "<style scoped>\n",
              "    .dataframe tbody tr th:only-of-type {\n",
              "        vertical-align: middle;\n",
              "    }\n",
              "\n",
              "    .dataframe tbody tr th {\n",
              "        vertical-align: top;\n",
              "    }\n",
              "\n",
              "    .dataframe thead th {\n",
              "        text-align: right;\n",
              "    }\n",
              "</style>\n",
              "<table border=\"1\" class=\"dataframe\">\n",
              "  <thead>\n",
              "    <tr style=\"text-align: right;\">\n",
              "      <th></th>\n",
              "      <th>antecedents</th>\n",
              "      <th>consequents</th>\n",
              "      <th>antecedent support</th>\n",
              "      <th>consequent support</th>\n",
              "      <th>support</th>\n",
              "      <th>confidence</th>\n",
              "      <th>lift</th>\n",
              "      <th>leverage</th>\n",
              "      <th>conviction</th>\n",
              "    </tr>\n",
              "  </thead>\n",
              "  <tbody>\n",
              "    <tr>\n",
              "      <th>29</th>\n",
              "      <td>(CookBks)</td>\n",
              "      <td>(ItalCook)</td>\n",
              "      <td>0.4310</td>\n",
              "      <td>0.1135</td>\n",
              "      <td>0.1135</td>\n",
              "      <td>0.263341</td>\n",
              "      <td>2.320186</td>\n",
              "      <td>0.064582</td>\n",
              "      <td>1.203406</td>\n",
              "    </tr>\n",
              "    <tr>\n",
              "      <th>28</th>\n",
              "      <td>(ItalCook)</td>\n",
              "      <td>(CookBks)</td>\n",
              "      <td>0.1135</td>\n",
              "      <td>0.4310</td>\n",
              "      <td>0.1135</td>\n",
              "      <td>1.000000</td>\n",
              "      <td>2.320186</td>\n",
              "      <td>0.064582</td>\n",
              "      <td>inf</td>\n",
              "    </tr>\n",
              "    <tr>\n",
              "      <th>76</th>\n",
              "      <td>(ChildBks, ArtBks)</td>\n",
              "      <td>(GeogBks)</td>\n",
              "      <td>0.1625</td>\n",
              "      <td>0.2760</td>\n",
              "      <td>0.1020</td>\n",
              "      <td>0.627692</td>\n",
              "      <td>2.274247</td>\n",
              "      <td>0.057150</td>\n",
              "      <td>1.944628</td>\n",
              "    </tr>\n",
              "    <tr>\n",
              "      <th>81</th>\n",
              "      <td>(GeogBks)</td>\n",
              "      <td>(ChildBks, ArtBks)</td>\n",
              "      <td>0.2760</td>\n",
              "      <td>0.1625</td>\n",
              "      <td>0.1020</td>\n",
              "      <td>0.369565</td>\n",
              "      <td>2.274247</td>\n",
              "      <td>0.057150</td>\n",
              "      <td>1.328448</td>\n",
              "    </tr>\n",
              "    <tr>\n",
              "      <th>86</th>\n",
              "      <td>(ArtBks)</td>\n",
              "      <td>(DoItYBks, CookBks)</td>\n",
              "      <td>0.2410</td>\n",
              "      <td>0.1875</td>\n",
              "      <td>0.1015</td>\n",
              "      <td>0.421162</td>\n",
              "      <td>2.246196</td>\n",
              "      <td>0.056313</td>\n",
              "      <td>1.403674</td>\n",
              "    </tr>\n",
              "    <tr>\n",
              "      <th>...</th>\n",
              "      <td>...</td>\n",
              "      <td>...</td>\n",
              "      <td>...</td>\n",
              "      <td>...</td>\n",
              "      <td>...</td>\n",
              "      <td>...</td>\n",
              "      <td>...</td>\n",
              "      <td>...</td>\n",
              "      <td>...</td>\n",
              "    </tr>\n",
              "    <tr>\n",
              "      <th>5</th>\n",
              "      <td>(DoItYBks)</td>\n",
              "      <td>(ChildBks)</td>\n",
              "      <td>0.2820</td>\n",
              "      <td>0.4230</td>\n",
              "      <td>0.1840</td>\n",
              "      <td>0.652482</td>\n",
              "      <td>1.542511</td>\n",
              "      <td>0.064714</td>\n",
              "      <td>1.660347</td>\n",
              "    </tr>\n",
              "    <tr>\n",
              "      <th>13</th>\n",
              "      <td>(CookBks)</td>\n",
              "      <td>(YouthBks)</td>\n",
              "      <td>0.4310</td>\n",
              "      <td>0.2475</td>\n",
              "      <td>0.1620</td>\n",
              "      <td>0.375870</td>\n",
              "      <td>1.518667</td>\n",
              "      <td>0.055328</td>\n",
              "      <td>1.205678</td>\n",
              "    </tr>\n",
              "    <tr>\n",
              "      <th>12</th>\n",
              "      <td>(YouthBks)</td>\n",
              "      <td>(CookBks)</td>\n",
              "      <td>0.2475</td>\n",
              "      <td>0.4310</td>\n",
              "      <td>0.1620</td>\n",
              "      <td>0.654545</td>\n",
              "      <td>1.518667</td>\n",
              "      <td>0.055328</td>\n",
              "      <td>1.647105</td>\n",
              "    </tr>\n",
              "    <tr>\n",
              "      <th>3</th>\n",
              "      <td>(CookBks)</td>\n",
              "      <td>(ChildBks)</td>\n",
              "      <td>0.4310</td>\n",
              "      <td>0.4230</td>\n",
              "      <td>0.2560</td>\n",
              "      <td>0.593968</td>\n",
              "      <td>1.404179</td>\n",
              "      <td>0.073687</td>\n",
              "      <td>1.421069</td>\n",
              "    </tr>\n",
              "    <tr>\n",
              "      <th>2</th>\n",
              "      <td>(ChildBks)</td>\n",
              "      <td>(CookBks)</td>\n",
              "      <td>0.4230</td>\n",
              "      <td>0.4310</td>\n",
              "      <td>0.2560</td>\n",
              "      <td>0.605201</td>\n",
              "      <td>1.404179</td>\n",
              "      <td>0.073687</td>\n",
              "      <td>1.441240</td>\n",
              "    </tr>\n",
              "  </tbody>\n",
              "</table>\n",
              "<p>100 rows × 9 columns</p>\n",
              "</div>\n",
              "      <button class=\"colab-df-convert\" onclick=\"convertToInteractive('df-c9cdf3ee-c61a-4b36-a08c-3f4047d4fb04')\"\n",
              "              title=\"Convert this dataframe to an interactive table.\"\n",
              "              style=\"display:none;\">\n",
              "        \n",
              "  <svg xmlns=\"http://www.w3.org/2000/svg\" height=\"24px\"viewBox=\"0 0 24 24\"\n",
              "       width=\"24px\">\n",
              "    <path d=\"M0 0h24v24H0V0z\" fill=\"none\"/>\n",
              "    <path d=\"M18.56 5.44l.94 2.06.94-2.06 2.06-.94-2.06-.94-.94-2.06-.94 2.06-2.06.94zm-11 1L8.5 8.5l.94-2.06 2.06-.94-2.06-.94L8.5 2.5l-.94 2.06-2.06.94zm10 10l.94 2.06.94-2.06 2.06-.94-2.06-.94-.94-2.06-.94 2.06-2.06.94z\"/><path d=\"M17.41 7.96l-1.37-1.37c-.4-.4-.92-.59-1.43-.59-.52 0-1.04.2-1.43.59L10.3 9.45l-7.72 7.72c-.78.78-.78 2.05 0 2.83L4 21.41c.39.39.9.59 1.41.59.51 0 1.02-.2 1.41-.59l7.78-7.78 2.81-2.81c.8-.78.8-2.07 0-2.86zM5.41 20L4 18.59l7.72-7.72 1.47 1.35L5.41 20z\"/>\n",
              "  </svg>\n",
              "      </button>\n",
              "      \n",
              "  <style>\n",
              "    .colab-df-container {\n",
              "      display:flex;\n",
              "      flex-wrap:wrap;\n",
              "      gap: 12px;\n",
              "    }\n",
              "\n",
              "    .colab-df-convert {\n",
              "      background-color: #E8F0FE;\n",
              "      border: none;\n",
              "      border-radius: 50%;\n",
              "      cursor: pointer;\n",
              "      display: none;\n",
              "      fill: #1967D2;\n",
              "      height: 32px;\n",
              "      padding: 0 0 0 0;\n",
              "      width: 32px;\n",
              "    }\n",
              "\n",
              "    .colab-df-convert:hover {\n",
              "      background-color: #E2EBFA;\n",
              "      box-shadow: 0px 1px 2px rgba(60, 64, 67, 0.3), 0px 1px 3px 1px rgba(60, 64, 67, 0.15);\n",
              "      fill: #174EA6;\n",
              "    }\n",
              "\n",
              "    [theme=dark] .colab-df-convert {\n",
              "      background-color: #3B4455;\n",
              "      fill: #D2E3FC;\n",
              "    }\n",
              "\n",
              "    [theme=dark] .colab-df-convert:hover {\n",
              "      background-color: #434B5C;\n",
              "      box-shadow: 0px 1px 3px 1px rgba(0, 0, 0, 0.15);\n",
              "      filter: drop-shadow(0px 1px 2px rgba(0, 0, 0, 0.3));\n",
              "      fill: #FFFFFF;\n",
              "    }\n",
              "  </style>\n",
              "\n",
              "      <script>\n",
              "        const buttonEl =\n",
              "          document.querySelector('#df-c9cdf3ee-c61a-4b36-a08c-3f4047d4fb04 button.colab-df-convert');\n",
              "        buttonEl.style.display =\n",
              "          google.colab.kernel.accessAllowed ? 'block' : 'none';\n",
              "\n",
              "        async function convertToInteractive(key) {\n",
              "          const element = document.querySelector('#df-c9cdf3ee-c61a-4b36-a08c-3f4047d4fb04');\n",
              "          const dataTable =\n",
              "            await google.colab.kernel.invokeFunction('convertToInteractive',\n",
              "                                                     [key], {});\n",
              "          if (!dataTable) return;\n",
              "\n",
              "          const docLinkHtml = 'Like what you see? Visit the ' +\n",
              "            '<a target=\"_blank\" href=https://colab.research.google.com/notebooks/data_table.ipynb>data table notebook</a>'\n",
              "            + ' to learn more about interactive tables.';\n",
              "          element.innerHTML = '';\n",
              "          dataTable['output_type'] = 'display_data';\n",
              "          await google.colab.output.renderOutput(dataTable, element);\n",
              "          const docLink = document.createElement('div');\n",
              "          docLink.innerHTML = docLinkHtml;\n",
              "          element.appendChild(docLink);\n",
              "        }\n",
              "      </script>\n",
              "    </div>\n",
              "  </div>\n",
              "  "
            ]
          },
          "metadata": {},
          "execution_count": 38
        }
      ]
    },
    {
      "cell_type": "code",
      "source": [
        "rules.sort_values('lift', ascending=False)[0:10]"
      ],
      "metadata": {
        "colab": {
          "base_uri": "https://localhost:8080/",
          "height": 494
        },
        "id": "XgBvwzw6RGtP",
        "outputId": "0253dea5-d165-4821-afd7-01a631e0a520"
      },
      "execution_count": 39,
      "outputs": [
        {
          "output_type": "execute_result",
          "data": {
            "text/plain": [
              "            antecedents          consequents  antecedent support  \\\n",
              "29            (CookBks)           (ItalCook)              0.4310   \n",
              "28           (ItalCook)            (CookBks)              0.1135   \n",
              "76   (ChildBks, ArtBks)            (GeogBks)              0.1625   \n",
              "81            (GeogBks)   (ChildBks, ArtBks)              0.2760   \n",
              "86             (ArtBks)  (DoItYBks, CookBks)              0.2410   \n",
              "83  (DoItYBks, CookBks)             (ArtBks)              0.1875   \n",
              "98            (GeogBks)    (ArtBks, CookBks)              0.2760   \n",
              "95    (ArtBks, CookBks)            (GeogBks)              0.1670   \n",
              "97             (ArtBks)   (GeogBks, CookBks)              0.2410   \n",
              "96   (GeogBks, CookBks)             (ArtBks)              0.1925   \n",
              "\n",
              "    consequent support  support  confidence      lift  leverage  conviction  \n",
              "29              0.1135   0.1135    0.263341  2.320186  0.064582    1.203406  \n",
              "28              0.4310   0.1135    1.000000  2.320186  0.064582         inf  \n",
              "76              0.2760   0.1020    0.627692  2.274247  0.057150    1.944628  \n",
              "81              0.1625   0.1020    0.369565  2.274247  0.057150    1.328448  \n",
              "86              0.1875   0.1015    0.421162  2.246196  0.056313    1.403674  \n",
              "83              0.2410   0.1015    0.541333  2.246196  0.056313    1.654797  \n",
              "98              0.1670   0.1035    0.375000  2.245509  0.057408    1.332800  \n",
              "95              0.2760   0.1035    0.619760  2.245509  0.057408    1.904063  \n",
              "97              0.1925   0.1035    0.429461  2.230964  0.057107    1.415327  \n",
              "96              0.2410   0.1035    0.537662  2.230964  0.057107    1.641657  "
            ],
            "text/html": [
              "\n",
              "  <div id=\"df-0e533b36-bd52-4feb-980e-9db5ce75fab1\">\n",
              "    <div class=\"colab-df-container\">\n",
              "      <div>\n",
              "<style scoped>\n",
              "    .dataframe tbody tr th:only-of-type {\n",
              "        vertical-align: middle;\n",
              "    }\n",
              "\n",
              "    .dataframe tbody tr th {\n",
              "        vertical-align: top;\n",
              "    }\n",
              "\n",
              "    .dataframe thead th {\n",
              "        text-align: right;\n",
              "    }\n",
              "</style>\n",
              "<table border=\"1\" class=\"dataframe\">\n",
              "  <thead>\n",
              "    <tr style=\"text-align: right;\">\n",
              "      <th></th>\n",
              "      <th>antecedents</th>\n",
              "      <th>consequents</th>\n",
              "      <th>antecedent support</th>\n",
              "      <th>consequent support</th>\n",
              "      <th>support</th>\n",
              "      <th>confidence</th>\n",
              "      <th>lift</th>\n",
              "      <th>leverage</th>\n",
              "      <th>conviction</th>\n",
              "    </tr>\n",
              "  </thead>\n",
              "  <tbody>\n",
              "    <tr>\n",
              "      <th>29</th>\n",
              "      <td>(CookBks)</td>\n",
              "      <td>(ItalCook)</td>\n",
              "      <td>0.4310</td>\n",
              "      <td>0.1135</td>\n",
              "      <td>0.1135</td>\n",
              "      <td>0.263341</td>\n",
              "      <td>2.320186</td>\n",
              "      <td>0.064582</td>\n",
              "      <td>1.203406</td>\n",
              "    </tr>\n",
              "    <tr>\n",
              "      <th>28</th>\n",
              "      <td>(ItalCook)</td>\n",
              "      <td>(CookBks)</td>\n",
              "      <td>0.1135</td>\n",
              "      <td>0.4310</td>\n",
              "      <td>0.1135</td>\n",
              "      <td>1.000000</td>\n",
              "      <td>2.320186</td>\n",
              "      <td>0.064582</td>\n",
              "      <td>inf</td>\n",
              "    </tr>\n",
              "    <tr>\n",
              "      <th>76</th>\n",
              "      <td>(ChildBks, ArtBks)</td>\n",
              "      <td>(GeogBks)</td>\n",
              "      <td>0.1625</td>\n",
              "      <td>0.2760</td>\n",
              "      <td>0.1020</td>\n",
              "      <td>0.627692</td>\n",
              "      <td>2.274247</td>\n",
              "      <td>0.057150</td>\n",
              "      <td>1.944628</td>\n",
              "    </tr>\n",
              "    <tr>\n",
              "      <th>81</th>\n",
              "      <td>(GeogBks)</td>\n",
              "      <td>(ChildBks, ArtBks)</td>\n",
              "      <td>0.2760</td>\n",
              "      <td>0.1625</td>\n",
              "      <td>0.1020</td>\n",
              "      <td>0.369565</td>\n",
              "      <td>2.274247</td>\n",
              "      <td>0.057150</td>\n",
              "      <td>1.328448</td>\n",
              "    </tr>\n",
              "    <tr>\n",
              "      <th>86</th>\n",
              "      <td>(ArtBks)</td>\n",
              "      <td>(DoItYBks, CookBks)</td>\n",
              "      <td>0.2410</td>\n",
              "      <td>0.1875</td>\n",
              "      <td>0.1015</td>\n",
              "      <td>0.421162</td>\n",
              "      <td>2.246196</td>\n",
              "      <td>0.056313</td>\n",
              "      <td>1.403674</td>\n",
              "    </tr>\n",
              "    <tr>\n",
              "      <th>83</th>\n",
              "      <td>(DoItYBks, CookBks)</td>\n",
              "      <td>(ArtBks)</td>\n",
              "      <td>0.1875</td>\n",
              "      <td>0.2410</td>\n",
              "      <td>0.1015</td>\n",
              "      <td>0.541333</td>\n",
              "      <td>2.246196</td>\n",
              "      <td>0.056313</td>\n",
              "      <td>1.654797</td>\n",
              "    </tr>\n",
              "    <tr>\n",
              "      <th>98</th>\n",
              "      <td>(GeogBks)</td>\n",
              "      <td>(ArtBks, CookBks)</td>\n",
              "      <td>0.2760</td>\n",
              "      <td>0.1670</td>\n",
              "      <td>0.1035</td>\n",
              "      <td>0.375000</td>\n",
              "      <td>2.245509</td>\n",
              "      <td>0.057408</td>\n",
              "      <td>1.332800</td>\n",
              "    </tr>\n",
              "    <tr>\n",
              "      <th>95</th>\n",
              "      <td>(ArtBks, CookBks)</td>\n",
              "      <td>(GeogBks)</td>\n",
              "      <td>0.1670</td>\n",
              "      <td>0.2760</td>\n",
              "      <td>0.1035</td>\n",
              "      <td>0.619760</td>\n",
              "      <td>2.245509</td>\n",
              "      <td>0.057408</td>\n",
              "      <td>1.904063</td>\n",
              "    </tr>\n",
              "    <tr>\n",
              "      <th>97</th>\n",
              "      <td>(ArtBks)</td>\n",
              "      <td>(GeogBks, CookBks)</td>\n",
              "      <td>0.2410</td>\n",
              "      <td>0.1925</td>\n",
              "      <td>0.1035</td>\n",
              "      <td>0.429461</td>\n",
              "      <td>2.230964</td>\n",
              "      <td>0.057107</td>\n",
              "      <td>1.415327</td>\n",
              "    </tr>\n",
              "    <tr>\n",
              "      <th>96</th>\n",
              "      <td>(GeogBks, CookBks)</td>\n",
              "      <td>(ArtBks)</td>\n",
              "      <td>0.1925</td>\n",
              "      <td>0.2410</td>\n",
              "      <td>0.1035</td>\n",
              "      <td>0.537662</td>\n",
              "      <td>2.230964</td>\n",
              "      <td>0.057107</td>\n",
              "      <td>1.641657</td>\n",
              "    </tr>\n",
              "  </tbody>\n",
              "</table>\n",
              "</div>\n",
              "      <button class=\"colab-df-convert\" onclick=\"convertToInteractive('df-0e533b36-bd52-4feb-980e-9db5ce75fab1')\"\n",
              "              title=\"Convert this dataframe to an interactive table.\"\n",
              "              style=\"display:none;\">\n",
              "        \n",
              "  <svg xmlns=\"http://www.w3.org/2000/svg\" height=\"24px\"viewBox=\"0 0 24 24\"\n",
              "       width=\"24px\">\n",
              "    <path d=\"M0 0h24v24H0V0z\" fill=\"none\"/>\n",
              "    <path d=\"M18.56 5.44l.94 2.06.94-2.06 2.06-.94-2.06-.94-.94-2.06-.94 2.06-2.06.94zm-11 1L8.5 8.5l.94-2.06 2.06-.94-2.06-.94L8.5 2.5l-.94 2.06-2.06.94zm10 10l.94 2.06.94-2.06 2.06-.94-2.06-.94-.94-2.06-.94 2.06-2.06.94z\"/><path d=\"M17.41 7.96l-1.37-1.37c-.4-.4-.92-.59-1.43-.59-.52 0-1.04.2-1.43.59L10.3 9.45l-7.72 7.72c-.78.78-.78 2.05 0 2.83L4 21.41c.39.39.9.59 1.41.59.51 0 1.02-.2 1.41-.59l7.78-7.78 2.81-2.81c.8-.78.8-2.07 0-2.86zM5.41 20L4 18.59l7.72-7.72 1.47 1.35L5.41 20z\"/>\n",
              "  </svg>\n",
              "      </button>\n",
              "      \n",
              "  <style>\n",
              "    .colab-df-container {\n",
              "      display:flex;\n",
              "      flex-wrap:wrap;\n",
              "      gap: 12px;\n",
              "    }\n",
              "\n",
              "    .colab-df-convert {\n",
              "      background-color: #E8F0FE;\n",
              "      border: none;\n",
              "      border-radius: 50%;\n",
              "      cursor: pointer;\n",
              "      display: none;\n",
              "      fill: #1967D2;\n",
              "      height: 32px;\n",
              "      padding: 0 0 0 0;\n",
              "      width: 32px;\n",
              "    }\n",
              "\n",
              "    .colab-df-convert:hover {\n",
              "      background-color: #E2EBFA;\n",
              "      box-shadow: 0px 1px 2px rgba(60, 64, 67, 0.3), 0px 1px 3px 1px rgba(60, 64, 67, 0.15);\n",
              "      fill: #174EA6;\n",
              "    }\n",
              "\n",
              "    [theme=dark] .colab-df-convert {\n",
              "      background-color: #3B4455;\n",
              "      fill: #D2E3FC;\n",
              "    }\n",
              "\n",
              "    [theme=dark] .colab-df-convert:hover {\n",
              "      background-color: #434B5C;\n",
              "      box-shadow: 0px 1px 3px 1px rgba(0, 0, 0, 0.15);\n",
              "      filter: drop-shadow(0px 1px 2px rgba(0, 0, 0, 0.3));\n",
              "      fill: #FFFFFF;\n",
              "    }\n",
              "  </style>\n",
              "\n",
              "      <script>\n",
              "        const buttonEl =\n",
              "          document.querySelector('#df-0e533b36-bd52-4feb-980e-9db5ce75fab1 button.colab-df-convert');\n",
              "        buttonEl.style.display =\n",
              "          google.colab.kernel.accessAllowed ? 'block' : 'none';\n",
              "\n",
              "        async function convertToInteractive(key) {\n",
              "          const element = document.querySelector('#df-0e533b36-bd52-4feb-980e-9db5ce75fab1');\n",
              "          const dataTable =\n",
              "            await google.colab.kernel.invokeFunction('convertToInteractive',\n",
              "                                                     [key], {});\n",
              "          if (!dataTable) return;\n",
              "\n",
              "          const docLinkHtml = 'Like what you see? Visit the ' +\n",
              "            '<a target=\"_blank\" href=https://colab.research.google.com/notebooks/data_table.ipynb>data table notebook</a>'\n",
              "            + ' to learn more about interactive tables.';\n",
              "          element.innerHTML = '';\n",
              "          dataTable['output_type'] = 'display_data';\n",
              "          await google.colab.output.renderOutput(dataTable, element);\n",
              "          const docLink = document.createElement('div');\n",
              "          docLink.innerHTML = docLinkHtml;\n",
              "          element.appendChild(docLink);\n",
              "        }\n",
              "      </script>\n",
              "    </div>\n",
              "  </div>\n",
              "  "
            ]
          },
          "metadata": {},
          "execution_count": 39
        }
      ]
    },
    {
      "cell_type": "code",
      "source": [
        "rules.count()"
      ],
      "metadata": {
        "colab": {
          "base_uri": "https://localhost:8080/"
        },
        "id": "9heH019aO9_N",
        "outputId": "f4b07990-e034-41a0-bd94-428c4efe85c3"
      },
      "execution_count": 40,
      "outputs": [
        {
          "output_type": "execute_result",
          "data": {
            "text/plain": [
              "antecedents           100\n",
              "consequents           100\n",
              "antecedent support    100\n",
              "consequent support    100\n",
              "support               100\n",
              "confidence            100\n",
              "lift                  100\n",
              "leverage              100\n",
              "conviction            100\n",
              "dtype: int64"
            ]
          },
          "metadata": {},
          "execution_count": 40
        }
      ]
    },
    {
      "cell_type": "code",
      "source": [
        "rules[['support', 'confidence', 'lift']].hist()"
      ],
      "metadata": {
        "colab": {
          "base_uri": "https://localhost:8080/",
          "height": 368
        },
        "id": "6nzsZvruPyW7",
        "outputId": "6f9c2c0c-cd97-483d-a5c5-178269023a60"
      },
      "execution_count": 41,
      "outputs": [
        {
          "output_type": "execute_result",
          "data": {
            "text/plain": [
              "array([[<matplotlib.axes._subplots.AxesSubplot object at 0x7f8d9c127490>,\n",
              "        <matplotlib.axes._subplots.AxesSubplot object at 0x7f8d9c0d0d50>],\n",
              "       [<matplotlib.axes._subplots.AxesSubplot object at 0x7f8d9c090390>,\n",
              "        <matplotlib.axes._subplots.AxesSubplot object at 0x7f8d9c046990>]],\n",
              "      dtype=object)"
            ]
          },
          "metadata": {},
          "execution_count": 41
        },
        {
          "output_type": "display_data",
          "data": {
            "text/plain": [
              "<Figure size 432x288 with 4 Axes>"
            ],
            "image/png": "[encoded data removed]"
          },
          "metadata": {
            "needs_background": "light"
          }
        }
      ]
    },
    {
      "cell_type": "code",
      "source": [
        "plt.scatter(rules['support'], rules['confidence'])"
      ],
      "metadata": {
        "colab": {
          "base_uri": "https://localhost:8080/",
          "height": 282
        },
        "id": "vPqg2RSWhQUp",
        "outputId": "ac17bdfd-0fa2-4df3-b61e-1b8af2ab97ae"
      },
      "execution_count": 42,
      "outputs": [
        {
          "output_type": "execute_result",
          "data": {
            "text/plain": [
              "<matplotlib.collections.PathCollection at 0x7f8d9bf70f90>"
            ]
          },
          "metadata": {},
          "execution_count": 42
        },
        {
          "output_type": "display_data",
          "data": {
            "text/plain": [
              "<Figure size 432x288 with 1 Axes>"
            ],
            "image/png": "[encoded data removed]"
          },
          "metadata": {
            "needs_background": "light"
          }
        }
      ]
    },
    {
      "cell_type": "markdown",
      "source": [
        "Observation: With minimum support level as 0.1, 100 associations can be extracted. Top 10 association rules are displayed. "
      ],
      "metadata": {
        "id": "8ORWl_sRQ49Z"
      }
    },
    {
      "cell_type": "markdown",
      "source": [
        "**Association Rules with minimum support: 0.2**"
      ],
      "metadata": {
        "id": "yAUaSe2ZgBwZ"
      }
    },
    {
      "cell_type": "code",
      "source": [
        "# Extract frequent item sets using apriori\n",
        "frequent_items = apriori(df_books, min_support=0.2, max_len=None, use_colnames=True)"
      ],
      "metadata": {
        "id": "3j6v0Rj7gBwZ"
      },
      "execution_count": 43,
      "outputs": []
    },
    {
      "cell_type": "code",
      "source": [
        "frequent_items.count()"
      ],
      "metadata": {
        "colab": {
          "base_uri": "https://localhost:8080/"
        },
        "outputId": "34b1bea2-3eb3-4795-831b-83c728bdc640",
        "id": "su96mnF5gBwZ"
      },
      "execution_count": 44,
      "outputs": [
        {
          "output_type": "execute_result",
          "data": {
            "text/plain": [
              "support     8\n",
              "itemsets    8\n",
              "dtype: int64"
            ]
          },
          "metadata": {},
          "execution_count": 44
        }
      ]
    },
    {
      "cell_type": "code",
      "source": [
        "#Extract rules\n",
        "rules = association_rules(frequent_items, metric='lift', min_threshold=0.5 )\n",
        "rules.sort_values('lift', ascending=False)"
      ],
      "metadata": {
        "colab": {
          "base_uri": "https://localhost:8080/",
          "height": 112
        },
        "outputId": "4cf3a90c-c99f-4c8e-9213-234f6dcc1ad0",
        "id": "Ya7T0nh4gBwZ"
      },
      "execution_count": 45,
      "outputs": [
        {
          "output_type": "execute_result",
          "data": {
            "text/plain": [
              "  antecedents consequents  antecedent support  consequent support  support  \\\n",
              "0  (ChildBks)   (CookBks)               0.423               0.431    0.256   \n",
              "1   (CookBks)  (ChildBks)               0.431               0.423    0.256   \n",
              "\n",
              "   confidence      lift  leverage  conviction  \n",
              "0    0.605201  1.404179  0.073687    1.441240  \n",
              "1    0.593968  1.404179  0.073687    1.421069  "
            ],
            "text/html": [
              "\n",
              "  <div id=\"df-6fefe5cb-d417-4462-83dc-0121295d606d\">\n",
              "    <div class=\"colab-df-container\">\n",
              "      <div>\n",
              "<style scoped>\n",
              "    .dataframe tbody tr th:only-of-type {\n",
              "        vertical-align: middle;\n",
              "    }\n",
              "\n",
              "    .dataframe tbody tr th {\n",
              "        vertical-align: top;\n",
              "    }\n",
              "\n",
              "    .dataframe thead th {\n",
              "        text-align: right;\n",
              "    }\n",
              "</style>\n",
              "<table border=\"1\" class=\"dataframe\">\n",
              "  <thead>\n",
              "    <tr style=\"text-align: right;\">\n",
              "      <th></th>\n",
              "      <th>antecedents</th>\n",
              "      <th>consequents</th>\n",
              "      <th>antecedent support</th>\n",
              "      <th>consequent support</th>\n",
              "      <th>support</th>\n",
              "      <th>confidence</th>\n",
              "      <th>lift</th>\n",
              "      <th>leverage</th>\n",
              "      <th>conviction</th>\n",
              "    </tr>\n",
              "  </thead>\n",
              "  <tbody>\n",
              "    <tr>\n",
              "      <th>0</th>\n",
              "      <td>(ChildBks)</td>\n",
              "      <td>(CookBks)</td>\n",
              "      <td>0.423</td>\n",
              "      <td>0.431</td>\n",
              "      <td>0.256</td>\n",
              "      <td>0.605201</td>\n",
              "      <td>1.404179</td>\n",
              "      <td>0.073687</td>\n",
              "      <td>1.441240</td>\n",
              "    </tr>\n",
              "    <tr>\n",
              "      <th>1</th>\n",
              "      <td>(CookBks)</td>\n",
              "      <td>(ChildBks)</td>\n",
              "      <td>0.431</td>\n",
              "      <td>0.423</td>\n",
              "      <td>0.256</td>\n",
              "      <td>0.593968</td>\n",
              "      <td>1.404179</td>\n",
              "      <td>0.073687</td>\n",
              "      <td>1.421069</td>\n",
              "    </tr>\n",
              "  </tbody>\n",
              "</table>\n",
              "</div>\n",
              "      <button class=\"colab-df-convert\" onclick=\"convertToInteractive('df-6fefe5cb-d417-4462-83dc-0121295d606d')\"\n",
              "              title=\"Convert this dataframe to an interactive table.\"\n",
              "              style=\"display:none;\">\n",
              "        \n",
              "  <svg xmlns=\"http://www.w3.org/2000/svg\" height=\"24px\"viewBox=\"0 0 24 24\"\n",
              "       width=\"24px\">\n",
              "    <path d=\"M0 0h24v24H0V0z\" fill=\"none\"/>\n",
              "    <path d=\"M18.56 5.44l.94 2.06.94-2.06 2.06-.94-2.06-.94-.94-2.06-.94 2.06-2.06.94zm-11 1L8.5 8.5l.94-2.06 2.06-.94-2.06-.94L8.5 2.5l-.94 2.06-2.06.94zm10 10l.94 2.06.94-2.06 2.06-.94-2.06-.94-.94-2.06-.94 2.06-2.06.94z\"/><path d=\"M17.41 7.96l-1.37-1.37c-.4-.4-.92-.59-1.43-.59-.52 0-1.04.2-1.43.59L10.3 9.45l-7.72 7.72c-.78.78-.78 2.05 0 2.83L4 21.41c.39.39.9.59 1.41.59.51 0 1.02-.2 1.41-.59l7.78-7.78 2.81-2.81c.8-.78.8-2.07 0-2.86zM5.41 20L4 18.59l7.72-7.72 1.47 1.35L5.41 20z\"/>\n",
              "  </svg>\n",
              "      </button>\n",
              "      \n",
              "  <style>\n",
              "    .colab-df-container {\n",
              "      display:flex;\n",
              "      flex-wrap:wrap;\n",
              "      gap: 12px;\n",
              "    }\n",
              "\n",
              "    .colab-df-convert {\n",
              "      background-color: #E8F0FE;\n",
              "      border: none;\n",
              "      border-radius: 50%;\n",
              "      cursor: pointer;\n",
              "      display: none;\n",
              "      fill: #1967D2;\n",
              "      height: 32px;\n",
              "      padding: 0 0 0 0;\n",
              "      width: 32px;\n",
              "    }\n",
              "\n",
              "    .colab-df-convert:hover {\n",
              "      background-color: #E2EBFA;\n",
              "      box-shadow: 0px 1px 2px rgba(60, 64, 67, 0.3), 0px 1px 3px 1px rgba(60, 64, 67, 0.15);\n",
              "      fill: #174EA6;\n",
              "    }\n",
              "\n",
              "    [theme=dark] .colab-df-convert {\n",
              "      background-color: #3B4455;\n",
              "      fill: #D2E3FC;\n",
              "    }\n",
              "\n",
              "    [theme=dark] .colab-df-convert:hover {\n",
              "      background-color: #434B5C;\n",
              "      box-shadow: 0px 1px 3px 1px rgba(0, 0, 0, 0.15);\n",
              "      filter: drop-shadow(0px 1px 2px rgba(0, 0, 0, 0.3));\n",
              "      fill: #FFFFFF;\n",
              "    }\n",
              "  </style>\n",
              "\n",
              "      <script>\n",
              "        const buttonEl =\n",
              "          document.querySelector('#df-6fefe5cb-d417-4462-83dc-0121295d606d button.colab-df-convert');\n",
              "        buttonEl.style.display =\n",
              "          google.colab.kernel.accessAllowed ? 'block' : 'none';\n",
              "\n",
              "        async function convertToInteractive(key) {\n",
              "          const element = document.querySelector('#df-6fefe5cb-d417-4462-83dc-0121295d606d');\n",
              "          const dataTable =\n",
              "            await google.colab.kernel.invokeFunction('convertToInteractive',\n",
              "                                                     [key], {});\n",
              "          if (!dataTable) return;\n",
              "\n",
              "          const docLinkHtml = 'Like what you see? Visit the ' +\n",
              "            '<a target=\"_blank\" href=https://colab.research.google.com/notebooks/data_table.ipynb>data table notebook</a>'\n",
              "            + ' to learn more about interactive tables.';\n",
              "          element.innerHTML = '';\n",
              "          dataTable['output_type'] = 'display_data';\n",
              "          await google.colab.output.renderOutput(dataTable, element);\n",
              "          const docLink = document.createElement('div');\n",
              "          docLink.innerHTML = docLinkHtml;\n",
              "          element.appendChild(docLink);\n",
              "        }\n",
              "      </script>\n",
              "    </div>\n",
              "  </div>\n",
              "  "
            ]
          },
          "metadata": {},
          "execution_count": 45
        }
      ]
    },
    {
      "cell_type": "code",
      "source": [
        "rules.sort_values('lift', ascending=False)[0:10]"
      ],
      "metadata": {
        "colab": {
          "base_uri": "https://localhost:8080/",
          "height": 112
        },
        "outputId": "2860338b-35f9-430e-c3f8-9872969160aa",
        "id": "LDeSRctFgBwZ"
      },
      "execution_count": 46,
      "outputs": [
        {
          "output_type": "execute_result",
          "data": {
            "text/plain": [
              "  antecedents consequents  antecedent support  consequent support  support  \\\n",
              "0  (ChildBks)   (CookBks)               0.423               0.431    0.256   \n",
              "1   (CookBks)  (ChildBks)               0.431               0.423    0.256   \n",
              "\n",
              "   confidence      lift  leverage  conviction  \n",
              "0    0.605201  1.404179  0.073687    1.441240  \n",
              "1    0.593968  1.404179  0.073687    1.421069  "
            ],
            "text/html": [
              "\n",
              "  <div id=\"df-00a79684-15e9-4627-9cc2-2cb559673c71\">\n",
              "    <div class=\"colab-df-container\">\n",
              "      <div>\n",
              "<style scoped>\n",
              "    .dataframe tbody tr th:only-of-type {\n",
              "        vertical-align: middle;\n",
              "    }\n",
              "\n",
              "    .dataframe tbody tr th {\n",
              "        vertical-align: top;\n",
              "    }\n",
              "\n",
              "    .dataframe thead th {\n",
              "        text-align: right;\n",
              "    }\n",
              "</style>\n",
              "<table border=\"1\" class=\"dataframe\">\n",
              "  <thead>\n",
              "    <tr style=\"text-align: right;\">\n",
              "      <th></th>\n",
              "      <th>antecedents</th>\n",
              "      <th>consequents</th>\n",
              "      <th>antecedent support</th>\n",
              "      <th>consequent support</th>\n",
              "      <th>support</th>\n",
              "      <th>confidence</th>\n",
              "      <th>lift</th>\n",
              "      <th>leverage</th>\n",
              "      <th>conviction</th>\n",
              "    </tr>\n",
              "  </thead>\n",
              "  <tbody>\n",
              "    <tr>\n",
              "      <th>0</th>\n",
              "      <td>(ChildBks)</td>\n",
              "      <td>(CookBks)</td>\n",
              "      <td>0.423</td>\n",
              "      <td>0.431</td>\n",
              "      <td>0.256</td>\n",
              "      <td>0.605201</td>\n",
              "      <td>1.404179</td>\n",
              "      <td>0.073687</td>\n",
              "      <td>1.441240</td>\n",
              "    </tr>\n",
              "    <tr>\n",
              "      <th>1</th>\n",
              "      <td>(CookBks)</td>\n",
              "      <td>(ChildBks)</td>\n",
              "      <td>0.431</td>\n",
              "      <td>0.423</td>\n",
              "      <td>0.256</td>\n",
              "      <td>0.593968</td>\n",
              "      <td>1.404179</td>\n",
              "      <td>0.073687</td>\n",
              "      <td>1.421069</td>\n",
              "    </tr>\n",
              "  </tbody>\n",
              "</table>\n",
              "</div>\n",
              "      <button class=\"colab-df-convert\" onclick=\"convertToInteractive('df-00a79684-15e9-4627-9cc2-2cb559673c71')\"\n",
              "              title=\"Convert this dataframe to an interactive table.\"\n",
              "              style=\"display:none;\">\n",
              "        \n",
              "  <svg xmlns=\"http://www.w3.org/2000/svg\" height=\"24px\"viewBox=\"0 0 24 24\"\n",
              "       width=\"24px\">\n",
              "    <path d=\"M0 0h24v24H0V0z\" fill=\"none\"/>\n",
              "    <path d=\"M18.56 5.44l.94 2.06.94-2.06 2.06-.94-2.06-.94-.94-2.06-.94 2.06-2.06.94zm-11 1L8.5 8.5l.94-2.06 2.06-.94-2.06-.94L8.5 2.5l-.94 2.06-2.06.94zm10 10l.94 2.06.94-2.06 2.06-.94-2.06-.94-.94-2.06-.94 2.06-2.06.94z\"/><path d=\"M17.41 7.96l-1.37-1.37c-.4-.4-.92-.59-1.43-.59-.52 0-1.04.2-1.43.59L10.3 9.45l-7.72 7.72c-.78.78-.78 2.05 0 2.83L4 21.41c.39.39.9.59 1.41.59.51 0 1.02-.2 1.41-.59l7.78-7.78 2.81-2.81c.8-.78.8-2.07 0-2.86zM5.41 20L4 18.59l7.72-7.72 1.47 1.35L5.41 20z\"/>\n",
              "  </svg>\n",
              "      </button>\n",
              "      \n",
              "  <style>\n",
              "    .colab-df-container {\n",
              "      display:flex;\n",
              "      flex-wrap:wrap;\n",
              "      gap: 12px;\n",
              "    }\n",
              "\n",
              "    .colab-df-convert {\n",
              "      background-color: #E8F0FE;\n",
              "      border: none;\n",
              "      border-radius: 50%;\n",
              "      cursor: pointer;\n",
              "      display: none;\n",
              "      fill: #1967D2;\n",
              "      height: 32px;\n",
              "      padding: 0 0 0 0;\n",
              "      width: 32px;\n",
              "    }\n",
              "\n",
              "    .colab-df-convert:hover {\n",
              "      background-color: #E2EBFA;\n",
              "      box-shadow: 0px 1px 2px rgba(60, 64, 67, 0.3), 0px 1px 3px 1px rgba(60, 64, 67, 0.15);\n",
              "      fill: #174EA6;\n",
              "    }\n",
              "\n",
              "    [theme=dark] .colab-df-convert {\n",
              "      background-color: #3B4455;\n",
              "      fill: #D2E3FC;\n",
              "    }\n",
              "\n",
              "    [theme=dark] .colab-df-convert:hover {\n",
              "      background-color: #434B5C;\n",
              "      box-shadow: 0px 1px 3px 1px rgba(0, 0, 0, 0.15);\n",
              "      filter: drop-shadow(0px 1px 2px rgba(0, 0, 0, 0.3));\n",
              "      fill: #FFFFFF;\n",
              "    }\n",
              "  </style>\n",
              "\n",
              "      <script>\n",
              "        const buttonEl =\n",
              "          document.querySelector('#df-00a79684-15e9-4627-9cc2-2cb559673c71 button.colab-df-convert');\n",
              "        buttonEl.style.display =\n",
              "          google.colab.kernel.accessAllowed ? 'block' : 'none';\n",
              "\n",
              "        async function convertToInteractive(key) {\n",
              "          const element = document.querySelector('#df-00a79684-15e9-4627-9cc2-2cb559673c71');\n",
              "          const dataTable =\n",
              "            await google.colab.kernel.invokeFunction('convertToInteractive',\n",
              "                                                     [key], {});\n",
              "          if (!dataTable) return;\n",
              "\n",
              "          const docLinkHtml = 'Like what you see? Visit the ' +\n",
              "            '<a target=\"_blank\" href=https://colab.research.google.com/notebooks/data_table.ipynb>data table notebook</a>'\n",
              "            + ' to learn more about interactive tables.';\n",
              "          element.innerHTML = '';\n",
              "          dataTable['output_type'] = 'display_data';\n",
              "          await google.colab.output.renderOutput(dataTable, element);\n",
              "          const docLink = document.createElement('div');\n",
              "          docLink.innerHTML = docLinkHtml;\n",
              "          element.appendChild(docLink);\n",
              "        }\n",
              "      </script>\n",
              "    </div>\n",
              "  </div>\n",
              "  "
            ]
          },
          "metadata": {},
          "execution_count": 46
        }
      ]
    },
    {
      "cell_type": "code",
      "source": [
        "rules.count()"
      ],
      "metadata": {
        "colab": {
          "base_uri": "https://localhost:8080/"
        },
        "outputId": "35a4047f-810c-449d-c3d9-b514cadd303c",
        "id": "oIPRVui1gBwZ"
      },
      "execution_count": 47,
      "outputs": [
        {
          "output_type": "execute_result",
          "data": {
            "text/plain": [
              "antecedents           2\n",
              "consequents           2\n",
              "antecedent support    2\n",
              "consequent support    2\n",
              "support               2\n",
              "confidence            2\n",
              "lift                  2\n",
              "leverage              2\n",
              "conviction            2\n",
              "dtype: int64"
            ]
          },
          "metadata": {},
          "execution_count": 47
        }
      ]
    },
    {
      "cell_type": "code",
      "source": [
        "rules[['support', 'confidence', 'lift']].hist()"
      ],
      "metadata": {
        "colab": {
          "base_uri": "https://localhost:8080/",
          "height": 368
        },
        "outputId": "21390640-e9d3-48be-a148-62cc9c6c4960",
        "id": "h_VZxFzhgBwZ"
      },
      "execution_count": 48,
      "outputs": [
        {
          "output_type": "execute_result",
          "data": {
            "text/plain": [
              "array([[<matplotlib.axes._subplots.AxesSubplot object at 0x7f8d9beca990>,\n",
              "        <matplotlib.axes._subplots.AxesSubplot object at 0x7f8d9bef3b10>],\n",
              "       [<matplotlib.axes._subplots.AxesSubplot object at 0x7f8d9be3d610>,\n",
              "        <matplotlib.axes._subplots.AxesSubplot object at 0x7f8d9bdf4c10>]],\n",
              "      dtype=object)"
            ]
          },
          "metadata": {},
          "execution_count": 48
        },
        {
          "output_type": "display_data",
          "data": {
            "text/plain": [
              "<Figure size 432x288 with 4 Axes>"
            ],
            "image/png": "[encoded data removed]"
          },
          "metadata": {
            "needs_background": "light"
          }
        }
      ]
    },
    {
      "cell_type": "code",
      "source": [
        "plt.scatter(rules['support'], rules['confidence'])"
      ],
      "metadata": {
        "colab": {
          "base_uri": "https://localhost:8080/",
          "height": 282
        },
        "id": "qVkzpSwEhkHa",
        "outputId": "a41fcc97-71cc-4b94-94ed-a4e6303b153f"
      },
      "execution_count": 49,
      "outputs": [
        {
          "output_type": "execute_result",
          "data": {
            "text/plain": [
              "<matplotlib.collections.PathCollection at 0x7f8d9d17ac90>"
            ]
          },
          "metadata": {},
          "execution_count": 49
        },
        {
          "output_type": "display_data",
          "data": {
            "text/plain": [
              "<Figure size 432x288 with 1 Axes>"
            ],
            "image/png": "[encoded data removed]"
          },
          "metadata": {
            "needs_background": "light"
          }
        }
      ]
    },
    {
      "cell_type": "markdown",
      "source": [
        "Observation: With minimum support level increased to 0.2, 100 associations were reduced to only 2 rules. "
      ],
      "metadata": {
        "id": "0T8lpdaMgBwZ"
      }
    }
  ]
}