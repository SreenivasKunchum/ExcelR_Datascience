{
  "nbformat": 4,
  "nbformat_minor": 0,
  "metadata": {
    "colab": {
      "provenance": []
    },
    "kernelspec": {
      "name": "python3",
      "display_name": "Python 3"
    },
    "language_info": {
      "name": "python"
    }
  },
  "cells": [
    {
      "cell_type": "markdown",
      "source": [
        "# **Airtel Stock Prediction Models - Daily**"
      ],
      "metadata": {
        "id": "GHyUq1uvz9dD"
      }
    },
    {
      "cell_type": "markdown",
      "source": [
        "**Model: LSTM**"
      ],
      "metadata": {
        "id": "BfYrLu6TUg77"
      }
    },
    {
      "cell_type": "markdown",
      "source": [
        "**Import necessary packages**"
      ],
      "metadata": {
        "id": "2E00mNRsRXM9"
      }
    },
    {
      "cell_type": "code",
      "source": [
        "import warnings \n",
        "warnings.filterwarnings(\"ignore\")"
      ],
      "metadata": {
        "id": "benlRxY1RNHO"
      },
      "execution_count": 1,
      "outputs": []
    },
    {
      "cell_type": "code",
      "execution_count": 2,
      "metadata": {
        "id": "DbfpojqCzCxl"
      },
      "outputs": [],
      "source": [
        "# Basic and Visualization packages\n",
        "import pandas as pd\n",
        "import numpy as np\n",
        "import matplotlib.pyplot as plt\n",
        "import seaborn as sns\n",
        "from sklearn.metrics import mean_squared_error\n",
        "\n",
        "# Ensembling packages\n",
        "from keras.models import Sequential\n",
        "from keras.layers import Dense\n",
        "from keras.optimizers import Adam\n",
        "from keras.layers import Dropout\n",
        "\n",
        "# LSTM packages\n",
        "from keras.layers import LSTM"
      ]
    },
    {
      "cell_type": "code",
      "source": [
        "# Read csv file\n",
        "df_stock = pd.read_csv('BHARTIAIRTEL.csv')\n",
        "df_stock.head()"
      ],
      "metadata": {
        "colab": {
          "base_uri": "https://localhost:8080/",
          "height": 496
        },
        "id": "KegntA5G0NdR",
        "outputId": "c8089571-eeaf-4e99-9c42-23d05b510a36"
      },
      "execution_count": 3,
      "outputs": [
        {
          "output_type": "execute_result",
          "data": {
            "text/plain": [
              "       Symbol Series       Date  Prev Close  Open Price  High Price  \\\n",
              "0  BHARTIARTL     EQ  04-Nov-22      818.65      815.70      821.80   \n",
              "1  BHARTIARTL     BL  03-Nov-22      802.10      809.85      809.85   \n",
              "2  BHARTIARTL     EQ  03-Nov-22      809.85      809.75      824.40   \n",
              "3  BHARTIARTL     EQ  31-Oct-22      816.85      823.00      833.80   \n",
              "4  BHARTIARTL     EQ  28-Oct-22      817.10      819.00      824.40   \n",
              "\n",
              "   Low Price  Last Price  Close Price  Average Price  Total Traded Quantity  \\\n",
              "0     809.20      816.10       816.40         814.59                3768226   \n",
              "1     809.85      809.85       809.85         809.85                3400871   \n",
              "2     804.20      817.50       818.65         817.78                5897840   \n",
              "3     820.00      832.00       832.00         829.27                5487233   \n",
              "4     811.30      819.50       816.85         816.70                3905093   \n",
              "\n",
              "       Turnover  No. of Trades Deliverable Qty % Dly Qt to Traded Qty  \n",
              "0  3.069542e+09          90470         2243180                  59.53  \n",
              "1  2.754195e+09              1               -                      -  \n",
              "2  4.823129e+09         160802         3380905                  57.32  \n",
              "3  4.550408e+09         166517         3411499                  62.17  \n",
              "4  3.189280e+09         106794         1890500                   67.1  "
            ],
            "text/html": [
              "\n",
              "  <div id=\"df-1f19ba63-4613-467a-800f-bb888a0e372a\">\n",
              "    <div class=\"colab-df-container\">\n",
              "      <div>\n",
              "<style scoped>\n",
              "    .dataframe tbody tr th:only-of-type {\n",
              "        vertical-align: middle;\n",
              "    }\n",
              "\n",
              "    .dataframe tbody tr th {\n",
              "        vertical-align: top;\n",
              "    }\n",
              "\n",
              "    .dataframe thead th {\n",
              "        text-align: right;\n",
              "    }\n",
              "</style>\n",
              "<table border=\"1\" class=\"dataframe\">\n",
              "  <thead>\n",
              "    <tr style=\"text-align: right;\">\n",
              "      <th></th>\n",
              "      <th>Symbol</th>\n",
              "      <th>Series</th>\n",
              "      <th>Date</th>\n",
              "      <th>Prev Close</th>\n",
              "      <th>Open Price</th>\n",
              "      <th>High Price</th>\n",
              "      <th>Low Price</th>\n",
              "      <th>Last Price</th>\n",
              "      <th>Close Price</th>\n",
              "      <th>Average Price</th>\n",
              "      <th>Total Traded Quantity</th>\n",
              "      <th>Turnover</th>\n",
              "      <th>No. of Trades</th>\n",
              "      <th>Deliverable Qty</th>\n",
              "      <th>% Dly Qt to Traded Qty</th>\n",
              "    </tr>\n",
              "  </thead>\n",
              "  <tbody>\n",
              "    <tr>\n",
              "      <th>0</th>\n",
              "      <td>BHARTIARTL</td>\n",
              "      <td>EQ</td>\n",
              "      <td>04-Nov-22</td>\n",
              "      <td>818.65</td>\n",
              "      <td>815.70</td>\n",
              "      <td>821.80</td>\n",
              "      <td>809.20</td>\n",
              "      <td>816.10</td>\n",
              "      <td>816.40</td>\n",
              "      <td>814.59</td>\n",
              "      <td>3768226</td>\n",
              "      <td>3.069542e+09</td>\n",
              "      <td>90470</td>\n",
              "      <td>2243180</td>\n",
              "      <td>59.53</td>\n",
              "    </tr>\n",
              "    <tr>\n",
              "      <th>1</th>\n",
              "      <td>BHARTIARTL</td>\n",
              "      <td>BL</td>\n",
              "      <td>03-Nov-22</td>\n",
              "      <td>802.10</td>\n",
              "      <td>809.85</td>\n",
              "      <td>809.85</td>\n",
              "      <td>809.85</td>\n",
              "      <td>809.85</td>\n",
              "      <td>809.85</td>\n",
              "      <td>809.85</td>\n",
              "      <td>3400871</td>\n",
              "      <td>2.754195e+09</td>\n",
              "      <td>1</td>\n",
              "      <td>-</td>\n",
              "      <td>-</td>\n",
              "    </tr>\n",
              "    <tr>\n",
              "      <th>2</th>\n",
              "      <td>BHARTIARTL</td>\n",
              "      <td>EQ</td>\n",
              "      <td>03-Nov-22</td>\n",
              "      <td>809.85</td>\n",
              "      <td>809.75</td>\n",
              "      <td>824.40</td>\n",
              "      <td>804.20</td>\n",
              "      <td>817.50</td>\n",
              "      <td>818.65</td>\n",
              "      <td>817.78</td>\n",
              "      <td>5897840</td>\n",
              "      <td>4.823129e+09</td>\n",
              "      <td>160802</td>\n",
              "      <td>3380905</td>\n",
              "      <td>57.32</td>\n",
              "    </tr>\n",
              "    <tr>\n",
              "      <th>3</th>\n",
              "      <td>BHARTIARTL</td>\n",
              "      <td>EQ</td>\n",
              "      <td>31-Oct-22</td>\n",
              "      <td>816.85</td>\n",
              "      <td>823.00</td>\n",
              "      <td>833.80</td>\n",
              "      <td>820.00</td>\n",
              "      <td>832.00</td>\n",
              "      <td>832.00</td>\n",
              "      <td>829.27</td>\n",
              "      <td>5487233</td>\n",
              "      <td>4.550408e+09</td>\n",
              "      <td>166517</td>\n",
              "      <td>3411499</td>\n",
              "      <td>62.17</td>\n",
              "    </tr>\n",
              "    <tr>\n",
              "      <th>4</th>\n",
              "      <td>BHARTIARTL</td>\n",
              "      <td>EQ</td>\n",
              "      <td>28-Oct-22</td>\n",
              "      <td>817.10</td>\n",
              "      <td>819.00</td>\n",
              "      <td>824.40</td>\n",
              "      <td>811.30</td>\n",
              "      <td>819.50</td>\n",
              "      <td>816.85</td>\n",
              "      <td>816.70</td>\n",
              "      <td>3905093</td>\n",
              "      <td>3.189280e+09</td>\n",
              "      <td>106794</td>\n",
              "      <td>1890500</td>\n",
              "      <td>67.1</td>\n",
              "    </tr>\n",
              "  </tbody>\n",
              "</table>\n",
              "</div>\n",
              "      <button class=\"colab-df-convert\" onclick=\"convertToInteractive('df-1f19ba63-4613-467a-800f-bb888a0e372a')\"\n",
              "              title=\"Convert this dataframe to an interactive table.\"\n",
              "              style=\"display:none;\">\n",
              "        \n",
              "  <svg xmlns=\"http://www.w3.org/2000/svg\" height=\"24px\"viewBox=\"0 0 24 24\"\n",
              "       width=\"24px\">\n",
              "    <path d=\"M0 0h24v24H0V0z\" fill=\"none\"/>\n",
              "    <path d=\"M18.56 5.44l.94 2.06.94-2.06 2.06-.94-2.06-.94-.94-2.06-.94 2.06-2.06.94zm-11 1L8.5 8.5l.94-2.06 2.06-.94-2.06-.94L8.5 2.5l-.94 2.06-2.06.94zm10 10l.94 2.06.94-2.06 2.06-.94-2.06-.94-.94-2.06-.94 2.06-2.06.94z\"/><path d=\"M17.41 7.96l-1.37-1.37c-.4-.4-.92-.59-1.43-.59-.52 0-1.04.2-1.43.59L10.3 9.45l-7.72 7.72c-.78.78-.78 2.05 0 2.83L4 21.41c.39.39.9.59 1.41.59.51 0 1.02-.2 1.41-.59l7.78-7.78 2.81-2.81c.8-.78.8-2.07 0-2.86zM5.41 20L4 18.59l7.72-7.72 1.47 1.35L5.41 20z\"/>\n",
              "  </svg>\n",
              "      </button>\n",
              "      \n",
              "  <style>\n",
              "    .colab-df-container {\n",
              "      display:flex;\n",
              "      flex-wrap:wrap;\n",
              "      gap: 12px;\n",
              "    }\n",
              "\n",
              "    .colab-df-convert {\n",
              "      background-color: #E8F0FE;\n",
              "      border: none;\n",
              "      border-radius: 50%;\n",
              "      cursor: pointer;\n",
              "      display: none;\n",
              "      fill: #1967D2;\n",
              "      height: 32px;\n",
              "      padding: 0 0 0 0;\n",
              "      width: 32px;\n",
              "    }\n",
              "\n",
              "    .colab-df-convert:hover {\n",
              "      background-color: #E2EBFA;\n",
              "      box-shadow: 0px 1px 2px rgba(60, 64, 67, 0.3), 0px 1px 3px 1px rgba(60, 64, 67, 0.15);\n",
              "      fill: #174EA6;\n",
              "    }\n",
              "\n",
              "    [theme=dark] .colab-df-convert {\n",
              "      background-color: #3B4455;\n",
              "      fill: #D2E3FC;\n",
              "    }\n",
              "\n",
              "    [theme=dark] .colab-df-convert:hover {\n",
              "      background-color: #434B5C;\n",
              "      box-shadow: 0px 1px 3px 1px rgba(0, 0, 0, 0.15);\n",
              "      filter: drop-shadow(0px 1px 2px rgba(0, 0, 0, 0.3));\n",
              "      fill: #FFFFFF;\n",
              "    }\n",
              "  </style>\n",
              "\n",
              "      <script>\n",
              "        const buttonEl =\n",
              "          document.querySelector('#df-1f19ba63-4613-467a-800f-bb888a0e372a button.colab-df-convert');\n",
              "        buttonEl.style.display =\n",
              "          google.colab.kernel.accessAllowed ? 'block' : 'none';\n",
              "\n",
              "        async function convertToInteractive(key) {\n",
              "          const element = document.querySelector('#df-1f19ba63-4613-467a-800f-bb888a0e372a');\n",
              "          const dataTable =\n",
              "            await google.colab.kernel.invokeFunction('convertToInteractive',\n",
              "                                                     [key], {});\n",
              "          if (!dataTable) return;\n",
              "\n",
              "          const docLinkHtml = 'Like what you see? Visit the ' +\n",
              "            '<a target=\"_blank\" href=https://colab.research.google.com/notebooks/data_table.ipynb>data table notebook</a>'\n",
              "            + ' to learn more about interactive tables.';\n",
              "          element.innerHTML = '';\n",
              "          dataTable['output_type'] = 'display_data';\n",
              "          await google.colab.output.renderOutput(dataTable, element);\n",
              "          const docLink = document.createElement('div');\n",
              "          docLink.innerHTML = docLinkHtml;\n",
              "          element.appendChild(docLink);\n",
              "        }\n",
              "      </script>\n",
              "    </div>\n",
              "  </div>\n",
              "  "
            ]
          },
          "metadata": {},
          "execution_count": 3
        }
      ]
    },
    {
      "cell_type": "code",
      "source": [],
      "metadata": {
        "id": "fdIsw6GsTBrA"
      },
      "execution_count": 3,
      "outputs": []
    },
    {
      "cell_type": "markdown",
      "source": [
        "**Exploratory Data Analysis (EDA)**"
      ],
      "metadata": {
        "id": "8lafu6d51PEH"
      }
    },
    {
      "cell_type": "code",
      "execution_count": 4,
      "metadata": {
        "colab": {
          "base_uri": "https://localhost:8080/"
        },
        "id": "c97607d1",
        "outputId": "0b654100-967b-42fa-fc08-880d294591d8"
      },
      "outputs": [
        {
          "output_type": "execute_result",
          "data": {
            "text/plain": [
              "(1743, 15)"
            ]
          },
          "metadata": {},
          "execution_count": 4
        }
      ],
      "source": [
        "df_stock.shape"
      ]
    },
    {
      "cell_type": "code",
      "execution_count": 5,
      "metadata": {
        "scrolled": true,
        "colab": {
          "base_uri": "https://localhost:8080/"
        },
        "id": "21a6209b",
        "outputId": "36789338-831e-4c78-9293-e982fe7df62a"
      },
      "outputs": [
        {
          "output_type": "stream",
          "name": "stdout",
          "text": [
            "<class 'pandas.core.frame.DataFrame'>\n",
            "RangeIndex: 1743 entries, 0 to 1742\n",
            "Data columns (total 15 columns):\n",
            " #   Column                  Non-Null Count  Dtype  \n",
            "---  ------                  --------------  -----  \n",
            " 0   Symbol                  1743 non-null   object \n",
            " 1   Series                  1743 non-null   object \n",
            " 2   Date                    1743 non-null   object \n",
            " 3   Prev Close              1743 non-null   float64\n",
            " 4   Open Price              1743 non-null   float64\n",
            " 5   High Price              1743 non-null   float64\n",
            " 6   Low Price               1743 non-null   float64\n",
            " 7   Last Price              1743 non-null   float64\n",
            " 8   Close Price             1743 non-null   float64\n",
            " 9   Average Price           1743 non-null   float64\n",
            " 10  Total Traded Quantity   1743 non-null   int64  \n",
            " 11  Turnover                1743 non-null   float64\n",
            " 12  No. of Trades           1743 non-null   int64  \n",
            " 13  Deliverable Qty         1743 non-null   object \n",
            " 14  % Dly Qt to Traded Qty  1743 non-null   object \n",
            "dtypes: float64(8), int64(2), object(5)\n",
            "memory usage: 204.4+ KB\n"
          ]
        }
      ],
      "source": [
        "df_stock.info()"
      ]
    },
    {
      "cell_type": "markdown",
      "source": [
        "Insights: 1. No null values in the dataset. \n",
        "2. Need to remove Series values other than 'EQ'\n",
        "3. Need to remove columns which are not useful for price predictions i.e. remove columns other than 'Date' and 'Close Price'\n",
        "4. 'Close Price' column to be renamed to 'Close_Price'\n",
        "5. Date column type to be changed from object to Date \n",
        "5. Sort data in ascending order of date\n",
        "6. Set Date column as new index"
      ],
      "metadata": {
        "id": "B9LE2JQ1S5m-"
      }
    },
    {
      "cell_type": "code",
      "source": [
        "# Dropping all Series column values which are not equal to 'EQ'\n",
        "values=['EQ']\n",
        "df_stock = df_stock[df_stock['Series'].isin(values)]"
      ],
      "metadata": {
        "id": "o18QmCa15o2X"
      },
      "execution_count": 6,
      "outputs": []
    },
    {
      "cell_type": "code",
      "source": [
        "df_stock = df_stock[['Date', 'Close Price' ]]"
      ],
      "metadata": {
        "id": "sW11BFC-1UH6"
      },
      "execution_count": 7,
      "outputs": []
    },
    {
      "cell_type": "code",
      "source": [
        "# Renaming of column name 'Close Price'\n",
        "df_stock = df_stock.rename(columns={'Close Price': 'Close_Price'})\n",
        "df_stock.head()"
      ],
      "metadata": {
        "colab": {
          "base_uri": "https://localhost:8080/",
          "height": 206
        },
        "id": "knhPiO9366ND",
        "outputId": "a87258c5-7796-4460-9ea4-9bd8e7eb9923"
      },
      "execution_count": 8,
      "outputs": [
        {
          "output_type": "execute_result",
          "data": {
            "text/plain": [
              "        Date  Close_Price\n",
              "0  04-Nov-22       816.40\n",
              "2  03-Nov-22       818.65\n",
              "3  31-Oct-22       832.00\n",
              "4  28-Oct-22       816.85\n",
              "5  27-Oct-22       817.10"
            ],
            "text/html": [
              "\n",
              "  <div id=\"df-eb158cc3-5c92-4805-bed3-a045afc19e3d\">\n",
              "    <div class=\"colab-df-container\">\n",
              "      <div>\n",
              "<style scoped>\n",
              "    .dataframe tbody tr th:only-of-type {\n",
              "        vertical-align: middle;\n",
              "    }\n",
              "\n",
              "    .dataframe tbody tr th {\n",
              "        vertical-align: top;\n",
              "    }\n",
              "\n",
              "    .dataframe thead th {\n",
              "        text-align: right;\n",
              "    }\n",
              "</style>\n",
              "<table border=\"1\" class=\"dataframe\">\n",
              "  <thead>\n",
              "    <tr style=\"text-align: right;\">\n",
              "      <th></th>\n",
              "      <th>Date</th>\n",
              "      <th>Close_Price</th>\n",
              "    </tr>\n",
              "  </thead>\n",
              "  <tbody>\n",
              "    <tr>\n",
              "      <th>0</th>\n",
              "      <td>04-Nov-22</td>\n",
              "      <td>816.40</td>\n",
              "    </tr>\n",
              "    <tr>\n",
              "      <th>2</th>\n",
              "      <td>03-Nov-22</td>\n",
              "      <td>818.65</td>\n",
              "    </tr>\n",
              "    <tr>\n",
              "      <th>3</th>\n",
              "      <td>31-Oct-22</td>\n",
              "      <td>832.00</td>\n",
              "    </tr>\n",
              "    <tr>\n",
              "      <th>4</th>\n",
              "      <td>28-Oct-22</td>\n",
              "      <td>816.85</td>\n",
              "    </tr>\n",
              "    <tr>\n",
              "      <th>5</th>\n",
              "      <td>27-Oct-22</td>\n",
              "      <td>817.10</td>\n",
              "    </tr>\n",
              "  </tbody>\n",
              "</table>\n",
              "</div>\n",
              "      <button class=\"colab-df-convert\" onclick=\"convertToInteractive('df-eb158cc3-5c92-4805-bed3-a045afc19e3d')\"\n",
              "              title=\"Convert this dataframe to an interactive table.\"\n",
              "              style=\"display:none;\">\n",
              "        \n",
              "  <svg xmlns=\"http://www.w3.org/2000/svg\" height=\"24px\"viewBox=\"0 0 24 24\"\n",
              "       width=\"24px\">\n",
              "    <path d=\"M0 0h24v24H0V0z\" fill=\"none\"/>\n",
              "    <path d=\"M18.56 5.44l.94 2.06.94-2.06 2.06-.94-2.06-.94-.94-2.06-.94 2.06-2.06.94zm-11 1L8.5 8.5l.94-2.06 2.06-.94-2.06-.94L8.5 2.5l-.94 2.06-2.06.94zm10 10l.94 2.06.94-2.06 2.06-.94-2.06-.94-.94-2.06-.94 2.06-2.06.94z\"/><path d=\"M17.41 7.96l-1.37-1.37c-.4-.4-.92-.59-1.43-.59-.52 0-1.04.2-1.43.59L10.3 9.45l-7.72 7.72c-.78.78-.78 2.05 0 2.83L4 21.41c.39.39.9.59 1.41.59.51 0 1.02-.2 1.41-.59l7.78-7.78 2.81-2.81c.8-.78.8-2.07 0-2.86zM5.41 20L4 18.59l7.72-7.72 1.47 1.35L5.41 20z\"/>\n",
              "  </svg>\n",
              "      </button>\n",
              "      \n",
              "  <style>\n",
              "    .colab-df-container {\n",
              "      display:flex;\n",
              "      flex-wrap:wrap;\n",
              "      gap: 12px;\n",
              "    }\n",
              "\n",
              "    .colab-df-convert {\n",
              "      background-color: #E8F0FE;\n",
              "      border: none;\n",
              "      border-radius: 50%;\n",
              "      cursor: pointer;\n",
              "      display: none;\n",
              "      fill: #1967D2;\n",
              "      height: 32px;\n",
              "      padding: 0 0 0 0;\n",
              "      width: 32px;\n",
              "    }\n",
              "\n",
              "    .colab-df-convert:hover {\n",
              "      background-color: #E2EBFA;\n",
              "      box-shadow: 0px 1px 2px rgba(60, 64, 67, 0.3), 0px 1px 3px 1px rgba(60, 64, 67, 0.15);\n",
              "      fill: #174EA6;\n",
              "    }\n",
              "\n",
              "    [theme=dark] .colab-df-convert {\n",
              "      background-color: #3B4455;\n",
              "      fill: #D2E3FC;\n",
              "    }\n",
              "\n",
              "    [theme=dark] .colab-df-convert:hover {\n",
              "      background-color: #434B5C;\n",
              "      box-shadow: 0px 1px 3px 1px rgba(0, 0, 0, 0.15);\n",
              "      filter: drop-shadow(0px 1px 2px rgba(0, 0, 0, 0.3));\n",
              "      fill: #FFFFFF;\n",
              "    }\n",
              "  </style>\n",
              "\n",
              "      <script>\n",
              "        const buttonEl =\n",
              "          document.querySelector('#df-eb158cc3-5c92-4805-bed3-a045afc19e3d button.colab-df-convert');\n",
              "        buttonEl.style.display =\n",
              "          google.colab.kernel.accessAllowed ? 'block' : 'none';\n",
              "\n",
              "        async function convertToInteractive(key) {\n",
              "          const element = document.querySelector('#df-eb158cc3-5c92-4805-bed3-a045afc19e3d');\n",
              "          const dataTable =\n",
              "            await google.colab.kernel.invokeFunction('convertToInteractive',\n",
              "                                                     [key], {});\n",
              "          if (!dataTable) return;\n",
              "\n",
              "          const docLinkHtml = 'Like what you see? Visit the ' +\n",
              "            '<a target=\"_blank\" href=https://colab.research.google.com/notebooks/data_table.ipynb>data table notebook</a>'\n",
              "            + ' to learn more about interactive tables.';\n",
              "          element.innerHTML = '';\n",
              "          dataTable['output_type'] = 'display_data';\n",
              "          await google.colab.output.renderOutput(dataTable, element);\n",
              "          const docLink = document.createElement('div');\n",
              "          docLink.innerHTML = docLinkHtml;\n",
              "          element.appendChild(docLink);\n",
              "        }\n",
              "      </script>\n",
              "    </div>\n",
              "  </div>\n",
              "  "
            ]
          },
          "metadata": {},
          "execution_count": 8
        }
      ]
    },
    {
      "cell_type": "code",
      "execution_count": 9,
      "metadata": {
        "scrolled": true,
        "colab": {
          "base_uri": "https://localhost:8080/"
        },
        "id": "b35a0f4e",
        "outputId": "1f1402a3-516c-4752-83ff-493462d85bfc"
      },
      "outputs": [
        {
          "output_type": "execute_result",
          "data": {
            "text/plain": [
              "Date           1726\n",
              "Close_Price    1492\n",
              "dtype: int64"
            ]
          },
          "metadata": {},
          "execution_count": 9
        }
      ],
      "source": [
        "df_stock.nunique()"
      ]
    },
    {
      "cell_type": "code",
      "source": [
        "# Find all duplicate rows\n",
        "df_stock[df_stock.duplicated()]"
      ],
      "metadata": {
        "colab": {
          "base_uri": "https://localhost:8080/",
          "height": 175
        },
        "id": "FsKahPBSUpKR",
        "outputId": "d7dc3523-3c3c-4149-b297-401e7c73ab9b"
      },
      "execution_count": 10,
      "outputs": [
        {
          "output_type": "execute_result",
          "data": {
            "text/plain": [
              "           Date  Close_Price\n",
              "756   04-Nov-19       378.00\n",
              "1498  03-Nov-16       308.95\n",
              "1500  02-Nov-16       309.60\n",
              "1502  01-Nov-16       317.45"
            ],
            "text/html": [
              "\n",
              "  <div id=\"df-63034e3f-5090-43fa-8ef2-24e819e04f34\">\n",
              "    <div class=\"colab-df-container\">\n",
              "      <div>\n",
              "<style scoped>\n",
              "    .dataframe tbody tr th:only-of-type {\n",
              "        vertical-align: middle;\n",
              "    }\n",
              "\n",
              "    .dataframe tbody tr th {\n",
              "        vertical-align: top;\n",
              "    }\n",
              "\n",
              "    .dataframe thead th {\n",
              "        text-align: right;\n",
              "    }\n",
              "</style>\n",
              "<table border=\"1\" class=\"dataframe\">\n",
              "  <thead>\n",
              "    <tr style=\"text-align: right;\">\n",
              "      <th></th>\n",
              "      <th>Date</th>\n",
              "      <th>Close_Price</th>\n",
              "    </tr>\n",
              "  </thead>\n",
              "  <tbody>\n",
              "    <tr>\n",
              "      <th>756</th>\n",
              "      <td>04-Nov-19</td>\n",
              "      <td>378.00</td>\n",
              "    </tr>\n",
              "    <tr>\n",
              "      <th>1498</th>\n",
              "      <td>03-Nov-16</td>\n",
              "      <td>308.95</td>\n",
              "    </tr>\n",
              "    <tr>\n",
              "      <th>1500</th>\n",
              "      <td>02-Nov-16</td>\n",
              "      <td>309.60</td>\n",
              "    </tr>\n",
              "    <tr>\n",
              "      <th>1502</th>\n",
              "      <td>01-Nov-16</td>\n",
              "      <td>317.45</td>\n",
              "    </tr>\n",
              "  </tbody>\n",
              "</table>\n",
              "</div>\n",
              "      <button class=\"colab-df-convert\" onclick=\"convertToInteractive('df-63034e3f-5090-43fa-8ef2-24e819e04f34')\"\n",
              "              title=\"Convert this dataframe to an interactive table.\"\n",
              "              style=\"display:none;\">\n",
              "        \n",
              "  <svg xmlns=\"http://www.w3.org/2000/svg\" height=\"24px\"viewBox=\"0 0 24 24\"\n",
              "       width=\"24px\">\n",
              "    <path d=\"M0 0h24v24H0V0z\" fill=\"none\"/>\n",
              "    <path d=\"M18.56 5.44l.94 2.06.94-2.06 2.06-.94-2.06-.94-.94-2.06-.94 2.06-2.06.94zm-11 1L8.5 8.5l.94-2.06 2.06-.94-2.06-.94L8.5 2.5l-.94 2.06-2.06.94zm10 10l.94 2.06.94-2.06 2.06-.94-2.06-.94-.94-2.06-.94 2.06-2.06.94z\"/><path d=\"M17.41 7.96l-1.37-1.37c-.4-.4-.92-.59-1.43-.59-.52 0-1.04.2-1.43.59L10.3 9.45l-7.72 7.72c-.78.78-.78 2.05 0 2.83L4 21.41c.39.39.9.59 1.41.59.51 0 1.02-.2 1.41-.59l7.78-7.78 2.81-2.81c.8-.78.8-2.07 0-2.86zM5.41 20L4 18.59l7.72-7.72 1.47 1.35L5.41 20z\"/>\n",
              "  </svg>\n",
              "      </button>\n",
              "      \n",
              "  <style>\n",
              "    .colab-df-container {\n",
              "      display:flex;\n",
              "      flex-wrap:wrap;\n",
              "      gap: 12px;\n",
              "    }\n",
              "\n",
              "    .colab-df-convert {\n",
              "      background-color: #E8F0FE;\n",
              "      border: none;\n",
              "      border-radius: 50%;\n",
              "      cursor: pointer;\n",
              "      display: none;\n",
              "      fill: #1967D2;\n",
              "      height: 32px;\n",
              "      padding: 0 0 0 0;\n",
              "      width: 32px;\n",
              "    }\n",
              "\n",
              "    .colab-df-convert:hover {\n",
              "      background-color: #E2EBFA;\n",
              "      box-shadow: 0px 1px 2px rgba(60, 64, 67, 0.3), 0px 1px 3px 1px rgba(60, 64, 67, 0.15);\n",
              "      fill: #174EA6;\n",
              "    }\n",
              "\n",
              "    [theme=dark] .colab-df-convert {\n",
              "      background-color: #3B4455;\n",
              "      fill: #D2E3FC;\n",
              "    }\n",
              "\n",
              "    [theme=dark] .colab-df-convert:hover {\n",
              "      background-color: #434B5C;\n",
              "      box-shadow: 0px 1px 3px 1px rgba(0, 0, 0, 0.15);\n",
              "      filter: drop-shadow(0px 1px 2px rgba(0, 0, 0, 0.3));\n",
              "      fill: #FFFFFF;\n",
              "    }\n",
              "  </style>\n",
              "\n",
              "      <script>\n",
              "        const buttonEl =\n",
              "          document.querySelector('#df-63034e3f-5090-43fa-8ef2-24e819e04f34 button.colab-df-convert');\n",
              "        buttonEl.style.display =\n",
              "          google.colab.kernel.accessAllowed ? 'block' : 'none';\n",
              "\n",
              "        async function convertToInteractive(key) {\n",
              "          const element = document.querySelector('#df-63034e3f-5090-43fa-8ef2-24e819e04f34');\n",
              "          const dataTable =\n",
              "            await google.colab.kernel.invokeFunction('convertToInteractive',\n",
              "                                                     [key], {});\n",
              "          if (!dataTable) return;\n",
              "\n",
              "          const docLinkHtml = 'Like what you see? Visit the ' +\n",
              "            '<a target=\"_blank\" href=https://colab.research.google.com/notebooks/data_table.ipynb>data table notebook</a>'\n",
              "            + ' to learn more about interactive tables.';\n",
              "          element.innerHTML = '';\n",
              "          dataTable['output_type'] = 'display_data';\n",
              "          await google.colab.output.renderOutput(dataTable, element);\n",
              "          const docLink = document.createElement('div');\n",
              "          docLink.innerHTML = docLinkHtml;\n",
              "          element.appendChild(docLink);\n",
              "        }\n",
              "      </script>\n",
              "    </div>\n",
              "  </div>\n",
              "  "
            ]
          },
          "metadata": {},
          "execution_count": 10
        }
      ]
    },
    {
      "cell_type": "code",
      "source": [
        "# Remove duplicate rows\n",
        "df_stock = df_stock.drop_duplicates()\n",
        "df_stock.nunique()"
      ],
      "metadata": {
        "colab": {
          "base_uri": "https://localhost:8080/"
        },
        "id": "P8iAhRXkVSnw",
        "outputId": "2b4fcf9d-21e7-4877-c837-d7aeaecad40d"
      },
      "execution_count": 11,
      "outputs": [
        {
          "output_type": "execute_result",
          "data": {
            "text/plain": [
              "Date           1726\n",
              "Close_Price    1492\n",
              "dtype: int64"
            ]
          },
          "metadata": {},
          "execution_count": 11
        }
      ]
    },
    {
      "cell_type": "code",
      "source": [
        "df_stock['Date'] = pd.to_datetime(df_stock['Date'])\n",
        "df_stock.head()"
      ],
      "metadata": {
        "colab": {
          "base_uri": "https://localhost:8080/",
          "height": 206
        },
        "id": "Ek4xBTXn4G9n",
        "outputId": "02caee3d-4cf1-4a1a-c48d-736b38d754f3"
      },
      "execution_count": 12,
      "outputs": [
        {
          "output_type": "execute_result",
          "data": {
            "text/plain": [
              "        Date  Close_Price\n",
              "0 2022-11-04       816.40\n",
              "2 2022-11-03       818.65\n",
              "3 2022-10-31       832.00\n",
              "4 2022-10-28       816.85\n",
              "5 2022-10-27       817.10"
            ],
            "text/html": [
              "\n",
              "  <div id=\"df-56f15fd6-72d5-4e4d-8e77-a21488a72d48\">\n",
              "    <div class=\"colab-df-container\">\n",
              "      <div>\n",
              "<style scoped>\n",
              "    .dataframe tbody tr th:only-of-type {\n",
              "        vertical-align: middle;\n",
              "    }\n",
              "\n",
              "    .dataframe tbody tr th {\n",
              "        vertical-align: top;\n",
              "    }\n",
              "\n",
              "    .dataframe thead th {\n",
              "        text-align: right;\n",
              "    }\n",
              "</style>\n",
              "<table border=\"1\" class=\"dataframe\">\n",
              "  <thead>\n",
              "    <tr style=\"text-align: right;\">\n",
              "      <th></th>\n",
              "      <th>Date</th>\n",
              "      <th>Close_Price</th>\n",
              "    </tr>\n",
              "  </thead>\n",
              "  <tbody>\n",
              "    <tr>\n",
              "      <th>0</th>\n",
              "      <td>2022-11-04</td>\n",
              "      <td>816.40</td>\n",
              "    </tr>\n",
              "    <tr>\n",
              "      <th>2</th>\n",
              "      <td>2022-11-03</td>\n",
              "      <td>818.65</td>\n",
              "    </tr>\n",
              "    <tr>\n",
              "      <th>3</th>\n",
              "      <td>2022-10-31</td>\n",
              "      <td>832.00</td>\n",
              "    </tr>\n",
              "    <tr>\n",
              "      <th>4</th>\n",
              "      <td>2022-10-28</td>\n",
              "      <td>816.85</td>\n",
              "    </tr>\n",
              "    <tr>\n",
              "      <th>5</th>\n",
              "      <td>2022-10-27</td>\n",
              "      <td>817.10</td>\n",
              "    </tr>\n",
              "  </tbody>\n",
              "</table>\n",
              "</div>\n",
              "      <button class=\"colab-df-convert\" onclick=\"convertToInteractive('df-56f15fd6-72d5-4e4d-8e77-a21488a72d48')\"\n",
              "              title=\"Convert this dataframe to an interactive table.\"\n",
              "              style=\"display:none;\">\n",
              "        \n",
              "  <svg xmlns=\"http://www.w3.org/2000/svg\" height=\"24px\"viewBox=\"0 0 24 24\"\n",
              "       width=\"24px\">\n",
              "    <path d=\"M0 0h24v24H0V0z\" fill=\"none\"/>\n",
              "    <path d=\"M18.56 5.44l.94 2.06.94-2.06 2.06-.94-2.06-.94-.94-2.06-.94 2.06-2.06.94zm-11 1L8.5 8.5l.94-2.06 2.06-.94-2.06-.94L8.5 2.5l-.94 2.06-2.06.94zm10 10l.94 2.06.94-2.06 2.06-.94-2.06-.94-.94-2.06-.94 2.06-2.06.94z\"/><path d=\"M17.41 7.96l-1.37-1.37c-.4-.4-.92-.59-1.43-.59-.52 0-1.04.2-1.43.59L10.3 9.45l-7.72 7.72c-.78.78-.78 2.05 0 2.83L4 21.41c.39.39.9.59 1.41.59.51 0 1.02-.2 1.41-.59l7.78-7.78 2.81-2.81c.8-.78.8-2.07 0-2.86zM5.41 20L4 18.59l7.72-7.72 1.47 1.35L5.41 20z\"/>\n",
              "  </svg>\n",
              "      </button>\n",
              "      \n",
              "  <style>\n",
              "    .colab-df-container {\n",
              "      display:flex;\n",
              "      flex-wrap:wrap;\n",
              "      gap: 12px;\n",
              "    }\n",
              "\n",
              "    .colab-df-convert {\n",
              "      background-color: #E8F0FE;\n",
              "      border: none;\n",
              "      border-radius: 50%;\n",
              "      cursor: pointer;\n",
              "      display: none;\n",
              "      fill: #1967D2;\n",
              "      height: 32px;\n",
              "      padding: 0 0 0 0;\n",
              "      width: 32px;\n",
              "    }\n",
              "\n",
              "    .colab-df-convert:hover {\n",
              "      background-color: #E2EBFA;\n",
              "      box-shadow: 0px 1px 2px rgba(60, 64, 67, 0.3), 0px 1px 3px 1px rgba(60, 64, 67, 0.15);\n",
              "      fill: #174EA6;\n",
              "    }\n",
              "\n",
              "    [theme=dark] .colab-df-convert {\n",
              "      background-color: #3B4455;\n",
              "      fill: #D2E3FC;\n",
              "    }\n",
              "\n",
              "    [theme=dark] .colab-df-convert:hover {\n",
              "      background-color: #434B5C;\n",
              "      box-shadow: 0px 1px 3px 1px rgba(0, 0, 0, 0.15);\n",
              "      filter: drop-shadow(0px 1px 2px rgba(0, 0, 0, 0.3));\n",
              "      fill: #FFFFFF;\n",
              "    }\n",
              "  </style>\n",
              "\n",
              "      <script>\n",
              "        const buttonEl =\n",
              "          document.querySelector('#df-56f15fd6-72d5-4e4d-8e77-a21488a72d48 button.colab-df-convert');\n",
              "        buttonEl.style.display =\n",
              "          google.colab.kernel.accessAllowed ? 'block' : 'none';\n",
              "\n",
              "        async function convertToInteractive(key) {\n",
              "          const element = document.querySelector('#df-56f15fd6-72d5-4e4d-8e77-a21488a72d48');\n",
              "          const dataTable =\n",
              "            await google.colab.kernel.invokeFunction('convertToInteractive',\n",
              "                                                     [key], {});\n",
              "          if (!dataTable) return;\n",
              "\n",
              "          const docLinkHtml = 'Like what you see? Visit the ' +\n",
              "            '<a target=\"_blank\" href=https://colab.research.google.com/notebooks/data_table.ipynb>data table notebook</a>'\n",
              "            + ' to learn more about interactive tables.';\n",
              "          element.innerHTML = '';\n",
              "          dataTable['output_type'] = 'display_data';\n",
              "          await google.colab.output.renderOutput(dataTable, element);\n",
              "          const docLink = document.createElement('div');\n",
              "          docLink.innerHTML = docLinkHtml;\n",
              "          element.appendChild(docLink);\n",
              "        }\n",
              "      </script>\n",
              "    </div>\n",
              "  </div>\n",
              "  "
            ]
          },
          "metadata": {},
          "execution_count": 12
        }
      ]
    },
    {
      "cell_type": "code",
      "source": [
        "# Set Date column as index \n",
        "df_stock=df_stock.set_index(pd.DatetimeIndex(df_stock['Date']))\n",
        "df_stock.info()"
      ],
      "metadata": {
        "colab": {
          "base_uri": "https://localhost:8080/"
        },
        "id": "GbJ4WnEIagVa",
        "outputId": "d3da07c5-ada8-4a36-d67e-2a2795f7cd4e"
      },
      "execution_count": 13,
      "outputs": [
        {
          "output_type": "stream",
          "name": "stdout",
          "text": [
            "<class 'pandas.core.frame.DataFrame'>\n",
            "DatetimeIndex: 1726 entries, 2022-11-04 to 2015-11-09\n",
            "Data columns (total 2 columns):\n",
            " #   Column       Non-Null Count  Dtype         \n",
            "---  ------       --------------  -----         \n",
            " 0   Date         1726 non-null   datetime64[ns]\n",
            " 1   Close_Price  1726 non-null   float64       \n",
            "dtypes: datetime64[ns](1), float64(1)\n",
            "memory usage: 40.5 KB\n"
          ]
        }
      ]
    },
    {
      "cell_type": "code",
      "source": [
        "# Sort index in ascending order\n",
        "df_stock = df_stock.sort_index(ascending=True)\n",
        "df_stock.head()"
      ],
      "metadata": {
        "colab": {
          "base_uri": "https://localhost:8080/",
          "height": 238
        },
        "id": "7lrm37JOZcyb",
        "outputId": "eb8968b2-19a0-4b92-9425-c3cadf745382"
      },
      "execution_count": 14,
      "outputs": [
        {
          "output_type": "execute_result",
          "data": {
            "text/plain": [
              "                 Date  Close_Price\n",
              "Date                              \n",
              "2015-11-09 2015-11-09       335.25\n",
              "2015-11-10 2015-11-10       331.65\n",
              "2015-11-11 2015-11-11       331.90\n",
              "2015-11-13 2015-11-13       333.90\n",
              "2015-11-16 2015-11-16       335.75"
            ],
            "text/html": [
              "\n",
              "  <div id=\"df-77e25fac-54bd-43d3-9e54-f920e9810bc5\">\n",
              "    <div class=\"colab-df-container\">\n",
              "      <div>\n",
              "<style scoped>\n",
              "    .dataframe tbody tr th:only-of-type {\n",
              "        vertical-align: middle;\n",
              "    }\n",
              "\n",
              "    .dataframe tbody tr th {\n",
              "        vertical-align: top;\n",
              "    }\n",
              "\n",
              "    .dataframe thead th {\n",
              "        text-align: right;\n",
              "    }\n",
              "</style>\n",
              "<table border=\"1\" class=\"dataframe\">\n",
              "  <thead>\n",
              "    <tr style=\"text-align: right;\">\n",
              "      <th></th>\n",
              "      <th>Date</th>\n",
              "      <th>Close_Price</th>\n",
              "    </tr>\n",
              "    <tr>\n",
              "      <th>Date</th>\n",
              "      <th></th>\n",
              "      <th></th>\n",
              "    </tr>\n",
              "  </thead>\n",
              "  <tbody>\n",
              "    <tr>\n",
              "      <th>2015-11-09</th>\n",
              "      <td>2015-11-09</td>\n",
              "      <td>335.25</td>\n",
              "    </tr>\n",
              "    <tr>\n",
              "      <th>2015-11-10</th>\n",
              "      <td>2015-11-10</td>\n",
              "      <td>331.65</td>\n",
              "    </tr>\n",
              "    <tr>\n",
              "      <th>2015-11-11</th>\n",
              "      <td>2015-11-11</td>\n",
              "      <td>331.90</td>\n",
              "    </tr>\n",
              "    <tr>\n",
              "      <th>2015-11-13</th>\n",
              "      <td>2015-11-13</td>\n",
              "      <td>333.90</td>\n",
              "    </tr>\n",
              "    <tr>\n",
              "      <th>2015-11-16</th>\n",
              "      <td>2015-11-16</td>\n",
              "      <td>335.75</td>\n",
              "    </tr>\n",
              "  </tbody>\n",
              "</table>\n",
              "</div>\n",
              "      <button class=\"colab-df-convert\" onclick=\"convertToInteractive('df-77e25fac-54bd-43d3-9e54-f920e9810bc5')\"\n",
              "              title=\"Convert this dataframe to an interactive table.\"\n",
              "              style=\"display:none;\">\n",
              "        \n",
              "  <svg xmlns=\"http://www.w3.org/2000/svg\" height=\"24px\"viewBox=\"0 0 24 24\"\n",
              "       width=\"24px\">\n",
              "    <path d=\"M0 0h24v24H0V0z\" fill=\"none\"/>\n",
              "    <path d=\"M18.56 5.44l.94 2.06.94-2.06 2.06-.94-2.06-.94-.94-2.06-.94 2.06-2.06.94zm-11 1L8.5 8.5l.94-2.06 2.06-.94-2.06-.94L8.5 2.5l-.94 2.06-2.06.94zm10 10l.94 2.06.94-2.06 2.06-.94-2.06-.94-.94-2.06-.94 2.06-2.06.94z\"/><path d=\"M17.41 7.96l-1.37-1.37c-.4-.4-.92-.59-1.43-.59-.52 0-1.04.2-1.43.59L10.3 9.45l-7.72 7.72c-.78.78-.78 2.05 0 2.83L4 21.41c.39.39.9.59 1.41.59.51 0 1.02-.2 1.41-.59l7.78-7.78 2.81-2.81c.8-.78.8-2.07 0-2.86zM5.41 20L4 18.59l7.72-7.72 1.47 1.35L5.41 20z\"/>\n",
              "  </svg>\n",
              "      </button>\n",
              "      \n",
              "  <style>\n",
              "    .colab-df-container {\n",
              "      display:flex;\n",
              "      flex-wrap:wrap;\n",
              "      gap: 12px;\n",
              "    }\n",
              "\n",
              "    .colab-df-convert {\n",
              "      background-color: #E8F0FE;\n",
              "      border: none;\n",
              "      border-radius: 50%;\n",
              "      cursor: pointer;\n",
              "      display: none;\n",
              "      fill: #1967D2;\n",
              "      height: 32px;\n",
              "      padding: 0 0 0 0;\n",
              "      width: 32px;\n",
              "    }\n",
              "\n",
              "    .colab-df-convert:hover {\n",
              "      background-color: #E2EBFA;\n",
              "      box-shadow: 0px 1px 2px rgba(60, 64, 67, 0.3), 0px 1px 3px 1px rgba(60, 64, 67, 0.15);\n",
              "      fill: #174EA6;\n",
              "    }\n",
              "\n",
              "    [theme=dark] .colab-df-convert {\n",
              "      background-color: #3B4455;\n",
              "      fill: #D2E3FC;\n",
              "    }\n",
              "\n",
              "    [theme=dark] .colab-df-convert:hover {\n",
              "      background-color: #434B5C;\n",
              "      box-shadow: 0px 1px 3px 1px rgba(0, 0, 0, 0.15);\n",
              "      filter: drop-shadow(0px 1px 2px rgba(0, 0, 0, 0.3));\n",
              "      fill: #FFFFFF;\n",
              "    }\n",
              "  </style>\n",
              "\n",
              "      <script>\n",
              "        const buttonEl =\n",
              "          document.querySelector('#df-77e25fac-54bd-43d3-9e54-f920e9810bc5 button.colab-df-convert');\n",
              "        buttonEl.style.display =\n",
              "          google.colab.kernel.accessAllowed ? 'block' : 'none';\n",
              "\n",
              "        async function convertToInteractive(key) {\n",
              "          const element = document.querySelector('#df-77e25fac-54bd-43d3-9e54-f920e9810bc5');\n",
              "          const dataTable =\n",
              "            await google.colab.kernel.invokeFunction('convertToInteractive',\n",
              "                                                     [key], {});\n",
              "          if (!dataTable) return;\n",
              "\n",
              "          const docLinkHtml = 'Like what you see? Visit the ' +\n",
              "            '<a target=\"_blank\" href=https://colab.research.google.com/notebooks/data_table.ipynb>data table notebook</a>'\n",
              "            + ' to learn more about interactive tables.';\n",
              "          element.innerHTML = '';\n",
              "          dataTable['output_type'] = 'display_data';\n",
              "          await google.colab.output.renderOutput(dataTable, element);\n",
              "          const docLink = document.createElement('div');\n",
              "          docLink.innerHTML = docLinkHtml;\n",
              "          element.appendChild(docLink);\n",
              "        }\n",
              "      </script>\n",
              "    </div>\n",
              "  </div>\n",
              "  "
            ]
          },
          "metadata": {},
          "execution_count": 14
        }
      ]
    },
    {
      "cell_type": "code",
      "source": [
        "# Providing data range for understanding\n",
        "print(f'Dataframe contains stock prices between {df_stock.Date.min().strftime(\"%Y-%m-%d\")} and {df_stock.Date.max().strftime(\"%Y-%m-%d\")}')\n",
        "print(f'Total days {(df_stock.Date.max() - df_stock.Date.min()).days} days')"
      ],
      "metadata": {
        "colab": {
          "base_uri": "https://localhost:8080/"
        },
        "id": "u1QNI7l98ajd",
        "outputId": "386e9585-256b-47d4-9ffc-ca60fb693c01"
      },
      "execution_count": 15,
      "outputs": [
        {
          "output_type": "stream",
          "name": "stdout",
          "text": [
            "Dataframe contains stock prices between 2015-11-09 and 2022-11-04\n",
            "Total days 2552 days\n"
          ]
        }
      ]
    },
    {
      "cell_type": "code",
      "source": [
        "df_stock['Date']= pd.to_datetime(df_stock[\"Date\"]).dt.strftime(\"%Y%m%d\")\n",
        "df_stock.head()"
      ],
      "metadata": {
        "colab": {
          "base_uri": "https://localhost:8080/",
          "height": 238
        },
        "id": "Nja5KJCc8LRM",
        "outputId": "ab4acc79-fd0d-4542-a63d-7390017595c8"
      },
      "execution_count": 16,
      "outputs": [
        {
          "output_type": "execute_result",
          "data": {
            "text/plain": [
              "                Date  Close_Price\n",
              "Date                             \n",
              "2015-11-09  20151109       335.25\n",
              "2015-11-10  20151110       331.65\n",
              "2015-11-11  20151111       331.90\n",
              "2015-11-13  20151113       333.90\n",
              "2015-11-16  20151116       335.75"
            ],
            "text/html": [
              "\n",
              "  <div id=\"df-97c90ff3-357c-455f-9ab8-1adee2caf2ad\">\n",
              "    <div class=\"colab-df-container\">\n",
              "      <div>\n",
              "<style scoped>\n",
              "    .dataframe tbody tr th:only-of-type {\n",
              "        vertical-align: middle;\n",
              "    }\n",
              "\n",
              "    .dataframe tbody tr th {\n",
              "        vertical-align: top;\n",
              "    }\n",
              "\n",
              "    .dataframe thead th {\n",
              "        text-align: right;\n",
              "    }\n",
              "</style>\n",
              "<table border=\"1\" class=\"dataframe\">\n",
              "  <thead>\n",
              "    <tr style=\"text-align: right;\">\n",
              "      <th></th>\n",
              "      <th>Date</th>\n",
              "      <th>Close_Price</th>\n",
              "    </tr>\n",
              "    <tr>\n",
              "      <th>Date</th>\n",
              "      <th></th>\n",
              "      <th></th>\n",
              "    </tr>\n",
              "  </thead>\n",
              "  <tbody>\n",
              "    <tr>\n",
              "      <th>2015-11-09</th>\n",
              "      <td>20151109</td>\n",
              "      <td>335.25</td>\n",
              "    </tr>\n",
              "    <tr>\n",
              "      <th>2015-11-10</th>\n",
              "      <td>20151110</td>\n",
              "      <td>331.65</td>\n",
              "    </tr>\n",
              "    <tr>\n",
              "      <th>2015-11-11</th>\n",
              "      <td>20151111</td>\n",
              "      <td>331.90</td>\n",
              "    </tr>\n",
              "    <tr>\n",
              "      <th>2015-11-13</th>\n",
              "      <td>20151113</td>\n",
              "      <td>333.90</td>\n",
              "    </tr>\n",
              "    <tr>\n",
              "      <th>2015-11-16</th>\n",
              "      <td>20151116</td>\n",
              "      <td>335.75</td>\n",
              "    </tr>\n",
              "  </tbody>\n",
              "</table>\n",
              "</div>\n",
              "      <button class=\"colab-df-convert\" onclick=\"convertToInteractive('df-97c90ff3-357c-455f-9ab8-1adee2caf2ad')\"\n",
              "              title=\"Convert this dataframe to an interactive table.\"\n",
              "              style=\"display:none;\">\n",
              "        \n",
              "  <svg xmlns=\"http://www.w3.org/2000/svg\" height=\"24px\"viewBox=\"0 0 24 24\"\n",
              "       width=\"24px\">\n",
              "    <path d=\"M0 0h24v24H0V0z\" fill=\"none\"/>\n",
              "    <path d=\"M18.56 5.44l.94 2.06.94-2.06 2.06-.94-2.06-.94-.94-2.06-.94 2.06-2.06.94zm-11 1L8.5 8.5l.94-2.06 2.06-.94-2.06-.94L8.5 2.5l-.94 2.06-2.06.94zm10 10l.94 2.06.94-2.06 2.06-.94-2.06-.94-.94-2.06-.94 2.06-2.06.94z\"/><path d=\"M17.41 7.96l-1.37-1.37c-.4-.4-.92-.59-1.43-.59-.52 0-1.04.2-1.43.59L10.3 9.45l-7.72 7.72c-.78.78-.78 2.05 0 2.83L4 21.41c.39.39.9.59 1.41.59.51 0 1.02-.2 1.41-.59l7.78-7.78 2.81-2.81c.8-.78.8-2.07 0-2.86zM5.41 20L4 18.59l7.72-7.72 1.47 1.35L5.41 20z\"/>\n",
              "  </svg>\n",
              "      </button>\n",
              "      \n",
              "  <style>\n",
              "    .colab-df-container {\n",
              "      display:flex;\n",
              "      flex-wrap:wrap;\n",
              "      gap: 12px;\n",
              "    }\n",
              "\n",
              "    .colab-df-convert {\n",
              "      background-color: #E8F0FE;\n",
              "      border: none;\n",
              "      border-radius: 50%;\n",
              "      cursor: pointer;\n",
              "      display: none;\n",
              "      fill: #1967D2;\n",
              "      height: 32px;\n",
              "      padding: 0 0 0 0;\n",
              "      width: 32px;\n",
              "    }\n",
              "\n",
              "    .colab-df-convert:hover {\n",
              "      background-color: #E2EBFA;\n",
              "      box-shadow: 0px 1px 2px rgba(60, 64, 67, 0.3), 0px 1px 3px 1px rgba(60, 64, 67, 0.15);\n",
              "      fill: #174EA6;\n",
              "    }\n",
              "\n",
              "    [theme=dark] .colab-df-convert {\n",
              "      background-color: #3B4455;\n",
              "      fill: #D2E3FC;\n",
              "    }\n",
              "\n",
              "    [theme=dark] .colab-df-convert:hover {\n",
              "      background-color: #434B5C;\n",
              "      box-shadow: 0px 1px 3px 1px rgba(0, 0, 0, 0.15);\n",
              "      filter: drop-shadow(0px 1px 2px rgba(0, 0, 0, 0.3));\n",
              "      fill: #FFFFFF;\n",
              "    }\n",
              "  </style>\n",
              "\n",
              "      <script>\n",
              "        const buttonEl =\n",
              "          document.querySelector('#df-97c90ff3-357c-455f-9ab8-1adee2caf2ad button.colab-df-convert');\n",
              "        buttonEl.style.display =\n",
              "          google.colab.kernel.accessAllowed ? 'block' : 'none';\n",
              "\n",
              "        async function convertToInteractive(key) {\n",
              "          const element = document.querySelector('#df-97c90ff3-357c-455f-9ab8-1adee2caf2ad');\n",
              "          const dataTable =\n",
              "            await google.colab.kernel.invokeFunction('convertToInteractive',\n",
              "                                                     [key], {});\n",
              "          if (!dataTable) return;\n",
              "\n",
              "          const docLinkHtml = 'Like what you see? Visit the ' +\n",
              "            '<a target=\"_blank\" href=https://colab.research.google.com/notebooks/data_table.ipynb>data table notebook</a>'\n",
              "            + ' to learn more about interactive tables.';\n",
              "          element.innerHTML = '';\n",
              "          dataTable['output_type'] = 'display_data';\n",
              "          await google.colab.output.renderOutput(dataTable, element);\n",
              "          const docLink = document.createElement('div');\n",
              "          docLink.innerHTML = docLinkHtml;\n",
              "          element.appendChild(docLink);\n",
              "        }\n",
              "      </script>\n",
              "    </div>\n",
              "  </div>\n",
              "  "
            ]
          },
          "metadata": {},
          "execution_count": 16
        }
      ]
    },
    {
      "cell_type": "code",
      "source": [
        "df_stock.info()"
      ],
      "metadata": {
        "colab": {
          "base_uri": "https://localhost:8080/"
        },
        "id": "vfUXHwR_70tu",
        "outputId": "aaaf1568-8422-4035-c621-5cd9cb3b1bdb"
      },
      "execution_count": 17,
      "outputs": [
        {
          "output_type": "stream",
          "name": "stdout",
          "text": [
            "<class 'pandas.core.frame.DataFrame'>\n",
            "DatetimeIndex: 1726 entries, 2015-11-09 to 2022-11-04\n",
            "Data columns (total 2 columns):\n",
            " #   Column       Non-Null Count  Dtype  \n",
            "---  ------       --------------  -----  \n",
            " 0   Date         1726 non-null   object \n",
            " 1   Close_Price  1726 non-null   float64\n",
            "dtypes: float64(1), object(1)\n",
            "memory usage: 40.5+ KB\n"
          ]
        }
      ]
    },
    {
      "cell_type": "code",
      "source": [
        "# Convert Date column to integer\n",
        "df_stock['Date'] = df_stock['Date'].astype('int64')"
      ],
      "metadata": {
        "id": "INEaquoI9XgI"
      },
      "execution_count": 18,
      "outputs": []
    },
    {
      "cell_type": "code",
      "source": [
        "df_stock.info()"
      ],
      "metadata": {
        "colab": {
          "base_uri": "https://localhost:8080/"
        },
        "id": "Zhb4-Bfi9l7x",
        "outputId": "e8643c5f-0b93-48d5-ac36-0772bf89de05"
      },
      "execution_count": 19,
      "outputs": [
        {
          "output_type": "stream",
          "name": "stdout",
          "text": [
            "<class 'pandas.core.frame.DataFrame'>\n",
            "DatetimeIndex: 1726 entries, 2015-11-09 to 2022-11-04\n",
            "Data columns (total 2 columns):\n",
            " #   Column       Non-Null Count  Dtype  \n",
            "---  ------       --------------  -----  \n",
            " 0   Date         1726 non-null   int64  \n",
            " 1   Close_Price  1726 non-null   float64\n",
            "dtypes: float64(1), int64(1)\n",
            "memory usage: 40.5 KB\n"
          ]
        }
      ]
    },
    {
      "cell_type": "markdown",
      "source": [
        "**Finding Outliers and Treatment**"
      ],
      "metadata": {
        "id": "42PhAPQZY3WH"
      }
    },
    {
      "cell_type": "code",
      "execution_count": 20,
      "metadata": {
        "colab": {
          "base_uri": "https://localhost:8080/",
          "height": 172
        },
        "id": "5351743f",
        "outputId": "e24a181c-5329-4b76-9dc7-c796cd4cfcc3"
      },
      "outputs": [
        {
          "output_type": "display_data",
          "data": {
            "text/plain": [
              "<Figure size 720x144 with 1 Axes>"
            ],
            "image/png": "[encoded data removed]"
          },
          "metadata": {
            "needs_background": "light"
          }
        }
      ],
      "source": [
        "# Boxplot\n",
        "plt.figure(figsize=(10,2))\n",
        "ax = sns.boxplot(x=df_stock['Close_Price'],whis=1.5,data=df_stock)"
      ]
    },
    {
      "cell_type": "markdown",
      "source": [
        "Insight: No outliers in the dataset"
      ],
      "metadata": {
        "id": "rcDDIIlWZJBT"
      }
    },
    {
      "cell_type": "markdown",
      "metadata": {
        "id": "eefb71ed"
      },
      "source": [
        "**Data Visualizations**"
      ]
    },
    {
      "cell_type": "markdown",
      "metadata": {
        "id": "d3c6b96b"
      },
      "source": [
        "**Histogram**"
      ]
    },
    {
      "cell_type": "code",
      "execution_count": 21,
      "metadata": {
        "colab": {
          "base_uri": "https://localhost:8080/",
          "height": 298
        },
        "id": "c8ea6f86",
        "outputId": "66771aae-18f9-4a3e-a0ad-7b0b1de98874"
      },
      "outputs": [
        {
          "output_type": "display_data",
          "data": {
            "text/plain": [
              "<Figure size 576x288 with 0 Axes>"
            ]
          },
          "metadata": {}
        },
        {
          "output_type": "display_data",
          "data": {
            "text/plain": [
              "<Figure size 432x288 with 1 Axes>"
            ],
            "image/png": "[encoded data removed]"
          },
          "metadata": {
            "needs_background": "light"
          }
        }
      ],
      "source": [
        "plt.figure(figsize=(8,4))\n",
        "df_stock.hist(\"Close_Price\")\n",
        "plt.show()"
      ]
    },
    {
      "cell_type": "markdown",
      "metadata": {
        "id": "364eb876"
      },
      "source": [
        "**Density Plot**"
      ]
    },
    {
      "cell_type": "code",
      "execution_count": 22,
      "metadata": {
        "colab": {
          "base_uri": "https://localhost:8080/",
          "height": 320
        },
        "id": "155a5528",
        "outputId": "ebaa697f-59c2-4697-fc5f-8198e007dedb"
      },
      "outputs": [
        {
          "output_type": "display_data",
          "data": {
            "text/plain": [
              "<Figure size 720x360 with 1 Axes>"
            ],
            "image/png": "[encoded data removed]"
          },
          "metadata": {
            "needs_background": "light"
          }
        }
      ],
      "source": [
        "plt.figure(figsize=(10,5))\n",
        "df_stock[\"Close_Price\"].plot(kind='kde')\n",
        "plt.show()"
      ]
    },
    {
      "cell_type": "markdown",
      "source": [
        "**Scatter Plot**"
      ],
      "metadata": {
        "id": "A9-sE2wp9Zvx"
      }
    },
    {
      "cell_type": "code",
      "execution_count": 23,
      "metadata": {
        "colab": {
          "base_uri": "https://localhost:8080/",
          "height": 318
        },
        "id": "15d6af7f",
        "outputId": "a9d32ccf-c5d1-4c73-f536-caa503304f05"
      },
      "outputs": [
        {
          "output_type": "display_data",
          "data": {
            "text/plain": [
              "<Figure size 720x360 with 1 Axes>"
            ],
            "image/png": "[encoded data removed]"
          },
          "metadata": {
            "needs_background": "light"
          }
        }
      ],
      "source": [
        "plt.figure(figsize=(10,5))\n",
        "df_stock['Close_Price'].plot()\n",
        "plt.show()"
      ]
    },
    {
      "cell_type": "markdown",
      "metadata": {
        "id": "6c2184fa"
      },
      "source": [
        "Insight: Trend is upword or positive. Seasonality can be observed slightly."
      ]
    },
    {
      "cell_type": "markdown",
      "metadata": {
        "id": "947892aa"
      },
      "source": [
        "**Correlation between variables**"
      ]
    },
    {
      "cell_type": "code",
      "source": [
        "df_stock.corr()"
      ],
      "metadata": {
        "colab": {
          "base_uri": "https://localhost:8080/",
          "height": 112
        },
        "id": "wnhINctABhdC",
        "outputId": "6cf08850-8dab-4034-9ad8-1aeb2bb554a6"
      },
      "execution_count": 24,
      "outputs": [
        {
          "output_type": "execute_result",
          "data": {
            "text/plain": [
              "                 Date  Close_Price\n",
              "Date         1.000000     0.830831\n",
              "Close_Price  0.830831     1.000000"
            ],
            "text/html": [
              "\n",
              "  <div id=\"df-d2a77803-528e-4836-9c9d-d4fda7a98eb2\">\n",
              "    <div class=\"colab-df-container\">\n",
              "      <div>\n",
              "<style scoped>\n",
              "    .dataframe tbody tr th:only-of-type {\n",
              "        vertical-align: middle;\n",
              "    }\n",
              "\n",
              "    .dataframe tbody tr th {\n",
              "        vertical-align: top;\n",
              "    }\n",
              "\n",
              "    .dataframe thead th {\n",
              "        text-align: right;\n",
              "    }\n",
              "</style>\n",
              "<table border=\"1\" class=\"dataframe\">\n",
              "  <thead>\n",
              "    <tr style=\"text-align: right;\">\n",
              "      <th></th>\n",
              "      <th>Date</th>\n",
              "      <th>Close_Price</th>\n",
              "    </tr>\n",
              "  </thead>\n",
              "  <tbody>\n",
              "    <tr>\n",
              "      <th>Date</th>\n",
              "      <td>1.000000</td>\n",
              "      <td>0.830831</td>\n",
              "    </tr>\n",
              "    <tr>\n",
              "      <th>Close_Price</th>\n",
              "      <td>0.830831</td>\n",
              "      <td>1.000000</td>\n",
              "    </tr>\n",
              "  </tbody>\n",
              "</table>\n",
              "</div>\n",
              "      <button class=\"colab-df-convert\" onclick=\"convertToInteractive('df-d2a77803-528e-4836-9c9d-d4fda7a98eb2')\"\n",
              "              title=\"Convert this dataframe to an interactive table.\"\n",
              "              style=\"display:none;\">\n",
              "        \n",
              "  <svg xmlns=\"http://www.w3.org/2000/svg\" height=\"24px\"viewBox=\"0 0 24 24\"\n",
              "       width=\"24px\">\n",
              "    <path d=\"M0 0h24v24H0V0z\" fill=\"none\"/>\n",
              "    <path d=\"M18.56 5.44l.94 2.06.94-2.06 2.06-.94-2.06-.94-.94-2.06-.94 2.06-2.06.94zm-11 1L8.5 8.5l.94-2.06 2.06-.94-2.06-.94L8.5 2.5l-.94 2.06-2.06.94zm10 10l.94 2.06.94-2.06 2.06-.94-2.06-.94-.94-2.06-.94 2.06-2.06.94z\"/><path d=\"M17.41 7.96l-1.37-1.37c-.4-.4-.92-.59-1.43-.59-.52 0-1.04.2-1.43.59L10.3 9.45l-7.72 7.72c-.78.78-.78 2.05 0 2.83L4 21.41c.39.39.9.59 1.41.59.51 0 1.02-.2 1.41-.59l7.78-7.78 2.81-2.81c.8-.78.8-2.07 0-2.86zM5.41 20L4 18.59l7.72-7.72 1.47 1.35L5.41 20z\"/>\n",
              "  </svg>\n",
              "      </button>\n",
              "      \n",
              "  <style>\n",
              "    .colab-df-container {\n",
              "      display:flex;\n",
              "      flex-wrap:wrap;\n",
              "      gap: 12px;\n",
              "    }\n",
              "\n",
              "    .colab-df-convert {\n",
              "      background-color: #E8F0FE;\n",
              "      border: none;\n",
              "      border-radius: 50%;\n",
              "      cursor: pointer;\n",
              "      display: none;\n",
              "      fill: #1967D2;\n",
              "      height: 32px;\n",
              "      padding: 0 0 0 0;\n",
              "      width: 32px;\n",
              "    }\n",
              "\n",
              "    .colab-df-convert:hover {\n",
              "      background-color: #E2EBFA;\n",
              "      box-shadow: 0px 1px 2px rgba(60, 64, 67, 0.3), 0px 1px 3px 1px rgba(60, 64, 67, 0.15);\n",
              "      fill: #174EA6;\n",
              "    }\n",
              "\n",
              "    [theme=dark] .colab-df-convert {\n",
              "      background-color: #3B4455;\n",
              "      fill: #D2E3FC;\n",
              "    }\n",
              "\n",
              "    [theme=dark] .colab-df-convert:hover {\n",
              "      background-color: #434B5C;\n",
              "      box-shadow: 0px 1px 3px 1px rgba(0, 0, 0, 0.15);\n",
              "      filter: drop-shadow(0px 1px 2px rgba(0, 0, 0, 0.3));\n",
              "      fill: #FFFFFF;\n",
              "    }\n",
              "  </style>\n",
              "\n",
              "      <script>\n",
              "        const buttonEl =\n",
              "          document.querySelector('#df-d2a77803-528e-4836-9c9d-d4fda7a98eb2 button.colab-df-convert');\n",
              "        buttonEl.style.display =\n",
              "          google.colab.kernel.accessAllowed ? 'block' : 'none';\n",
              "\n",
              "        async function convertToInteractive(key) {\n",
              "          const element = document.querySelector('#df-d2a77803-528e-4836-9c9d-d4fda7a98eb2');\n",
              "          const dataTable =\n",
              "            await google.colab.kernel.invokeFunction('convertToInteractive',\n",
              "                                                     [key], {});\n",
              "          if (!dataTable) return;\n",
              "\n",
              "          const docLinkHtml = 'Like what you see? Visit the ' +\n",
              "            '<a target=\"_blank\" href=https://colab.research.google.com/notebooks/data_table.ipynb>data table notebook</a>'\n",
              "            + ' to learn more about interactive tables.';\n",
              "          element.innerHTML = '';\n",
              "          dataTable['output_type'] = 'display_data';\n",
              "          await google.colab.output.renderOutput(dataTable, element);\n",
              "          const docLink = document.createElement('div');\n",
              "          docLink.innerHTML = docLinkHtml;\n",
              "          element.appendChild(docLink);\n",
              "        }\n",
              "      </script>\n",
              "    </div>\n",
              "  </div>\n",
              "  "
            ]
          },
          "metadata": {},
          "execution_count": 24
        }
      ]
    },
    {
      "cell_type": "code",
      "execution_count": 25,
      "metadata": {
        "colab": {
          "base_uri": "https://localhost:8080/",
          "height": 391
        },
        "id": "3257684f",
        "outputId": "66b81553-ca5c-4f66-8448-4afa2a84eb37"
      },
      "outputs": [
        {
          "output_type": "execute_result",
          "data": {
            "text/plain": [
              "<seaborn.axisgrid.PairGrid at 0x7fe2713df790>"
            ]
          },
          "metadata": {},
          "execution_count": 25
        },
        {
          "output_type": "display_data",
          "data": {
            "text/plain": [
              "<Figure size 360x360 with 6 Axes>"
            ],
            "image/png": "[encoded data removed]"
          },
          "metadata": {
            "needs_background": "light"
          }
        }
      ],
      "source": [
        "sns.pairplot(df_stock)"
      ]
    },
    {
      "cell_type": "markdown",
      "metadata": {
        "id": "7c6473d5"
      },
      "source": [
        "Final Conclusion: Have significant relationship exists between Data and Close_Price"
      ]
    },
    {
      "cell_type": "markdown",
      "source": [
        "**Analysis and Splitting of Data into Train and Test**"
      ],
      "metadata": {
        "id": "O5UxGFIn93S1"
      }
    },
    {
      "cell_type": "code",
      "source": [
        "df_stock.tail(19)"
      ],
      "metadata": {
        "colab": {
          "base_uri": "https://localhost:8080/",
          "height": 677
        },
        "id": "PWnezhb58xpO",
        "outputId": "f95a1dd8-c0f9-4d49-a11e-64a979e7bf02"
      },
      "execution_count": 26,
      "outputs": [
        {
          "output_type": "execute_result",
          "data": {
            "text/plain": [
              "                Date  Close_Price\n",
              "Date                             \n",
              "2022-10-06  20221006       788.60\n",
              "2022-10-07  20221007       793.10\n",
              "2022-10-10  20221010       792.35\n",
              "2022-10-11  20221011       780.30\n",
              "2022-10-12  20221012       775.55\n",
              "2022-10-13  20221013       768.90\n",
              "2022-10-14  20221014       765.95\n",
              "2022-10-17  20221017       766.00\n",
              "2022-10-18  20221018       783.15\n",
              "2022-10-19  20221019       783.40\n",
              "2022-10-20  20221020       792.90\n",
              "2022-10-21  20221021       797.45\n",
              "2022-10-24  20221024       802.10\n",
              "2022-10-25  20221025       802.30\n",
              "2022-10-27  20221027       817.10\n",
              "2022-10-28  20221028       816.85\n",
              "2022-10-31  20221031       832.00\n",
              "2022-11-03  20221103       818.65\n",
              "2022-11-04  20221104       816.40"
            ],
            "text/html": [
              "\n",
              "  <div id=\"df-a5872828-b3bb-46b4-ae6a-39f4953bb824\">\n",
              "    <div class=\"colab-df-container\">\n",
              "      <div>\n",
              "<style scoped>\n",
              "    .dataframe tbody tr th:only-of-type {\n",
              "        vertical-align: middle;\n",
              "    }\n",
              "\n",
              "    .dataframe tbody tr th {\n",
              "        vertical-align: top;\n",
              "    }\n",
              "\n",
              "    .dataframe thead th {\n",
              "        text-align: right;\n",
              "    }\n",
              "</style>\n",
              "<table border=\"1\" class=\"dataframe\">\n",
              "  <thead>\n",
              "    <tr style=\"text-align: right;\">\n",
              "      <th></th>\n",
              "      <th>Date</th>\n",
              "      <th>Close_Price</th>\n",
              "    </tr>\n",
              "    <tr>\n",
              "      <th>Date</th>\n",
              "      <th></th>\n",
              "      <th></th>\n",
              "    </tr>\n",
              "  </thead>\n",
              "  <tbody>\n",
              "    <tr>\n",
              "      <th>2022-10-06</th>\n",
              "      <td>20221006</td>\n",
              "      <td>788.60</td>\n",
              "    </tr>\n",
              "    <tr>\n",
              "      <th>2022-10-07</th>\n",
              "      <td>20221007</td>\n",
              "      <td>793.10</td>\n",
              "    </tr>\n",
              "    <tr>\n",
              "      <th>2022-10-10</th>\n",
              "      <td>20221010</td>\n",
              "      <td>792.35</td>\n",
              "    </tr>\n",
              "    <tr>\n",
              "      <th>2022-10-11</th>\n",
              "      <td>20221011</td>\n",
              "      <td>780.30</td>\n",
              "    </tr>\n",
              "    <tr>\n",
              "      <th>2022-10-12</th>\n",
              "      <td>20221012</td>\n",
              "      <td>775.55</td>\n",
              "    </tr>\n",
              "    <tr>\n",
              "      <th>2022-10-13</th>\n",
              "      <td>20221013</td>\n",
              "      <td>768.90</td>\n",
              "    </tr>\n",
              "    <tr>\n",
              "      <th>2022-10-14</th>\n",
              "      <td>20221014</td>\n",
              "      <td>765.95</td>\n",
              "    </tr>\n",
              "    <tr>\n",
              "      <th>2022-10-17</th>\n",
              "      <td>20221017</td>\n",
              "      <td>766.00</td>\n",
              "    </tr>\n",
              "    <tr>\n",
              "      <th>2022-10-18</th>\n",
              "      <td>20221018</td>\n",
              "      <td>783.15</td>\n",
              "    </tr>\n",
              "    <tr>\n",
              "      <th>2022-10-19</th>\n",
              "      <td>20221019</td>\n",
              "      <td>783.40</td>\n",
              "    </tr>\n",
              "    <tr>\n",
              "      <th>2022-10-20</th>\n",
              "      <td>20221020</td>\n",
              "      <td>792.90</td>\n",
              "    </tr>\n",
              "    <tr>\n",
              "      <th>2022-10-21</th>\n",
              "      <td>20221021</td>\n",
              "      <td>797.45</td>\n",
              "    </tr>\n",
              "    <tr>\n",
              "      <th>2022-10-24</th>\n",
              "      <td>20221024</td>\n",
              "      <td>802.10</td>\n",
              "    </tr>\n",
              "    <tr>\n",
              "      <th>2022-10-25</th>\n",
              "      <td>20221025</td>\n",
              "      <td>802.30</td>\n",
              "    </tr>\n",
              "    <tr>\n",
              "      <th>2022-10-27</th>\n",
              "      <td>20221027</td>\n",
              "      <td>817.10</td>\n",
              "    </tr>\n",
              "    <tr>\n",
              "      <th>2022-10-28</th>\n",
              "      <td>20221028</td>\n",
              "      <td>816.85</td>\n",
              "    </tr>\n",
              "    <tr>\n",
              "      <th>2022-10-31</th>\n",
              "      <td>20221031</td>\n",
              "      <td>832.00</td>\n",
              "    </tr>\n",
              "    <tr>\n",
              "      <th>2022-11-03</th>\n",
              "      <td>20221103</td>\n",
              "      <td>818.65</td>\n",
              "    </tr>\n",
              "    <tr>\n",
              "      <th>2022-11-04</th>\n",
              "      <td>20221104</td>\n",
              "      <td>816.40</td>\n",
              "    </tr>\n",
              "  </tbody>\n",
              "</table>\n",
              "</div>\n",
              "      <button class=\"colab-df-convert\" onclick=\"convertToInteractive('df-a5872828-b3bb-46b4-ae6a-39f4953bb824')\"\n",
              "              title=\"Convert this dataframe to an interactive table.\"\n",
              "              style=\"display:none;\">\n",
              "        \n",
              "  <svg xmlns=\"http://www.w3.org/2000/svg\" height=\"24px\"viewBox=\"0 0 24 24\"\n",
              "       width=\"24px\">\n",
              "    <path d=\"M0 0h24v24H0V0z\" fill=\"none\"/>\n",
              "    <path d=\"M18.56 5.44l.94 2.06.94-2.06 2.06-.94-2.06-.94-.94-2.06-.94 2.06-2.06.94zm-11 1L8.5 8.5l.94-2.06 2.06-.94-2.06-.94L8.5 2.5l-.94 2.06-2.06.94zm10 10l.94 2.06.94-2.06 2.06-.94-2.06-.94-.94-2.06-.94 2.06-2.06.94z\"/><path d=\"M17.41 7.96l-1.37-1.37c-.4-.4-.92-.59-1.43-.59-.52 0-1.04.2-1.43.59L10.3 9.45l-7.72 7.72c-.78.78-.78 2.05 0 2.83L4 21.41c.39.39.9.59 1.41.59.51 0 1.02-.2 1.41-.59l7.78-7.78 2.81-2.81c.8-.78.8-2.07 0-2.86zM5.41 20L4 18.59l7.72-7.72 1.47 1.35L5.41 20z\"/>\n",
              "  </svg>\n",
              "      </button>\n",
              "      \n",
              "  <style>\n",
              "    .colab-df-container {\n",
              "      display:flex;\n",
              "      flex-wrap:wrap;\n",
              "      gap: 12px;\n",
              "    }\n",
              "\n",
              "    .colab-df-convert {\n",
              "      background-color: #E8F0FE;\n",
              "      border: none;\n",
              "      border-radius: 50%;\n",
              "      cursor: pointer;\n",
              "      display: none;\n",
              "      fill: #1967D2;\n",
              "      height: 32px;\n",
              "      padding: 0 0 0 0;\n",
              "      width: 32px;\n",
              "    }\n",
              "\n",
              "    .colab-df-convert:hover {\n",
              "      background-color: #E2EBFA;\n",
              "      box-shadow: 0px 1px 2px rgba(60, 64, 67, 0.3), 0px 1px 3px 1px rgba(60, 64, 67, 0.15);\n",
              "      fill: #174EA6;\n",
              "    }\n",
              "\n",
              "    [theme=dark] .colab-df-convert {\n",
              "      background-color: #3B4455;\n",
              "      fill: #D2E3FC;\n",
              "    }\n",
              "\n",
              "    [theme=dark] .colab-df-convert:hover {\n",
              "      background-color: #434B5C;\n",
              "      box-shadow: 0px 1px 3px 1px rgba(0, 0, 0, 0.15);\n",
              "      filter: drop-shadow(0px 1px 2px rgba(0, 0, 0, 0.3));\n",
              "      fill: #FFFFFF;\n",
              "    }\n",
              "  </style>\n",
              "\n",
              "      <script>\n",
              "        const buttonEl =\n",
              "          document.querySelector('#df-a5872828-b3bb-46b4-ae6a-39f4953bb824 button.colab-df-convert');\n",
              "        buttonEl.style.display =\n",
              "          google.colab.kernel.accessAllowed ? 'block' : 'none';\n",
              "\n",
              "        async function convertToInteractive(key) {\n",
              "          const element = document.querySelector('#df-a5872828-b3bb-46b4-ae6a-39f4953bb824');\n",
              "          const dataTable =\n",
              "            await google.colab.kernel.invokeFunction('convertToInteractive',\n",
              "                                                     [key], {});\n",
              "          if (!dataTable) return;\n",
              "\n",
              "          const docLinkHtml = 'Like what you see? Visit the ' +\n",
              "            '<a target=\"_blank\" href=https://colab.research.google.com/notebooks/data_table.ipynb>data table notebook</a>'\n",
              "            + ' to learn more about interactive tables.';\n",
              "          element.innerHTML = '';\n",
              "          dataTable['output_type'] = 'display_data';\n",
              "          await google.colab.output.renderOutput(dataTable, element);\n",
              "          const docLink = document.createElement('div');\n",
              "          docLink.innerHTML = docLinkHtml;\n",
              "          element.appendChild(docLink);\n",
              "        }\n",
              "      </script>\n",
              "    </div>\n",
              "  </div>\n",
              "  "
            ]
          },
          "metadata": {},
          "execution_count": 26
        }
      ]
    },
    {
      "cell_type": "code",
      "source": [
        "# So, we can use one month data for predicting/forecasting.\n",
        "n=19\n",
        "df_stock_train = df_stock.iloc[0:(len(df_stock)-n), :]\n",
        "df_stock_test = df_stock.iloc[(len(df_stock)-n):, :]\n",
        "\n",
        "# Create separate train dataset for Arima use since we append data while forecasting\n",
        "df_stock_train_arima = df_stock.iloc[0:(len(df_stock)-n), :]"
      ],
      "metadata": {
        "id": "7FwWlqIaDG_H"
      },
      "execution_count": 27,
      "outputs": []
    },
    {
      "cell_type": "code",
      "source": [
        "print(df_stock_train.info())\n",
        "print(df_stock_train_arima.info())\n",
        "print(df_stock_test.info())"
      ],
      "metadata": {
        "colab": {
          "base_uri": "https://localhost:8080/"
        },
        "id": "7EXmDJJODFC4",
        "outputId": "ab45fda8-284f-43d7-d7e1-b535ec280ccb"
      },
      "execution_count": 28,
      "outputs": [
        {
          "output_type": "stream",
          "name": "stdout",
          "text": [
            "<class 'pandas.core.frame.DataFrame'>\n",
            "DatetimeIndex: 1707 entries, 2015-11-09 to 2022-10-04\n",
            "Data columns (total 2 columns):\n",
            " #   Column       Non-Null Count  Dtype  \n",
            "---  ------       --------------  -----  \n",
            " 0   Date         1707 non-null   int64  \n",
            " 1   Close_Price  1707 non-null   float64\n",
            "dtypes: float64(1), int64(1)\n",
            "memory usage: 40.0 KB\n",
            "None\n",
            "<class 'pandas.core.frame.DataFrame'>\n",
            "DatetimeIndex: 1707 entries, 2015-11-09 to 2022-10-04\n",
            "Data columns (total 2 columns):\n",
            " #   Column       Non-Null Count  Dtype  \n",
            "---  ------       --------------  -----  \n",
            " 0   Date         1707 non-null   int64  \n",
            " 1   Close_Price  1707 non-null   float64\n",
            "dtypes: float64(1), int64(1)\n",
            "memory usage: 40.0 KB\n",
            "None\n",
            "<class 'pandas.core.frame.DataFrame'>\n",
            "DatetimeIndex: 19 entries, 2022-10-06 to 2022-11-04\n",
            "Data columns (total 2 columns):\n",
            " #   Column       Non-Null Count  Dtype  \n",
            "---  ------       --------------  -----  \n",
            " 0   Date         19 non-null     int64  \n",
            " 1   Close_Price  19 non-null     float64\n",
            "dtypes: float64(1), int64(1)\n",
            "memory usage: 456.0 bytes\n",
            "None\n"
          ]
        }
      ]
    },
    {
      "cell_type": "code",
      "source": [
        "df_stock_train.tail()"
      ],
      "metadata": {
        "colab": {
          "base_uri": "https://localhost:8080/",
          "height": 238
        },
        "id": "htbHTC2aD17Y",
        "outputId": "9184261c-bf6a-4f49-f427-3827ba69f1bf"
      },
      "execution_count": 29,
      "outputs": [
        {
          "output_type": "execute_result",
          "data": {
            "text/plain": [
              "                Date  Close_Price\n",
              "Date                             \n",
              "2022-09-28  20220928       761.45\n",
              "2022-09-29  20220929       764.65\n",
              "2022-09-30  20220930       799.90\n",
              "2022-10-03  20221003       803.35\n",
              "2022-10-04  20221004       808.70"
            ],
            "text/html": [
              "\n",
              "  <div id=\"df-7a0d9b53-8743-47b8-9d65-9f17d173f2c0\">\n",
              "    <div class=\"colab-df-container\">\n",
              "      <div>\n",
              "<style scoped>\n",
              "    .dataframe tbody tr th:only-of-type {\n",
              "        vertical-align: middle;\n",
              "    }\n",
              "\n",
              "    .dataframe tbody tr th {\n",
              "        vertical-align: top;\n",
              "    }\n",
              "\n",
              "    .dataframe thead th {\n",
              "        text-align: right;\n",
              "    }\n",
              "</style>\n",
              "<table border=\"1\" class=\"dataframe\">\n",
              "  <thead>\n",
              "    <tr style=\"text-align: right;\">\n",
              "      <th></th>\n",
              "      <th>Date</th>\n",
              "      <th>Close_Price</th>\n",
              "    </tr>\n",
              "    <tr>\n",
              "      <th>Date</th>\n",
              "      <th></th>\n",
              "      <th></th>\n",
              "    </tr>\n",
              "  </thead>\n",
              "  <tbody>\n",
              "    <tr>\n",
              "      <th>2022-09-28</th>\n",
              "      <td>20220928</td>\n",
              "      <td>761.45</td>\n",
              "    </tr>\n",
              "    <tr>\n",
              "      <th>2022-09-29</th>\n",
              "      <td>20220929</td>\n",
              "      <td>764.65</td>\n",
              "    </tr>\n",
              "    <tr>\n",
              "      <th>2022-09-30</th>\n",
              "      <td>20220930</td>\n",
              "      <td>799.90</td>\n",
              "    </tr>\n",
              "    <tr>\n",
              "      <th>2022-10-03</th>\n",
              "      <td>20221003</td>\n",
              "      <td>803.35</td>\n",
              "    </tr>\n",
              "    <tr>\n",
              "      <th>2022-10-04</th>\n",
              "      <td>20221004</td>\n",
              "      <td>808.70</td>\n",
              "    </tr>\n",
              "  </tbody>\n",
              "</table>\n",
              "</div>\n",
              "      <button class=\"colab-df-convert\" onclick=\"convertToInteractive('df-7a0d9b53-8743-47b8-9d65-9f17d173f2c0')\"\n",
              "              title=\"Convert this dataframe to an interactive table.\"\n",
              "              style=\"display:none;\">\n",
              "        \n",
              "  <svg xmlns=\"http://www.w3.org/2000/svg\" height=\"24px\"viewBox=\"0 0 24 24\"\n",
              "       width=\"24px\">\n",
              "    <path d=\"M0 0h24v24H0V0z\" fill=\"none\"/>\n",
              "    <path d=\"M18.56 5.44l.94 2.06.94-2.06 2.06-.94-2.06-.94-.94-2.06-.94 2.06-2.06.94zm-11 1L8.5 8.5l.94-2.06 2.06-.94-2.06-.94L8.5 2.5l-.94 2.06-2.06.94zm10 10l.94 2.06.94-2.06 2.06-.94-2.06-.94-.94-2.06-.94 2.06-2.06.94z\"/><path d=\"M17.41 7.96l-1.37-1.37c-.4-.4-.92-.59-1.43-.59-.52 0-1.04.2-1.43.59L10.3 9.45l-7.72 7.72c-.78.78-.78 2.05 0 2.83L4 21.41c.39.39.9.59 1.41.59.51 0 1.02-.2 1.41-.59l7.78-7.78 2.81-2.81c.8-.78.8-2.07 0-2.86zM5.41 20L4 18.59l7.72-7.72 1.47 1.35L5.41 20z\"/>\n",
              "  </svg>\n",
              "      </button>\n",
              "      \n",
              "  <style>\n",
              "    .colab-df-container {\n",
              "      display:flex;\n",
              "      flex-wrap:wrap;\n",
              "      gap: 12px;\n",
              "    }\n",
              "\n",
              "    .colab-df-convert {\n",
              "      background-color: #E8F0FE;\n",
              "      border: none;\n",
              "      border-radius: 50%;\n",
              "      cursor: pointer;\n",
              "      display: none;\n",
              "      fill: #1967D2;\n",
              "      height: 32px;\n",
              "      padding: 0 0 0 0;\n",
              "      width: 32px;\n",
              "    }\n",
              "\n",
              "    .colab-df-convert:hover {\n",
              "      background-color: #E2EBFA;\n",
              "      box-shadow: 0px 1px 2px rgba(60, 64, 67, 0.3), 0px 1px 3px 1px rgba(60, 64, 67, 0.15);\n",
              "      fill: #174EA6;\n",
              "    }\n",
              "\n",
              "    [theme=dark] .colab-df-convert {\n",
              "      background-color: #3B4455;\n",
              "      fill: #D2E3FC;\n",
              "    }\n",
              "\n",
              "    [theme=dark] .colab-df-convert:hover {\n",
              "      background-color: #434B5C;\n",
              "      box-shadow: 0px 1px 3px 1px rgba(0, 0, 0, 0.15);\n",
              "      filter: drop-shadow(0px 1px 2px rgba(0, 0, 0, 0.3));\n",
              "      fill: #FFFFFF;\n",
              "    }\n",
              "  </style>\n",
              "\n",
              "      <script>\n",
              "        const buttonEl =\n",
              "          document.querySelector('#df-7a0d9b53-8743-47b8-9d65-9f17d173f2c0 button.colab-df-convert');\n",
              "        buttonEl.style.display =\n",
              "          google.colab.kernel.accessAllowed ? 'block' : 'none';\n",
              "\n",
              "        async function convertToInteractive(key) {\n",
              "          const element = document.querySelector('#df-7a0d9b53-8743-47b8-9d65-9f17d173f2c0');\n",
              "          const dataTable =\n",
              "            await google.colab.kernel.invokeFunction('convertToInteractive',\n",
              "                                                     [key], {});\n",
              "          if (!dataTable) return;\n",
              "\n",
              "          const docLinkHtml = 'Like what you see? Visit the ' +\n",
              "            '<a target=\"_blank\" href=https://colab.research.google.com/notebooks/data_table.ipynb>data table notebook</a>'\n",
              "            + ' to learn more about interactive tables.';\n",
              "          element.innerHTML = '';\n",
              "          dataTable['output_type'] = 'display_data';\n",
              "          await google.colab.output.renderOutput(dataTable, element);\n",
              "          const docLink = document.createElement('div');\n",
              "          docLink.innerHTML = docLinkHtml;\n",
              "          element.appendChild(docLink);\n",
              "        }\n",
              "      </script>\n",
              "    </div>\n",
              "  </div>\n",
              "  "
            ]
          },
          "metadata": {},
          "execution_count": 29
        }
      ]
    },
    {
      "cell_type": "code",
      "source": [
        "df_stock_test.head()"
      ],
      "metadata": {
        "colab": {
          "base_uri": "https://localhost:8080/",
          "height": 238
        },
        "id": "69I_URQ3EHaS",
        "outputId": "7d0cd856-67f2-4941-c642-c722871dcb95"
      },
      "execution_count": 30,
      "outputs": [
        {
          "output_type": "execute_result",
          "data": {
            "text/plain": [
              "                Date  Close_Price\n",
              "Date                             \n",
              "2022-10-06  20221006       788.60\n",
              "2022-10-07  20221007       793.10\n",
              "2022-10-10  20221010       792.35\n",
              "2022-10-11  20221011       780.30\n",
              "2022-10-12  20221012       775.55"
            ],
            "text/html": [
              "\n",
              "  <div id=\"df-660a2bd9-ef97-41a5-aaa5-d0f365a87645\">\n",
              "    <div class=\"colab-df-container\">\n",
              "      <div>\n",
              "<style scoped>\n",
              "    .dataframe tbody tr th:only-of-type {\n",
              "        vertical-align: middle;\n",
              "    }\n",
              "\n",
              "    .dataframe tbody tr th {\n",
              "        vertical-align: top;\n",
              "    }\n",
              "\n",
              "    .dataframe thead th {\n",
              "        text-align: right;\n",
              "    }\n",
              "</style>\n",
              "<table border=\"1\" class=\"dataframe\">\n",
              "  <thead>\n",
              "    <tr style=\"text-align: right;\">\n",
              "      <th></th>\n",
              "      <th>Date</th>\n",
              "      <th>Close_Price</th>\n",
              "    </tr>\n",
              "    <tr>\n",
              "      <th>Date</th>\n",
              "      <th></th>\n",
              "      <th></th>\n",
              "    </tr>\n",
              "  </thead>\n",
              "  <tbody>\n",
              "    <tr>\n",
              "      <th>2022-10-06</th>\n",
              "      <td>20221006</td>\n",
              "      <td>788.60</td>\n",
              "    </tr>\n",
              "    <tr>\n",
              "      <th>2022-10-07</th>\n",
              "      <td>20221007</td>\n",
              "      <td>793.10</td>\n",
              "    </tr>\n",
              "    <tr>\n",
              "      <th>2022-10-10</th>\n",
              "      <td>20221010</td>\n",
              "      <td>792.35</td>\n",
              "    </tr>\n",
              "    <tr>\n",
              "      <th>2022-10-11</th>\n",
              "      <td>20221011</td>\n",
              "      <td>780.30</td>\n",
              "    </tr>\n",
              "    <tr>\n",
              "      <th>2022-10-12</th>\n",
              "      <td>20221012</td>\n",
              "      <td>775.55</td>\n",
              "    </tr>\n",
              "  </tbody>\n",
              "</table>\n",
              "</div>\n",
              "      <button class=\"colab-df-convert\" onclick=\"convertToInteractive('df-660a2bd9-ef97-41a5-aaa5-d0f365a87645')\"\n",
              "              title=\"Convert this dataframe to an interactive table.\"\n",
              "              style=\"display:none;\">\n",
              "        \n",
              "  <svg xmlns=\"http://www.w3.org/2000/svg\" height=\"24px\"viewBox=\"0 0 24 24\"\n",
              "       width=\"24px\">\n",
              "    <path d=\"M0 0h24v24H0V0z\" fill=\"none\"/>\n",
              "    <path d=\"M18.56 5.44l.94 2.06.94-2.06 2.06-.94-2.06-.94-.94-2.06-.94 2.06-2.06.94zm-11 1L8.5 8.5l.94-2.06 2.06-.94-2.06-.94L8.5 2.5l-.94 2.06-2.06.94zm10 10l.94 2.06.94-2.06 2.06-.94-2.06-.94-.94-2.06-.94 2.06-2.06.94z\"/><path d=\"M17.41 7.96l-1.37-1.37c-.4-.4-.92-.59-1.43-.59-.52 0-1.04.2-1.43.59L10.3 9.45l-7.72 7.72c-.78.78-.78 2.05 0 2.83L4 21.41c.39.39.9.59 1.41.59.51 0 1.02-.2 1.41-.59l7.78-7.78 2.81-2.81c.8-.78.8-2.07 0-2.86zM5.41 20L4 18.59l7.72-7.72 1.47 1.35L5.41 20z\"/>\n",
              "  </svg>\n",
              "      </button>\n",
              "      \n",
              "  <style>\n",
              "    .colab-df-container {\n",
              "      display:flex;\n",
              "      flex-wrap:wrap;\n",
              "      gap: 12px;\n",
              "    }\n",
              "\n",
              "    .colab-df-convert {\n",
              "      background-color: #E8F0FE;\n",
              "      border: none;\n",
              "      border-radius: 50%;\n",
              "      cursor: pointer;\n",
              "      display: none;\n",
              "      fill: #1967D2;\n",
              "      height: 32px;\n",
              "      padding: 0 0 0 0;\n",
              "      width: 32px;\n",
              "    }\n",
              "\n",
              "    .colab-df-convert:hover {\n",
              "      background-color: #E2EBFA;\n",
              "      box-shadow: 0px 1px 2px rgba(60, 64, 67, 0.3), 0px 1px 3px 1px rgba(60, 64, 67, 0.15);\n",
              "      fill: #174EA6;\n",
              "    }\n",
              "\n",
              "    [theme=dark] .colab-df-convert {\n",
              "      background-color: #3B4455;\n",
              "      fill: #D2E3FC;\n",
              "    }\n",
              "\n",
              "    [theme=dark] .colab-df-convert:hover {\n",
              "      background-color: #434B5C;\n",
              "      box-shadow: 0px 1px 3px 1px rgba(0, 0, 0, 0.15);\n",
              "      filter: drop-shadow(0px 1px 2px rgba(0, 0, 0, 0.3));\n",
              "      fill: #FFFFFF;\n",
              "    }\n",
              "  </style>\n",
              "\n",
              "      <script>\n",
              "        const buttonEl =\n",
              "          document.querySelector('#df-660a2bd9-ef97-41a5-aaa5-d0f365a87645 button.colab-df-convert');\n",
              "        buttonEl.style.display =\n",
              "          google.colab.kernel.accessAllowed ? 'block' : 'none';\n",
              "\n",
              "        async function convertToInteractive(key) {\n",
              "          const element = document.querySelector('#df-660a2bd9-ef97-41a5-aaa5-d0f365a87645');\n",
              "          const dataTable =\n",
              "            await google.colab.kernel.invokeFunction('convertToInteractive',\n",
              "                                                     [key], {});\n",
              "          if (!dataTable) return;\n",
              "\n",
              "          const docLinkHtml = 'Like what you see? Visit the ' +\n",
              "            '<a target=\"_blank\" href=https://colab.research.google.com/notebooks/data_table.ipynb>data table notebook</a>'\n",
              "            + ' to learn more about interactive tables.';\n",
              "          element.innerHTML = '';\n",
              "          dataTable['output_type'] = 'display_data';\n",
              "          await google.colab.output.renderOutput(dataTable, element);\n",
              "          const docLink = document.createElement('div');\n",
              "          docLink.innerHTML = docLinkHtml;\n",
              "          element.appendChild(docLink);\n",
              "        }\n",
              "      </script>\n",
              "    </div>\n",
              "  </div>\n",
              "  "
            ]
          },
          "metadata": {},
          "execution_count": 30
        }
      ]
    },
    {
      "cell_type": "code",
      "source": [
        "df_stock_train_x = df_stock_train['Date']\n",
        "df_stock_train_y = df_stock_train['Close_Price']\n",
        "\n",
        "df_stock_train_array_x = df_stock_train_x.values.reshape(-1,1)\n",
        "df_stock_train_array_y = df_stock_train_y.values.reshape(-1,1)"
      ],
      "metadata": {
        "id": "utVS2lKKTEZB"
      },
      "execution_count": 31,
      "outputs": []
    },
    {
      "cell_type": "markdown",
      "source": [
        "Don't delete below"
      ],
      "metadata": {
        "id": "9fJ-ofjlSZ4H"
      }
    },
    {
      "cell_type": "markdown",
      "source": [
        "## **LSTM (Long Short Term Memory)**"
      ],
      "metadata": {
        "id": "E-OJr1EVnEy6"
      }
    },
    {
      "cell_type": "code",
      "source": [
        "print(df_stock_train_y.head())\n",
        "print(df_stock_train_y.shape)"
      ],
      "metadata": {
        "colab": {
          "base_uri": "https://localhost:8080/"
        },
        "id": "LYGlh8vFz5Rc",
        "outputId": "0ac0f9f0-1b65-4478-cbe1-7aa27c3a7910"
      },
      "execution_count": 32,
      "outputs": [
        {
          "output_type": "stream",
          "name": "stdout",
          "text": [
            "Date\n",
            "2015-11-09    335.25\n",
            "2015-11-10    331.65\n",
            "2015-11-11    331.90\n",
            "2015-11-13    333.90\n",
            "2015-11-16    335.75\n",
            "Name: Close_Price, dtype: float64\n",
            "(1707,)\n"
          ]
        }
      ]
    },
    {
      "cell_type": "markdown",
      "source": [
        "**Create LSTM model using training data**"
      ],
      "metadata": {
        "id": "5cG7uGtZX1wv"
      }
    },
    {
      "cell_type": "code",
      "source": [
        "# Create LSTM Dataframes from train data\n",
        "lookback=10\n",
        "x_train = []\n",
        "y_train = []\n",
        "for i in range(lookback,len(df_stock_train_array_y)):\n",
        "  x_train.append(df_stock_train_array_y[i-lookback:i, 0])\n",
        "  y_train.append(df_stock_train_array_y[i,0])\n",
        "\n",
        "x_train = np.array(x_train)\n",
        "y_train = np.array(y_train)\n",
        "print('x_train shape: ', x_train.shape)\n",
        "print('y_train shape: ', y_train.shape)"
      ],
      "metadata": {
        "colab": {
          "base_uri": "https://localhost:8080/"
        },
        "id": "jN05f-GWnPjy",
        "outputId": "0dde759c-48e4-448d-dc33-2e3e8557d4d6"
      },
      "execution_count": 33,
      "outputs": [
        {
          "output_type": "stream",
          "name": "stdout",
          "text": [
            "x_train shape:  (1697, 10)\n",
            "y_train shape:  (1697,)\n"
          ]
        }
      ]
    },
    {
      "cell_type": "code",
      "source": [
        "# Reshape the data to suit LSTM\n",
        "x_train = np.reshape(x_train,(x_train.shape[0],x_train.shape[1], 1 ) )\n",
        "print('x_train new shape: ', x_train.shape)"
      ],
      "metadata": {
        "colab": {
          "base_uri": "https://localhost:8080/"
        },
        "id": "_5jHcnKu2A2D",
        "outputId": "942db6c2-24c7-4df3-f8bc-ce3aa897f01d"
      },
      "execution_count": 34,
      "outputs": [
        {
          "output_type": "stream",
          "name": "stdout",
          "text": [
            "x_train new shape:  (1697, 10, 1)\n"
          ]
        }
      ]
    },
    {
      "cell_type": "code",
      "source": [
        "# Create LSTM model\n",
        "lstm_model = Sequential()\n",
        "lstm_model.add(LSTM(32, input_shape=(x_train.shape[1],1), activation='relu'))\n",
        "lstm_model.add(Dense(1, activation='linear'))"
      ],
      "metadata": {
        "id": "DNM0UhK8s9vf"
      },
      "execution_count": 35,
      "outputs": []
    },
    {
      "cell_type": "code",
      "source": [
        "# compile the model\n",
        "lstm_model.compile(optimizer='adam', loss='mean_squared_error')"
      ],
      "metadata": {
        "id": "E5S5EIfZuRJi"
      },
      "execution_count": 36,
      "outputs": []
    },
    {
      "cell_type": "code",
      "source": [
        "# fit the model\n",
        "hist = lstm_model.fit(x_train, y_train, epochs=100, batch_size=32)"
      ],
      "metadata": {
        "colab": {
          "base_uri": "https://localhost:8080/"
        },
        "id": "8kmlXdbowfO0",
        "outputId": "61b9291e-4978-41ba-ed7b-b33e9e8c94d5"
      },
      "execution_count": 37,
      "outputs": [
        {
          "output_type": "stream",
          "name": "stdout",
          "text": [
            "Epoch 1/100\n",
            "54/54 [==============================] - 2s 6ms/step - loss: 134935.1406\n",
            "Epoch 2/100\n",
            "54/54 [==============================] - 0s 6ms/step - loss: 2430.8828\n",
            "Epoch 3/100\n",
            "54/54 [==============================] - 0s 6ms/step - loss: 1748.9104\n",
            "Epoch 4/100\n",
            "54/54 [==============================] - 0s 5ms/step - loss: 1760.4116\n",
            "Epoch 5/100\n",
            "54/54 [==============================] - 0s 5ms/step - loss: 598.9343\n",
            "Epoch 6/100\n",
            "54/54 [==============================] - 0s 6ms/step - loss: 528.6158\n",
            "Epoch 7/100\n",
            "54/54 [==============================] - 0s 5ms/step - loss: 490.1224\n",
            "Epoch 8/100\n",
            "54/54 [==============================] - 0s 5ms/step - loss: 482.0311\n",
            "Epoch 9/100\n",
            "54/54 [==============================] - 0s 5ms/step - loss: 618.1428\n",
            "Epoch 10/100\n",
            "54/54 [==============================] - 0s 6ms/step - loss: 514.8073\n",
            "Epoch 11/100\n",
            "54/54 [==============================] - 0s 6ms/step - loss: 445.3169\n",
            "Epoch 12/100\n",
            "54/54 [==============================] - 0s 6ms/step - loss: 486.9118\n",
            "Epoch 13/100\n",
            "54/54 [==============================] - 0s 6ms/step - loss: 467.0563\n",
            "Epoch 14/100\n",
            "54/54 [==============================] - 0s 5ms/step - loss: 589.8811\n",
            "Epoch 15/100\n",
            "54/54 [==============================] - 0s 6ms/step - loss: 457.9245\n",
            "Epoch 16/100\n",
            "54/54 [==============================] - 0s 6ms/step - loss: 394.8353\n",
            "Epoch 17/100\n",
            "54/54 [==============================] - 0s 6ms/step - loss: 362.6202\n",
            "Epoch 18/100\n",
            "54/54 [==============================] - 0s 6ms/step - loss: 335.9667\n",
            "Epoch 19/100\n",
            "54/54 [==============================] - 0s 6ms/step - loss: 321.4549\n",
            "Epoch 20/100\n",
            "54/54 [==============================] - 0s 5ms/step - loss: 295.5645\n",
            "Epoch 21/100\n",
            "54/54 [==============================] - 0s 5ms/step - loss: 281.3797\n",
            "Epoch 22/100\n",
            "54/54 [==============================] - 0s 5ms/step - loss: 286.0964\n",
            "Epoch 23/100\n",
            "54/54 [==============================] - 0s 6ms/step - loss: 261.1488\n",
            "Epoch 24/100\n",
            "54/54 [==============================] - 0s 5ms/step - loss: 250.8930\n",
            "Epoch 25/100\n",
            "54/54 [==============================] - 0s 5ms/step - loss: 234.7813\n",
            "Epoch 26/100\n",
            "54/54 [==============================] - 0s 6ms/step - loss: 247.7910\n",
            "Epoch 27/100\n",
            "54/54 [==============================] - 0s 6ms/step - loss: 267.2478\n",
            "Epoch 28/100\n",
            "54/54 [==============================] - 0s 5ms/step - loss: 221.8439\n",
            "Epoch 29/100\n",
            "54/54 [==============================] - 0s 6ms/step - loss: 222.1513\n",
            "Epoch 30/100\n",
            "54/54 [==============================] - 0s 5ms/step - loss: 219.2946\n",
            "Epoch 31/100\n",
            "54/54 [==============================] - 0s 5ms/step - loss: 206.7766\n",
            "Epoch 32/100\n",
            "54/54 [==============================] - 0s 5ms/step - loss: 196.0012\n",
            "Epoch 33/100\n",
            "54/54 [==============================] - 0s 6ms/step - loss: 219.8069\n",
            "Epoch 34/100\n",
            "54/54 [==============================] - 0s 5ms/step - loss: 190.1934\n",
            "Epoch 35/100\n",
            "54/54 [==============================] - 0s 5ms/step - loss: 225.4669\n",
            "Epoch 36/100\n",
            "54/54 [==============================] - 0s 5ms/step - loss: 184.2467\n",
            "Epoch 37/100\n",
            "54/54 [==============================] - 0s 5ms/step - loss: 190.9417\n",
            "Epoch 38/100\n",
            "54/54 [==============================] - 0s 5ms/step - loss: 177.0724\n",
            "Epoch 39/100\n",
            "54/54 [==============================] - 0s 6ms/step - loss: 192.5197\n",
            "Epoch 40/100\n",
            "54/54 [==============================] - 0s 6ms/step - loss: 193.4343\n",
            "Epoch 41/100\n",
            "54/54 [==============================] - 0s 5ms/step - loss: 174.5852\n",
            "Epoch 42/100\n",
            "54/54 [==============================] - 0s 5ms/step - loss: 176.9821\n",
            "Epoch 43/100\n",
            "54/54 [==============================] - 0s 5ms/step - loss: 174.4214\n",
            "Epoch 44/100\n",
            "54/54 [==============================] - 0s 6ms/step - loss: 182.5926\n",
            "Epoch 45/100\n",
            "54/54 [==============================] - 0s 5ms/step - loss: 174.7230\n",
            "Epoch 46/100\n",
            "54/54 [==============================] - 0s 6ms/step - loss: 201.0862\n",
            "Epoch 47/100\n",
            "54/54 [==============================] - 0s 6ms/step - loss: 184.4765\n",
            "Epoch 48/100\n",
            "54/54 [==============================] - 0s 6ms/step - loss: 172.1503\n",
            "Epoch 49/100\n",
            "54/54 [==============================] - 0s 6ms/step - loss: 179.6941\n",
            "Epoch 50/100\n",
            "54/54 [==============================] - 0s 6ms/step - loss: 206.8857\n",
            "Epoch 51/100\n",
            "54/54 [==============================] - 0s 5ms/step - loss: 173.2657\n",
            "Epoch 52/100\n",
            "54/54 [==============================] - 0s 6ms/step - loss: 183.0396\n",
            "Epoch 53/100\n",
            "54/54 [==============================] - 0s 6ms/step - loss: 168.9138\n",
            "Epoch 54/100\n",
            "54/54 [==============================] - 0s 6ms/step - loss: 167.2831\n",
            "Epoch 55/100\n",
            "54/54 [==============================] - 0s 5ms/step - loss: 212.4470\n",
            "Epoch 56/100\n",
            "54/54 [==============================] - 0s 6ms/step - loss: 180.1050\n",
            "Epoch 57/100\n",
            "54/54 [==============================] - 0s 5ms/step - loss: 170.2039\n",
            "Epoch 58/100\n",
            "54/54 [==============================] - 0s 5ms/step - loss: 163.3761\n",
            "Epoch 59/100\n",
            "54/54 [==============================] - 0s 6ms/step - loss: 168.0923\n",
            "Epoch 60/100\n",
            "54/54 [==============================] - 0s 5ms/step - loss: 163.0975\n",
            "Epoch 61/100\n",
            "54/54 [==============================] - 0s 5ms/step - loss: 171.3510\n",
            "Epoch 62/100\n",
            "54/54 [==============================] - 0s 6ms/step - loss: 171.3027\n",
            "Epoch 63/100\n",
            "54/54 [==============================] - 0s 6ms/step - loss: 171.6870\n",
            "Epoch 64/100\n",
            "54/54 [==============================] - 0s 5ms/step - loss: 162.8741\n",
            "Epoch 65/100\n",
            "54/54 [==============================] - 0s 5ms/step - loss: 169.6369\n",
            "Epoch 66/100\n",
            "54/54 [==============================] - 0s 6ms/step - loss: 165.5221\n",
            "Epoch 67/100\n",
            "54/54 [==============================] - 0s 5ms/step - loss: 162.3022\n",
            "Epoch 68/100\n",
            "54/54 [==============================] - 0s 6ms/step - loss: 165.0420\n",
            "Epoch 69/100\n",
            "54/54 [==============================] - 0s 6ms/step - loss: 173.8660\n",
            "Epoch 70/100\n",
            "54/54 [==============================] - 0s 5ms/step - loss: 160.8134\n",
            "Epoch 71/100\n",
            "54/54 [==============================] - 0s 5ms/step - loss: 244.8278\n",
            "Epoch 72/100\n",
            "54/54 [==============================] - 0s 6ms/step - loss: 171.9538\n",
            "Epoch 73/100\n",
            "54/54 [==============================] - 0s 6ms/step - loss: 164.4744\n",
            "Epoch 74/100\n",
            "54/54 [==============================] - 0s 5ms/step - loss: 157.3654\n",
            "Epoch 75/100\n",
            "54/54 [==============================] - 0s 6ms/step - loss: 170.4558\n",
            "Epoch 76/100\n",
            "54/54 [==============================] - 0s 6ms/step - loss: 164.9497\n",
            "Epoch 77/100\n",
            "54/54 [==============================] - 0s 6ms/step - loss: 162.3900\n",
            "Epoch 78/100\n",
            "54/54 [==============================] - 0s 5ms/step - loss: 180.3381\n",
            "Epoch 79/100\n",
            "54/54 [==============================] - 0s 6ms/step - loss: 192.6378\n",
            "Epoch 80/100\n",
            "54/54 [==============================] - 0s 6ms/step - loss: 157.7685\n",
            "Epoch 81/100\n",
            "54/54 [==============================] - 0s 6ms/step - loss: 166.5390\n",
            "Epoch 82/100\n",
            "54/54 [==============================] - 0s 6ms/step - loss: 162.1857\n",
            "Epoch 83/100\n",
            "54/54 [==============================] - 0s 5ms/step - loss: 174.2607\n",
            "Epoch 84/100\n",
            "54/54 [==============================] - 0s 5ms/step - loss: 175.0207\n",
            "Epoch 85/100\n",
            "54/54 [==============================] - 0s 5ms/step - loss: 158.1707\n",
            "Epoch 86/100\n",
            "54/54 [==============================] - 0s 6ms/step - loss: 161.4915\n",
            "Epoch 87/100\n",
            "54/54 [==============================] - 0s 6ms/step - loss: 153.9851\n",
            "Epoch 88/100\n",
            "54/54 [==============================] - 0s 6ms/step - loss: 155.2588\n",
            "Epoch 89/100\n",
            "54/54 [==============================] - 0s 6ms/step - loss: 165.2822\n",
            "Epoch 90/100\n",
            "54/54 [==============================] - 0s 5ms/step - loss: 193.5835\n",
            "Epoch 91/100\n",
            "54/54 [==============================] - 0s 5ms/step - loss: 153.3421\n",
            "Epoch 92/100\n",
            "54/54 [==============================] - 0s 5ms/step - loss: 168.0488\n",
            "Epoch 93/100\n",
            "54/54 [==============================] - 0s 5ms/step - loss: 185.5463\n",
            "Epoch 94/100\n",
            "54/54 [==============================] - 0s 5ms/step - loss: 155.3174\n",
            "Epoch 95/100\n",
            "54/54 [==============================] - 0s 5ms/step - loss: 159.3350\n",
            "Epoch 96/100\n",
            "54/54 [==============================] - 0s 6ms/step - loss: 152.0769\n",
            "Epoch 97/100\n",
            "54/54 [==============================] - 0s 6ms/step - loss: 152.4143\n",
            "Epoch 98/100\n",
            "54/54 [==============================] - 0s 6ms/step - loss: 154.6673\n",
            "Epoch 99/100\n",
            "54/54 [==============================] - 0s 6ms/step - loss: 152.9408\n",
            "Epoch 100/100\n",
            "54/54 [==============================] - 0s 5ms/step - loss: 151.1617\n"
          ]
        }
      ]
    },
    {
      "cell_type": "markdown",
      "source": [
        "**Predict for test data using above created model**"
      ],
      "metadata": {
        "id": "-FhWf59cX_94"
      }
    },
    {
      "cell_type": "markdown",
      "source": [
        "Note: Instead of appending test data to training dataset, used original dataset which contains both training and test data i.e. whole data before splitting"
      ],
      "metadata": {
        "id": "YHl0LT7rYKbG"
      }
    },
    {
      "cell_type": "code",
      "source": [
        "# Now we will predict for entire dataset which includes our test data also\n",
        "df_stock_close = df_stock['Close_Price']\n",
        "df_stock_close_array = df_stock_close.values.reshape(-1,1)\n",
        "close_total = []\n",
        "\n",
        "for i in range(lookback,len(df_stock_close_array)):\n",
        "  close_total.append(df_stock_close_array[i-lookback:i, 0])\n",
        "\n",
        "close_total = np.array(close_total)\n",
        "\n",
        "print('close_total shape: ', close_total.shape)"
      ],
      "metadata": {
        "colab": {
          "base_uri": "https://localhost:8080/"
        },
        "id": "gUo_bCdPy309",
        "outputId": "6d847aa1-44ff-4236-9d6c-d5ff51299b8f"
      },
      "execution_count": 38,
      "outputs": [
        {
          "output_type": "stream",
          "name": "stdout",
          "text": [
            "close_total shape:  (1716, 10)\n"
          ]
        }
      ]
    },
    {
      "cell_type": "code",
      "source": [
        "close_total = np.reshape(close_total,(close_total.shape[0], close_total.shape[1], 1 ))\n",
        "print('close_total new shape: ', close_total.shape)"
      ],
      "metadata": {
        "colab": {
          "base_uri": "https://localhost:8080/"
        },
        "id": "4eqOtBXKeB01",
        "outputId": "d9e65a94-30a1-4a11-978a-f18f260b1e12"
      },
      "execution_count": 39,
      "outputs": [
        {
          "output_type": "stream",
          "name": "stdout",
          "text": [
            "close_total new shape:  (1716, 10, 1)\n"
          ]
        }
      ]
    },
    {
      "cell_type": "code",
      "source": [
        "pred_lstm = lstm_model.predict(close_total)"
      ],
      "metadata": {
        "colab": {
          "base_uri": "https://localhost:8080/"
        },
        "id": "ipM8fNEwefm5",
        "outputId": "2beb7882-6f39-496a-b600-1cd23f938f35"
      },
      "execution_count": 40,
      "outputs": [
        {
          "output_type": "stream",
          "name": "stdout",
          "text": [
            "54/54 [==============================] - 0s 2ms/step\n"
          ]
        }
      ]
    },
    {
      "cell_type": "code",
      "source": [
        "# Get prediction of last 19 rows which is last one month\n",
        "df_pred_lstm = pd.DataFrame(pred_lstm, columns=['Pred_Price'])\n",
        "df_pred_lstm_19 = df_pred_lstm.tail(19)\n",
        "df_pred_lstm_19"
      ],
      "metadata": {
        "colab": {
          "base_uri": "https://localhost:8080/",
          "height": 645
        },
        "id": "x9VsYhb6e-3E",
        "outputId": "df69bce6-d9d5-4870-dd0b-5726ac39a190"
      },
      "execution_count": 41,
      "outputs": [
        {
          "output_type": "execute_result",
          "data": {
            "text/plain": [
              "      Pred_Price\n",
              "1697  808.883362\n",
              "1698  806.319153\n",
              "1699  803.420715\n",
              "1700  795.131958\n",
              "1701  794.570801\n",
              "1702  788.895630\n",
              "1703  779.326172\n",
              "1704  774.131470\n",
              "1705  770.196716\n",
              "1706  773.416321\n",
              "1707  779.335266\n",
              "1708  790.063477\n",
              "1709  794.046082\n",
              "1710  801.347717\n",
              "1711  805.053406\n",
              "1712  810.975220\n",
              "1713  815.675110\n",
              "1714  826.339417\n",
              "1715  827.186523"
            ],
            "text/html": [
              "\n",
              "  <div id=\"df-9c172495-eda7-4461-9939-eb44b269fc74\">\n",
              "    <div class=\"colab-df-container\">\n",
              "      <div>\n",
              "<style scoped>\n",
              "    .dataframe tbody tr th:only-of-type {\n",
              "        vertical-align: middle;\n",
              "    }\n",
              "\n",
              "    .dataframe tbody tr th {\n",
              "        vertical-align: top;\n",
              "    }\n",
              "\n",
              "    .dataframe thead th {\n",
              "        text-align: right;\n",
              "    }\n",
              "</style>\n",
              "<table border=\"1\" class=\"dataframe\">\n",
              "  <thead>\n",
              "    <tr style=\"text-align: right;\">\n",
              "      <th></th>\n",
              "      <th>Pred_Price</th>\n",
              "    </tr>\n",
              "  </thead>\n",
              "  <tbody>\n",
              "    <tr>\n",
              "      <th>1697</th>\n",
              "      <td>808.883362</td>\n",
              "    </tr>\n",
              "    <tr>\n",
              "      <th>1698</th>\n",
              "      <td>806.319153</td>\n",
              "    </tr>\n",
              "    <tr>\n",
              "      <th>1699</th>\n",
              "      <td>803.420715</td>\n",
              "    </tr>\n",
              "    <tr>\n",
              "      <th>1700</th>\n",
              "      <td>795.131958</td>\n",
              "    </tr>\n",
              "    <tr>\n",
              "      <th>1701</th>\n",
              "      <td>794.570801</td>\n",
              "    </tr>\n",
              "    <tr>\n",
              "      <th>1702</th>\n",
              "      <td>788.895630</td>\n",
              "    </tr>\n",
              "    <tr>\n",
              "      <th>1703</th>\n",
              "      <td>779.326172</td>\n",
              "    </tr>\n",
              "    <tr>\n",
              "      <th>1704</th>\n",
              "      <td>774.131470</td>\n",
              "    </tr>\n",
              "    <tr>\n",
              "      <th>1705</th>\n",
              "      <td>770.196716</td>\n",
              "    </tr>\n",
              "    <tr>\n",
              "      <th>1706</th>\n",
              "      <td>773.416321</td>\n",
              "    </tr>\n",
              "    <tr>\n",
              "      <th>1707</th>\n",
              "      <td>779.335266</td>\n",
              "    </tr>\n",
              "    <tr>\n",
              "      <th>1708</th>\n",
              "      <td>790.063477</td>\n",
              "    </tr>\n",
              "    <tr>\n",
              "      <th>1709</th>\n",
              "      <td>794.046082</td>\n",
              "    </tr>\n",
              "    <tr>\n",
              "      <th>1710</th>\n",
              "      <td>801.347717</td>\n",
              "    </tr>\n",
              "    <tr>\n",
              "      <th>1711</th>\n",
              "      <td>805.053406</td>\n",
              "    </tr>\n",
              "    <tr>\n",
              "      <th>1712</th>\n",
              "      <td>810.975220</td>\n",
              "    </tr>\n",
              "    <tr>\n",
              "      <th>1713</th>\n",
              "      <td>815.675110</td>\n",
              "    </tr>\n",
              "    <tr>\n",
              "      <th>1714</th>\n",
              "      <td>826.339417</td>\n",
              "    </tr>\n",
              "    <tr>\n",
              "      <th>1715</th>\n",
              "      <td>827.186523</td>\n",
              "    </tr>\n",
              "  </tbody>\n",
              "</table>\n",
              "</div>\n",
              "      <button class=\"colab-df-convert\" onclick=\"convertToInteractive('df-9c172495-eda7-4461-9939-eb44b269fc74')\"\n",
              "              title=\"Convert this dataframe to an interactive table.\"\n",
              "              style=\"display:none;\">\n",
              "        \n",
              "  <svg xmlns=\"http://www.w3.org/2000/svg\" height=\"24px\"viewBox=\"0 0 24 24\"\n",
              "       width=\"24px\">\n",
              "    <path d=\"M0 0h24v24H0V0z\" fill=\"none\"/>\n",
              "    <path d=\"M18.56 5.44l.94 2.06.94-2.06 2.06-.94-2.06-.94-.94-2.06-.94 2.06-2.06.94zm-11 1L8.5 8.5l.94-2.06 2.06-.94-2.06-.94L8.5 2.5l-.94 2.06-2.06.94zm10 10l.94 2.06.94-2.06 2.06-.94-2.06-.94-.94-2.06-.94 2.06-2.06.94z\"/><path d=\"M17.41 7.96l-1.37-1.37c-.4-.4-.92-.59-1.43-.59-.52 0-1.04.2-1.43.59L10.3 9.45l-7.72 7.72c-.78.78-.78 2.05 0 2.83L4 21.41c.39.39.9.59 1.41.59.51 0 1.02-.2 1.41-.59l7.78-7.78 2.81-2.81c.8-.78.8-2.07 0-2.86zM5.41 20L4 18.59l7.72-7.72 1.47 1.35L5.41 20z\"/>\n",
              "  </svg>\n",
              "      </button>\n",
              "      \n",
              "  <style>\n",
              "    .colab-df-container {\n",
              "      display:flex;\n",
              "      flex-wrap:wrap;\n",
              "      gap: 12px;\n",
              "    }\n",
              "\n",
              "    .colab-df-convert {\n",
              "      background-color: #E8F0FE;\n",
              "      border: none;\n",
              "      border-radius: 50%;\n",
              "      cursor: pointer;\n",
              "      display: none;\n",
              "      fill: #1967D2;\n",
              "      height: 32px;\n",
              "      padding: 0 0 0 0;\n",
              "      width: 32px;\n",
              "    }\n",
              "\n",
              "    .colab-df-convert:hover {\n",
              "      background-color: #E2EBFA;\n",
              "      box-shadow: 0px 1px 2px rgba(60, 64, 67, 0.3), 0px 1px 3px 1px rgba(60, 64, 67, 0.15);\n",
              "      fill: #174EA6;\n",
              "    }\n",
              "\n",
              "    [theme=dark] .colab-df-convert {\n",
              "      background-color: #3B4455;\n",
              "      fill: #D2E3FC;\n",
              "    }\n",
              "\n",
              "    [theme=dark] .colab-df-convert:hover {\n",
              "      background-color: #434B5C;\n",
              "      box-shadow: 0px 1px 3px 1px rgba(0, 0, 0, 0.15);\n",
              "      filter: drop-shadow(0px 1px 2px rgba(0, 0, 0, 0.3));\n",
              "      fill: #FFFFFF;\n",
              "    }\n",
              "  </style>\n",
              "\n",
              "      <script>\n",
              "        const buttonEl =\n",
              "          document.querySelector('#df-9c172495-eda7-4461-9939-eb44b269fc74 button.colab-df-convert');\n",
              "        buttonEl.style.display =\n",
              "          google.colab.kernel.accessAllowed ? 'block' : 'none';\n",
              "\n",
              "        async function convertToInteractive(key) {\n",
              "          const element = document.querySelector('#df-9c172495-eda7-4461-9939-eb44b269fc74');\n",
              "          const dataTable =\n",
              "            await google.colab.kernel.invokeFunction('convertToInteractive',\n",
              "                                                     [key], {});\n",
              "          if (!dataTable) return;\n",
              "\n",
              "          const docLinkHtml = 'Like what you see? Visit the ' +\n",
              "            '<a target=\"_blank\" href=https://colab.research.google.com/notebooks/data_table.ipynb>data table notebook</a>'\n",
              "            + ' to learn more about interactive tables.';\n",
              "          element.innerHTML = '';\n",
              "          dataTable['output_type'] = 'display_data';\n",
              "          await google.colab.output.renderOutput(dataTable, element);\n",
              "          const docLink = document.createElement('div');\n",
              "          docLink.innerHTML = docLinkHtml;\n",
              "          element.appendChild(docLink);\n",
              "        }\n",
              "      </script>\n",
              "    </div>\n",
              "  </div>\n",
              "  "
            ]
          },
          "metadata": {},
          "execution_count": 41
        }
      ]
    },
    {
      "cell_type": "code",
      "source": [
        "df_stock_close_19  = df_stock['Close_Price'].tail(19)\n",
        "df_stock_close_19"
      ],
      "metadata": {
        "colab": {
          "base_uri": "https://localhost:8080/"
        },
        "id": "yy8ZLGuDf03B",
        "outputId": "c5313324-1bde-4b94-f01f-981151f267f4"
      },
      "execution_count": 42,
      "outputs": [
        {
          "output_type": "execute_result",
          "data": {
            "text/plain": [
              "Date\n",
              "2022-10-06    788.60\n",
              "2022-10-07    793.10\n",
              "2022-10-10    792.35\n",
              "2022-10-11    780.30\n",
              "2022-10-12    775.55\n",
              "2022-10-13    768.90\n",
              "2022-10-14    765.95\n",
              "2022-10-17    766.00\n",
              "2022-10-18    783.15\n",
              "2022-10-19    783.40\n",
              "2022-10-20    792.90\n",
              "2022-10-21    797.45\n",
              "2022-10-24    802.10\n",
              "2022-10-25    802.30\n",
              "2022-10-27    817.10\n",
              "2022-10-28    816.85\n",
              "2022-10-31    832.00\n",
              "2022-11-03    818.65\n",
              "2022-11-04    816.40\n",
              "Name: Close_Price, dtype: float64"
            ]
          },
          "metadata": {},
          "execution_count": 42
        }
      ]
    },
    {
      "cell_type": "code",
      "source": [
        "df_stock_date_19  = df_stock['Date'].tail(19)\n",
        "df_stock_date_19"
      ],
      "metadata": {
        "colab": {
          "base_uri": "https://localhost:8080/"
        },
        "id": "bl6yCqmqYbf5",
        "outputId": "d9067fc6-9e31-4bd0-b62c-88f304dd0ff0"
      },
      "execution_count": 43,
      "outputs": [
        {
          "output_type": "execute_result",
          "data": {
            "text/plain": [
              "Date\n",
              "2022-10-06    20221006\n",
              "2022-10-07    20221007\n",
              "2022-10-10    20221010\n",
              "2022-10-11    20221011\n",
              "2022-10-12    20221012\n",
              "2022-10-13    20221013\n",
              "2022-10-14    20221014\n",
              "2022-10-17    20221017\n",
              "2022-10-18    20221018\n",
              "2022-10-19    20221019\n",
              "2022-10-20    20221020\n",
              "2022-10-21    20221021\n",
              "2022-10-24    20221024\n",
              "2022-10-25    20221025\n",
              "2022-10-27    20221027\n",
              "2022-10-28    20221028\n",
              "2022-10-31    20221031\n",
              "2022-11-03    20221103\n",
              "2022-11-04    20221104\n",
              "Name: Date, dtype: int64"
            ]
          },
          "metadata": {},
          "execution_count": 43
        }
      ]
    },
    {
      "cell_type": "markdown",
      "source": [
        "**Evaluation of LSTM Model**"
      ],
      "metadata": {
        "id": "DaSQ848kgxJ6"
      }
    },
    {
      "cell_type": "code",
      "source": [
        "mse = mean_squared_error(df_stock_close_19, df_pred_lstm_19)\n",
        "rmse = mse**.5\n",
        "print(mse)\n",
        "print(rmse)"
      ],
      "metadata": {
        "colab": {
          "base_uri": "https://localhost:8080/"
        },
        "outputId": "c443f68d-1817-4a62-8180-7ff0cf12e1fb",
        "id": "-8s-rXyigxJ6"
      },
      "execution_count": 44,
      "outputs": [
        {
          "output_type": "stream",
          "name": "stdout",
          "text": [
            "164.67240267084625\n",
            "12.832474534198237\n"
          ]
        }
      ]
    },
    {
      "cell_type": "markdown",
      "source": [
        "**Understanding the predictions by charts (LSTM)**\n"
      ],
      "metadata": {
        "id": "lpN-H2iVgxJ6"
      }
    },
    {
      "cell_type": "code",
      "source": [
        "plt.plot(df_stock_date_19, df_stock_close_19, color='red', label='Actual Stock Price')\n",
        "plt.plot(df_stock_date_19, df_pred_lstm_19['Pred_Price'], color='blue', label='Predicted Stock Price')\n",
        "plt.title('Stock Prediction by LSTM')\n",
        "plt.xlabel('Date')\n",
        "plt.ylabel('Price')\n",
        "plt.legend()\n",
        "plt.show()"
      ],
      "metadata": {
        "colab": {
          "base_uri": "https://localhost:8080/",
          "height": 295
        },
        "outputId": "666b5734-c3f8-469f-ee58-d54725008d78",
        "id": "SP_VhGOEgxJ6"
      },
      "execution_count": 45,
      "outputs": [
        {
          "output_type": "display_data",
          "data": {
            "text/plain": [
              "<Figure size 432x288 with 1 Axes>"
            ],
            "image/png": "[encoded data removed]"
          },
          "metadata": {
            "needs_background": "light"
          }
        }
      ]
    },
    {
      "cell_type": "code",
      "source": [
        "# Loss history after every epoch execution\n",
        "hist_dict = hist.history\n",
        "hist_dict"
      ],
      "metadata": {
        "colab": {
          "base_uri": "https://localhost:8080/"
        },
        "id": "GRDPN2ITcFe2",
        "outputId": "bb854c24-d494-49d5-fc0b-3f52755db123"
      },
      "execution_count": 46,
      "outputs": [
        {
          "output_type": "execute_result",
          "data": {
            "text/plain": [
              "{'loss': [134935.140625,\n",
              "  2430.8828125,\n",
              "  1748.910400390625,\n",
              "  1760.41162109375,\n",
              "  598.934326171875,\n",
              "  528.6157836914062,\n",
              "  490.12237548828125,\n",
              "  482.0311279296875,\n",
              "  618.1427612304688,\n",
              "  514.8073120117188,\n",
              "  445.3169250488281,\n",
              "  486.91180419921875,\n",
              "  467.0562744140625,\n",
              "  589.881103515625,\n",
              "  457.92449951171875,\n",
              "  394.83526611328125,\n",
              "  362.62017822265625,\n",
              "  335.9667053222656,\n",
              "  321.4549255371094,\n",
              "  295.56451416015625,\n",
              "  281.3796691894531,\n",
              "  286.09637451171875,\n",
              "  261.1488037109375,\n",
              "  250.8930206298828,\n",
              "  234.78131103515625,\n",
              "  247.791015625,\n",
              "  267.2477722167969,\n",
              "  221.8438720703125,\n",
              "  222.1513214111328,\n",
              "  219.29458618164062,\n",
              "  206.77655029296875,\n",
              "  196.001220703125,\n",
              "  219.806884765625,\n",
              "  190.1934051513672,\n",
              "  225.46694946289062,\n",
              "  184.24673461914062,\n",
              "  190.9416961669922,\n",
              "  177.07235717773438,\n",
              "  192.51966857910156,\n",
              "  193.434326171875,\n",
              "  174.58523559570312,\n",
              "  176.98208618164062,\n",
              "  174.42137145996094,\n",
              "  182.59255981445312,\n",
              "  174.7230224609375,\n",
              "  201.086181640625,\n",
              "  184.47647094726562,\n",
              "  172.15025329589844,\n",
              "  179.69412231445312,\n",
              "  206.8856658935547,\n",
              "  173.26573181152344,\n",
              "  183.0395965576172,\n",
              "  168.91384887695312,\n",
              "  167.28305053710938,\n",
              "  212.447021484375,\n",
              "  180.10496520996094,\n",
              "  170.20394897460938,\n",
              "  163.3761444091797,\n",
              "  168.09230041503906,\n",
              "  163.09754943847656,\n",
              "  171.3510284423828,\n",
              "  171.30271911621094,\n",
              "  171.68699645996094,\n",
              "  162.87411499023438,\n",
              "  169.63685607910156,\n",
              "  165.52207946777344,\n",
              "  162.30215454101562,\n",
              "  165.04200744628906,\n",
              "  173.86602783203125,\n",
              "  160.8133544921875,\n",
              "  244.8278045654297,\n",
              "  171.95382690429688,\n",
              "  164.4744415283203,\n",
              "  157.36538696289062,\n",
              "  170.45584106445312,\n",
              "  164.94972229003906,\n",
              "  162.38998413085938,\n",
              "  180.33811950683594,\n",
              "  192.63783264160156,\n",
              "  157.76849365234375,\n",
              "  166.53900146484375,\n",
              "  162.18569946289062,\n",
              "  174.2606964111328,\n",
              "  175.02066040039062,\n",
              "  158.17066955566406,\n",
              "  161.49151611328125,\n",
              "  153.98507690429688,\n",
              "  155.25881958007812,\n",
              "  165.28221130371094,\n",
              "  193.5835418701172,\n",
              "  153.34207153320312,\n",
              "  168.04881286621094,\n",
              "  185.54629516601562,\n",
              "  155.3173828125,\n",
              "  159.3350372314453,\n",
              "  152.0768585205078,\n",
              "  152.41433715820312,\n",
              "  154.66729736328125,\n",
              "  152.9407958984375,\n",
              "  151.16168212890625]}"
            ]
          },
          "metadata": {},
          "execution_count": 46
        }
      ]
    },
    {
      "cell_type": "code",
      "source": [
        "# LSTM model training loss for visualization\n",
        "plt.plot(pd.DataFrame(hist.history))"
      ],
      "metadata": {
        "colab": {
          "base_uri": "https://localhost:8080/",
          "height": 284
        },
        "id": "RL1R4WmGdjeQ",
        "outputId": "369b2a6c-ee38-494a-c1de-99759d37d031"
      },
      "execution_count": 47,
      "outputs": [
        {
          "output_type": "execute_result",
          "data": {
            "text/plain": [
              "[<matplotlib.lines.Line2D at 0x7fe26a56a350>]"
            ]
          },
          "metadata": {},
          "execution_count": 47
        },
        {
          "output_type": "display_data",
          "data": {
            "text/plain": [
              "<Figure size 432x288 with 1 Axes>"
            ],
            "image/png": "[encoded data removed]"
          },
          "metadata": {
            "needs_background": "light"
          }
        }
      ]
    },
    {
      "cell_type": "markdown",
      "source": [
        "# Final Conclusion"
      ],
      "metadata": {
        "id": "PaZodeZTVB1w"
      }
    },
    {
      "cell_type": "markdown",
      "source": [
        "Final Conclusion: By looking at RMSE and predicted values, LSTM is one of the best model since predictions are near to actual values and prediction values are varying as actual values varies."
      ],
      "metadata": {
        "id": "oqK5rnQ_Vciz"
      }
    }
  ]
}