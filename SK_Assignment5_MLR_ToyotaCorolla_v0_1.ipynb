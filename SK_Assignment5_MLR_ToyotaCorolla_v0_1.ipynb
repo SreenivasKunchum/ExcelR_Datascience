{
  "nbformat": 4,
  "nbformat_minor": 0,
  "metadata": {
    "colab": {
      "name": "SK_Assignment5_MLR_ToyotaCorolla_v0.1.ipynb",
      "provenance": [],
      "collapsed_sections": [
        "_oXgyJJmuLqx"
      ]
    },
    "kernelspec": {
      "name": "python3",
      "display_name": "Python 3"
    },
    "language_info": {
      "name": "python"
    }
  },
  "cells": [
    {
      "cell_type": "markdown",
      "source": [
        "# Prediction model for predicting price of given car"
      ],
      "metadata": {
        "id": "g1QeGFp4mH86"
      }
    },
    {
      "cell_type": "markdown",
      "source": [
        "Note: Consider only the below columns\n",
        "\"Price\",\"Age_08_04\",\"KM\",\"HP\",\"cc\",\"Doors\",\"Gears\",\"Quarterly_Tax\",\"Weight\""
      ],
      "metadata": {
        "id": "wBBsIBitme8b"
      }
    },
    {
      "cell_type": "code",
      "execution_count": 1,
      "metadata": {
        "colab": {
          "base_uri": "https://localhost:8080/"
        },
        "id": "0m2hfhOSlMs8",
        "outputId": "5aae9c1f-524c-4cfd-9bdf-1fa2e5672b54"
      },
      "outputs": [
        {
          "output_type": "stream",
          "name": "stderr",
          "text": [
            "/usr/local/lib/python3.7/dist-packages/statsmodels/tools/_testing.py:19: FutureWarning: pandas.util.testing is deprecated. Use the functions in the public API at pandas.testing instead.\n",
            "  import pandas.util.testing as tm\n"
          ]
        }
      ],
      "source": [
        "# import required libraries  \n",
        "import pandas as pd\n",
        "import numpy as np\n",
        "import matplotlib.pyplot as plt\n",
        "from matplotlib.pyplot import boxplot\n",
        "import seaborn as sns\n",
        "import statsmodels.formula.api as smf\n",
        "from statsmodels.graphics.regressionplots import influence_plot"
      ]
    },
    {
      "cell_type": "code",
      "source": [
        "# Read file (The given ToyotaCorrla.csv was not working. Hence, used similar file given by Amarnadh sir in sessions)\n",
        "#df_toyota = pd.read_csv('ToyotaCorolla.csv') # , usecols = ['Price','KM','HP','cc','Doors','Gears','Weight'])\n",
        "df_toyota = pd.read_excel('/content/Toyota.xlsx', usecols = ['Price','Age_08_04','KM','HP','cc','Doors','Gears','Quarterly_Tax','Weight'])"
      ],
      "metadata": {
        "id": "LoJak0L3lq9A"
      },
      "execution_count": 2,
      "outputs": []
    },
    {
      "cell_type": "markdown",
      "source": [
        "## Exploratory Data Analysis"
      ],
      "metadata": {
        "id": "_oXgyJJmuLqx"
      }
    },
    {
      "cell_type": "code",
      "source": [
        "df_toyota.head()"
      ],
      "metadata": {
        "colab": {
          "base_uri": "https://localhost:8080/",
          "height": 0
        },
        "id": "QB-pdR6QuEWE",
        "outputId": "76afc40d-8ca8-499b-8ceb-9d9b81305425"
      },
      "execution_count": 3,
      "outputs": [
        {
          "output_type": "execute_result",
          "data": {
            "text/plain": [
              "   Price  Age_08_04     KM    HP    cc  Doors  Gears  Quarterly_Tax  Weight\n",
              "0  13500         23  46986  90.0  2000      3      5            210    1165\n",
              "1  13750         23  72937  90.0  2000      3      5            210    1165\n",
              "2  13950         24  41711  90.0  2000      3      5            210    1165\n",
              "3  14950         26  48000  90.0  2000      3      5            210    1165\n",
              "4  13750         30  38500  90.0  2000      3      5            210    1170"
            ],
            "text/html": [
              "\n",
              "  <div id=\"df-15d69f99-287f-420c-b63f-56e3f32cf45d\">\n",
              "    <div class=\"colab-df-container\">\n",
              "      <div>\n",
              "<style scoped>\n",
              "    .dataframe tbody tr th:only-of-type {\n",
              "        vertical-align: middle;\n",
              "    }\n",
              "\n",
              "    .dataframe tbody tr th {\n",
              "        vertical-align: top;\n",
              "    }\n",
              "\n",
              "    .dataframe thead th {\n",
              "        text-align: right;\n",
              "    }\n",
              "</style>\n",
              "<table border=\"1\" class=\"dataframe\">\n",
              "  <thead>\n",
              "    <tr style=\"text-align: right;\">\n",
              "      <th></th>\n",
              "      <th>Price</th>\n",
              "      <th>Age_08_04</th>\n",
              "      <th>KM</th>\n",
              "      <th>HP</th>\n",
              "      <th>cc</th>\n",
              "      <th>Doors</th>\n",
              "      <th>Gears</th>\n",
              "      <th>Quarterly_Tax</th>\n",
              "      <th>Weight</th>\n",
              "    </tr>\n",
              "  </thead>\n",
              "  <tbody>\n",
              "    <tr>\n",
              "      <th>0</th>\n",
              "      <td>13500</td>\n",
              "      <td>23</td>\n",
              "      <td>46986</td>\n",
              "      <td>90.0</td>\n",
              "      <td>2000</td>\n",
              "      <td>3</td>\n",
              "      <td>5</td>\n",
              "      <td>210</td>\n",
              "      <td>1165</td>\n",
              "    </tr>\n",
              "    <tr>\n",
              "      <th>1</th>\n",
              "      <td>13750</td>\n",
              "      <td>23</td>\n",
              "      <td>72937</td>\n",
              "      <td>90.0</td>\n",
              "      <td>2000</td>\n",
              "      <td>3</td>\n",
              "      <td>5</td>\n",
              "      <td>210</td>\n",
              "      <td>1165</td>\n",
              "    </tr>\n",
              "    <tr>\n",
              "      <th>2</th>\n",
              "      <td>13950</td>\n",
              "      <td>24</td>\n",
              "      <td>41711</td>\n",
              "      <td>90.0</td>\n",
              "      <td>2000</td>\n",
              "      <td>3</td>\n",
              "      <td>5</td>\n",
              "      <td>210</td>\n",
              "      <td>1165</td>\n",
              "    </tr>\n",
              "    <tr>\n",
              "      <th>3</th>\n",
              "      <td>14950</td>\n",
              "      <td>26</td>\n",
              "      <td>48000</td>\n",
              "      <td>90.0</td>\n",
              "      <td>2000</td>\n",
              "      <td>3</td>\n",
              "      <td>5</td>\n",
              "      <td>210</td>\n",
              "      <td>1165</td>\n",
              "    </tr>\n",
              "    <tr>\n",
              "      <th>4</th>\n",
              "      <td>13750</td>\n",
              "      <td>30</td>\n",
              "      <td>38500</td>\n",
              "      <td>90.0</td>\n",
              "      <td>2000</td>\n",
              "      <td>3</td>\n",
              "      <td>5</td>\n",
              "      <td>210</td>\n",
              "      <td>1170</td>\n",
              "    </tr>\n",
              "  </tbody>\n",
              "</table>\n",
              "</div>\n",
              "      <button class=\"colab-df-convert\" onclick=\"convertToInteractive('df-15d69f99-287f-420c-b63f-56e3f32cf45d')\"\n",
              "              title=\"Convert this dataframe to an interactive table.\"\n",
              "              style=\"display:none;\">\n",
              "        \n",
              "  <svg xmlns=\"http://www.w3.org/2000/svg\" height=\"24px\"viewBox=\"0 0 24 24\"\n",
              "       width=\"24px\">\n",
              "    <path d=\"M0 0h24v24H0V0z\" fill=\"none\"/>\n",
              "    <path d=\"M18.56 5.44l.94 2.06.94-2.06 2.06-.94-2.06-.94-.94-2.06-.94 2.06-2.06.94zm-11 1L8.5 8.5l.94-2.06 2.06-.94-2.06-.94L8.5 2.5l-.94 2.06-2.06.94zm10 10l.94 2.06.94-2.06 2.06-.94-2.06-.94-.94-2.06-.94 2.06-2.06.94z\"/><path d=\"M17.41 7.96l-1.37-1.37c-.4-.4-.92-.59-1.43-.59-.52 0-1.04.2-1.43.59L10.3 9.45l-7.72 7.72c-.78.78-.78 2.05 0 2.83L4 21.41c.39.39.9.59 1.41.59.51 0 1.02-.2 1.41-.59l7.78-7.78 2.81-2.81c.8-.78.8-2.07 0-2.86zM5.41 20L4 18.59l7.72-7.72 1.47 1.35L5.41 20z\"/>\n",
              "  </svg>\n",
              "      </button>\n",
              "      \n",
              "  <style>\n",
              "    .colab-df-container {\n",
              "      display:flex;\n",
              "      flex-wrap:wrap;\n",
              "      gap: 12px;\n",
              "    }\n",
              "\n",
              "    .colab-df-convert {\n",
              "      background-color: #E8F0FE;\n",
              "      border: none;\n",
              "      border-radius: 50%;\n",
              "      cursor: pointer;\n",
              "      display: none;\n",
              "      fill: #1967D2;\n",
              "      height: 32px;\n",
              "      padding: 0 0 0 0;\n",
              "      width: 32px;\n",
              "    }\n",
              "\n",
              "    .colab-df-convert:hover {\n",
              "      background-color: #E2EBFA;\n",
              "      box-shadow: 0px 1px 2px rgba(60, 64, 67, 0.3), 0px 1px 3px 1px rgba(60, 64, 67, 0.15);\n",
              "      fill: #174EA6;\n",
              "    }\n",
              "\n",
              "    [theme=dark] .colab-df-convert {\n",
              "      background-color: #3B4455;\n",
              "      fill: #D2E3FC;\n",
              "    }\n",
              "\n",
              "    [theme=dark] .colab-df-convert:hover {\n",
              "      background-color: #434B5C;\n",
              "      box-shadow: 0px 1px 3px 1px rgba(0, 0, 0, 0.15);\n",
              "      filter: drop-shadow(0px 1px 2px rgba(0, 0, 0, 0.3));\n",
              "      fill: #FFFFFF;\n",
              "    }\n",
              "  </style>\n",
              "\n",
              "      <script>\n",
              "        const buttonEl =\n",
              "          document.querySelector('#df-15d69f99-287f-420c-b63f-56e3f32cf45d button.colab-df-convert');\n",
              "        buttonEl.style.display =\n",
              "          google.colab.kernel.accessAllowed ? 'block' : 'none';\n",
              "\n",
              "        async function convertToInteractive(key) {\n",
              "          const element = document.querySelector('#df-15d69f99-287f-420c-b63f-56e3f32cf45d');\n",
              "          const dataTable =\n",
              "            await google.colab.kernel.invokeFunction('convertToInteractive',\n",
              "                                                     [key], {});\n",
              "          if (!dataTable) return;\n",
              "\n",
              "          const docLinkHtml = 'Like what you see? Visit the ' +\n",
              "            '<a target=\"_blank\" href=https://colab.research.google.com/notebooks/data_table.ipynb>data table notebook</a>'\n",
              "            + ' to learn more about interactive tables.';\n",
              "          element.innerHTML = '';\n",
              "          dataTable['output_type'] = 'display_data';\n",
              "          await google.colab.output.renderOutput(dataTable, element);\n",
              "          const docLink = document.createElement('div');\n",
              "          docLink.innerHTML = docLinkHtml;\n",
              "          element.appendChild(docLink);\n",
              "        }\n",
              "      </script>\n",
              "    </div>\n",
              "  </div>\n",
              "  "
            ]
          },
          "metadata": {},
          "execution_count": 3
        }
      ]
    },
    {
      "cell_type": "code",
      "source": [
        "df_toyota.shape"
      ],
      "metadata": {
        "colab": {
          "base_uri": "https://localhost:8080/"
        },
        "id": "3QvaIUmCgfKe",
        "outputId": "e6a8dfe3-c494-4abe-e5fc-5ec4464a90e0"
      },
      "execution_count": 4,
      "outputs": [
        {
          "output_type": "execute_result",
          "data": {
            "text/plain": [
              "(1436, 9)"
            ]
          },
          "metadata": {},
          "execution_count": 4
        }
      ]
    },
    {
      "cell_type": "code",
      "source": [
        "df_toyota.dtypes\n",
        "# All columns are numeric only"
      ],
      "metadata": {
        "colab": {
          "base_uri": "https://localhost:8080/"
        },
        "id": "KsWKvSpGgl0l",
        "outputId": "cc440329-4e0c-4f1d-d7d5-746a27808d87"
      },
      "execution_count": 5,
      "outputs": [
        {
          "output_type": "execute_result",
          "data": {
            "text/plain": [
              "Price              int64\n",
              "Age_08_04          int64\n",
              "KM                 int64\n",
              "HP               float64\n",
              "cc                 int64\n",
              "Doors              int64\n",
              "Gears              int64\n",
              "Quarterly_Tax      int64\n",
              "Weight             int64\n",
              "dtype: object"
            ]
          },
          "metadata": {},
          "execution_count": 5
        }
      ]
    },
    {
      "cell_type": "code",
      "source": [
        "df_toyota.info()\n",
        "# HP column has two null values. Fill with median"
      ],
      "metadata": {
        "colab": {
          "base_uri": "https://localhost:8080/"
        },
        "id": "gK5rgum2upfO",
        "outputId": "2be31d0e-8db6-4cf8-87d9-8c2fc8a4f545"
      },
      "execution_count": 6,
      "outputs": [
        {
          "output_type": "stream",
          "name": "stdout",
          "text": [
            "<class 'pandas.core.frame.DataFrame'>\n",
            "RangeIndex: 1436 entries, 0 to 1435\n",
            "Data columns (total 9 columns):\n",
            " #   Column         Non-Null Count  Dtype  \n",
            "---  ------         --------------  -----  \n",
            " 0   Price          1436 non-null   int64  \n",
            " 1   Age_08_04      1436 non-null   int64  \n",
            " 2   KM             1436 non-null   int64  \n",
            " 3   HP             1434 non-null   float64\n",
            " 4   cc             1436 non-null   int64  \n",
            " 5   Doors          1436 non-null   int64  \n",
            " 6   Gears          1436 non-null   int64  \n",
            " 7   Quarterly_Tax  1436 non-null   int64  \n",
            " 8   Weight         1436 non-null   int64  \n",
            "dtypes: float64(1), int64(8)\n",
            "memory usage: 101.1 KB\n"
          ]
        }
      ]
    },
    {
      "cell_type": "code",
      "source": [
        "df_toyota.describe()"
      ],
      "metadata": {
        "colab": {
          "base_uri": "https://localhost:8080/",
          "height": 0
        },
        "id": "s45IpRYmvdNa",
        "outputId": "b7e29af1-4c65-46d4-ecac-7edc223ddd62"
      },
      "execution_count": 7,
      "outputs": [
        {
          "output_type": "execute_result",
          "data": {
            "text/plain": [
              "              Price    Age_08_04             KM           HP           cc  \\\n",
              "count   1436.000000  1436.000000    1436.000000  1434.000000   1436.00000   \n",
              "mean   10730.824513    55.947075   68533.259749   101.513250   1576.85585   \n",
              "std     3626.964585    18.599988   37506.448872    14.987975    424.38677   \n",
              "min     4350.000000     1.000000       1.000000    69.000000   1300.00000   \n",
              "25%     8450.000000    44.000000   43000.000000    90.000000   1400.00000   \n",
              "50%     9900.000000    61.000000   63389.500000   110.000000   1600.00000   \n",
              "75%    11950.000000    70.000000   87020.750000   110.000000   1600.00000   \n",
              "max    32500.000000    80.000000  243000.000000   192.000000  16000.00000   \n",
              "\n",
              "             Doors        Gears  Quarterly_Tax      Weight  \n",
              "count  1436.000000  1436.000000    1436.000000  1436.00000  \n",
              "mean      4.033426     5.026462      87.122563  1072.45961  \n",
              "std       0.952677     0.188510      41.128611    52.64112  \n",
              "min       2.000000     3.000000      19.000000  1000.00000  \n",
              "25%       3.000000     5.000000      69.000000  1040.00000  \n",
              "50%       4.000000     5.000000      85.000000  1070.00000  \n",
              "75%       5.000000     5.000000      85.000000  1085.00000  \n",
              "max       5.000000     6.000000     283.000000  1615.00000  "
            ],
            "text/html": [
              "\n",
              "  <div id=\"df-13622dba-fbf6-4424-b8e1-924670737cdd\">\n",
              "    <div class=\"colab-df-container\">\n",
              "      <div>\n",
              "<style scoped>\n",
              "    .dataframe tbody tr th:only-of-type {\n",
              "        vertical-align: middle;\n",
              "    }\n",
              "\n",
              "    .dataframe tbody tr th {\n",
              "        vertical-align: top;\n",
              "    }\n",
              "\n",
              "    .dataframe thead th {\n",
              "        text-align: right;\n",
              "    }\n",
              "</style>\n",
              "<table border=\"1\" class=\"dataframe\">\n",
              "  <thead>\n",
              "    <tr style=\"text-align: right;\">\n",
              "      <th></th>\n",
              "      <th>Price</th>\n",
              "      <th>Age_08_04</th>\n",
              "      <th>KM</th>\n",
              "      <th>HP</th>\n",
              "      <th>cc</th>\n",
              "      <th>Doors</th>\n",
              "      <th>Gears</th>\n",
              "      <th>Quarterly_Tax</th>\n",
              "      <th>Weight</th>\n",
              "    </tr>\n",
              "  </thead>\n",
              "  <tbody>\n",
              "    <tr>\n",
              "      <th>count</th>\n",
              "      <td>1436.000000</td>\n",
              "      <td>1436.000000</td>\n",
              "      <td>1436.000000</td>\n",
              "      <td>1434.000000</td>\n",
              "      <td>1436.00000</td>\n",
              "      <td>1436.000000</td>\n",
              "      <td>1436.000000</td>\n",
              "      <td>1436.000000</td>\n",
              "      <td>1436.00000</td>\n",
              "    </tr>\n",
              "    <tr>\n",
              "      <th>mean</th>\n",
              "      <td>10730.824513</td>\n",
              "      <td>55.947075</td>\n",
              "      <td>68533.259749</td>\n",
              "      <td>101.513250</td>\n",
              "      <td>1576.85585</td>\n",
              "      <td>4.033426</td>\n",
              "      <td>5.026462</td>\n",
              "      <td>87.122563</td>\n",
              "      <td>1072.45961</td>\n",
              "    </tr>\n",
              "    <tr>\n",
              "      <th>std</th>\n",
              "      <td>3626.964585</td>\n",
              "      <td>18.599988</td>\n",
              "      <td>37506.448872</td>\n",
              "      <td>14.987975</td>\n",
              "      <td>424.38677</td>\n",
              "      <td>0.952677</td>\n",
              "      <td>0.188510</td>\n",
              "      <td>41.128611</td>\n",
              "      <td>52.64112</td>\n",
              "    </tr>\n",
              "    <tr>\n",
              "      <th>min</th>\n",
              "      <td>4350.000000</td>\n",
              "      <td>1.000000</td>\n",
              "      <td>1.000000</td>\n",
              "      <td>69.000000</td>\n",
              "      <td>1300.00000</td>\n",
              "      <td>2.000000</td>\n",
              "      <td>3.000000</td>\n",
              "      <td>19.000000</td>\n",
              "      <td>1000.00000</td>\n",
              "    </tr>\n",
              "    <tr>\n",
              "      <th>25%</th>\n",
              "      <td>8450.000000</td>\n",
              "      <td>44.000000</td>\n",
              "      <td>43000.000000</td>\n",
              "      <td>90.000000</td>\n",
              "      <td>1400.00000</td>\n",
              "      <td>3.000000</td>\n",
              "      <td>5.000000</td>\n",
              "      <td>69.000000</td>\n",
              "      <td>1040.00000</td>\n",
              "    </tr>\n",
              "    <tr>\n",
              "      <th>50%</th>\n",
              "      <td>9900.000000</td>\n",
              "      <td>61.000000</td>\n",
              "      <td>63389.500000</td>\n",
              "      <td>110.000000</td>\n",
              "      <td>1600.00000</td>\n",
              "      <td>4.000000</td>\n",
              "      <td>5.000000</td>\n",
              "      <td>85.000000</td>\n",
              "      <td>1070.00000</td>\n",
              "    </tr>\n",
              "    <tr>\n",
              "      <th>75%</th>\n",
              "      <td>11950.000000</td>\n",
              "      <td>70.000000</td>\n",
              "      <td>87020.750000</td>\n",
              "      <td>110.000000</td>\n",
              "      <td>1600.00000</td>\n",
              "      <td>5.000000</td>\n",
              "      <td>5.000000</td>\n",
              "      <td>85.000000</td>\n",
              "      <td>1085.00000</td>\n",
              "    </tr>\n",
              "    <tr>\n",
              "      <th>max</th>\n",
              "      <td>32500.000000</td>\n",
              "      <td>80.000000</td>\n",
              "      <td>243000.000000</td>\n",
              "      <td>192.000000</td>\n",
              "      <td>16000.00000</td>\n",
              "      <td>5.000000</td>\n",
              "      <td>6.000000</td>\n",
              "      <td>283.000000</td>\n",
              "      <td>1615.00000</td>\n",
              "    </tr>\n",
              "  </tbody>\n",
              "</table>\n",
              "</div>\n",
              "      <button class=\"colab-df-convert\" onclick=\"convertToInteractive('df-13622dba-fbf6-4424-b8e1-924670737cdd')\"\n",
              "              title=\"Convert this dataframe to an interactive table.\"\n",
              "              style=\"display:none;\">\n",
              "        \n",
              "  <svg xmlns=\"http://www.w3.org/2000/svg\" height=\"24px\"viewBox=\"0 0 24 24\"\n",
              "       width=\"24px\">\n",
              "    <path d=\"M0 0h24v24H0V0z\" fill=\"none\"/>\n",
              "    <path d=\"M18.56 5.44l.94 2.06.94-2.06 2.06-.94-2.06-.94-.94-2.06-.94 2.06-2.06.94zm-11 1L8.5 8.5l.94-2.06 2.06-.94-2.06-.94L8.5 2.5l-.94 2.06-2.06.94zm10 10l.94 2.06.94-2.06 2.06-.94-2.06-.94-.94-2.06-.94 2.06-2.06.94z\"/><path d=\"M17.41 7.96l-1.37-1.37c-.4-.4-.92-.59-1.43-.59-.52 0-1.04.2-1.43.59L10.3 9.45l-7.72 7.72c-.78.78-.78 2.05 0 2.83L4 21.41c.39.39.9.59 1.41.59.51 0 1.02-.2 1.41-.59l7.78-7.78 2.81-2.81c.8-.78.8-2.07 0-2.86zM5.41 20L4 18.59l7.72-7.72 1.47 1.35L5.41 20z\"/>\n",
              "  </svg>\n",
              "      </button>\n",
              "      \n",
              "  <style>\n",
              "    .colab-df-container {\n",
              "      display:flex;\n",
              "      flex-wrap:wrap;\n",
              "      gap: 12px;\n",
              "    }\n",
              "\n",
              "    .colab-df-convert {\n",
              "      background-color: #E8F0FE;\n",
              "      border: none;\n",
              "      border-radius: 50%;\n",
              "      cursor: pointer;\n",
              "      display: none;\n",
              "      fill: #1967D2;\n",
              "      height: 32px;\n",
              "      padding: 0 0 0 0;\n",
              "      width: 32px;\n",
              "    }\n",
              "\n",
              "    .colab-df-convert:hover {\n",
              "      background-color: #E2EBFA;\n",
              "      box-shadow: 0px 1px 2px rgba(60, 64, 67, 0.3), 0px 1px 3px 1px rgba(60, 64, 67, 0.15);\n",
              "      fill: #174EA6;\n",
              "    }\n",
              "\n",
              "    [theme=dark] .colab-df-convert {\n",
              "      background-color: #3B4455;\n",
              "      fill: #D2E3FC;\n",
              "    }\n",
              "\n",
              "    [theme=dark] .colab-df-convert:hover {\n",
              "      background-color: #434B5C;\n",
              "      box-shadow: 0px 1px 3px 1px rgba(0, 0, 0, 0.15);\n",
              "      filter: drop-shadow(0px 1px 2px rgba(0, 0, 0, 0.3));\n",
              "      fill: #FFFFFF;\n",
              "    }\n",
              "  </style>\n",
              "\n",
              "      <script>\n",
              "        const buttonEl =\n",
              "          document.querySelector('#df-13622dba-fbf6-4424-b8e1-924670737cdd button.colab-df-convert');\n",
              "        buttonEl.style.display =\n",
              "          google.colab.kernel.accessAllowed ? 'block' : 'none';\n",
              "\n",
              "        async function convertToInteractive(key) {\n",
              "          const element = document.querySelector('#df-13622dba-fbf6-4424-b8e1-924670737cdd');\n",
              "          const dataTable =\n",
              "            await google.colab.kernel.invokeFunction('convertToInteractive',\n",
              "                                                     [key], {});\n",
              "          if (!dataTable) return;\n",
              "\n",
              "          const docLinkHtml = 'Like what you see? Visit the ' +\n",
              "            '<a target=\"_blank\" href=https://colab.research.google.com/notebooks/data_table.ipynb>data table notebook</a>'\n",
              "            + ' to learn more about interactive tables.';\n",
              "          element.innerHTML = '';\n",
              "          dataTable['output_type'] = 'display_data';\n",
              "          await google.colab.output.renderOutput(dataTable, element);\n",
              "          const docLink = document.createElement('div');\n",
              "          docLink.innerHTML = docLinkHtml;\n",
              "          element.appendChild(docLink);\n",
              "        }\n",
              "      </script>\n",
              "    </div>\n",
              "  </div>\n",
              "  "
            ]
          },
          "metadata": {},
          "execution_count": 7
        }
      ]
    },
    {
      "cell_type": "code",
      "source": [
        "## Filling HP NAs with above median\n",
        "print('HP median: ', df_toyota['HP'].median())\n",
        "df_toyota['HP'] = df_toyota['HP'].fillna(df_toyota['HP'].median())"
      ],
      "metadata": {
        "id": "-mGdsJH8wDgE",
        "colab": {
          "base_uri": "https://localhost:8080/"
        },
        "outputId": "67593a7f-2633-46a9-fa9f-db58156bb7f0"
      },
      "execution_count": 8,
      "outputs": [
        {
          "output_type": "stream",
          "name": "stdout",
          "text": [
            "HP median:  110.0\n"
          ]
        }
      ]
    },
    {
      "cell_type": "code",
      "source": [
        "df_toyota.info()"
      ],
      "metadata": {
        "colab": {
          "base_uri": "https://localhost:8080/"
        },
        "id": "wEWgq4IuxZwl",
        "outputId": "0b699a09-693b-46d1-a3c0-b56cf05c78f5"
      },
      "execution_count": 9,
      "outputs": [
        {
          "output_type": "stream",
          "name": "stdout",
          "text": [
            "<class 'pandas.core.frame.DataFrame'>\n",
            "RangeIndex: 1436 entries, 0 to 1435\n",
            "Data columns (total 9 columns):\n",
            " #   Column         Non-Null Count  Dtype  \n",
            "---  ------         --------------  -----  \n",
            " 0   Price          1436 non-null   int64  \n",
            " 1   Age_08_04      1436 non-null   int64  \n",
            " 2   KM             1436 non-null   int64  \n",
            " 3   HP             1436 non-null   float64\n",
            " 4   cc             1436 non-null   int64  \n",
            " 5   Doors          1436 non-null   int64  \n",
            " 6   Gears          1436 non-null   int64  \n",
            " 7   Quarterly_Tax  1436 non-null   int64  \n",
            " 8   Weight         1436 non-null   int64  \n",
            "dtypes: float64(1), int64(8)\n",
            "memory usage: 101.1 KB\n"
          ]
        }
      ]
    },
    {
      "cell_type": "code",
      "source": [
        "# Check for duplicates\n",
        "df_toyota[df_toyota.duplicated()]"
      ],
      "metadata": {
        "colab": {
          "base_uri": "https://localhost:8080/",
          "height": 0
        },
        "id": "fs6gTxWuiqTY",
        "outputId": "35f3e9bb-fead-45e5-9c89-d1c46dac9584"
      },
      "execution_count": 10,
      "outputs": [
        {
          "output_type": "execute_result",
          "data": {
            "text/plain": [
              "     Price  Age_08_04     KM     HP    cc  Doors  Gears  Quarterly_Tax  Weight\n",
              "113  24950          8  13253  116.0  2000      5      5            234    1320"
            ],
            "text/html": [
              "\n",
              "  <div id=\"df-87f9cde8-446e-4317-8ca7-acbc6b27bfc4\">\n",
              "    <div class=\"colab-df-container\">\n",
              "      <div>\n",
              "<style scoped>\n",
              "    .dataframe tbody tr th:only-of-type {\n",
              "        vertical-align: middle;\n",
              "    }\n",
              "\n",
              "    .dataframe tbody tr th {\n",
              "        vertical-align: top;\n",
              "    }\n",
              "\n",
              "    .dataframe thead th {\n",
              "        text-align: right;\n",
              "    }\n",
              "</style>\n",
              "<table border=\"1\" class=\"dataframe\">\n",
              "  <thead>\n",
              "    <tr style=\"text-align: right;\">\n",
              "      <th></th>\n",
              "      <th>Price</th>\n",
              "      <th>Age_08_04</th>\n",
              "      <th>KM</th>\n",
              "      <th>HP</th>\n",
              "      <th>cc</th>\n",
              "      <th>Doors</th>\n",
              "      <th>Gears</th>\n",
              "      <th>Quarterly_Tax</th>\n",
              "      <th>Weight</th>\n",
              "    </tr>\n",
              "  </thead>\n",
              "  <tbody>\n",
              "    <tr>\n",
              "      <th>113</th>\n",
              "      <td>24950</td>\n",
              "      <td>8</td>\n",
              "      <td>13253</td>\n",
              "      <td>116.0</td>\n",
              "      <td>2000</td>\n",
              "      <td>5</td>\n",
              "      <td>5</td>\n",
              "      <td>234</td>\n",
              "      <td>1320</td>\n",
              "    </tr>\n",
              "  </tbody>\n",
              "</table>\n",
              "</div>\n",
              "      <button class=\"colab-df-convert\" onclick=\"convertToInteractive('df-87f9cde8-446e-4317-8ca7-acbc6b27bfc4')\"\n",
              "              title=\"Convert this dataframe to an interactive table.\"\n",
              "              style=\"display:none;\">\n",
              "        \n",
              "  <svg xmlns=\"http://www.w3.org/2000/svg\" height=\"24px\"viewBox=\"0 0 24 24\"\n",
              "       width=\"24px\">\n",
              "    <path d=\"M0 0h24v24H0V0z\" fill=\"none\"/>\n",
              "    <path d=\"M18.56 5.44l.94 2.06.94-2.06 2.06-.94-2.06-.94-.94-2.06-.94 2.06-2.06.94zm-11 1L8.5 8.5l.94-2.06 2.06-.94-2.06-.94L8.5 2.5l-.94 2.06-2.06.94zm10 10l.94 2.06.94-2.06 2.06-.94-2.06-.94-.94-2.06-.94 2.06-2.06.94z\"/><path d=\"M17.41 7.96l-1.37-1.37c-.4-.4-.92-.59-1.43-.59-.52 0-1.04.2-1.43.59L10.3 9.45l-7.72 7.72c-.78.78-.78 2.05 0 2.83L4 21.41c.39.39.9.59 1.41.59.51 0 1.02-.2 1.41-.59l7.78-7.78 2.81-2.81c.8-.78.8-2.07 0-2.86zM5.41 20L4 18.59l7.72-7.72 1.47 1.35L5.41 20z\"/>\n",
              "  </svg>\n",
              "      </button>\n",
              "      \n",
              "  <style>\n",
              "    .colab-df-container {\n",
              "      display:flex;\n",
              "      flex-wrap:wrap;\n",
              "      gap: 12px;\n",
              "    }\n",
              "\n",
              "    .colab-df-convert {\n",
              "      background-color: #E8F0FE;\n",
              "      border: none;\n",
              "      border-radius: 50%;\n",
              "      cursor: pointer;\n",
              "      display: none;\n",
              "      fill: #1967D2;\n",
              "      height: 32px;\n",
              "      padding: 0 0 0 0;\n",
              "      width: 32px;\n",
              "    }\n",
              "\n",
              "    .colab-df-convert:hover {\n",
              "      background-color: #E2EBFA;\n",
              "      box-shadow: 0px 1px 2px rgba(60, 64, 67, 0.3), 0px 1px 3px 1px rgba(60, 64, 67, 0.15);\n",
              "      fill: #174EA6;\n",
              "    }\n",
              "\n",
              "    [theme=dark] .colab-df-convert {\n",
              "      background-color: #3B4455;\n",
              "      fill: #D2E3FC;\n",
              "    }\n",
              "\n",
              "    [theme=dark] .colab-df-convert:hover {\n",
              "      background-color: #434B5C;\n",
              "      box-shadow: 0px 1px 3px 1px rgba(0, 0, 0, 0.15);\n",
              "      filter: drop-shadow(0px 1px 2px rgba(0, 0, 0, 0.3));\n",
              "      fill: #FFFFFF;\n",
              "    }\n",
              "  </style>\n",
              "\n",
              "      <script>\n",
              "        const buttonEl =\n",
              "          document.querySelector('#df-87f9cde8-446e-4317-8ca7-acbc6b27bfc4 button.colab-df-convert');\n",
              "        buttonEl.style.display =\n",
              "          google.colab.kernel.accessAllowed ? 'block' : 'none';\n",
              "\n",
              "        async function convertToInteractive(key) {\n",
              "          const element = document.querySelector('#df-87f9cde8-446e-4317-8ca7-acbc6b27bfc4');\n",
              "          const dataTable =\n",
              "            await google.colab.kernel.invokeFunction('convertToInteractive',\n",
              "                                                     [key], {});\n",
              "          if (!dataTable) return;\n",
              "\n",
              "          const docLinkHtml = 'Like what you see? Visit the ' +\n",
              "            '<a target=\"_blank\" href=https://colab.research.google.com/notebooks/data_table.ipynb>data table notebook</a>'\n",
              "            + ' to learn more about interactive tables.';\n",
              "          element.innerHTML = '';\n",
              "          dataTable['output_type'] = 'display_data';\n",
              "          await google.colab.output.renderOutput(dataTable, element);\n",
              "          const docLink = document.createElement('div');\n",
              "          docLink.innerHTML = docLinkHtml;\n",
              "          element.appendChild(docLink);\n",
              "        }\n",
              "      </script>\n",
              "    </div>\n",
              "  </div>\n",
              "  "
            ]
          },
          "metadata": {},
          "execution_count": 10
        }
      ]
    },
    {
      "cell_type": "code",
      "source": [
        "# Remove duplicates\n",
        "df_toyota1 = df_toyota.drop([113], axis=0)\n",
        "df_toyota1.reset_index()\n",
        "df_toyota1.info()"
      ],
      "metadata": {
        "colab": {
          "base_uri": "https://localhost:8080/"
        },
        "id": "XtSlLYOnjKAw",
        "outputId": "36002291-3e78-43f5-b2d8-14caf2aa0cee"
      },
      "execution_count": 11,
      "outputs": [
        {
          "output_type": "stream",
          "name": "stdout",
          "text": [
            "<class 'pandas.core.frame.DataFrame'>\n",
            "Int64Index: 1435 entries, 0 to 1435\n",
            "Data columns (total 9 columns):\n",
            " #   Column         Non-Null Count  Dtype  \n",
            "---  ------         --------------  -----  \n",
            " 0   Price          1435 non-null   int64  \n",
            " 1   Age_08_04      1435 non-null   int64  \n",
            " 2   KM             1435 non-null   int64  \n",
            " 3   HP             1435 non-null   float64\n",
            " 4   cc             1435 non-null   int64  \n",
            " 5   Doors          1435 non-null   int64  \n",
            " 6   Gears          1435 non-null   int64  \n",
            " 7   Quarterly_Tax  1435 non-null   int64  \n",
            " 8   Weight         1435 non-null   int64  \n",
            "dtypes: float64(1), int64(8)\n",
            "memory usage: 112.1 KB\n"
          ]
        }
      ]
    },
    {
      "cell_type": "markdown",
      "source": [
        "**Outlier Detection and Imputations**"
      ],
      "metadata": {
        "id": "bSoHeT_vxwWX"
      }
    },
    {
      "cell_type": "code",
      "source": [
        "df_toyota1.hist()\n",
        "plt.show()"
      ],
      "metadata": {
        "colab": {
          "base_uri": "https://localhost:8080/",
          "height": 0
        },
        "id": "hgckS7Eb3l-O",
        "outputId": "f0e08503-1e65-406e-d2ec-0247d95dad7a"
      },
      "execution_count": 12,
      "outputs": [
        {
          "output_type": "display_data",
          "data": {
            "text/plain": [
              "<Figure size 432x288 with 9 Axes>"
            ],
            "image/png": "[encoded data removed]"
          },
          "metadata": {
            "needs_background": "light"
          }
        }
      ]
    },
    {
      "cell_type": "code",
      "source": [
        "plt.figure(figsize=(15,5))\n",
        "df_toyota1.boxplot()\n",
        "plt.show()"
      ],
      "metadata": {
        "colab": {
          "base_uri": "https://localhost:8080/",
          "height": 0
        },
        "id": "D7s_7ZQUkypF",
        "outputId": "e1992487-11d4-4393-b515-171b17f3935c"
      },
      "execution_count": 13,
      "outputs": [
        {
          "output_type": "display_data",
          "data": {
            "text/plain": [
              "<Figure size 1080x360 with 1 Axes>"
            ],
            "image/png": "[encoded data removed]"
          },
          "metadata": {
            "needs_background": "light"
          }
        }
      ]
    },
    {
      "cell_type": "markdown",
      "source": [
        "Note: Outliers exists in most of the columns"
      ],
      "metadata": {
        "id": "03K0w0p35Mh_"
      }
    },
    {
      "cell_type": "markdown",
      "source": [
        "**Function for outliers finding and imputations **"
      ],
      "metadata": {
        "id": "nmuzMMm7a14i"
      }
    },
    {
      "cell_type": "code",
      "source": [
        "def outliers_imputation(df, column_name, imputation_type): \n",
        "  \n",
        "  box = plt.boxplot(df[column_name])\n",
        "  plt.show()\n",
        "\n",
        "  for n in range(1,10):\n",
        "    \n",
        "    temp_array = [item.get_ydata() for item in box['fliers']] ## fliers are outliers\n",
        "    if np.shape(temp_array)[1] == 0 or n >= 10:\n",
        "      break\n",
        "  \n",
        "    # Get the whiskers\n",
        "    lower_whisker, upper_whisker = [item.get_ydata()[1] for item in box['whiskers']]\n",
        "    print('lower_whisker', lower_whisker)\n",
        "    print('upper_whisker', upper_whisker)\n",
        "\n",
        "    if imputation_type == 'MEDIAN':\n",
        "      print('MEDIAN applying')\n",
        "      df[column_name] = np.where(df[column_name] < lower_whisker, df[column_name].median(), df[column_name])\n",
        "      df[column_name] = np.where(df[column_name] > upper_whisker, df[column_name].median(), df[column_name])\n",
        "    elif imputation_type == 'DROP':\n",
        "      print('Dropping')\n",
        "      # Drop outliers \n",
        "      df = df.loc[df[column_name] <= upper_whisker]\n",
        "      df = df.loc[df[column_name] >= lower_whisker]\n",
        "    \n",
        "    box = plt.boxplot(df[column_name])\n",
        "    plt.show()\n",
        "    temp_array = [item.get_ydata() for item in box['fliers']] ## fliers are outliers\n",
        "    \n",
        "    if np.shape(temp_array)[1] == 0 or n >= 10:\n",
        "      break\n",
        "\n",
        "  \n",
        "  return df\n",
        "\n",
        "\n",
        "\n",
        "\n"
      ],
      "metadata": {
        "id": "SrqS4IgBPq4J"
      },
      "execution_count": 14,
      "outputs": []
    },
    {
      "cell_type": "markdown",
      "source": [
        "**Outliers - Age_08_04** "
      ],
      "metadata": {
        "id": "Iusy0SVSsy_j"
      }
    },
    {
      "cell_type": "code",
      "source": [
        "df_toyota1 = outliers_imputation(df_toyota1, 'Age_08_04', 'MEDIAN')"
      ],
      "metadata": {
        "colab": {
          "base_uri": "https://localhost:8080/",
          "height": 0
        },
        "id": "mlFxog8uUHuo",
        "outputId": "1e19c8ab-1171-4a14-ad62-406d8d153a6f"
      },
      "execution_count": 15,
      "outputs": [
        {
          "output_type": "display_data",
          "data": {
            "text/plain": [
              "<Figure size 432x288 with 1 Axes>"
            ],
            "image/png": "[encoded data removed]"
          },
          "metadata": {
            "needs_background": "light"
          }
        },
        {
          "output_type": "stream",
          "name": "stdout",
          "text": [
            "lower_whisker 6.0\n",
            "upper_whisker 80.0\n",
            "MEDIAN applying\n"
          ]
        },
        {
          "output_type": "display_data",
          "data": {
            "text/plain": [
              "<Figure size 432x288 with 1 Axes>"
            ],
            "image/png": "[encoded data removed]"
          },
          "metadata": {
            "needs_background": "light"
          }
        }
      ]
    },
    {
      "cell_type": "markdown",
      "source": [
        "**Outliers - KM**"
      ],
      "metadata": {
        "id": "gIJ-SbOXv8fd"
      }
    },
    {
      "cell_type": "code",
      "source": [
        "df_toyota1 = outliers_imputation(df_toyota1, 'KM', 'DROP')"
      ],
      "metadata": {
        "colab": {
          "base_uri": "https://localhost:8080/",
          "height": 0
        },
        "id": "67vU5zDvmWE3",
        "outputId": "d224cec2-941f-49f8-8cc8-b9d666cb679d"
      },
      "execution_count": 16,
      "outputs": [
        {
          "output_type": "display_data",
          "data": {
            "text/plain": [
              "<Figure size 432x288 with 1 Axes>"
            ],
            "image/png": "[encoded data removed]"
          },
          "metadata": {
            "needs_background": "light"
          }
        },
        {
          "output_type": "stream",
          "name": "stdout",
          "text": [
            "lower_whisker 1.0\n",
            "upper_whisker 151300.0\n",
            "Dropping\n"
          ]
        },
        {
          "output_type": "display_data",
          "data": {
            "text/plain": [
              "<Figure size 432x288 with 1 Axes>"
            ],
            "image/png": "[encoded data removed]"
          },
          "metadata": {
            "needs_background": "light"
          }
        },
        {
          "output_type": "stream",
          "name": "stdout",
          "text": [
            "lower_whisker 1.0\n",
            "upper_whisker 146736.0\n",
            "Dropping\n"
          ]
        },
        {
          "output_type": "display_data",
          "data": {
            "text/plain": [
              "<Figure size 432x288 with 1 Axes>"
            ],
            "image/png": "[encoded data removed]"
          },
          "metadata": {
            "needs_background": "light"
          }
        },
        {
          "output_type": "stream",
          "name": "stdout",
          "text": [
            "lower_whisker 1.0\n",
            "upper_whisker 144521.0\n",
            "Dropping\n"
          ]
        },
        {
          "output_type": "display_data",
          "data": {
            "text/plain": [
              "<Figure size 432x288 with 1 Axes>"
            ],
            "image/png": "[encoded data removed]"
          },
          "metadata": {
            "needs_background": "light"
          }
        }
      ]
    },
    {
      "cell_type": "markdown",
      "source": [
        "**Outliers - HP**"
      ],
      "metadata": {
        "id": "NM28XE2U2rXa"
      }
    },
    {
      "cell_type": "code",
      "source": [
        "df_toyota1 = outliers_imputation(df_toyota1, 'HP', 'MEDIAN')"
      ],
      "metadata": {
        "colab": {
          "base_uri": "https://localhost:8080/",
          "height": 0
        },
        "outputId": "9c7635b5-43ed-4da8-95df-b8ee876bc475",
        "id": "eFY-NZ3a2282"
      },
      "execution_count": 17,
      "outputs": [
        {
          "output_type": "display_data",
          "data": {
            "text/plain": [
              "<Figure size 432x288 with 1 Axes>"
            ],
            "image/png": "[encoded data removed]"
          },
          "metadata": {
            "needs_background": "light"
          }
        },
        {
          "output_type": "stream",
          "name": "stdout",
          "text": [
            "lower_whisker 69.0\n",
            "upper_whisker 116.0\n",
            "MEDIAN applying\n"
          ]
        },
        {
          "output_type": "display_data",
          "data": {
            "text/plain": [
              "<Figure size 432x288 with 1 Axes>"
            ],
            "image/png": "[encoded data removed]"
          },
          "metadata": {
            "needs_background": "light"
          }
        }
      ]
    },
    {
      "cell_type": "markdown",
      "source": [
        "**Outliers - cc**"
      ],
      "metadata": {
        "id": "CiRyZTYS3bhM"
      }
    },
    {
      "cell_type": "code",
      "source": [
        "df_toyota1 = outliers_imputation(df_toyota1, 'cc', 'MEDIAN')"
      ],
      "metadata": {
        "colab": {
          "base_uri": "https://localhost:8080/",
          "height": 0
        },
        "outputId": "2cd3c11e-189e-41a2-d9dc-7038140e443b",
        "id": "n6dwPWT83mtV"
      },
      "execution_count": 18,
      "outputs": [
        {
          "output_type": "display_data",
          "data": {
            "text/plain": [
              "<Figure size 432x288 with 1 Axes>"
            ],
            "image/png": "[encoded data removed]"
          },
          "metadata": {
            "needs_background": "light"
          }
        },
        {
          "output_type": "stream",
          "name": "stdout",
          "text": [
            "lower_whisker 1300.0\n",
            "upper_whisker 1900.0\n",
            "MEDIAN applying\n"
          ]
        },
        {
          "output_type": "display_data",
          "data": {
            "text/plain": [
              "<Figure size 432x288 with 1 Axes>"
            ],
            "image/png": "[encoded data removed]"
          },
          "metadata": {
            "needs_background": "light"
          }
        }
      ]
    },
    {
      "cell_type": "markdown",
      "source": [
        "**Outliers - Gears**"
      ],
      "metadata": {
        "id": "Hqy58rMo4XlU"
      }
    },
    {
      "cell_type": "markdown",
      "source": [
        "Gears is an ordinal variable. So, no need to find outliers."
      ],
      "metadata": {
        "id": "zspB3lNx4_l6"
      }
    },
    {
      "cell_type": "code",
      "source": [
        "plt.boxplot(df_toyota1['Gears'])"
      ],
      "metadata": {
        "colab": {
          "base_uri": "https://localhost:8080/",
          "height": 0
        },
        "id": "AurBy4Q1o1t_",
        "outputId": "22f95c0a-2ff0-41c6-a762-745e95786f7a"
      },
      "execution_count": 19,
      "outputs": [
        {
          "output_type": "execute_result",
          "data": {
            "text/plain": [
              "{'boxes': [<matplotlib.lines.Line2D at 0x7f28e5181650>],\n",
              " 'caps': [<matplotlib.lines.Line2D at 0x7f28e527d510>,\n",
              "  <matplotlib.lines.Line2D at 0x7f28e5201390>],\n",
              " 'fliers': [<matplotlib.lines.Line2D at 0x7f28e5201d10>],\n",
              " 'means': [],\n",
              " 'medians': [<matplotlib.lines.Line2D at 0x7f28e5201790>],\n",
              " 'whiskers': [<matplotlib.lines.Line2D at 0x7f28e527d890>,\n",
              "  <matplotlib.lines.Line2D at 0x7f28e527d5d0>]}"
            ]
          },
          "metadata": {},
          "execution_count": 19
        },
        {
          "output_type": "display_data",
          "data": {
            "text/plain": [
              "<Figure size 432x288 with 1 Axes>"
            ],
            "image/png": "[encoded data removed]"
          },
          "metadata": {
            "needs_background": "light"
          }
        }
      ]
    },
    {
      "cell_type": "markdown",
      "source": [
        "**Outliers - Quarterly_Tax**"
      ],
      "metadata": {
        "id": "694wVfLg4cIE"
      }
    },
    {
      "cell_type": "code",
      "source": [
        "df_toyota1 = outliers_imputation(df_toyota1, 'Quarterly_Tax', 'MEDIAN')"
      ],
      "metadata": {
        "colab": {
          "base_uri": "https://localhost:8080/",
          "height": 0
        },
        "id": "VhjY4iFx5Wk5",
        "outputId": "8d63524c-77af-4ded-a3c3-d9285f971bdf"
      },
      "execution_count": 20,
      "outputs": [
        {
          "output_type": "display_data",
          "data": {
            "text/plain": [
              "<Figure size 432x288 with 1 Axes>"
            ],
            "image/png": "[encoded data removed]"
          },
          "metadata": {
            "needs_background": "light"
          }
        },
        {
          "output_type": "stream",
          "name": "stdout",
          "text": [
            "lower_whisker 64.0\n",
            "upper_whisker 100.0\n",
            "MEDIAN applying\n"
          ]
        },
        {
          "output_type": "display_data",
          "data": {
            "text/plain": [
              "<Figure size 432x288 with 1 Axes>"
            ],
            "image/png": "[encoded data removed]"
          },
          "metadata": {
            "needs_background": "light"
          }
        }
      ]
    },
    {
      "cell_type": "markdown",
      "source": [
        "**Outliers - Weight**"
      ],
      "metadata": {
        "id": "40Tgukw64hcJ"
      }
    },
    {
      "cell_type": "code",
      "source": [
        "df_toyota1 = outliers_imputation(df_toyota1, 'Weight', 'MEDIAN')"
      ],
      "metadata": {
        "colab": {
          "base_uri": "https://localhost:8080/",
          "height": 0
        },
        "outputId": "cac8ddfb-734b-4b1c-fb3f-498101a125b6",
        "id": "KnrXmxYE7ZEq"
      },
      "execution_count": 21,
      "outputs": [
        {
          "output_type": "display_data",
          "data": {
            "text/plain": [
              "<Figure size 432x288 with 1 Axes>"
            ],
            "image/png": "[encoded data removed]"
          },
          "metadata": {
            "needs_background": "light"
          }
        },
        {
          "output_type": "stream",
          "name": "stdout",
          "text": [
            "lower_whisker 1000.0\n",
            "upper_whisker 1150.0\n",
            "MEDIAN applying\n"
          ]
        },
        {
          "output_type": "display_data",
          "data": {
            "text/plain": [
              "<Figure size 432x288 with 1 Axes>"
            ],
            "image/png": "[encoded data removed]"
          },
          "metadata": {
            "needs_background": "light"
          }
        },
        {
          "output_type": "stream",
          "name": "stdout",
          "text": [
            "lower_whisker 1000.0\n",
            "upper_whisker 1125.0\n",
            "MEDIAN applying\n"
          ]
        },
        {
          "output_type": "display_data",
          "data": {
            "text/plain": [
              "<Figure size 432x288 with 1 Axes>"
            ],
            "image/png": "[encoded data removed]"
          },
          "metadata": {
            "needs_background": "light"
          }
        }
      ]
    },
    {
      "cell_type": "code",
      "source": [
        "df_toyota1.info()"
      ],
      "metadata": {
        "colab": {
          "base_uri": "https://localhost:8080/"
        },
        "id": "oYccKWDL72sd",
        "outputId": "20d94280-be16-43ff-f69a-b22d5c27d92b"
      },
      "execution_count": 22,
      "outputs": [
        {
          "output_type": "stream",
          "name": "stdout",
          "text": [
            "<class 'pandas.core.frame.DataFrame'>\n",
            "Int64Index: 1374 entries, 0 to 1435\n",
            "Data columns (total 9 columns):\n",
            " #   Column         Non-Null Count  Dtype  \n",
            "---  ------         --------------  -----  \n",
            " 0   Price          1374 non-null   int64  \n",
            " 1   Age_08_04      1374 non-null   float64\n",
            " 2   KM             1374 non-null   int64  \n",
            " 3   HP             1374 non-null   float64\n",
            " 4   cc             1374 non-null   float64\n",
            " 5   Doors          1374 non-null   int64  \n",
            " 6   Gears          1374 non-null   int64  \n",
            " 7   Quarterly_Tax  1374 non-null   float64\n",
            " 8   Weight         1374 non-null   float64\n",
            "dtypes: float64(5), int64(4)\n",
            "memory usage: 107.3 KB\n"
          ]
        }
      ]
    },
    {
      "cell_type": "code",
      "source": [
        "df_toyota1.corr()"
      ],
      "metadata": {
        "colab": {
          "base_uri": "https://localhost:8080/",
          "height": 0
        },
        "id": "yLsGXDTjzrJ5",
        "outputId": "58128e76-4e0e-4003-80da-165963eb90ad"
      },
      "execution_count": 23,
      "outputs": [
        {
          "output_type": "execute_result",
          "data": {
            "text/plain": [
              "                  Price  Age_08_04        KM        HP        cc     Doors  \\\n",
              "Price          1.000000  -0.838900 -0.579498  0.180253  0.189041  0.184680   \n",
              "Age_08_04     -0.838900   1.000000  0.536638 -0.073996 -0.136712 -0.138440   \n",
              "KM            -0.579498   0.536638  1.000000 -0.204936  0.095744 -0.027909   \n",
              "HP             0.180253  -0.073996 -0.204936  1.000000  0.489261  0.136712   \n",
              "cc             0.189041  -0.136712  0.095744  0.489261  1.000000  0.175907   \n",
              "Doors          0.184680  -0.138440 -0.027909  0.136712  0.175907  1.000000   \n",
              "Gears          0.062751  -0.006398  0.030356  0.082621  0.096996 -0.161593   \n",
              "Quarterly_Tax  0.442848  -0.351382 -0.128734  0.247509  0.423303  0.470809   \n",
              "Weight         0.381023  -0.362614 -0.089103  0.254859  0.536022  0.409547   \n",
              "\n",
              "                  Gears  Quarterly_Tax    Weight  \n",
              "Price          0.062751       0.442848  0.381023  \n",
              "Age_08_04     -0.006398      -0.351382 -0.362614  \n",
              "KM             0.030356      -0.128734 -0.089103  \n",
              "HP             0.082621       0.247509  0.254859  \n",
              "cc             0.096996       0.423303  0.536022  \n",
              "Doors         -0.161593       0.470809  0.409547  \n",
              "Gears          1.000000       0.148193 -0.010533  \n",
              "Quarterly_Tax  0.148193       1.000000  0.713050  \n",
              "Weight        -0.010533       0.713050  1.000000  "
            ],
            "text/html": [
              "\n",
              "  <div id=\"df-cc21a67d-e38e-44f0-87a9-13a6c91c7203\">\n",
              "    <div class=\"colab-df-container\">\n",
              "      <div>\n",
              "<style scoped>\n",
              "    .dataframe tbody tr th:only-of-type {\n",
              "        vertical-align: middle;\n",
              "    }\n",
              "\n",
              "    .dataframe tbody tr th {\n",
              "        vertical-align: top;\n",
              "    }\n",
              "\n",
              "    .dataframe thead th {\n",
              "        text-align: right;\n",
              "    }\n",
              "</style>\n",
              "<table border=\"1\" class=\"dataframe\">\n",
              "  <thead>\n",
              "    <tr style=\"text-align: right;\">\n",
              "      <th></th>\n",
              "      <th>Price</th>\n",
              "      <th>Age_08_04</th>\n",
              "      <th>KM</th>\n",
              "      <th>HP</th>\n",
              "      <th>cc</th>\n",
              "      <th>Doors</th>\n",
              "      <th>Gears</th>\n",
              "      <th>Quarterly_Tax</th>\n",
              "      <th>Weight</th>\n",
              "    </tr>\n",
              "  </thead>\n",
              "  <tbody>\n",
              "    <tr>\n",
              "      <th>Price</th>\n",
              "      <td>1.000000</td>\n",
              "      <td>-0.838900</td>\n",
              "      <td>-0.579498</td>\n",
              "      <td>0.180253</td>\n",
              "      <td>0.189041</td>\n",
              "      <td>0.184680</td>\n",
              "      <td>0.062751</td>\n",
              "      <td>0.442848</td>\n",
              "      <td>0.381023</td>\n",
              "    </tr>\n",
              "    <tr>\n",
              "      <th>Age_08_04</th>\n",
              "      <td>-0.838900</td>\n",
              "      <td>1.000000</td>\n",
              "      <td>0.536638</td>\n",
              "      <td>-0.073996</td>\n",
              "      <td>-0.136712</td>\n",
              "      <td>-0.138440</td>\n",
              "      <td>-0.006398</td>\n",
              "      <td>-0.351382</td>\n",
              "      <td>-0.362614</td>\n",
              "    </tr>\n",
              "    <tr>\n",
              "      <th>KM</th>\n",
              "      <td>-0.579498</td>\n",
              "      <td>0.536638</td>\n",
              "      <td>1.000000</td>\n",
              "      <td>-0.204936</td>\n",
              "      <td>0.095744</td>\n",
              "      <td>-0.027909</td>\n",
              "      <td>0.030356</td>\n",
              "      <td>-0.128734</td>\n",
              "      <td>-0.089103</td>\n",
              "    </tr>\n",
              "    <tr>\n",
              "      <th>HP</th>\n",
              "      <td>0.180253</td>\n",
              "      <td>-0.073996</td>\n",
              "      <td>-0.204936</td>\n",
              "      <td>1.000000</td>\n",
              "      <td>0.489261</td>\n",
              "      <td>0.136712</td>\n",
              "      <td>0.082621</td>\n",
              "      <td>0.247509</td>\n",
              "      <td>0.254859</td>\n",
              "    </tr>\n",
              "    <tr>\n",
              "      <th>cc</th>\n",
              "      <td>0.189041</td>\n",
              "      <td>-0.136712</td>\n",
              "      <td>0.095744</td>\n",
              "      <td>0.489261</td>\n",
              "      <td>1.000000</td>\n",
              "      <td>0.175907</td>\n",
              "      <td>0.096996</td>\n",
              "      <td>0.423303</td>\n",
              "      <td>0.536022</td>\n",
              "    </tr>\n",
              "    <tr>\n",
              "      <th>Doors</th>\n",
              "      <td>0.184680</td>\n",
              "      <td>-0.138440</td>\n",
              "      <td>-0.027909</td>\n",
              "      <td>0.136712</td>\n",
              "      <td>0.175907</td>\n",
              "      <td>1.000000</td>\n",
              "      <td>-0.161593</td>\n",
              "      <td>0.470809</td>\n",
              "      <td>0.409547</td>\n",
              "    </tr>\n",
              "    <tr>\n",
              "      <th>Gears</th>\n",
              "      <td>0.062751</td>\n",
              "      <td>-0.006398</td>\n",
              "      <td>0.030356</td>\n",
              "      <td>0.082621</td>\n",
              "      <td>0.096996</td>\n",
              "      <td>-0.161593</td>\n",
              "      <td>1.000000</td>\n",
              "      <td>0.148193</td>\n",
              "      <td>-0.010533</td>\n",
              "    </tr>\n",
              "    <tr>\n",
              "      <th>Quarterly_Tax</th>\n",
              "      <td>0.442848</td>\n",
              "      <td>-0.351382</td>\n",
              "      <td>-0.128734</td>\n",
              "      <td>0.247509</td>\n",
              "      <td>0.423303</td>\n",
              "      <td>0.470809</td>\n",
              "      <td>0.148193</td>\n",
              "      <td>1.000000</td>\n",
              "      <td>0.713050</td>\n",
              "    </tr>\n",
              "    <tr>\n",
              "      <th>Weight</th>\n",
              "      <td>0.381023</td>\n",
              "      <td>-0.362614</td>\n",
              "      <td>-0.089103</td>\n",
              "      <td>0.254859</td>\n",
              "      <td>0.536022</td>\n",
              "      <td>0.409547</td>\n",
              "      <td>-0.010533</td>\n",
              "      <td>0.713050</td>\n",
              "      <td>1.000000</td>\n",
              "    </tr>\n",
              "  </tbody>\n",
              "</table>\n",
              "</div>\n",
              "      <button class=\"colab-df-convert\" onclick=\"convertToInteractive('df-cc21a67d-e38e-44f0-87a9-13a6c91c7203')\"\n",
              "              title=\"Convert this dataframe to an interactive table.\"\n",
              "              style=\"display:none;\">\n",
              "        \n",
              "  <svg xmlns=\"http://www.w3.org/2000/svg\" height=\"24px\"viewBox=\"0 0 24 24\"\n",
              "       width=\"24px\">\n",
              "    <path d=\"M0 0h24v24H0V0z\" fill=\"none\"/>\n",
              "    <path d=\"M18.56 5.44l.94 2.06.94-2.06 2.06-.94-2.06-.94-.94-2.06-.94 2.06-2.06.94zm-11 1L8.5 8.5l.94-2.06 2.06-.94-2.06-.94L8.5 2.5l-.94 2.06-2.06.94zm10 10l.94 2.06.94-2.06 2.06-.94-2.06-.94-.94-2.06-.94 2.06-2.06.94z\"/><path d=\"M17.41 7.96l-1.37-1.37c-.4-.4-.92-.59-1.43-.59-.52 0-1.04.2-1.43.59L10.3 9.45l-7.72 7.72c-.78.78-.78 2.05 0 2.83L4 21.41c.39.39.9.59 1.41.59.51 0 1.02-.2 1.41-.59l7.78-7.78 2.81-2.81c.8-.78.8-2.07 0-2.86zM5.41 20L4 18.59l7.72-7.72 1.47 1.35L5.41 20z\"/>\n",
              "  </svg>\n",
              "      </button>\n",
              "      \n",
              "  <style>\n",
              "    .colab-df-container {\n",
              "      display:flex;\n",
              "      flex-wrap:wrap;\n",
              "      gap: 12px;\n",
              "    }\n",
              "\n",
              "    .colab-df-convert {\n",
              "      background-color: #E8F0FE;\n",
              "      border: none;\n",
              "      border-radius: 50%;\n",
              "      cursor: pointer;\n",
              "      display: none;\n",
              "      fill: #1967D2;\n",
              "      height: 32px;\n",
              "      padding: 0 0 0 0;\n",
              "      width: 32px;\n",
              "    }\n",
              "\n",
              "    .colab-df-convert:hover {\n",
              "      background-color: #E2EBFA;\n",
              "      box-shadow: 0px 1px 2px rgba(60, 64, 67, 0.3), 0px 1px 3px 1px rgba(60, 64, 67, 0.15);\n",
              "      fill: #174EA6;\n",
              "    }\n",
              "\n",
              "    [theme=dark] .colab-df-convert {\n",
              "      background-color: #3B4455;\n",
              "      fill: #D2E3FC;\n",
              "    }\n",
              "\n",
              "    [theme=dark] .colab-df-convert:hover {\n",
              "      background-color: #434B5C;\n",
              "      box-shadow: 0px 1px 3px 1px rgba(0, 0, 0, 0.15);\n",
              "      filter: drop-shadow(0px 1px 2px rgba(0, 0, 0, 0.3));\n",
              "      fill: #FFFFFF;\n",
              "    }\n",
              "  </style>\n",
              "\n",
              "      <script>\n",
              "        const buttonEl =\n",
              "          document.querySelector('#df-cc21a67d-e38e-44f0-87a9-13a6c91c7203 button.colab-df-convert');\n",
              "        buttonEl.style.display =\n",
              "          google.colab.kernel.accessAllowed ? 'block' : 'none';\n",
              "\n",
              "        async function convertToInteractive(key) {\n",
              "          const element = document.querySelector('#df-cc21a67d-e38e-44f0-87a9-13a6c91c7203');\n",
              "          const dataTable =\n",
              "            await google.colab.kernel.invokeFunction('convertToInteractive',\n",
              "                                                     [key], {});\n",
              "          if (!dataTable) return;\n",
              "\n",
              "          const docLinkHtml = 'Like what you see? Visit the ' +\n",
              "            '<a target=\"_blank\" href=https://colab.research.google.com/notebooks/data_table.ipynb>data table notebook</a>'\n",
              "            + ' to learn more about interactive tables.';\n",
              "          element.innerHTML = '';\n",
              "          dataTable['output_type'] = 'display_data';\n",
              "          await google.colab.output.renderOutput(dataTable, element);\n",
              "          const docLink = document.createElement('div');\n",
              "          docLink.innerHTML = docLinkHtml;\n",
              "          element.appendChild(docLink);\n",
              "        }\n",
              "      </script>\n",
              "    </div>\n",
              "  </div>\n",
              "  "
            ]
          },
          "metadata": {},
          "execution_count": 23
        }
      ]
    },
    {
      "cell_type": "code",
      "source": [
        "sns.pairplot(df_toyota1)\n",
        "\n",
        "plt.show()"
      ],
      "metadata": {
        "colab": {
          "base_uri": "https://localhost:8080/",
          "height": 0
        },
        "id": "35EYC9Fxx2kH",
        "outputId": "c7c68045-c6c5-47be-a71d-fe8ddc19b705"
      },
      "execution_count": 24,
      "outputs": [
        {
          "output_type": "display_data",
          "data": {
            "text/plain": [
              "<Figure size 1620x1620 with 90 Axes>"
            ],
            "image/png": "[encoded data removed]"
          },
          "metadata": {
            "needs_background": "light"
          }
        }
      ]
    },
    {
      "cell_type": "markdown",
      "source": [
        "Note: No collinearity exists between input variables."
      ],
      "metadata": {
        "id": "uF9IGu_KrIhv"
      }
    },
    {
      "cell_type": "markdown",
      "source": [
        "##MLR with actual data"
      ],
      "metadata": {
        "id": "68bQOnW50Hst"
      }
    },
    {
      "cell_type": "code",
      "source": [
        "model_toyota_act = smf.ols('Price~Age_08_04+KM+HP+cc+Doors+Gears+Quarterly_Tax+Weight', data=df_toyota).fit()"
      ],
      "metadata": {
        "id": "5GotNCPz0L5b"
      },
      "execution_count": 25,
      "outputs": []
    },
    {
      "cell_type": "code",
      "source": [
        "# Coefficients\n",
        "model_toyota_act.params"
      ],
      "metadata": {
        "colab": {
          "base_uri": "https://localhost:8080/"
        },
        "id": "gQvr7peL0z7R",
        "outputId": "99c6fcb8-f374-43f6-9c14-e01bcd238316"
      },
      "execution_count": 26,
      "outputs": [
        {
          "output_type": "execute_result",
          "data": {
            "text/plain": [
              "Intercept       -5541.586763\n",
              "Age_08_04        -121.654460\n",
              "KM                 -0.020795\n",
              "HP                 31.850110\n",
              "cc                 -0.120927\n",
              "Doors              -0.267592\n",
              "Gears             593.380009\n",
              "Quarterly_Tax       3.966495\n",
              "Weight             16.908603\n",
              "dtype: float64"
            ]
          },
          "metadata": {},
          "execution_count": 26
        }
      ]
    },
    {
      "cell_type": "code",
      "source": [
        "model_toyota_act.summary()"
      ],
      "metadata": {
        "colab": {
          "base_uri": "https://localhost:8080/",
          "height": 636
        },
        "id": "k2tqxfg71CC-",
        "outputId": "2e7823c3-debb-4245-80a4-acfb809575e5"
      },
      "execution_count": 27,
      "outputs": [
        {
          "output_type": "execute_result",
          "data": {
            "text/plain": [
              "<class 'statsmodels.iolib.summary.Summary'>\n",
              "\"\"\"\n",
              "                            OLS Regression Results                            \n",
              "==============================================================================\n",
              "Dep. Variable:                  Price   R-squared:                       0.864\n",
              "Model:                            OLS   Adj. R-squared:                  0.863\n",
              "Method:                 Least Squares   F-statistic:                     1132.\n",
              "Date:                Thu, 04 Aug 2022   Prob (F-statistic):               0.00\n",
              "Time:                        08:38:14   Log-Likelihood:                -12375.\n",
              "No. Observations:                1436   AIC:                         2.477e+04\n",
              "Df Residuals:                    1427   BIC:                         2.482e+04\n",
              "Df Model:                           8                                         \n",
              "Covariance Type:            nonrobust                                         \n",
              "=================================================================================\n",
              "                    coef    std err          t      P>|t|      [0.025      0.975]\n",
              "---------------------------------------------------------------------------------\n",
              "Intercept     -5541.5868   1410.934     -3.928      0.000   -8309.313   -2773.860\n",
              "Age_08_04      -121.6545      2.614    -46.534      0.000    -126.783    -116.526\n",
              "KM               -0.0208      0.001    -16.611      0.000      -0.023      -0.018\n",
              "HP               31.8501      2.816     11.310      0.000      26.326      37.374\n",
              "cc               -0.1209      0.090     -1.343      0.179      -0.298       0.056\n",
              "Doors            -0.2676     39.976     -0.007      0.995     -78.686      78.151\n",
              "Gears           593.3800    196.914      3.013      0.003     207.109     979.651\n",
              "Quarterly_Tax     3.9665      1.309      3.030      0.002       1.399       6.534\n",
              "Weight           16.9086      1.068     15.830      0.000      14.813      19.004\n",
              "==============================================================================\n",
              "Omnibus:                      150.745   Durbin-Watson:                   1.542\n",
              "Prob(Omnibus):                  0.000   Jarque-Bera (JB):             1004.487\n",
              "Skew:                          -0.213   Prob(JB):                    7.56e-219\n",
              "Kurtosis:                       7.075   Cond. No.                     3.13e+06\n",
              "==============================================================================\n",
              "\n",
              "Warnings:\n",
              "[1] Standard Errors assume that the covariance matrix of the errors is correctly specified.\n",
              "[2] The condition number is large, 3.13e+06. This might indicate that there are\n",
              "strong multicollinearity or other numerical problems.\n",
              "\"\"\""
            ],
            "text/html": [
              "<table class=\"simpletable\">\n",
              "<caption>OLS Regression Results</caption>\n",
              "<tr>\n",
              "  <th>Dep. Variable:</th>          <td>Price</td>      <th>  R-squared:         </th> <td>   0.864</td> \n",
              "</tr>\n",
              "<tr>\n",
              "  <th>Model:</th>                   <td>OLS</td>       <th>  Adj. R-squared:    </th> <td>   0.863</td> \n",
              "</tr>\n",
              "<tr>\n",
              "  <th>Method:</th>             <td>Least Squares</td>  <th>  F-statistic:       </th> <td>   1132.</td> \n",
              "</tr>\n",
              "<tr>\n",
              "  <th>Date:</th>             <td>Thu, 04 Aug 2022</td> <th>  Prob (F-statistic):</th>  <td>  0.00</td>  \n",
              "</tr>\n",
              "<tr>\n",
              "  <th>Time:</th>                 <td>08:38:14</td>     <th>  Log-Likelihood:    </th> <td> -12375.</td> \n",
              "</tr>\n",
              "<tr>\n",
              "  <th>No. Observations:</th>      <td>  1436</td>      <th>  AIC:               </th> <td>2.477e+04</td>\n",
              "</tr>\n",
              "<tr>\n",
              "  <th>Df Residuals:</th>          <td>  1427</td>      <th>  BIC:               </th> <td>2.482e+04</td>\n",
              "</tr>\n",
              "<tr>\n",
              "  <th>Df Model:</th>              <td>     8</td>      <th>                     </th>     <td> </td>    \n",
              "</tr>\n",
              "<tr>\n",
              "  <th>Covariance Type:</th>      <td>nonrobust</td>    <th>                     </th>     <td> </td>    \n",
              "</tr>\n",
              "</table>\n",
              "<table class=\"simpletable\">\n",
              "<tr>\n",
              "        <td></td>           <th>coef</th>     <th>std err</th>      <th>t</th>      <th>P>|t|</th>  <th>[0.025</th>    <th>0.975]</th>  \n",
              "</tr>\n",
              "<tr>\n",
              "  <th>Intercept</th>     <td>-5541.5868</td> <td> 1410.934</td> <td>   -3.928</td> <td> 0.000</td> <td>-8309.313</td> <td>-2773.860</td>\n",
              "</tr>\n",
              "<tr>\n",
              "  <th>Age_08_04</th>     <td> -121.6545</td> <td>    2.614</td> <td>  -46.534</td> <td> 0.000</td> <td> -126.783</td> <td> -116.526</td>\n",
              "</tr>\n",
              "<tr>\n",
              "  <th>KM</th>            <td>   -0.0208</td> <td>    0.001</td> <td>  -16.611</td> <td> 0.000</td> <td>   -0.023</td> <td>   -0.018</td>\n",
              "</tr>\n",
              "<tr>\n",
              "  <th>HP</th>            <td>   31.8501</td> <td>    2.816</td> <td>   11.310</td> <td> 0.000</td> <td>   26.326</td> <td>   37.374</td>\n",
              "</tr>\n",
              "<tr>\n",
              "  <th>cc</th>            <td>   -0.1209</td> <td>    0.090</td> <td>   -1.343</td> <td> 0.179</td> <td>   -0.298</td> <td>    0.056</td>\n",
              "</tr>\n",
              "<tr>\n",
              "  <th>Doors</th>         <td>   -0.2676</td> <td>   39.976</td> <td>   -0.007</td> <td> 0.995</td> <td>  -78.686</td> <td>   78.151</td>\n",
              "</tr>\n",
              "<tr>\n",
              "  <th>Gears</th>         <td>  593.3800</td> <td>  196.914</td> <td>    3.013</td> <td> 0.003</td> <td>  207.109</td> <td>  979.651</td>\n",
              "</tr>\n",
              "<tr>\n",
              "  <th>Quarterly_Tax</th> <td>    3.9665</td> <td>    1.309</td> <td>    3.030</td> <td> 0.002</td> <td>    1.399</td> <td>    6.534</td>\n",
              "</tr>\n",
              "<tr>\n",
              "  <th>Weight</th>        <td>   16.9086</td> <td>    1.068</td> <td>   15.830</td> <td> 0.000</td> <td>   14.813</td> <td>   19.004</td>\n",
              "</tr>\n",
              "</table>\n",
              "<table class=\"simpletable\">\n",
              "<tr>\n",
              "  <th>Omnibus:</th>       <td>150.745</td> <th>  Durbin-Watson:     </th> <td>   1.542</td> \n",
              "</tr>\n",
              "<tr>\n",
              "  <th>Prob(Omnibus):</th> <td> 0.000</td>  <th>  Jarque-Bera (JB):  </th> <td>1004.487</td> \n",
              "</tr>\n",
              "<tr>\n",
              "  <th>Skew:</th>          <td>-0.213</td>  <th>  Prob(JB):          </th> <td>7.56e-219</td>\n",
              "</tr>\n",
              "<tr>\n",
              "  <th>Kurtosis:</th>      <td> 7.075</td>  <th>  Cond. No.          </th> <td>3.13e+06</td> \n",
              "</tr>\n",
              "</table><br/><br/>Warnings:<br/>[1] Standard Errors assume that the covariance matrix of the errors is correctly specified.<br/>[2] The condition number is large, 3.13e+06. This might indicate that there are<br/>strong multicollinearity or other numerical problems."
            ]
          },
          "metadata": {},
          "execution_count": 27
        }
      ]
    },
    {
      "cell_type": "markdown",
      "source": [
        "**Predict values for evaluation**"
      ],
      "metadata": {
        "id": "b0Jv4jqm1ed3"
      }
    },
    {
      "cell_type": "code",
      "source": [
        "df_toyota1.iloc[0:5,1:9]"
      ],
      "metadata": {
        "colab": {
          "base_uri": "https://localhost:8080/",
          "height": 206
        },
        "id": "7YM4yl7o13pa",
        "outputId": "a4a3678f-cd15-4207-d8d6-c5f292aeccd0"
      },
      "execution_count": 28,
      "outputs": [
        {
          "output_type": "execute_result",
          "data": {
            "text/plain": [
              "   Age_08_04     KM    HP      cc  Doors  Gears  Quarterly_Tax  Weight\n",
              "0       23.0  46986  90.0  1600.0      3      5           85.0  1065.0\n",
              "1       23.0  72937  90.0  1600.0      3      5           85.0  1065.0\n",
              "2       24.0  41711  90.0  1600.0      3      5           85.0  1065.0\n",
              "3       26.0  48000  90.0  1600.0      3      5           85.0  1065.0\n",
              "4       30.0  38500  90.0  1600.0      3      5           85.0  1065.0"
            ],
            "text/html": [
              "\n",
              "  <div id=\"df-b386821b-2555-4f43-a2ea-352d4b838ed0\">\n",
              "    <div class=\"colab-df-container\">\n",
              "      <div>\n",
              "<style scoped>\n",
              "    .dataframe tbody tr th:only-of-type {\n",
              "        vertical-align: middle;\n",
              "    }\n",
              "\n",
              "    .dataframe tbody tr th {\n",
              "        vertical-align: top;\n",
              "    }\n",
              "\n",
              "    .dataframe thead th {\n",
              "        text-align: right;\n",
              "    }\n",
              "</style>\n",
              "<table border=\"1\" class=\"dataframe\">\n",
              "  <thead>\n",
              "    <tr style=\"text-align: right;\">\n",
              "      <th></th>\n",
              "      <th>Age_08_04</th>\n",
              "      <th>KM</th>\n",
              "      <th>HP</th>\n",
              "      <th>cc</th>\n",
              "      <th>Doors</th>\n",
              "      <th>Gears</th>\n",
              "      <th>Quarterly_Tax</th>\n",
              "      <th>Weight</th>\n",
              "    </tr>\n",
              "  </thead>\n",
              "  <tbody>\n",
              "    <tr>\n",
              "      <th>0</th>\n",
              "      <td>23.0</td>\n",
              "      <td>46986</td>\n",
              "      <td>90.0</td>\n",
              "      <td>1600.0</td>\n",
              "      <td>3</td>\n",
              "      <td>5</td>\n",
              "      <td>85.0</td>\n",
              "      <td>1065.0</td>\n",
              "    </tr>\n",
              "    <tr>\n",
              "      <th>1</th>\n",
              "      <td>23.0</td>\n",
              "      <td>72937</td>\n",
              "      <td>90.0</td>\n",
              "      <td>1600.0</td>\n",
              "      <td>3</td>\n",
              "      <td>5</td>\n",
              "      <td>85.0</td>\n",
              "      <td>1065.0</td>\n",
              "    </tr>\n",
              "    <tr>\n",
              "      <th>2</th>\n",
              "      <td>24.0</td>\n",
              "      <td>41711</td>\n",
              "      <td>90.0</td>\n",
              "      <td>1600.0</td>\n",
              "      <td>3</td>\n",
              "      <td>5</td>\n",
              "      <td>85.0</td>\n",
              "      <td>1065.0</td>\n",
              "    </tr>\n",
              "    <tr>\n",
              "      <th>3</th>\n",
              "      <td>26.0</td>\n",
              "      <td>48000</td>\n",
              "      <td>90.0</td>\n",
              "      <td>1600.0</td>\n",
              "      <td>3</td>\n",
              "      <td>5</td>\n",
              "      <td>85.0</td>\n",
              "      <td>1065.0</td>\n",
              "    </tr>\n",
              "    <tr>\n",
              "      <th>4</th>\n",
              "      <td>30.0</td>\n",
              "      <td>38500</td>\n",
              "      <td>90.0</td>\n",
              "      <td>1600.0</td>\n",
              "      <td>3</td>\n",
              "      <td>5</td>\n",
              "      <td>85.0</td>\n",
              "      <td>1065.0</td>\n",
              "    </tr>\n",
              "  </tbody>\n",
              "</table>\n",
              "</div>\n",
              "      <button class=\"colab-df-convert\" onclick=\"convertToInteractive('df-b386821b-2555-4f43-a2ea-352d4b838ed0')\"\n",
              "              title=\"Convert this dataframe to an interactive table.\"\n",
              "              style=\"display:none;\">\n",
              "        \n",
              "  <svg xmlns=\"http://www.w3.org/2000/svg\" height=\"24px\"viewBox=\"0 0 24 24\"\n",
              "       width=\"24px\">\n",
              "    <path d=\"M0 0h24v24H0V0z\" fill=\"none\"/>\n",
              "    <path d=\"M18.56 5.44l.94 2.06.94-2.06 2.06-.94-2.06-.94-.94-2.06-.94 2.06-2.06.94zm-11 1L8.5 8.5l.94-2.06 2.06-.94-2.06-.94L8.5 2.5l-.94 2.06-2.06.94zm10 10l.94 2.06.94-2.06 2.06-.94-2.06-.94-.94-2.06-.94 2.06-2.06.94z\"/><path d=\"M17.41 7.96l-1.37-1.37c-.4-.4-.92-.59-1.43-.59-.52 0-1.04.2-1.43.59L10.3 9.45l-7.72 7.72c-.78.78-.78 2.05 0 2.83L4 21.41c.39.39.9.59 1.41.59.51 0 1.02-.2 1.41-.59l7.78-7.78 2.81-2.81c.8-.78.8-2.07 0-2.86zM5.41 20L4 18.59l7.72-7.72 1.47 1.35L5.41 20z\"/>\n",
              "  </svg>\n",
              "      </button>\n",
              "      \n",
              "  <style>\n",
              "    .colab-df-container {\n",
              "      display:flex;\n",
              "      flex-wrap:wrap;\n",
              "      gap: 12px;\n",
              "    }\n",
              "\n",
              "    .colab-df-convert {\n",
              "      background-color: #E8F0FE;\n",
              "      border: none;\n",
              "      border-radius: 50%;\n",
              "      cursor: pointer;\n",
              "      display: none;\n",
              "      fill: #1967D2;\n",
              "      height: 32px;\n",
              "      padding: 0 0 0 0;\n",
              "      width: 32px;\n",
              "    }\n",
              "\n",
              "    .colab-df-convert:hover {\n",
              "      background-color: #E2EBFA;\n",
              "      box-shadow: 0px 1px 2px rgba(60, 64, 67, 0.3), 0px 1px 3px 1px rgba(60, 64, 67, 0.15);\n",
              "      fill: #174EA6;\n",
              "    }\n",
              "\n",
              "    [theme=dark] .colab-df-convert {\n",
              "      background-color: #3B4455;\n",
              "      fill: #D2E3FC;\n",
              "    }\n",
              "\n",
              "    [theme=dark] .colab-df-convert:hover {\n",
              "      background-color: #434B5C;\n",
              "      box-shadow: 0px 1px 3px 1px rgba(0, 0, 0, 0.15);\n",
              "      filter: drop-shadow(0px 1px 2px rgba(0, 0, 0, 0.3));\n",
              "      fill: #FFFFFF;\n",
              "    }\n",
              "  </style>\n",
              "\n",
              "      <script>\n",
              "        const buttonEl =\n",
              "          document.querySelector('#df-b386821b-2555-4f43-a2ea-352d4b838ed0 button.colab-df-convert');\n",
              "        buttonEl.style.display =\n",
              "          google.colab.kernel.accessAllowed ? 'block' : 'none';\n",
              "\n",
              "        async function convertToInteractive(key) {\n",
              "          const element = document.querySelector('#df-b386821b-2555-4f43-a2ea-352d4b838ed0');\n",
              "          const dataTable =\n",
              "            await google.colab.kernel.invokeFunction('convertToInteractive',\n",
              "                                                     [key], {});\n",
              "          if (!dataTable) return;\n",
              "\n",
              "          const docLinkHtml = 'Like what you see? Visit the ' +\n",
              "            '<a target=\"_blank\" href=https://colab.research.google.com/notebooks/data_table.ipynb>data table notebook</a>'\n",
              "            + ' to learn more about interactive tables.';\n",
              "          element.innerHTML = '';\n",
              "          dataTable['output_type'] = 'display_data';\n",
              "          await google.colab.output.renderOutput(dataTable, element);\n",
              "          const docLink = document.createElement('div');\n",
              "          docLink.innerHTML = docLinkHtml;\n",
              "          element.appendChild(docLink);\n",
              "        }\n",
              "      </script>\n",
              "    </div>\n",
              "  </div>\n",
              "  "
            ]
          },
          "metadata": {},
          "execution_count": 28
        }
      ]
    },
    {
      "cell_type": "code",
      "source": [
        "model_toyota_act.predict(df_toyota.iloc[0:5,1:9])"
      ],
      "metadata": {
        "colab": {
          "base_uri": "https://localhost:8080/"
        },
        "id": "gcaPOl4d1jvl",
        "outputId": "7a6ab696-46fb-42ab-b141-d7d66262c09b"
      },
      "execution_count": 29,
      "outputs": [
        {
          "output_type": "execute_result",
          "data": {
            "text/plain": [
              "0    16805.515249\n",
              "1    16265.857838\n",
              "2    16793.555708\n",
              "3    16419.465491\n",
              "4    16214.945497\n",
              "dtype: float64"
            ]
          },
          "metadata": {},
          "execution_count": 29
        }
      ]
    },
    {
      "cell_type": "code",
      "source": [
        "## Actual price\n",
        "df_toyota1.iloc[0:5,0:1]"
      ],
      "metadata": {
        "colab": {
          "base_uri": "https://localhost:8080/",
          "height": 206
        },
        "id": "A8Wgu2gq1cbn",
        "outputId": "5a4ac539-5db6-42d3-a402-4a7aa1d51c58"
      },
      "execution_count": 30,
      "outputs": [
        {
          "output_type": "execute_result",
          "data": {
            "text/plain": [
              "   Price\n",
              "0  13500\n",
              "1  13750\n",
              "2  13950\n",
              "3  14950\n",
              "4  13750"
            ],
            "text/html": [
              "\n",
              "  <div id=\"df-36bed2b8-07c7-4e73-bf0c-df1c5b0c463b\">\n",
              "    <div class=\"colab-df-container\">\n",
              "      <div>\n",
              "<style scoped>\n",
              "    .dataframe tbody tr th:only-of-type {\n",
              "        vertical-align: middle;\n",
              "    }\n",
              "\n",
              "    .dataframe tbody tr th {\n",
              "        vertical-align: top;\n",
              "    }\n",
              "\n",
              "    .dataframe thead th {\n",
              "        text-align: right;\n",
              "    }\n",
              "</style>\n",
              "<table border=\"1\" class=\"dataframe\">\n",
              "  <thead>\n",
              "    <tr style=\"text-align: right;\">\n",
              "      <th></th>\n",
              "      <th>Price</th>\n",
              "    </tr>\n",
              "  </thead>\n",
              "  <tbody>\n",
              "    <tr>\n",
              "      <th>0</th>\n",
              "      <td>13500</td>\n",
              "    </tr>\n",
              "    <tr>\n",
              "      <th>1</th>\n",
              "      <td>13750</td>\n",
              "    </tr>\n",
              "    <tr>\n",
              "      <th>2</th>\n",
              "      <td>13950</td>\n",
              "    </tr>\n",
              "    <tr>\n",
              "      <th>3</th>\n",
              "      <td>14950</td>\n",
              "    </tr>\n",
              "    <tr>\n",
              "      <th>4</th>\n",
              "      <td>13750</td>\n",
              "    </tr>\n",
              "  </tbody>\n",
              "</table>\n",
              "</div>\n",
              "      <button class=\"colab-df-convert\" onclick=\"convertToInteractive('df-36bed2b8-07c7-4e73-bf0c-df1c5b0c463b')\"\n",
              "              title=\"Convert this dataframe to an interactive table.\"\n",
              "              style=\"display:none;\">\n",
              "        \n",
              "  <svg xmlns=\"http://www.w3.org/2000/svg\" height=\"24px\"viewBox=\"0 0 24 24\"\n",
              "       width=\"24px\">\n",
              "    <path d=\"M0 0h24v24H0V0z\" fill=\"none\"/>\n",
              "    <path d=\"M18.56 5.44l.94 2.06.94-2.06 2.06-.94-2.06-.94-.94-2.06-.94 2.06-2.06.94zm-11 1L8.5 8.5l.94-2.06 2.06-.94-2.06-.94L8.5 2.5l-.94 2.06-2.06.94zm10 10l.94 2.06.94-2.06 2.06-.94-2.06-.94-.94-2.06-.94 2.06-2.06.94z\"/><path d=\"M17.41 7.96l-1.37-1.37c-.4-.4-.92-.59-1.43-.59-.52 0-1.04.2-1.43.59L10.3 9.45l-7.72 7.72c-.78.78-.78 2.05 0 2.83L4 21.41c.39.39.9.59 1.41.59.51 0 1.02-.2 1.41-.59l7.78-7.78 2.81-2.81c.8-.78.8-2.07 0-2.86zM5.41 20L4 18.59l7.72-7.72 1.47 1.35L5.41 20z\"/>\n",
              "  </svg>\n",
              "      </button>\n",
              "      \n",
              "  <style>\n",
              "    .colab-df-container {\n",
              "      display:flex;\n",
              "      flex-wrap:wrap;\n",
              "      gap: 12px;\n",
              "    }\n",
              "\n",
              "    .colab-df-convert {\n",
              "      background-color: #E8F0FE;\n",
              "      border: none;\n",
              "      border-radius: 50%;\n",
              "      cursor: pointer;\n",
              "      display: none;\n",
              "      fill: #1967D2;\n",
              "      height: 32px;\n",
              "      padding: 0 0 0 0;\n",
              "      width: 32px;\n",
              "    }\n",
              "\n",
              "    .colab-df-convert:hover {\n",
              "      background-color: #E2EBFA;\n",
              "      box-shadow: 0px 1px 2px rgba(60, 64, 67, 0.3), 0px 1px 3px 1px rgba(60, 64, 67, 0.15);\n",
              "      fill: #174EA6;\n",
              "    }\n",
              "\n",
              "    [theme=dark] .colab-df-convert {\n",
              "      background-color: #3B4455;\n",
              "      fill: #D2E3FC;\n",
              "    }\n",
              "\n",
              "    [theme=dark] .colab-df-convert:hover {\n",
              "      background-color: #434B5C;\n",
              "      box-shadow: 0px 1px 3px 1px rgba(0, 0, 0, 0.15);\n",
              "      filter: drop-shadow(0px 1px 2px rgba(0, 0, 0, 0.3));\n",
              "      fill: #FFFFFF;\n",
              "    }\n",
              "  </style>\n",
              "\n",
              "      <script>\n",
              "        const buttonEl =\n",
              "          document.querySelector('#df-36bed2b8-07c7-4e73-bf0c-df1c5b0c463b button.colab-df-convert');\n",
              "        buttonEl.style.display =\n",
              "          google.colab.kernel.accessAllowed ? 'block' : 'none';\n",
              "\n",
              "        async function convertToInteractive(key) {\n",
              "          const element = document.querySelector('#df-36bed2b8-07c7-4e73-bf0c-df1c5b0c463b');\n",
              "          const dataTable =\n",
              "            await google.colab.kernel.invokeFunction('convertToInteractive',\n",
              "                                                     [key], {});\n",
              "          if (!dataTable) return;\n",
              "\n",
              "          const docLinkHtml = 'Like what you see? Visit the ' +\n",
              "            '<a target=\"_blank\" href=https://colab.research.google.com/notebooks/data_table.ipynb>data table notebook</a>'\n",
              "            + ' to learn more about interactive tables.';\n",
              "          element.innerHTML = '';\n",
              "          dataTable['output_type'] = 'display_data';\n",
              "          await google.colab.output.renderOutput(dataTable, element);\n",
              "          const docLink = document.createElement('div');\n",
              "          docLink.innerHTML = docLinkHtml;\n",
              "          element.appendChild(docLink);\n",
              "        }\n",
              "      </script>\n",
              "    </div>\n",
              "  </div>\n",
              "  "
            ]
          },
          "metadata": {},
          "execution_count": 30
        }
      ]
    },
    {
      "cell_type": "markdown",
      "source": [
        "## MLR with Normalization"
      ],
      "metadata": {
        "id": "4aWzbKo9ugY6"
      }
    },
    {
      "cell_type": "code",
      "source": [
        "from sklearn import preprocessing\n",
        "scaler = preprocessing.MinMaxScaler()\n",
        "names = df_toyota1.columns\n",
        "d = scaler.fit_transform(df_toyota1)\n",
        "df_toyota1_norm = pd.DataFrame(d, columns=names)\n",
        "df_toyota1_norm.head()"
      ],
      "metadata": {
        "colab": {
          "base_uri": "https://localhost:8080/",
          "height": 206
        },
        "id": "EhHhGLLLu_3P",
        "outputId": "dac78f55-cc60-4671-8fb1-1987e90f39ab"
      },
      "execution_count": 31,
      "outputs": [
        {
          "output_type": "execute_result",
          "data": {
            "text/plain": [
              "      Price  Age_08_04        KM        HP   cc     Doors     Gears  \\\n",
              "0  0.322638   0.229730  0.325111  0.446809  0.5  0.333333  0.666667   \n",
              "1  0.331551   0.229730  0.504678  0.446809  0.5  0.333333  0.666667   \n",
              "2  0.338681   0.243243  0.288611  0.446809  0.5  0.333333  0.666667   \n",
              "3  0.374332   0.270270  0.332127  0.446809  0.5  0.333333  0.666667   \n",
              "4  0.331551   0.324324  0.266392  0.446809  0.5  0.333333  0.666667   \n",
              "\n",
              "   Quarterly_Tax  Weight  \n",
              "0       0.583333    0.52  \n",
              "1       0.583333    0.52  \n",
              "2       0.583333    0.52  \n",
              "3       0.583333    0.52  \n",
              "4       0.583333    0.52  "
            ],
            "text/html": [
              "\n",
              "  <div id=\"df-908a066d-362e-4903-8eac-ea577c2ae2aa\">\n",
              "    <div class=\"colab-df-container\">\n",
              "      <div>\n",
              "<style scoped>\n",
              "    .dataframe tbody tr th:only-of-type {\n",
              "        vertical-align: middle;\n",
              "    }\n",
              "\n",
              "    .dataframe tbody tr th {\n",
              "        vertical-align: top;\n",
              "    }\n",
              "\n",
              "    .dataframe thead th {\n",
              "        text-align: right;\n",
              "    }\n",
              "</style>\n",
              "<table border=\"1\" class=\"dataframe\">\n",
              "  <thead>\n",
              "    <tr style=\"text-align: right;\">\n",
              "      <th></th>\n",
              "      <th>Price</th>\n",
              "      <th>Age_08_04</th>\n",
              "      <th>KM</th>\n",
              "      <th>HP</th>\n",
              "      <th>cc</th>\n",
              "      <th>Doors</th>\n",
              "      <th>Gears</th>\n",
              "      <th>Quarterly_Tax</th>\n",
              "      <th>Weight</th>\n",
              "    </tr>\n",
              "  </thead>\n",
              "  <tbody>\n",
              "    <tr>\n",
              "      <th>0</th>\n",
              "      <td>0.322638</td>\n",
              "      <td>0.229730</td>\n",
              "      <td>0.325111</td>\n",
              "      <td>0.446809</td>\n",
              "      <td>0.5</td>\n",
              "      <td>0.333333</td>\n",
              "      <td>0.666667</td>\n",
              "      <td>0.583333</td>\n",
              "      <td>0.52</td>\n",
              "    </tr>\n",
              "    <tr>\n",
              "      <th>1</th>\n",
              "      <td>0.331551</td>\n",
              "      <td>0.229730</td>\n",
              "      <td>0.504678</td>\n",
              "      <td>0.446809</td>\n",
              "      <td>0.5</td>\n",
              "      <td>0.333333</td>\n",
              "      <td>0.666667</td>\n",
              "      <td>0.583333</td>\n",
              "      <td>0.52</td>\n",
              "    </tr>\n",
              "    <tr>\n",
              "      <th>2</th>\n",
              "      <td>0.338681</td>\n",
              "      <td>0.243243</td>\n",
              "      <td>0.288611</td>\n",
              "      <td>0.446809</td>\n",
              "      <td>0.5</td>\n",
              "      <td>0.333333</td>\n",
              "      <td>0.666667</td>\n",
              "      <td>0.583333</td>\n",
              "      <td>0.52</td>\n",
              "    </tr>\n",
              "    <tr>\n",
              "      <th>3</th>\n",
              "      <td>0.374332</td>\n",
              "      <td>0.270270</td>\n",
              "      <td>0.332127</td>\n",
              "      <td>0.446809</td>\n",
              "      <td>0.5</td>\n",
              "      <td>0.333333</td>\n",
              "      <td>0.666667</td>\n",
              "      <td>0.583333</td>\n",
              "      <td>0.52</td>\n",
              "    </tr>\n",
              "    <tr>\n",
              "      <th>4</th>\n",
              "      <td>0.331551</td>\n",
              "      <td>0.324324</td>\n",
              "      <td>0.266392</td>\n",
              "      <td>0.446809</td>\n",
              "      <td>0.5</td>\n",
              "      <td>0.333333</td>\n",
              "      <td>0.666667</td>\n",
              "      <td>0.583333</td>\n",
              "      <td>0.52</td>\n",
              "    </tr>\n",
              "  </tbody>\n",
              "</table>\n",
              "</div>\n",
              "      <button class=\"colab-df-convert\" onclick=\"convertToInteractive('df-908a066d-362e-4903-8eac-ea577c2ae2aa')\"\n",
              "              title=\"Convert this dataframe to an interactive table.\"\n",
              "              style=\"display:none;\">\n",
              "        \n",
              "  <svg xmlns=\"http://www.w3.org/2000/svg\" height=\"24px\"viewBox=\"0 0 24 24\"\n",
              "       width=\"24px\">\n",
              "    <path d=\"M0 0h24v24H0V0z\" fill=\"none\"/>\n",
              "    <path d=\"M18.56 5.44l.94 2.06.94-2.06 2.06-.94-2.06-.94-.94-2.06-.94 2.06-2.06.94zm-11 1L8.5 8.5l.94-2.06 2.06-.94-2.06-.94L8.5 2.5l-.94 2.06-2.06.94zm10 10l.94 2.06.94-2.06 2.06-.94-2.06-.94-.94-2.06-.94 2.06-2.06.94z\"/><path d=\"M17.41 7.96l-1.37-1.37c-.4-.4-.92-.59-1.43-.59-.52 0-1.04.2-1.43.59L10.3 9.45l-7.72 7.72c-.78.78-.78 2.05 0 2.83L4 21.41c.39.39.9.59 1.41.59.51 0 1.02-.2 1.41-.59l7.78-7.78 2.81-2.81c.8-.78.8-2.07 0-2.86zM5.41 20L4 18.59l7.72-7.72 1.47 1.35L5.41 20z\"/>\n",
              "  </svg>\n",
              "      </button>\n",
              "      \n",
              "  <style>\n",
              "    .colab-df-container {\n",
              "      display:flex;\n",
              "      flex-wrap:wrap;\n",
              "      gap: 12px;\n",
              "    }\n",
              "\n",
              "    .colab-df-convert {\n",
              "      background-color: #E8F0FE;\n",
              "      border: none;\n",
              "      border-radius: 50%;\n",
              "      cursor: pointer;\n",
              "      display: none;\n",
              "      fill: #1967D2;\n",
              "      height: 32px;\n",
              "      padding: 0 0 0 0;\n",
              "      width: 32px;\n",
              "    }\n",
              "\n",
              "    .colab-df-convert:hover {\n",
              "      background-color: #E2EBFA;\n",
              "      box-shadow: 0px 1px 2px rgba(60, 64, 67, 0.3), 0px 1px 3px 1px rgba(60, 64, 67, 0.15);\n",
              "      fill: #174EA6;\n",
              "    }\n",
              "\n",
              "    [theme=dark] .colab-df-convert {\n",
              "      background-color: #3B4455;\n",
              "      fill: #D2E3FC;\n",
              "    }\n",
              "\n",
              "    [theme=dark] .colab-df-convert:hover {\n",
              "      background-color: #434B5C;\n",
              "      box-shadow: 0px 1px 3px 1px rgba(0, 0, 0, 0.15);\n",
              "      filter: drop-shadow(0px 1px 2px rgba(0, 0, 0, 0.3));\n",
              "      fill: #FFFFFF;\n",
              "    }\n",
              "  </style>\n",
              "\n",
              "      <script>\n",
              "        const buttonEl =\n",
              "          document.querySelector('#df-908a066d-362e-4903-8eac-ea577c2ae2aa button.colab-df-convert');\n",
              "        buttonEl.style.display =\n",
              "          google.colab.kernel.accessAllowed ? 'block' : 'none';\n",
              "\n",
              "        async function convertToInteractive(key) {\n",
              "          const element = document.querySelector('#df-908a066d-362e-4903-8eac-ea577c2ae2aa');\n",
              "          const dataTable =\n",
              "            await google.colab.kernel.invokeFunction('convertToInteractive',\n",
              "                                                     [key], {});\n",
              "          if (!dataTable) return;\n",
              "\n",
              "          const docLinkHtml = 'Like what you see? Visit the ' +\n",
              "            '<a target=\"_blank\" href=https://colab.research.google.com/notebooks/data_table.ipynb>data table notebook</a>'\n",
              "            + ' to learn more about interactive tables.';\n",
              "          element.innerHTML = '';\n",
              "          dataTable['output_type'] = 'display_data';\n",
              "          await google.colab.output.renderOutput(dataTable, element);\n",
              "          const docLink = document.createElement('div');\n",
              "          docLink.innerHTML = docLinkHtml;\n",
              "          element.appendChild(docLink);\n",
              "        }\n",
              "      </script>\n",
              "    </div>\n",
              "  </div>\n",
              "  "
            ]
          },
          "metadata": {},
          "execution_count": 31
        }
      ]
    },
    {
      "cell_type": "code",
      "source": [
        "model_toyota_norm = smf.ols('Price~Age_08_04+KM+HP+cc+Doors+Gears+Quarterly_Tax+Weight', data=df_toyota1_norm).fit()"
      ],
      "metadata": {
        "id": "IrEC4rDtugZK"
      },
      "execution_count": 32,
      "outputs": []
    },
    {
      "cell_type": "code",
      "source": [
        "# Coefficients\n",
        "model_toyota_norm.params"
      ],
      "metadata": {
        "colab": {
          "base_uri": "https://localhost:8080/"
        },
        "outputId": "06652c68-3d52-4c0e-8ae4-c7d9bfb7dba6",
        "id": "nwJpgawlugZK"
      },
      "execution_count": 33,
      "outputs": [
        {
          "output_type": "execute_result",
          "data": {
            "text/plain": [
              "Intercept        0.419603\n",
              "Age_08_04       -0.352458\n",
              "KM              -0.118945\n",
              "HP               0.016401\n",
              "cc               0.024920\n",
              "Doors            0.006341\n",
              "Gears            0.069544\n",
              "Quarterly_Tax    0.094511\n",
              "Weight          -0.023968\n",
              "dtype: float64"
            ]
          },
          "metadata": {},
          "execution_count": 33
        }
      ]
    },
    {
      "cell_type": "code",
      "source": [
        "model_toyota_norm.summary()"
      ],
      "metadata": {
        "colab": {
          "base_uri": "https://localhost:8080/",
          "height": 601
        },
        "outputId": "a2a8bca4-91fa-4704-a2de-9c0328e66221",
        "id": "euyuUba2ugZK"
      },
      "execution_count": 34,
      "outputs": [
        {
          "output_type": "execute_result",
          "data": {
            "text/plain": [
              "<class 'statsmodels.iolib.summary.Summary'>\n",
              "\"\"\"\n",
              "                            OLS Regression Results                            \n",
              "==============================================================================\n",
              "Dep. Variable:                  Price   R-squared:                       0.761\n",
              "Model:                            OLS   Adj. R-squared:                  0.760\n",
              "Method:                 Least Squares   F-statistic:                     543.5\n",
              "Date:                Thu, 04 Aug 2022   Prob (F-statistic):               0.00\n",
              "Time:                        08:38:14   Log-Likelihood:                 1854.7\n",
              "No. Observations:                1374   AIC:                            -3691.\n",
              "Df Residuals:                    1365   BIC:                            -3644.\n",
              "Df Model:                           8                                         \n",
              "Covariance Type:            nonrobust                                         \n",
              "=================================================================================\n",
              "                    coef    std err          t      P>|t|      [0.025      0.975]\n",
              "---------------------------------------------------------------------------------\n",
              "Intercept         0.4196      0.021     19.782      0.000       0.378       0.461\n",
              "Age_08_04        -0.3525      0.009    -39.151      0.000      -0.370      -0.335\n",
              "KM               -0.1189      0.010    -11.415      0.000      -0.139      -0.099\n",
              "HP                0.0164      0.008      1.993      0.046       0.000       0.033\n",
              "cc                0.0249      0.011      2.345      0.019       0.004       0.046\n",
              "Doors             0.0063      0.006      1.000      0.318      -0.006       0.019\n",
              "Gears             0.0695      0.028      2.441      0.015       0.014       0.125\n",
              "Quarterly_Tax     0.0945      0.012      8.135      0.000       0.072       0.117\n",
              "Weight           -0.0240      0.012     -1.924      0.055      -0.048       0.000\n",
              "==============================================================================\n",
              "Omnibus:                     1137.865   Durbin-Watson:                   1.148\n",
              "Prob(Omnibus):                  0.000   Jarque-Bera (JB):            62341.230\n",
              "Skew:                           3.449   Prob(JB):                         0.00\n",
              "Kurtosis:                      35.270   Cond. No.                         39.5\n",
              "==============================================================================\n",
              "\n",
              "Warnings:\n",
              "[1] Standard Errors assume that the covariance matrix of the errors is correctly specified.\n",
              "\"\"\""
            ],
            "text/html": [
              "<table class=\"simpletable\">\n",
              "<caption>OLS Regression Results</caption>\n",
              "<tr>\n",
              "  <th>Dep. Variable:</th>          <td>Price</td>      <th>  R-squared:         </th> <td>   0.761</td>\n",
              "</tr>\n",
              "<tr>\n",
              "  <th>Model:</th>                   <td>OLS</td>       <th>  Adj. R-squared:    </th> <td>   0.760</td>\n",
              "</tr>\n",
              "<tr>\n",
              "  <th>Method:</th>             <td>Least Squares</td>  <th>  F-statistic:       </th> <td>   543.5</td>\n",
              "</tr>\n",
              "<tr>\n",
              "  <th>Date:</th>             <td>Thu, 04 Aug 2022</td> <th>  Prob (F-statistic):</th>  <td>  0.00</td> \n",
              "</tr>\n",
              "<tr>\n",
              "  <th>Time:</th>                 <td>08:38:14</td>     <th>  Log-Likelihood:    </th> <td>  1854.7</td>\n",
              "</tr>\n",
              "<tr>\n",
              "  <th>No. Observations:</th>      <td>  1374</td>      <th>  AIC:               </th> <td>  -3691.</td>\n",
              "</tr>\n",
              "<tr>\n",
              "  <th>Df Residuals:</th>          <td>  1365</td>      <th>  BIC:               </th> <td>  -3644.</td>\n",
              "</tr>\n",
              "<tr>\n",
              "  <th>Df Model:</th>              <td>     8</td>      <th>                     </th>     <td> </td>   \n",
              "</tr>\n",
              "<tr>\n",
              "  <th>Covariance Type:</th>      <td>nonrobust</td>    <th>                     </th>     <td> </td>   \n",
              "</tr>\n",
              "</table>\n",
              "<table class=\"simpletable\">\n",
              "<tr>\n",
              "        <td></td>           <th>coef</th>     <th>std err</th>      <th>t</th>      <th>P>|t|</th>  <th>[0.025</th>    <th>0.975]</th>  \n",
              "</tr>\n",
              "<tr>\n",
              "  <th>Intercept</th>     <td>    0.4196</td> <td>    0.021</td> <td>   19.782</td> <td> 0.000</td> <td>    0.378</td> <td>    0.461</td>\n",
              "</tr>\n",
              "<tr>\n",
              "  <th>Age_08_04</th>     <td>   -0.3525</td> <td>    0.009</td> <td>  -39.151</td> <td> 0.000</td> <td>   -0.370</td> <td>   -0.335</td>\n",
              "</tr>\n",
              "<tr>\n",
              "  <th>KM</th>            <td>   -0.1189</td> <td>    0.010</td> <td>  -11.415</td> <td> 0.000</td> <td>   -0.139</td> <td>   -0.099</td>\n",
              "</tr>\n",
              "<tr>\n",
              "  <th>HP</th>            <td>    0.0164</td> <td>    0.008</td> <td>    1.993</td> <td> 0.046</td> <td>    0.000</td> <td>    0.033</td>\n",
              "</tr>\n",
              "<tr>\n",
              "  <th>cc</th>            <td>    0.0249</td> <td>    0.011</td> <td>    2.345</td> <td> 0.019</td> <td>    0.004</td> <td>    0.046</td>\n",
              "</tr>\n",
              "<tr>\n",
              "  <th>Doors</th>         <td>    0.0063</td> <td>    0.006</td> <td>    1.000</td> <td> 0.318</td> <td>   -0.006</td> <td>    0.019</td>\n",
              "</tr>\n",
              "<tr>\n",
              "  <th>Gears</th>         <td>    0.0695</td> <td>    0.028</td> <td>    2.441</td> <td> 0.015</td> <td>    0.014</td> <td>    0.125</td>\n",
              "</tr>\n",
              "<tr>\n",
              "  <th>Quarterly_Tax</th> <td>    0.0945</td> <td>    0.012</td> <td>    8.135</td> <td> 0.000</td> <td>    0.072</td> <td>    0.117</td>\n",
              "</tr>\n",
              "<tr>\n",
              "  <th>Weight</th>        <td>   -0.0240</td> <td>    0.012</td> <td>   -1.924</td> <td> 0.055</td> <td>   -0.048</td> <td>    0.000</td>\n",
              "</tr>\n",
              "</table>\n",
              "<table class=\"simpletable\">\n",
              "<tr>\n",
              "  <th>Omnibus:</th>       <td>1137.865</td> <th>  Durbin-Watson:     </th> <td>   1.148</td> \n",
              "</tr>\n",
              "<tr>\n",
              "  <th>Prob(Omnibus):</th>  <td> 0.000</td>  <th>  Jarque-Bera (JB):  </th> <td>62341.230</td>\n",
              "</tr>\n",
              "<tr>\n",
              "  <th>Skew:</th>           <td> 3.449</td>  <th>  Prob(JB):          </th> <td>    0.00</td> \n",
              "</tr>\n",
              "<tr>\n",
              "  <th>Kurtosis:</th>       <td>35.270</td>  <th>  Cond. No.          </th> <td>    39.5</td> \n",
              "</tr>\n",
              "</table><br/><br/>Warnings:<br/>[1] Standard Errors assume that the covariance matrix of the errors is correctly specified."
            ]
          },
          "metadata": {},
          "execution_count": 34
        }
      ]
    },
    {
      "cell_type": "markdown",
      "source": [
        "**Predict values for evaluation**"
      ],
      "metadata": {
        "id": "s-gLudUkugZK"
      }
    },
    {
      "cell_type": "code",
      "source": [
        "df_toyota1_norm.iloc[0:5,1:9]"
      ],
      "metadata": {
        "colab": {
          "base_uri": "https://localhost:8080/",
          "height": 206
        },
        "outputId": "d2899dad-9c74-4091-a2f1-bc2d16b6ab8c",
        "id": "YA7-BCbdugZK"
      },
      "execution_count": 35,
      "outputs": [
        {
          "output_type": "execute_result",
          "data": {
            "text/plain": [
              "   Age_08_04        KM        HP   cc     Doors     Gears  Quarterly_Tax  \\\n",
              "0   0.229730  0.325111  0.446809  0.5  0.333333  0.666667       0.583333   \n",
              "1   0.229730  0.504678  0.446809  0.5  0.333333  0.666667       0.583333   \n",
              "2   0.243243  0.288611  0.446809  0.5  0.333333  0.666667       0.583333   \n",
              "3   0.270270  0.332127  0.446809  0.5  0.333333  0.666667       0.583333   \n",
              "4   0.324324  0.266392  0.446809  0.5  0.333333  0.666667       0.583333   \n",
              "\n",
              "   Weight  \n",
              "0    0.52  \n",
              "1    0.52  \n",
              "2    0.52  \n",
              "3    0.52  \n",
              "4    0.52  "
            ],
            "text/html": [
              "\n",
              "  <div id=\"df-86a0052d-518c-4d9d-8fdf-628e503862be\">\n",
              "    <div class=\"colab-df-container\">\n",
              "      <div>\n",
              "<style scoped>\n",
              "    .dataframe tbody tr th:only-of-type {\n",
              "        vertical-align: middle;\n",
              "    }\n",
              "\n",
              "    .dataframe tbody tr th {\n",
              "        vertical-align: top;\n",
              "    }\n",
              "\n",
              "    .dataframe thead th {\n",
              "        text-align: right;\n",
              "    }\n",
              "</style>\n",
              "<table border=\"1\" class=\"dataframe\">\n",
              "  <thead>\n",
              "    <tr style=\"text-align: right;\">\n",
              "      <th></th>\n",
              "      <th>Age_08_04</th>\n",
              "      <th>KM</th>\n",
              "      <th>HP</th>\n",
              "      <th>cc</th>\n",
              "      <th>Doors</th>\n",
              "      <th>Gears</th>\n",
              "      <th>Quarterly_Tax</th>\n",
              "      <th>Weight</th>\n",
              "    </tr>\n",
              "  </thead>\n",
              "  <tbody>\n",
              "    <tr>\n",
              "      <th>0</th>\n",
              "      <td>0.229730</td>\n",
              "      <td>0.325111</td>\n",
              "      <td>0.446809</td>\n",
              "      <td>0.5</td>\n",
              "      <td>0.333333</td>\n",
              "      <td>0.666667</td>\n",
              "      <td>0.583333</td>\n",
              "      <td>0.52</td>\n",
              "    </tr>\n",
              "    <tr>\n",
              "      <th>1</th>\n",
              "      <td>0.229730</td>\n",
              "      <td>0.504678</td>\n",
              "      <td>0.446809</td>\n",
              "      <td>0.5</td>\n",
              "      <td>0.333333</td>\n",
              "      <td>0.666667</td>\n",
              "      <td>0.583333</td>\n",
              "      <td>0.52</td>\n",
              "    </tr>\n",
              "    <tr>\n",
              "      <th>2</th>\n",
              "      <td>0.243243</td>\n",
              "      <td>0.288611</td>\n",
              "      <td>0.446809</td>\n",
              "      <td>0.5</td>\n",
              "      <td>0.333333</td>\n",
              "      <td>0.666667</td>\n",
              "      <td>0.583333</td>\n",
              "      <td>0.52</td>\n",
              "    </tr>\n",
              "    <tr>\n",
              "      <th>3</th>\n",
              "      <td>0.270270</td>\n",
              "      <td>0.332127</td>\n",
              "      <td>0.446809</td>\n",
              "      <td>0.5</td>\n",
              "      <td>0.333333</td>\n",
              "      <td>0.666667</td>\n",
              "      <td>0.583333</td>\n",
              "      <td>0.52</td>\n",
              "    </tr>\n",
              "    <tr>\n",
              "      <th>4</th>\n",
              "      <td>0.324324</td>\n",
              "      <td>0.266392</td>\n",
              "      <td>0.446809</td>\n",
              "      <td>0.5</td>\n",
              "      <td>0.333333</td>\n",
              "      <td>0.666667</td>\n",
              "      <td>0.583333</td>\n",
              "      <td>0.52</td>\n",
              "    </tr>\n",
              "  </tbody>\n",
              "</table>\n",
              "</div>\n",
              "      <button class=\"colab-df-convert\" onclick=\"convertToInteractive('df-86a0052d-518c-4d9d-8fdf-628e503862be')\"\n",
              "              title=\"Convert this dataframe to an interactive table.\"\n",
              "              style=\"display:none;\">\n",
              "        \n",
              "  <svg xmlns=\"http://www.w3.org/2000/svg\" height=\"24px\"viewBox=\"0 0 24 24\"\n",
              "       width=\"24px\">\n",
              "    <path d=\"M0 0h24v24H0V0z\" fill=\"none\"/>\n",
              "    <path d=\"M18.56 5.44l.94 2.06.94-2.06 2.06-.94-2.06-.94-.94-2.06-.94 2.06-2.06.94zm-11 1L8.5 8.5l.94-2.06 2.06-.94-2.06-.94L8.5 2.5l-.94 2.06-2.06.94zm10 10l.94 2.06.94-2.06 2.06-.94-2.06-.94-.94-2.06-.94 2.06-2.06.94z\"/><path d=\"M17.41 7.96l-1.37-1.37c-.4-.4-.92-.59-1.43-.59-.52 0-1.04.2-1.43.59L10.3 9.45l-7.72 7.72c-.78.78-.78 2.05 0 2.83L4 21.41c.39.39.9.59 1.41.59.51 0 1.02-.2 1.41-.59l7.78-7.78 2.81-2.81c.8-.78.8-2.07 0-2.86zM5.41 20L4 18.59l7.72-7.72 1.47 1.35L5.41 20z\"/>\n",
              "  </svg>\n",
              "      </button>\n",
              "      \n",
              "  <style>\n",
              "    .colab-df-container {\n",
              "      display:flex;\n",
              "      flex-wrap:wrap;\n",
              "      gap: 12px;\n",
              "    }\n",
              "\n",
              "    .colab-df-convert {\n",
              "      background-color: #E8F0FE;\n",
              "      border: none;\n",
              "      border-radius: 50%;\n",
              "      cursor: pointer;\n",
              "      display: none;\n",
              "      fill: #1967D2;\n",
              "      height: 32px;\n",
              "      padding: 0 0 0 0;\n",
              "      width: 32px;\n",
              "    }\n",
              "\n",
              "    .colab-df-convert:hover {\n",
              "      background-color: #E2EBFA;\n",
              "      box-shadow: 0px 1px 2px rgba(60, 64, 67, 0.3), 0px 1px 3px 1px rgba(60, 64, 67, 0.15);\n",
              "      fill: #174EA6;\n",
              "    }\n",
              "\n",
              "    [theme=dark] .colab-df-convert {\n",
              "      background-color: #3B4455;\n",
              "      fill: #D2E3FC;\n",
              "    }\n",
              "\n",
              "    [theme=dark] .colab-df-convert:hover {\n",
              "      background-color: #434B5C;\n",
              "      box-shadow: 0px 1px 3px 1px rgba(0, 0, 0, 0.15);\n",
              "      filter: drop-shadow(0px 1px 2px rgba(0, 0, 0, 0.3));\n",
              "      fill: #FFFFFF;\n",
              "    }\n",
              "  </style>\n",
              "\n",
              "      <script>\n",
              "        const buttonEl =\n",
              "          document.querySelector('#df-86a0052d-518c-4d9d-8fdf-628e503862be button.colab-df-convert');\n",
              "        buttonEl.style.display =\n",
              "          google.colab.kernel.accessAllowed ? 'block' : 'none';\n",
              "\n",
              "        async function convertToInteractive(key) {\n",
              "          const element = document.querySelector('#df-86a0052d-518c-4d9d-8fdf-628e503862be');\n",
              "          const dataTable =\n",
              "            await google.colab.kernel.invokeFunction('convertToInteractive',\n",
              "                                                     [key], {});\n",
              "          if (!dataTable) return;\n",
              "\n",
              "          const docLinkHtml = 'Like what you see? Visit the ' +\n",
              "            '<a target=\"_blank\" href=https://colab.research.google.com/notebooks/data_table.ipynb>data table notebook</a>'\n",
              "            + ' to learn more about interactive tables.';\n",
              "          element.innerHTML = '';\n",
              "          dataTable['output_type'] = 'display_data';\n",
              "          await google.colab.output.renderOutput(dataTable, element);\n",
              "          const docLink = document.createElement('div');\n",
              "          docLink.innerHTML = docLinkHtml;\n",
              "          element.appendChild(docLink);\n",
              "        }\n",
              "      </script>\n",
              "    </div>\n",
              "  </div>\n",
              "  "
            ]
          },
          "metadata": {},
          "execution_count": 35
        }
      ]
    },
    {
      "cell_type": "code",
      "source": [
        "model_toyota_norm.predict(df_toyota1_norm.iloc[0:5,1:9])"
      ],
      "metadata": {
        "colab": {
          "base_uri": "https://localhost:8080/"
        },
        "outputId": "3b3b5062-375e-4598-e578-05e789933c27",
        "id": "fvIfCuBTugZK"
      },
      "execution_count": 36,
      "outputs": [
        {
          "output_type": "execute_result",
          "data": {
            "text/plain": [
              "0    0.410896\n",
              "1    0.389537\n",
              "2    0.410474\n",
              "3    0.395772\n",
              "4    0.384539\n",
              "dtype: float64"
            ]
          },
          "metadata": {},
          "execution_count": 36
        }
      ]
    },
    {
      "cell_type": "code",
      "source": [
        "## Actual price\n",
        "df_toyota1_norm.iloc[0:5,0:1]"
      ],
      "metadata": {
        "colab": {
          "base_uri": "https://localhost:8080/",
          "height": 206
        },
        "outputId": "4df0ce5d-6e03-41f5-9e37-aea8133fd6ff",
        "id": "YiwZ8zXjugZK"
      },
      "execution_count": 37,
      "outputs": [
        {
          "output_type": "execute_result",
          "data": {
            "text/plain": [
              "      Price\n",
              "0  0.322638\n",
              "1  0.331551\n",
              "2  0.338681\n",
              "3  0.374332\n",
              "4  0.331551"
            ],
            "text/html": [
              "\n",
              "  <div id=\"df-ed3ae4e7-04ab-4b67-93f1-2f39afd98e73\">\n",
              "    <div class=\"colab-df-container\">\n",
              "      <div>\n",
              "<style scoped>\n",
              "    .dataframe tbody tr th:only-of-type {\n",
              "        vertical-align: middle;\n",
              "    }\n",
              "\n",
              "    .dataframe tbody tr th {\n",
              "        vertical-align: top;\n",
              "    }\n",
              "\n",
              "    .dataframe thead th {\n",
              "        text-align: right;\n",
              "    }\n",
              "</style>\n",
              "<table border=\"1\" class=\"dataframe\">\n",
              "  <thead>\n",
              "    <tr style=\"text-align: right;\">\n",
              "      <th></th>\n",
              "      <th>Price</th>\n",
              "    </tr>\n",
              "  </thead>\n",
              "  <tbody>\n",
              "    <tr>\n",
              "      <th>0</th>\n",
              "      <td>0.322638</td>\n",
              "    </tr>\n",
              "    <tr>\n",
              "      <th>1</th>\n",
              "      <td>0.331551</td>\n",
              "    </tr>\n",
              "    <tr>\n",
              "      <th>2</th>\n",
              "      <td>0.338681</td>\n",
              "    </tr>\n",
              "    <tr>\n",
              "      <th>3</th>\n",
              "      <td>0.374332</td>\n",
              "    </tr>\n",
              "    <tr>\n",
              "      <th>4</th>\n",
              "      <td>0.331551</td>\n",
              "    </tr>\n",
              "  </tbody>\n",
              "</table>\n",
              "</div>\n",
              "      <button class=\"colab-df-convert\" onclick=\"convertToInteractive('df-ed3ae4e7-04ab-4b67-93f1-2f39afd98e73')\"\n",
              "              title=\"Convert this dataframe to an interactive table.\"\n",
              "              style=\"display:none;\">\n",
              "        \n",
              "  <svg xmlns=\"http://www.w3.org/2000/svg\" height=\"24px\"viewBox=\"0 0 24 24\"\n",
              "       width=\"24px\">\n",
              "    <path d=\"M0 0h24v24H0V0z\" fill=\"none\"/>\n",
              "    <path d=\"M18.56 5.44l.94 2.06.94-2.06 2.06-.94-2.06-.94-.94-2.06-.94 2.06-2.06.94zm-11 1L8.5 8.5l.94-2.06 2.06-.94-2.06-.94L8.5 2.5l-.94 2.06-2.06.94zm10 10l.94 2.06.94-2.06 2.06-.94-2.06-.94-.94-2.06-.94 2.06-2.06.94z\"/><path d=\"M17.41 7.96l-1.37-1.37c-.4-.4-.92-.59-1.43-.59-.52 0-1.04.2-1.43.59L10.3 9.45l-7.72 7.72c-.78.78-.78 2.05 0 2.83L4 21.41c.39.39.9.59 1.41.59.51 0 1.02-.2 1.41-.59l7.78-7.78 2.81-2.81c.8-.78.8-2.07 0-2.86zM5.41 20L4 18.59l7.72-7.72 1.47 1.35L5.41 20z\"/>\n",
              "  </svg>\n",
              "      </button>\n",
              "      \n",
              "  <style>\n",
              "    .colab-df-container {\n",
              "      display:flex;\n",
              "      flex-wrap:wrap;\n",
              "      gap: 12px;\n",
              "    }\n",
              "\n",
              "    .colab-df-convert {\n",
              "      background-color: #E8F0FE;\n",
              "      border: none;\n",
              "      border-radius: 50%;\n",
              "      cursor: pointer;\n",
              "      display: none;\n",
              "      fill: #1967D2;\n",
              "      height: 32px;\n",
              "      padding: 0 0 0 0;\n",
              "      width: 32px;\n",
              "    }\n",
              "\n",
              "    .colab-df-convert:hover {\n",
              "      background-color: #E2EBFA;\n",
              "      box-shadow: 0px 1px 2px rgba(60, 64, 67, 0.3), 0px 1px 3px 1px rgba(60, 64, 67, 0.15);\n",
              "      fill: #174EA6;\n",
              "    }\n",
              "\n",
              "    [theme=dark] .colab-df-convert {\n",
              "      background-color: #3B4455;\n",
              "      fill: #D2E3FC;\n",
              "    }\n",
              "\n",
              "    [theme=dark] .colab-df-convert:hover {\n",
              "      background-color: #434B5C;\n",
              "      box-shadow: 0px 1px 3px 1px rgba(0, 0, 0, 0.15);\n",
              "      filter: drop-shadow(0px 1px 2px rgba(0, 0, 0, 0.3));\n",
              "      fill: #FFFFFF;\n",
              "    }\n",
              "  </style>\n",
              "\n",
              "      <script>\n",
              "        const buttonEl =\n",
              "          document.querySelector('#df-ed3ae4e7-04ab-4b67-93f1-2f39afd98e73 button.colab-df-convert');\n",
              "        buttonEl.style.display =\n",
              "          google.colab.kernel.accessAllowed ? 'block' : 'none';\n",
              "\n",
              "        async function convertToInteractive(key) {\n",
              "          const element = document.querySelector('#df-ed3ae4e7-04ab-4b67-93f1-2f39afd98e73');\n",
              "          const dataTable =\n",
              "            await google.colab.kernel.invokeFunction('convertToInteractive',\n",
              "                                                     [key], {});\n",
              "          if (!dataTable) return;\n",
              "\n",
              "          const docLinkHtml = 'Like what you see? Visit the ' +\n",
              "            '<a target=\"_blank\" href=https://colab.research.google.com/notebooks/data_table.ipynb>data table notebook</a>'\n",
              "            + ' to learn more about interactive tables.';\n",
              "          element.innerHTML = '';\n",
              "          dataTable['output_type'] = 'display_data';\n",
              "          await google.colab.output.renderOutput(dataTable, element);\n",
              "          const docLink = document.createElement('div');\n",
              "          docLink.innerHTML = docLinkHtml;\n",
              "          element.appendChild(docLink);\n",
              "        }\n",
              "      </script>\n",
              "    </div>\n",
              "  </div>\n",
              "  "
            ]
          },
          "metadata": {},
          "execution_count": 37
        }
      ]
    },
    {
      "cell_type": "markdown",
      "source": [
        "## MLR with Log Transformation"
      ],
      "metadata": {
        "id": "8ZlXgsKo4pJ9"
      }
    },
    {
      "cell_type": "code",
      "source": [
        "# Applying log for columns\n",
        "\n",
        "df_toyota1_log = pd.DataFrame()\n",
        "\n",
        "df_toyota1_log['Price'] = np.log10(df_toyota1['Price'])\n",
        "df_toyota1_log['Age_08_04'] = np.log10(df_toyota1['Age_08_04'])\n",
        "df_toyota1_log['KM'] = np.log10(df_toyota1['KM'])\n",
        "df_toyota1_log['HP'] = np.log10(df_toyota1['HP'])\n",
        "df_toyota1_log['cc'] = np.log10(df_toyota1['cc'])\n",
        "df_toyota1_log['Doors'] = np.log10(df_toyota1['Doors'])\n",
        "df_toyota1_log['Gears'] = np.log10(df_toyota1['Gears'])\n",
        "df_toyota1_log['Quarterly_Tax'] = np.log10(df_toyota1['Quarterly_Tax'])\n",
        "df_toyota1_log['Weight'] = np.log10(df_toyota1['Weight'])\n",
        "\n",
        "df_toyota1_log.head()"
      ],
      "metadata": {
        "colab": {
          "base_uri": "https://localhost:8080/",
          "height": 206
        },
        "outputId": "b2e3b0c8-76db-4520-a3e2-6938ce3d2d03",
        "id": "VXMg4zGA4pKc"
      },
      "execution_count": 38,
      "outputs": [
        {
          "output_type": "execute_result",
          "data": {
            "text/plain": [
              "      Price  Age_08_04        KM        HP       cc     Doors    Gears  \\\n",
              "0  4.130334   1.361728  4.671968  1.954243  3.20412  0.477121  0.69897   \n",
              "1  4.138303   1.361728  4.862948  1.954243  3.20412  0.477121  0.69897   \n",
              "2  4.144574   1.380211  4.620251  1.954243  3.20412  0.477121  0.69897   \n",
              "3  4.174641   1.414973  4.681241  1.954243  3.20412  0.477121  0.69897   \n",
              "4  4.138303   1.477121  4.585461  1.954243  3.20412  0.477121  0.69897   \n",
              "\n",
              "   Quarterly_Tax   Weight  \n",
              "0       1.929419  3.02735  \n",
              "1       1.929419  3.02735  \n",
              "2       1.929419  3.02735  \n",
              "3       1.929419  3.02735  \n",
              "4       1.929419  3.02735  "
            ],
            "text/html": [
              "\n",
              "  <div id=\"df-ee261c92-0ca2-4a33-87af-5563b83d6653\">\n",
              "    <div class=\"colab-df-container\">\n",
              "      <div>\n",
              "<style scoped>\n",
              "    .dataframe tbody tr th:only-of-type {\n",
              "        vertical-align: middle;\n",
              "    }\n",
              "\n",
              "    .dataframe tbody tr th {\n",
              "        vertical-align: top;\n",
              "    }\n",
              "\n",
              "    .dataframe thead th {\n",
              "        text-align: right;\n",
              "    }\n",
              "</style>\n",
              "<table border=\"1\" class=\"dataframe\">\n",
              "  <thead>\n",
              "    <tr style=\"text-align: right;\">\n",
              "      <th></th>\n",
              "      <th>Price</th>\n",
              "      <th>Age_08_04</th>\n",
              "      <th>KM</th>\n",
              "      <th>HP</th>\n",
              "      <th>cc</th>\n",
              "      <th>Doors</th>\n",
              "      <th>Gears</th>\n",
              "      <th>Quarterly_Tax</th>\n",
              "      <th>Weight</th>\n",
              "    </tr>\n",
              "  </thead>\n",
              "  <tbody>\n",
              "    <tr>\n",
              "      <th>0</th>\n",
              "      <td>4.130334</td>\n",
              "      <td>1.361728</td>\n",
              "      <td>4.671968</td>\n",
              "      <td>1.954243</td>\n",
              "      <td>3.20412</td>\n",
              "      <td>0.477121</td>\n",
              "      <td>0.69897</td>\n",
              "      <td>1.929419</td>\n",
              "      <td>3.02735</td>\n",
              "    </tr>\n",
              "    <tr>\n",
              "      <th>1</th>\n",
              "      <td>4.138303</td>\n",
              "      <td>1.361728</td>\n",
              "      <td>4.862948</td>\n",
              "      <td>1.954243</td>\n",
              "      <td>3.20412</td>\n",
              "      <td>0.477121</td>\n",
              "      <td>0.69897</td>\n",
              "      <td>1.929419</td>\n",
              "      <td>3.02735</td>\n",
              "    </tr>\n",
              "    <tr>\n",
              "      <th>2</th>\n",
              "      <td>4.144574</td>\n",
              "      <td>1.380211</td>\n",
              "      <td>4.620251</td>\n",
              "      <td>1.954243</td>\n",
              "      <td>3.20412</td>\n",
              "      <td>0.477121</td>\n",
              "      <td>0.69897</td>\n",
              "      <td>1.929419</td>\n",
              "      <td>3.02735</td>\n",
              "    </tr>\n",
              "    <tr>\n",
              "      <th>3</th>\n",
              "      <td>4.174641</td>\n",
              "      <td>1.414973</td>\n",
              "      <td>4.681241</td>\n",
              "      <td>1.954243</td>\n",
              "      <td>3.20412</td>\n",
              "      <td>0.477121</td>\n",
              "      <td>0.69897</td>\n",
              "      <td>1.929419</td>\n",
              "      <td>3.02735</td>\n",
              "    </tr>\n",
              "    <tr>\n",
              "      <th>4</th>\n",
              "      <td>4.138303</td>\n",
              "      <td>1.477121</td>\n",
              "      <td>4.585461</td>\n",
              "      <td>1.954243</td>\n",
              "      <td>3.20412</td>\n",
              "      <td>0.477121</td>\n",
              "      <td>0.69897</td>\n",
              "      <td>1.929419</td>\n",
              "      <td>3.02735</td>\n",
              "    </tr>\n",
              "  </tbody>\n",
              "</table>\n",
              "</div>\n",
              "      <button class=\"colab-df-convert\" onclick=\"convertToInteractive('df-ee261c92-0ca2-4a33-87af-5563b83d6653')\"\n",
              "              title=\"Convert this dataframe to an interactive table.\"\n",
              "              style=\"display:none;\">\n",
              "        \n",
              "  <svg xmlns=\"http://www.w3.org/2000/svg\" height=\"24px\"viewBox=\"0 0 24 24\"\n",
              "       width=\"24px\">\n",
              "    <path d=\"M0 0h24v24H0V0z\" fill=\"none\"/>\n",
              "    <path d=\"M18.56 5.44l.94 2.06.94-2.06 2.06-.94-2.06-.94-.94-2.06-.94 2.06-2.06.94zm-11 1L8.5 8.5l.94-2.06 2.06-.94-2.06-.94L8.5 2.5l-.94 2.06-2.06.94zm10 10l.94 2.06.94-2.06 2.06-.94-2.06-.94-.94-2.06-.94 2.06-2.06.94z\"/><path d=\"M17.41 7.96l-1.37-1.37c-.4-.4-.92-.59-1.43-.59-.52 0-1.04.2-1.43.59L10.3 9.45l-7.72 7.72c-.78.78-.78 2.05 0 2.83L4 21.41c.39.39.9.59 1.41.59.51 0 1.02-.2 1.41-.59l7.78-7.78 2.81-2.81c.8-.78.8-2.07 0-2.86zM5.41 20L4 18.59l7.72-7.72 1.47 1.35L5.41 20z\"/>\n",
              "  </svg>\n",
              "      </button>\n",
              "      \n",
              "  <style>\n",
              "    .colab-df-container {\n",
              "      display:flex;\n",
              "      flex-wrap:wrap;\n",
              "      gap: 12px;\n",
              "    }\n",
              "\n",
              "    .colab-df-convert {\n",
              "      background-color: #E8F0FE;\n",
              "      border: none;\n",
              "      border-radius: 50%;\n",
              "      cursor: pointer;\n",
              "      display: none;\n",
              "      fill: #1967D2;\n",
              "      height: 32px;\n",
              "      padding: 0 0 0 0;\n",
              "      width: 32px;\n",
              "    }\n",
              "\n",
              "    .colab-df-convert:hover {\n",
              "      background-color: #E2EBFA;\n",
              "      box-shadow: 0px 1px 2px rgba(60, 64, 67, 0.3), 0px 1px 3px 1px rgba(60, 64, 67, 0.15);\n",
              "      fill: #174EA6;\n",
              "    }\n",
              "\n",
              "    [theme=dark] .colab-df-convert {\n",
              "      background-color: #3B4455;\n",
              "      fill: #D2E3FC;\n",
              "    }\n",
              "\n",
              "    [theme=dark] .colab-df-convert:hover {\n",
              "      background-color: #434B5C;\n",
              "      box-shadow: 0px 1px 3px 1px rgba(0, 0, 0, 0.15);\n",
              "      filter: drop-shadow(0px 1px 2px rgba(0, 0, 0, 0.3));\n",
              "      fill: #FFFFFF;\n",
              "    }\n",
              "  </style>\n",
              "\n",
              "      <script>\n",
              "        const buttonEl =\n",
              "          document.querySelector('#df-ee261c92-0ca2-4a33-87af-5563b83d6653 button.colab-df-convert');\n",
              "        buttonEl.style.display =\n",
              "          google.colab.kernel.accessAllowed ? 'block' : 'none';\n",
              "\n",
              "        async function convertToInteractive(key) {\n",
              "          const element = document.querySelector('#df-ee261c92-0ca2-4a33-87af-5563b83d6653');\n",
              "          const dataTable =\n",
              "            await google.colab.kernel.invokeFunction('convertToInteractive',\n",
              "                                                     [key], {});\n",
              "          if (!dataTable) return;\n",
              "\n",
              "          const docLinkHtml = 'Like what you see? Visit the ' +\n",
              "            '<a target=\"_blank\" href=https://colab.research.google.com/notebooks/data_table.ipynb>data table notebook</a>'\n",
              "            + ' to learn more about interactive tables.';\n",
              "          element.innerHTML = '';\n",
              "          dataTable['output_type'] = 'display_data';\n",
              "          await google.colab.output.renderOutput(dataTable, element);\n",
              "          const docLink = document.createElement('div');\n",
              "          docLink.innerHTML = docLinkHtml;\n",
              "          element.appendChild(docLink);\n",
              "        }\n",
              "      </script>\n",
              "    </div>\n",
              "  </div>\n",
              "  "
            ]
          },
          "metadata": {},
          "execution_count": 38
        }
      ]
    },
    {
      "cell_type": "code",
      "source": [
        "model_toyota_log = smf.ols('Price~Age_08_04+KM+HP+cc+Doors+Gears+Quarterly_Tax+Weight', data=df_toyota1_log).fit()"
      ],
      "metadata": {
        "id": "vuh-Li844pKc"
      },
      "execution_count": 39,
      "outputs": []
    },
    {
      "cell_type": "code",
      "source": [
        "# Coefficients\n",
        "model_toyota_log.params"
      ],
      "metadata": {
        "colab": {
          "base_uri": "https://localhost:8080/"
        },
        "outputId": "abf5a431-7659-43b0-a65f-0e4e2063e006",
        "id": "PcUxWFqi4pKc"
      },
      "execution_count": 40,
      "outputs": [
        {
          "output_type": "execute_result",
          "data": {
            "text/plain": [
              "Intercept        5.170151\n",
              "Age_08_04       -0.459787\n",
              "KM              -0.032780\n",
              "HP               0.173510\n",
              "cc               0.077016\n",
              "Doors            0.007128\n",
              "Gears            0.294591\n",
              "Quarterly_Tax    0.498074\n",
              "Weight          -0.647520\n",
              "dtype: float64"
            ]
          },
          "metadata": {},
          "execution_count": 40
        }
      ]
    },
    {
      "cell_type": "code",
      "source": [
        "model_toyota_log.summary()"
      ],
      "metadata": {
        "colab": {
          "base_uri": "https://localhost:8080/",
          "height": 636
        },
        "outputId": "19deb93f-0709-40a3-8638-6dae93bda14b",
        "id": "OBu0_Iiw4pKc"
      },
      "execution_count": 41,
      "outputs": [
        {
          "output_type": "execute_result",
          "data": {
            "text/plain": [
              "<class 'statsmodels.iolib.summary.Summary'>\n",
              "\"\"\"\n",
              "                            OLS Regression Results                            \n",
              "==============================================================================\n",
              "Dep. Variable:                  Price   R-squared:                       0.761\n",
              "Model:                            OLS   Adj. R-squared:                  0.759\n",
              "Method:                 Least Squares   F-statistic:                     543.0\n",
              "Date:                Thu, 04 Aug 2022   Prob (F-statistic):               0.00\n",
              "Time:                        08:38:14   Log-Likelihood:                 1884.7\n",
              "No. Observations:                1374   AIC:                            -3751.\n",
              "Df Residuals:                    1365   BIC:                            -3704.\n",
              "Df Model:                           8                                         \n",
              "Covariance Type:            nonrobust                                         \n",
              "=================================================================================\n",
              "                    coef    std err          t      P>|t|      [0.025      0.975]\n",
              "---------------------------------------------------------------------------------\n",
              "Intercept         5.1702      0.645      8.018      0.000       3.905       6.435\n",
              "Age_08_04        -0.4598      0.010    -46.461      0.000      -0.479      -0.440\n",
              "KM               -0.0328      0.004     -8.068      0.000      -0.041      -0.025\n",
              "HP                0.1735      0.035      4.991      0.000       0.105       0.242\n",
              "cc                0.0770      0.058      1.332      0.183      -0.036       0.190\n",
              "Doors             0.0071      0.018      0.388      0.698      -0.029       0.043\n",
              "Gears             0.2946      0.108      2.739      0.006       0.084       0.506\n",
              "Quarterly_Tax     0.4981      0.056      8.864      0.000       0.388       0.608\n",
              "Weight           -0.6475      0.245     -2.648      0.008      -1.127      -0.168\n",
              "==============================================================================\n",
              "Omnibus:                      193.157   Durbin-Watson:                   1.425\n",
              "Prob(Omnibus):                  0.000   Jarque-Bera (JB):             2432.233\n",
              "Skew:                           0.066   Prob(JB):                         0.00\n",
              "Kurtosis:                       9.517   Cond. No.                     3.05e+03\n",
              "==============================================================================\n",
              "\n",
              "Warnings:\n",
              "[1] Standard Errors assume that the covariance matrix of the errors is correctly specified.\n",
              "[2] The condition number is large, 3.05e+03. This might indicate that there are\n",
              "strong multicollinearity or other numerical problems.\n",
              "\"\"\""
            ],
            "text/html": [
              "<table class=\"simpletable\">\n",
              "<caption>OLS Regression Results</caption>\n",
              "<tr>\n",
              "  <th>Dep. Variable:</th>          <td>Price</td>      <th>  R-squared:         </th> <td>   0.761</td>\n",
              "</tr>\n",
              "<tr>\n",
              "  <th>Model:</th>                   <td>OLS</td>       <th>  Adj. R-squared:    </th> <td>   0.759</td>\n",
              "</tr>\n",
              "<tr>\n",
              "  <th>Method:</th>             <td>Least Squares</td>  <th>  F-statistic:       </th> <td>   543.0</td>\n",
              "</tr>\n",
              "<tr>\n",
              "  <th>Date:</th>             <td>Thu, 04 Aug 2022</td> <th>  Prob (F-statistic):</th>  <td>  0.00</td> \n",
              "</tr>\n",
              "<tr>\n",
              "  <th>Time:</th>                 <td>08:38:14</td>     <th>  Log-Likelihood:    </th> <td>  1884.7</td>\n",
              "</tr>\n",
              "<tr>\n",
              "  <th>No. Observations:</th>      <td>  1374</td>      <th>  AIC:               </th> <td>  -3751.</td>\n",
              "</tr>\n",
              "<tr>\n",
              "  <th>Df Residuals:</th>          <td>  1365</td>      <th>  BIC:               </th> <td>  -3704.</td>\n",
              "</tr>\n",
              "<tr>\n",
              "  <th>Df Model:</th>              <td>     8</td>      <th>                     </th>     <td> </td>   \n",
              "</tr>\n",
              "<tr>\n",
              "  <th>Covariance Type:</th>      <td>nonrobust</td>    <th>                     </th>     <td> </td>   \n",
              "</tr>\n",
              "</table>\n",
              "<table class=\"simpletable\">\n",
              "<tr>\n",
              "        <td></td>           <th>coef</th>     <th>std err</th>      <th>t</th>      <th>P>|t|</th>  <th>[0.025</th>    <th>0.975]</th>  \n",
              "</tr>\n",
              "<tr>\n",
              "  <th>Intercept</th>     <td>    5.1702</td> <td>    0.645</td> <td>    8.018</td> <td> 0.000</td> <td>    3.905</td> <td>    6.435</td>\n",
              "</tr>\n",
              "<tr>\n",
              "  <th>Age_08_04</th>     <td>   -0.4598</td> <td>    0.010</td> <td>  -46.461</td> <td> 0.000</td> <td>   -0.479</td> <td>   -0.440</td>\n",
              "</tr>\n",
              "<tr>\n",
              "  <th>KM</th>            <td>   -0.0328</td> <td>    0.004</td> <td>   -8.068</td> <td> 0.000</td> <td>   -0.041</td> <td>   -0.025</td>\n",
              "</tr>\n",
              "<tr>\n",
              "  <th>HP</th>            <td>    0.1735</td> <td>    0.035</td> <td>    4.991</td> <td> 0.000</td> <td>    0.105</td> <td>    0.242</td>\n",
              "</tr>\n",
              "<tr>\n",
              "  <th>cc</th>            <td>    0.0770</td> <td>    0.058</td> <td>    1.332</td> <td> 0.183</td> <td>   -0.036</td> <td>    0.190</td>\n",
              "</tr>\n",
              "<tr>\n",
              "  <th>Doors</th>         <td>    0.0071</td> <td>    0.018</td> <td>    0.388</td> <td> 0.698</td> <td>   -0.029</td> <td>    0.043</td>\n",
              "</tr>\n",
              "<tr>\n",
              "  <th>Gears</th>         <td>    0.2946</td> <td>    0.108</td> <td>    2.739</td> <td> 0.006</td> <td>    0.084</td> <td>    0.506</td>\n",
              "</tr>\n",
              "<tr>\n",
              "  <th>Quarterly_Tax</th> <td>    0.4981</td> <td>    0.056</td> <td>    8.864</td> <td> 0.000</td> <td>    0.388</td> <td>    0.608</td>\n",
              "</tr>\n",
              "<tr>\n",
              "  <th>Weight</th>        <td>   -0.6475</td> <td>    0.245</td> <td>   -2.648</td> <td> 0.008</td> <td>   -1.127</td> <td>   -0.168</td>\n",
              "</tr>\n",
              "</table>\n",
              "<table class=\"simpletable\">\n",
              "<tr>\n",
              "  <th>Omnibus:</th>       <td>193.157</td> <th>  Durbin-Watson:     </th> <td>   1.425</td>\n",
              "</tr>\n",
              "<tr>\n",
              "  <th>Prob(Omnibus):</th> <td> 0.000</td>  <th>  Jarque-Bera (JB):  </th> <td>2432.233</td>\n",
              "</tr>\n",
              "<tr>\n",
              "  <th>Skew:</th>          <td> 0.066</td>  <th>  Prob(JB):          </th> <td>    0.00</td>\n",
              "</tr>\n",
              "<tr>\n",
              "  <th>Kurtosis:</th>      <td> 9.517</td>  <th>  Cond. No.          </th> <td>3.05e+03</td>\n",
              "</tr>\n",
              "</table><br/><br/>Warnings:<br/>[1] Standard Errors assume that the covariance matrix of the errors is correctly specified.<br/>[2] The condition number is large, 3.05e+03. This might indicate that there are<br/>strong multicollinearity or other numerical problems."
            ]
          },
          "metadata": {},
          "execution_count": 41
        }
      ]
    },
    {
      "cell_type": "markdown",
      "source": [
        "**Predict values for evaluation**"
      ],
      "metadata": {
        "id": "R-7MhZ7_4pKc"
      }
    },
    {
      "cell_type": "code",
      "source": [
        "df_toyota1_log.iloc[0:5,1:9]"
      ],
      "metadata": {
        "colab": {
          "base_uri": "https://localhost:8080/",
          "height": 206
        },
        "outputId": "26c3ee0e-ac02-431f-be22-3c4c15977c68",
        "id": "-BAZMW5V4pKc"
      },
      "execution_count": 42,
      "outputs": [
        {
          "output_type": "execute_result",
          "data": {
            "text/plain": [
              "   Age_08_04        KM        HP       cc     Doors    Gears  Quarterly_Tax  \\\n",
              "0   1.361728  4.671968  1.954243  3.20412  0.477121  0.69897       1.929419   \n",
              "1   1.361728  4.862948  1.954243  3.20412  0.477121  0.69897       1.929419   \n",
              "2   1.380211  4.620251  1.954243  3.20412  0.477121  0.69897       1.929419   \n",
              "3   1.414973  4.681241  1.954243  3.20412  0.477121  0.69897       1.929419   \n",
              "4   1.477121  4.585461  1.954243  3.20412  0.477121  0.69897       1.929419   \n",
              "\n",
              "    Weight  \n",
              "0  3.02735  \n",
              "1  3.02735  \n",
              "2  3.02735  \n",
              "3  3.02735  \n",
              "4  3.02735  "
            ],
            "text/html": [
              "\n",
              "  <div id=\"df-f5f1d248-6e3e-4a1d-af4e-aef46b744423\">\n",
              "    <div class=\"colab-df-container\">\n",
              "      <div>\n",
              "<style scoped>\n",
              "    .dataframe tbody tr th:only-of-type {\n",
              "        vertical-align: middle;\n",
              "    }\n",
              "\n",
              "    .dataframe tbody tr th {\n",
              "        vertical-align: top;\n",
              "    }\n",
              "\n",
              "    .dataframe thead th {\n",
              "        text-align: right;\n",
              "    }\n",
              "</style>\n",
              "<table border=\"1\" class=\"dataframe\">\n",
              "  <thead>\n",
              "    <tr style=\"text-align: right;\">\n",
              "      <th></th>\n",
              "      <th>Age_08_04</th>\n",
              "      <th>KM</th>\n",
              "      <th>HP</th>\n",
              "      <th>cc</th>\n",
              "      <th>Doors</th>\n",
              "      <th>Gears</th>\n",
              "      <th>Quarterly_Tax</th>\n",
              "      <th>Weight</th>\n",
              "    </tr>\n",
              "  </thead>\n",
              "  <tbody>\n",
              "    <tr>\n",
              "      <th>0</th>\n",
              "      <td>1.361728</td>\n",
              "      <td>4.671968</td>\n",
              "      <td>1.954243</td>\n",
              "      <td>3.20412</td>\n",
              "      <td>0.477121</td>\n",
              "      <td>0.69897</td>\n",
              "      <td>1.929419</td>\n",
              "      <td>3.02735</td>\n",
              "    </tr>\n",
              "    <tr>\n",
              "      <th>1</th>\n",
              "      <td>1.361728</td>\n",
              "      <td>4.862948</td>\n",
              "      <td>1.954243</td>\n",
              "      <td>3.20412</td>\n",
              "      <td>0.477121</td>\n",
              "      <td>0.69897</td>\n",
              "      <td>1.929419</td>\n",
              "      <td>3.02735</td>\n",
              "    </tr>\n",
              "    <tr>\n",
              "      <th>2</th>\n",
              "      <td>1.380211</td>\n",
              "      <td>4.620251</td>\n",
              "      <td>1.954243</td>\n",
              "      <td>3.20412</td>\n",
              "      <td>0.477121</td>\n",
              "      <td>0.69897</td>\n",
              "      <td>1.929419</td>\n",
              "      <td>3.02735</td>\n",
              "    </tr>\n",
              "    <tr>\n",
              "      <th>3</th>\n",
              "      <td>1.414973</td>\n",
              "      <td>4.681241</td>\n",
              "      <td>1.954243</td>\n",
              "      <td>3.20412</td>\n",
              "      <td>0.477121</td>\n",
              "      <td>0.69897</td>\n",
              "      <td>1.929419</td>\n",
              "      <td>3.02735</td>\n",
              "    </tr>\n",
              "    <tr>\n",
              "      <th>4</th>\n",
              "      <td>1.477121</td>\n",
              "      <td>4.585461</td>\n",
              "      <td>1.954243</td>\n",
              "      <td>3.20412</td>\n",
              "      <td>0.477121</td>\n",
              "      <td>0.69897</td>\n",
              "      <td>1.929419</td>\n",
              "      <td>3.02735</td>\n",
              "    </tr>\n",
              "  </tbody>\n",
              "</table>\n",
              "</div>\n",
              "      <button class=\"colab-df-convert\" onclick=\"convertToInteractive('df-f5f1d248-6e3e-4a1d-af4e-aef46b744423')\"\n",
              "              title=\"Convert this dataframe to an interactive table.\"\n",
              "              style=\"display:none;\">\n",
              "        \n",
              "  <svg xmlns=\"http://www.w3.org/2000/svg\" height=\"24px\"viewBox=\"0 0 24 24\"\n",
              "       width=\"24px\">\n",
              "    <path d=\"M0 0h24v24H0V0z\" fill=\"none\"/>\n",
              "    <path d=\"M18.56 5.44l.94 2.06.94-2.06 2.06-.94-2.06-.94-.94-2.06-.94 2.06-2.06.94zm-11 1L8.5 8.5l.94-2.06 2.06-.94-2.06-.94L8.5 2.5l-.94 2.06-2.06.94zm10 10l.94 2.06.94-2.06 2.06-.94-2.06-.94-.94-2.06-.94 2.06-2.06.94z\"/><path d=\"M17.41 7.96l-1.37-1.37c-.4-.4-.92-.59-1.43-.59-.52 0-1.04.2-1.43.59L10.3 9.45l-7.72 7.72c-.78.78-.78 2.05 0 2.83L4 21.41c.39.39.9.59 1.41.59.51 0 1.02-.2 1.41-.59l7.78-7.78 2.81-2.81c.8-.78.8-2.07 0-2.86zM5.41 20L4 18.59l7.72-7.72 1.47 1.35L5.41 20z\"/>\n",
              "  </svg>\n",
              "      </button>\n",
              "      \n",
              "  <style>\n",
              "    .colab-df-container {\n",
              "      display:flex;\n",
              "      flex-wrap:wrap;\n",
              "      gap: 12px;\n",
              "    }\n",
              "\n",
              "    .colab-df-convert {\n",
              "      background-color: #E8F0FE;\n",
              "      border: none;\n",
              "      border-radius: 50%;\n",
              "      cursor: pointer;\n",
              "      display: none;\n",
              "      fill: #1967D2;\n",
              "      height: 32px;\n",
              "      padding: 0 0 0 0;\n",
              "      width: 32px;\n",
              "    }\n",
              "\n",
              "    .colab-df-convert:hover {\n",
              "      background-color: #E2EBFA;\n",
              "      box-shadow: 0px 1px 2px rgba(60, 64, 67, 0.3), 0px 1px 3px 1px rgba(60, 64, 67, 0.15);\n",
              "      fill: #174EA6;\n",
              "    }\n",
              "\n",
              "    [theme=dark] .colab-df-convert {\n",
              "      background-color: #3B4455;\n",
              "      fill: #D2E3FC;\n",
              "    }\n",
              "\n",
              "    [theme=dark] .colab-df-convert:hover {\n",
              "      background-color: #434B5C;\n",
              "      box-shadow: 0px 1px 3px 1px rgba(0, 0, 0, 0.15);\n",
              "      filter: drop-shadow(0px 1px 2px rgba(0, 0, 0, 0.3));\n",
              "      fill: #FFFFFF;\n",
              "    }\n",
              "  </style>\n",
              "\n",
              "      <script>\n",
              "        const buttonEl =\n",
              "          document.querySelector('#df-f5f1d248-6e3e-4a1d-af4e-aef46b744423 button.colab-df-convert');\n",
              "        buttonEl.style.display =\n",
              "          google.colab.kernel.accessAllowed ? 'block' : 'none';\n",
              "\n",
              "        async function convertToInteractive(key) {\n",
              "          const element = document.querySelector('#df-f5f1d248-6e3e-4a1d-af4e-aef46b744423');\n",
              "          const dataTable =\n",
              "            await google.colab.kernel.invokeFunction('convertToInteractive',\n",
              "                                                     [key], {});\n",
              "          if (!dataTable) return;\n",
              "\n",
              "          const docLinkHtml = 'Like what you see? Visit the ' +\n",
              "            '<a target=\"_blank\" href=https://colab.research.google.com/notebooks/data_table.ipynb>data table notebook</a>'\n",
              "            + ' to learn more about interactive tables.';\n",
              "          element.innerHTML = '';\n",
              "          dataTable['output_type'] = 'display_data';\n",
              "          await google.colab.output.renderOutput(dataTable, element);\n",
              "          const docLink = document.createElement('div');\n",
              "          docLink.innerHTML = docLinkHtml;\n",
              "          element.appendChild(docLink);\n",
              "        }\n",
              "      </script>\n",
              "    </div>\n",
              "  </div>\n",
              "  "
            ]
          },
          "metadata": {},
          "execution_count": 42
        }
      ]
    },
    {
      "cell_type": "code",
      "source": [
        "model_toyota_log.predict(df_toyota1_log.iloc[0:5,1:9])"
      ],
      "metadata": {
        "colab": {
          "base_uri": "https://localhost:8080/"
        },
        "outputId": "765d9977-8178-4b22-fdb0-a0e519903a5b",
        "id": "njGlnmn34pKc"
      },
      "execution_count": 43,
      "outputs": [
        {
          "output_type": "execute_result",
          "data": {
            "text/plain": [
              "0    4.186784\n",
              "1    4.180524\n",
              "2    4.179981\n",
              "3    4.161999\n",
              "4    4.136563\n",
              "dtype: float64"
            ]
          },
          "metadata": {},
          "execution_count": 43
        }
      ]
    },
    {
      "cell_type": "code",
      "source": [
        "## Actual price\n",
        "df_toyota1_log.iloc[0:5,0:1]"
      ],
      "metadata": {
        "colab": {
          "base_uri": "https://localhost:8080/",
          "height": 206
        },
        "outputId": "9f4ce590-650b-43e6-d31c-6f3a43583360",
        "id": "6ufx3BMc4pKc"
      },
      "execution_count": 44,
      "outputs": [
        {
          "output_type": "execute_result",
          "data": {
            "text/plain": [
              "      Price\n",
              "0  4.130334\n",
              "1  4.138303\n",
              "2  4.144574\n",
              "3  4.174641\n",
              "4  4.138303"
            ],
            "text/html": [
              "\n",
              "  <div id=\"df-483e4bf5-f23b-4d70-968f-c5abf81151af\">\n",
              "    <div class=\"colab-df-container\">\n",
              "      <div>\n",
              "<style scoped>\n",
              "    .dataframe tbody tr th:only-of-type {\n",
              "        vertical-align: middle;\n",
              "    }\n",
              "\n",
              "    .dataframe tbody tr th {\n",
              "        vertical-align: top;\n",
              "    }\n",
              "\n",
              "    .dataframe thead th {\n",
              "        text-align: right;\n",
              "    }\n",
              "</style>\n",
              "<table border=\"1\" class=\"dataframe\">\n",
              "  <thead>\n",
              "    <tr style=\"text-align: right;\">\n",
              "      <th></th>\n",
              "      <th>Price</th>\n",
              "    </tr>\n",
              "  </thead>\n",
              "  <tbody>\n",
              "    <tr>\n",
              "      <th>0</th>\n",
              "      <td>4.130334</td>\n",
              "    </tr>\n",
              "    <tr>\n",
              "      <th>1</th>\n",
              "      <td>4.138303</td>\n",
              "    </tr>\n",
              "    <tr>\n",
              "      <th>2</th>\n",
              "      <td>4.144574</td>\n",
              "    </tr>\n",
              "    <tr>\n",
              "      <th>3</th>\n",
              "      <td>4.174641</td>\n",
              "    </tr>\n",
              "    <tr>\n",
              "      <th>4</th>\n",
              "      <td>4.138303</td>\n",
              "    </tr>\n",
              "  </tbody>\n",
              "</table>\n",
              "</div>\n",
              "      <button class=\"colab-df-convert\" onclick=\"convertToInteractive('df-483e4bf5-f23b-4d70-968f-c5abf81151af')\"\n",
              "              title=\"Convert this dataframe to an interactive table.\"\n",
              "              style=\"display:none;\">\n",
              "        \n",
              "  <svg xmlns=\"http://www.w3.org/2000/svg\" height=\"24px\"viewBox=\"0 0 24 24\"\n",
              "       width=\"24px\">\n",
              "    <path d=\"M0 0h24v24H0V0z\" fill=\"none\"/>\n",
              "    <path d=\"M18.56 5.44l.94 2.06.94-2.06 2.06-.94-2.06-.94-.94-2.06-.94 2.06-2.06.94zm-11 1L8.5 8.5l.94-2.06 2.06-.94-2.06-.94L8.5 2.5l-.94 2.06-2.06.94zm10 10l.94 2.06.94-2.06 2.06-.94-2.06-.94-.94-2.06-.94 2.06-2.06.94z\"/><path d=\"M17.41 7.96l-1.37-1.37c-.4-.4-.92-.59-1.43-.59-.52 0-1.04.2-1.43.59L10.3 9.45l-7.72 7.72c-.78.78-.78 2.05 0 2.83L4 21.41c.39.39.9.59 1.41.59.51 0 1.02-.2 1.41-.59l7.78-7.78 2.81-2.81c.8-.78.8-2.07 0-2.86zM5.41 20L4 18.59l7.72-7.72 1.47 1.35L5.41 20z\"/>\n",
              "  </svg>\n",
              "      </button>\n",
              "      \n",
              "  <style>\n",
              "    .colab-df-container {\n",
              "      display:flex;\n",
              "      flex-wrap:wrap;\n",
              "      gap: 12px;\n",
              "    }\n",
              "\n",
              "    .colab-df-convert {\n",
              "      background-color: #E8F0FE;\n",
              "      border: none;\n",
              "      border-radius: 50%;\n",
              "      cursor: pointer;\n",
              "      display: none;\n",
              "      fill: #1967D2;\n",
              "      height: 32px;\n",
              "      padding: 0 0 0 0;\n",
              "      width: 32px;\n",
              "    }\n",
              "\n",
              "    .colab-df-convert:hover {\n",
              "      background-color: #E2EBFA;\n",
              "      box-shadow: 0px 1px 2px rgba(60, 64, 67, 0.3), 0px 1px 3px 1px rgba(60, 64, 67, 0.15);\n",
              "      fill: #174EA6;\n",
              "    }\n",
              "\n",
              "    [theme=dark] .colab-df-convert {\n",
              "      background-color: #3B4455;\n",
              "      fill: #D2E3FC;\n",
              "    }\n",
              "\n",
              "    [theme=dark] .colab-df-convert:hover {\n",
              "      background-color: #434B5C;\n",
              "      box-shadow: 0px 1px 3px 1px rgba(0, 0, 0, 0.15);\n",
              "      filter: drop-shadow(0px 1px 2px rgba(0, 0, 0, 0.3));\n",
              "      fill: #FFFFFF;\n",
              "    }\n",
              "  </style>\n",
              "\n",
              "      <script>\n",
              "        const buttonEl =\n",
              "          document.querySelector('#df-483e4bf5-f23b-4d70-968f-c5abf81151af button.colab-df-convert');\n",
              "        buttonEl.style.display =\n",
              "          google.colab.kernel.accessAllowed ? 'block' : 'none';\n",
              "\n",
              "        async function convertToInteractive(key) {\n",
              "          const element = document.querySelector('#df-483e4bf5-f23b-4d70-968f-c5abf81151af');\n",
              "          const dataTable =\n",
              "            await google.colab.kernel.invokeFunction('convertToInteractive',\n",
              "                                                     [key], {});\n",
              "          if (!dataTable) return;\n",
              "\n",
              "          const docLinkHtml = 'Like what you see? Visit the ' +\n",
              "            '<a target=\"_blank\" href=https://colab.research.google.com/notebooks/data_table.ipynb>data table notebook</a>'\n",
              "            + ' to learn more about interactive tables.';\n",
              "          element.innerHTML = '';\n",
              "          dataTable['output_type'] = 'display_data';\n",
              "          await google.colab.output.renderOutput(dataTable, element);\n",
              "          const docLink = document.createElement('div');\n",
              "          docLink.innerHTML = docLinkHtml;\n",
              "          element.appendChild(docLink);\n",
              "        }\n",
              "      </script>\n",
              "    </div>\n",
              "  </div>\n",
              "  "
            ]
          },
          "metadata": {},
          "execution_count": 44
        }
      ]
    },
    {
      "cell_type": "markdown",
      "source": [
        "## MLR with Sqaure Root Transformation"
      ],
      "metadata": {
        "id": "l2CD2eCl7BZi"
      }
    },
    {
      "cell_type": "code",
      "source": [
        "# Applying Square Root for columns\n",
        "\n",
        "df_toyota1_sqrt = pd.DataFrame()\n",
        "\n",
        "df_toyota1_sqrt['Price'] = np.sqrt(df_toyota1['Price'])\n",
        "df_toyota1_sqrt['Age_08_04'] = np.sqrt(df_toyota1['Age_08_04'])\n",
        "df_toyota1_sqrt['KM'] = np.sqrt(df_toyota1['KM'])\n",
        "df_toyota1_sqrt['HP'] = np.sqrt(df_toyota1['HP'])\n",
        "df_toyota1_sqrt['cc'] = np.sqrt(df_toyota1['cc'])\n",
        "df_toyota1_sqrt['Doors'] = np.sqrt(df_toyota1['Doors'])\n",
        "df_toyota1_sqrt['Gears'] = np.sqrt(df_toyota1['Gears'])\n",
        "df_toyota1_sqrt['Quarterly_Tax'] = np.sqrt(df_toyota1['Quarterly_Tax'])\n",
        "df_toyota1_sqrt['Weight'] = np.sqrt(df_toyota1['Weight'])\n",
        "\n",
        "df_toyota1_sqrt.head()"
      ],
      "metadata": {
        "colab": {
          "base_uri": "https://localhost:8080/",
          "height": 206
        },
        "outputId": "338de941-6f39-4057-b3c2-7e93d5deb334",
        "id": "ULCB8yxX7BaD"
      },
      "execution_count": 45,
      "outputs": [
        {
          "output_type": "execute_result",
          "data": {
            "text/plain": [
              "        Price  Age_08_04          KM        HP    cc     Doors     Gears  \\\n",
              "0  116.189500   4.795832  216.762543  9.486833  40.0  1.732051  2.236068   \n",
              "1  117.260394   4.795832  270.068510  9.486833  40.0  1.732051  2.236068   \n",
              "2  118.110118   4.898979  204.232710  9.486833  40.0  1.732051  2.236068   \n",
              "3  122.270193   5.099020  219.089023  9.486833  40.0  1.732051  2.236068   \n",
              "4  117.260394   5.477226  196.214169  9.486833  40.0  1.732051  2.236068   \n",
              "\n",
              "   Quarterly_Tax     Weight  \n",
              "0       9.219544  32.634338  \n",
              "1       9.219544  32.634338  \n",
              "2       9.219544  32.634338  \n",
              "3       9.219544  32.634338  \n",
              "4       9.219544  32.634338  "
            ],
            "text/html": [
              "\n",
              "  <div id=\"df-ebbcdb01-5c45-424c-8db5-c3fb21255206\">\n",
              "    <div class=\"colab-df-container\">\n",
              "      <div>\n",
              "<style scoped>\n",
              "    .dataframe tbody tr th:only-of-type {\n",
              "        vertical-align: middle;\n",
              "    }\n",
              "\n",
              "    .dataframe tbody tr th {\n",
              "        vertical-align: top;\n",
              "    }\n",
              "\n",
              "    .dataframe thead th {\n",
              "        text-align: right;\n",
              "    }\n",
              "</style>\n",
              "<table border=\"1\" class=\"dataframe\">\n",
              "  <thead>\n",
              "    <tr style=\"text-align: right;\">\n",
              "      <th></th>\n",
              "      <th>Price</th>\n",
              "      <th>Age_08_04</th>\n",
              "      <th>KM</th>\n",
              "      <th>HP</th>\n",
              "      <th>cc</th>\n",
              "      <th>Doors</th>\n",
              "      <th>Gears</th>\n",
              "      <th>Quarterly_Tax</th>\n",
              "      <th>Weight</th>\n",
              "    </tr>\n",
              "  </thead>\n",
              "  <tbody>\n",
              "    <tr>\n",
              "      <th>0</th>\n",
              "      <td>116.189500</td>\n",
              "      <td>4.795832</td>\n",
              "      <td>216.762543</td>\n",
              "      <td>9.486833</td>\n",
              "      <td>40.0</td>\n",
              "      <td>1.732051</td>\n",
              "      <td>2.236068</td>\n",
              "      <td>9.219544</td>\n",
              "      <td>32.634338</td>\n",
              "    </tr>\n",
              "    <tr>\n",
              "      <th>1</th>\n",
              "      <td>117.260394</td>\n",
              "      <td>4.795832</td>\n",
              "      <td>270.068510</td>\n",
              "      <td>9.486833</td>\n",
              "      <td>40.0</td>\n",
              "      <td>1.732051</td>\n",
              "      <td>2.236068</td>\n",
              "      <td>9.219544</td>\n",
              "      <td>32.634338</td>\n",
              "    </tr>\n",
              "    <tr>\n",
              "      <th>2</th>\n",
              "      <td>118.110118</td>\n",
              "      <td>4.898979</td>\n",
              "      <td>204.232710</td>\n",
              "      <td>9.486833</td>\n",
              "      <td>40.0</td>\n",
              "      <td>1.732051</td>\n",
              "      <td>2.236068</td>\n",
              "      <td>9.219544</td>\n",
              "      <td>32.634338</td>\n",
              "    </tr>\n",
              "    <tr>\n",
              "      <th>3</th>\n",
              "      <td>122.270193</td>\n",
              "      <td>5.099020</td>\n",
              "      <td>219.089023</td>\n",
              "      <td>9.486833</td>\n",
              "      <td>40.0</td>\n",
              "      <td>1.732051</td>\n",
              "      <td>2.236068</td>\n",
              "      <td>9.219544</td>\n",
              "      <td>32.634338</td>\n",
              "    </tr>\n",
              "    <tr>\n",
              "      <th>4</th>\n",
              "      <td>117.260394</td>\n",
              "      <td>5.477226</td>\n",
              "      <td>196.214169</td>\n",
              "      <td>9.486833</td>\n",
              "      <td>40.0</td>\n",
              "      <td>1.732051</td>\n",
              "      <td>2.236068</td>\n",
              "      <td>9.219544</td>\n",
              "      <td>32.634338</td>\n",
              "    </tr>\n",
              "  </tbody>\n",
              "</table>\n",
              "</div>\n",
              "      <button class=\"colab-df-convert\" onclick=\"convertToInteractive('df-ebbcdb01-5c45-424c-8db5-c3fb21255206')\"\n",
              "              title=\"Convert this dataframe to an interactive table.\"\n",
              "              style=\"display:none;\">\n",
              "        \n",
              "  <svg xmlns=\"http://www.w3.org/2000/svg\" height=\"24px\"viewBox=\"0 0 24 24\"\n",
              "       width=\"24px\">\n",
              "    <path d=\"M0 0h24v24H0V0z\" fill=\"none\"/>\n",
              "    <path d=\"M18.56 5.44l.94 2.06.94-2.06 2.06-.94-2.06-.94-.94-2.06-.94 2.06-2.06.94zm-11 1L8.5 8.5l.94-2.06 2.06-.94-2.06-.94L8.5 2.5l-.94 2.06-2.06.94zm10 10l.94 2.06.94-2.06 2.06-.94-2.06-.94-.94-2.06-.94 2.06-2.06.94z\"/><path d=\"M17.41 7.96l-1.37-1.37c-.4-.4-.92-.59-1.43-.59-.52 0-1.04.2-1.43.59L10.3 9.45l-7.72 7.72c-.78.78-.78 2.05 0 2.83L4 21.41c.39.39.9.59 1.41.59.51 0 1.02-.2 1.41-.59l7.78-7.78 2.81-2.81c.8-.78.8-2.07 0-2.86zM5.41 20L4 18.59l7.72-7.72 1.47 1.35L5.41 20z\"/>\n",
              "  </svg>\n",
              "      </button>\n",
              "      \n",
              "  <style>\n",
              "    .colab-df-container {\n",
              "      display:flex;\n",
              "      flex-wrap:wrap;\n",
              "      gap: 12px;\n",
              "    }\n",
              "\n",
              "    .colab-df-convert {\n",
              "      background-color: #E8F0FE;\n",
              "      border: none;\n",
              "      border-radius: 50%;\n",
              "      cursor: pointer;\n",
              "      display: none;\n",
              "      fill: #1967D2;\n",
              "      height: 32px;\n",
              "      padding: 0 0 0 0;\n",
              "      width: 32px;\n",
              "    }\n",
              "\n",
              "    .colab-df-convert:hover {\n",
              "      background-color: #E2EBFA;\n",
              "      box-shadow: 0px 1px 2px rgba(60, 64, 67, 0.3), 0px 1px 3px 1px rgba(60, 64, 67, 0.15);\n",
              "      fill: #174EA6;\n",
              "    }\n",
              "\n",
              "    [theme=dark] .colab-df-convert {\n",
              "      background-color: #3B4455;\n",
              "      fill: #D2E3FC;\n",
              "    }\n",
              "\n",
              "    [theme=dark] .colab-df-convert:hover {\n",
              "      background-color: #434B5C;\n",
              "      box-shadow: 0px 1px 3px 1px rgba(0, 0, 0, 0.15);\n",
              "      filter: drop-shadow(0px 1px 2px rgba(0, 0, 0, 0.3));\n",
              "      fill: #FFFFFF;\n",
              "    }\n",
              "  </style>\n",
              "\n",
              "      <script>\n",
              "        const buttonEl =\n",
              "          document.querySelector('#df-ebbcdb01-5c45-424c-8db5-c3fb21255206 button.colab-df-convert');\n",
              "        buttonEl.style.display =\n",
              "          google.colab.kernel.accessAllowed ? 'block' : 'none';\n",
              "\n",
              "        async function convertToInteractive(key) {\n",
              "          const element = document.querySelector('#df-ebbcdb01-5c45-424c-8db5-c3fb21255206');\n",
              "          const dataTable =\n",
              "            await google.colab.kernel.invokeFunction('convertToInteractive',\n",
              "                                                     [key], {});\n",
              "          if (!dataTable) return;\n",
              "\n",
              "          const docLinkHtml = 'Like what you see? Visit the ' +\n",
              "            '<a target=\"_blank\" href=https://colab.research.google.com/notebooks/data_table.ipynb>data table notebook</a>'\n",
              "            + ' to learn more about interactive tables.';\n",
              "          element.innerHTML = '';\n",
              "          dataTable['output_type'] = 'display_data';\n",
              "          await google.colab.output.renderOutput(dataTable, element);\n",
              "          const docLink = document.createElement('div');\n",
              "          docLink.innerHTML = docLinkHtml;\n",
              "          element.appendChild(docLink);\n",
              "        }\n",
              "      </script>\n",
              "    </div>\n",
              "  </div>\n",
              "  "
            ]
          },
          "metadata": {},
          "execution_count": 45
        }
      ]
    },
    {
      "cell_type": "code",
      "source": [
        "model_toyota_sqrt = smf.ols('Price~Age_08_04+KM+HP+cc+Doors+Gears+Quarterly_Tax+Weight', data=df_toyota1_sqrt).fit()"
      ],
      "metadata": {
        "id": "e9kJSf_m7BaD"
      },
      "execution_count": 46,
      "outputs": []
    },
    {
      "cell_type": "code",
      "source": [
        "# Coefficients\n",
        "model_toyota_sqrt.params"
      ],
      "metadata": {
        "colab": {
          "base_uri": "https://localhost:8080/"
        },
        "outputId": "981ddad7-164e-4b0d-9a21-481fab52527a",
        "id": "Cm7h387S7BaD"
      },
      "execution_count": 47,
      "outputs": [
        {
          "output_type": "execute_result",
          "data": {
            "text/plain": [
              "Intercept        125.934494\n",
              "Age_08_04         -7.840279\n",
              "KM                -0.050847\n",
              "HP                 0.895311\n",
              "cc                 0.511556\n",
              "Doors              1.119075\n",
              "Gears             15.437406\n",
              "Quarterly_Tax      5.560840\n",
              "Weight            -2.089589\n",
              "dtype: float64"
            ]
          },
          "metadata": {},
          "execution_count": 47
        }
      ]
    },
    {
      "cell_type": "code",
      "source": [
        "model_toyota_sqrt.summary()"
      ],
      "metadata": {
        "colab": {
          "base_uri": "https://localhost:8080/",
          "height": 636
        },
        "outputId": "6aed697c-4d0a-4720-8f84-a671fdd5a767",
        "id": "XeDemMz17BaD"
      },
      "execution_count": 48,
      "outputs": [
        {
          "output_type": "execute_result",
          "data": {
            "text/plain": [
              "<class 'statsmodels.iolib.summary.Summary'>\n",
              "\"\"\"\n",
              "                            OLS Regression Results                            \n",
              "==============================================================================\n",
              "Dep. Variable:                  Price   R-squared:                       0.808\n",
              "Model:                            OLS   Adj. R-squared:                  0.807\n",
              "Method:                 Least Squares   F-statistic:                     720.2\n",
              "Date:                Thu, 04 Aug 2022   Prob (F-statistic):               0.00\n",
              "Time:                        08:38:14   Log-Likelihood:                -4612.2\n",
              "No. Observations:                1374   AIC:                             9242.\n",
              "Df Residuals:                    1365   BIC:                             9289.\n",
              "Df Model:                           8                                         \n",
              "Covariance Type:            nonrobust                                         \n",
              "=================================================================================\n",
              "                    coef    std err          t      P>|t|      [0.025      0.975]\n",
              "---------------------------------------------------------------------------------\n",
              "Intercept       125.9345     23.204      5.427      0.000      80.416     171.453\n",
              "Age_08_04        -7.8403      0.181    -43.225      0.000      -8.196      -7.484\n",
              "KM               -0.0508      0.004    -13.532      0.000      -0.058      -0.043\n",
              "HP                0.8953      0.370      2.422      0.016       0.170       1.621\n",
              "cc                0.5116      0.151      3.387      0.001       0.215       0.808\n",
              "Doors             1.1191      0.922      1.213      0.225      -0.691       2.929\n",
              "Gears            15.4374      4.743      3.255      0.001       6.133      24.742\n",
              "Quarterly_Tax     5.5608      0.629      8.838      0.000       4.327       6.795\n",
              "Weight           -2.0896      0.728     -2.869      0.004      -3.519      -0.661\n",
              "==============================================================================\n",
              "Omnibus:                      723.203   Durbin-Watson:                   1.492\n",
              "Prob(Omnibus):                  0.000   Jarque-Bera (JB):            17162.296\n",
              "Skew:                           1.934   Prob(JB):                         0.00\n",
              "Kurtosis:                      19.877   Cond. No.                     3.21e+04\n",
              "==============================================================================\n",
              "\n",
              "Warnings:\n",
              "[1] Standard Errors assume that the covariance matrix of the errors is correctly specified.\n",
              "[2] The condition number is large, 3.21e+04. This might indicate that there are\n",
              "strong multicollinearity or other numerical problems.\n",
              "\"\"\""
            ],
            "text/html": [
              "<table class=\"simpletable\">\n",
              "<caption>OLS Regression Results</caption>\n",
              "<tr>\n",
              "  <th>Dep. Variable:</th>          <td>Price</td>      <th>  R-squared:         </th> <td>   0.808</td>\n",
              "</tr>\n",
              "<tr>\n",
              "  <th>Model:</th>                   <td>OLS</td>       <th>  Adj. R-squared:    </th> <td>   0.807</td>\n",
              "</tr>\n",
              "<tr>\n",
              "  <th>Method:</th>             <td>Least Squares</td>  <th>  F-statistic:       </th> <td>   720.2</td>\n",
              "</tr>\n",
              "<tr>\n",
              "  <th>Date:</th>             <td>Thu, 04 Aug 2022</td> <th>  Prob (F-statistic):</th>  <td>  0.00</td> \n",
              "</tr>\n",
              "<tr>\n",
              "  <th>Time:</th>                 <td>08:38:14</td>     <th>  Log-Likelihood:    </th> <td> -4612.2</td>\n",
              "</tr>\n",
              "<tr>\n",
              "  <th>No. Observations:</th>      <td>  1374</td>      <th>  AIC:               </th> <td>   9242.</td>\n",
              "</tr>\n",
              "<tr>\n",
              "  <th>Df Residuals:</th>          <td>  1365</td>      <th>  BIC:               </th> <td>   9289.</td>\n",
              "</tr>\n",
              "<tr>\n",
              "  <th>Df Model:</th>              <td>     8</td>      <th>                     </th>     <td> </td>   \n",
              "</tr>\n",
              "<tr>\n",
              "  <th>Covariance Type:</th>      <td>nonrobust</td>    <th>                     </th>     <td> </td>   \n",
              "</tr>\n",
              "</table>\n",
              "<table class=\"simpletable\">\n",
              "<tr>\n",
              "        <td></td>           <th>coef</th>     <th>std err</th>      <th>t</th>      <th>P>|t|</th>  <th>[0.025</th>    <th>0.975]</th>  \n",
              "</tr>\n",
              "<tr>\n",
              "  <th>Intercept</th>     <td>  125.9345</td> <td>   23.204</td> <td>    5.427</td> <td> 0.000</td> <td>   80.416</td> <td>  171.453</td>\n",
              "</tr>\n",
              "<tr>\n",
              "  <th>Age_08_04</th>     <td>   -7.8403</td> <td>    0.181</td> <td>  -43.225</td> <td> 0.000</td> <td>   -8.196</td> <td>   -7.484</td>\n",
              "</tr>\n",
              "<tr>\n",
              "  <th>KM</th>            <td>   -0.0508</td> <td>    0.004</td> <td>  -13.532</td> <td> 0.000</td> <td>   -0.058</td> <td>   -0.043</td>\n",
              "</tr>\n",
              "<tr>\n",
              "  <th>HP</th>            <td>    0.8953</td> <td>    0.370</td> <td>    2.422</td> <td> 0.016</td> <td>    0.170</td> <td>    1.621</td>\n",
              "</tr>\n",
              "<tr>\n",
              "  <th>cc</th>            <td>    0.5116</td> <td>    0.151</td> <td>    3.387</td> <td> 0.001</td> <td>    0.215</td> <td>    0.808</td>\n",
              "</tr>\n",
              "<tr>\n",
              "  <th>Doors</th>         <td>    1.1191</td> <td>    0.922</td> <td>    1.213</td> <td> 0.225</td> <td>   -0.691</td> <td>    2.929</td>\n",
              "</tr>\n",
              "<tr>\n",
              "  <th>Gears</th>         <td>   15.4374</td> <td>    4.743</td> <td>    3.255</td> <td> 0.001</td> <td>    6.133</td> <td>   24.742</td>\n",
              "</tr>\n",
              "<tr>\n",
              "  <th>Quarterly_Tax</th> <td>    5.5608</td> <td>    0.629</td> <td>    8.838</td> <td> 0.000</td> <td>    4.327</td> <td>    6.795</td>\n",
              "</tr>\n",
              "<tr>\n",
              "  <th>Weight</th>        <td>   -2.0896</td> <td>    0.728</td> <td>   -2.869</td> <td> 0.004</td> <td>   -3.519</td> <td>   -0.661</td>\n",
              "</tr>\n",
              "</table>\n",
              "<table class=\"simpletable\">\n",
              "<tr>\n",
              "  <th>Omnibus:</th>       <td>723.203</td> <th>  Durbin-Watson:     </th> <td>   1.492</td> \n",
              "</tr>\n",
              "<tr>\n",
              "  <th>Prob(Omnibus):</th> <td> 0.000</td>  <th>  Jarque-Bera (JB):  </th> <td>17162.296</td>\n",
              "</tr>\n",
              "<tr>\n",
              "  <th>Skew:</th>          <td> 1.934</td>  <th>  Prob(JB):          </th> <td>    0.00</td> \n",
              "</tr>\n",
              "<tr>\n",
              "  <th>Kurtosis:</th>      <td>19.877</td>  <th>  Cond. No.          </th> <td>3.21e+04</td> \n",
              "</tr>\n",
              "</table><br/><br/>Warnings:<br/>[1] Standard Errors assume that the covariance matrix of the errors is correctly specified.<br/>[2] The condition number is large, 3.21e+04. This might indicate that there are<br/>strong multicollinearity or other numerical problems."
            ]
          },
          "metadata": {},
          "execution_count": 48
        }
      ]
    },
    {
      "cell_type": "markdown",
      "source": [
        "**Predict values for evaluation**"
      ],
      "metadata": {
        "id": "wFff81747BaD"
      }
    },
    {
      "cell_type": "code",
      "source": [
        "df_toyota1_sqrt.iloc[0:5,1:9]"
      ],
      "metadata": {
        "colab": {
          "base_uri": "https://localhost:8080/",
          "height": 206
        },
        "outputId": "b805565f-d9a8-45c0-d526-258cc5a1e017",
        "id": "KNQCkBNg7BaD"
      },
      "execution_count": 49,
      "outputs": [
        {
          "output_type": "execute_result",
          "data": {
            "text/plain": [
              "   Age_08_04          KM        HP    cc     Doors     Gears  Quarterly_Tax  \\\n",
              "0   4.795832  216.762543  9.486833  40.0  1.732051  2.236068       9.219544   \n",
              "1   4.795832  270.068510  9.486833  40.0  1.732051  2.236068       9.219544   \n",
              "2   4.898979  204.232710  9.486833  40.0  1.732051  2.236068       9.219544   \n",
              "3   5.099020  219.089023  9.486833  40.0  1.732051  2.236068       9.219544   \n",
              "4   5.477226  196.214169  9.486833  40.0  1.732051  2.236068       9.219544   \n",
              "\n",
              "      Weight  \n",
              "0  32.634338  \n",
              "1  32.634338  \n",
              "2  32.634338  \n",
              "3  32.634338  \n",
              "4  32.634338  "
            ],
            "text/html": [
              "\n",
              "  <div id=\"df-6fa2e076-0215-44b1-a1f0-50455658c841\">\n",
              "    <div class=\"colab-df-container\">\n",
              "      <div>\n",
              "<style scoped>\n",
              "    .dataframe tbody tr th:only-of-type {\n",
              "        vertical-align: middle;\n",
              "    }\n",
              "\n",
              "    .dataframe tbody tr th {\n",
              "        vertical-align: top;\n",
              "    }\n",
              "\n",
              "    .dataframe thead th {\n",
              "        text-align: right;\n",
              "    }\n",
              "</style>\n",
              "<table border=\"1\" class=\"dataframe\">\n",
              "  <thead>\n",
              "    <tr style=\"text-align: right;\">\n",
              "      <th></th>\n",
              "      <th>Age_08_04</th>\n",
              "      <th>KM</th>\n",
              "      <th>HP</th>\n",
              "      <th>cc</th>\n",
              "      <th>Doors</th>\n",
              "      <th>Gears</th>\n",
              "      <th>Quarterly_Tax</th>\n",
              "      <th>Weight</th>\n",
              "    </tr>\n",
              "  </thead>\n",
              "  <tbody>\n",
              "    <tr>\n",
              "      <th>0</th>\n",
              "      <td>4.795832</td>\n",
              "      <td>216.762543</td>\n",
              "      <td>9.486833</td>\n",
              "      <td>40.0</td>\n",
              "      <td>1.732051</td>\n",
              "      <td>2.236068</td>\n",
              "      <td>9.219544</td>\n",
              "      <td>32.634338</td>\n",
              "    </tr>\n",
              "    <tr>\n",
              "      <th>1</th>\n",
              "      <td>4.795832</td>\n",
              "      <td>270.068510</td>\n",
              "      <td>9.486833</td>\n",
              "      <td>40.0</td>\n",
              "      <td>1.732051</td>\n",
              "      <td>2.236068</td>\n",
              "      <td>9.219544</td>\n",
              "      <td>32.634338</td>\n",
              "    </tr>\n",
              "    <tr>\n",
              "      <th>2</th>\n",
              "      <td>4.898979</td>\n",
              "      <td>204.232710</td>\n",
              "      <td>9.486833</td>\n",
              "      <td>40.0</td>\n",
              "      <td>1.732051</td>\n",
              "      <td>2.236068</td>\n",
              "      <td>9.219544</td>\n",
              "      <td>32.634338</td>\n",
              "    </tr>\n",
              "    <tr>\n",
              "      <th>3</th>\n",
              "      <td>5.099020</td>\n",
              "      <td>219.089023</td>\n",
              "      <td>9.486833</td>\n",
              "      <td>40.0</td>\n",
              "      <td>1.732051</td>\n",
              "      <td>2.236068</td>\n",
              "      <td>9.219544</td>\n",
              "      <td>32.634338</td>\n",
              "    </tr>\n",
              "    <tr>\n",
              "      <th>4</th>\n",
              "      <td>5.477226</td>\n",
              "      <td>196.214169</td>\n",
              "      <td>9.486833</td>\n",
              "      <td>40.0</td>\n",
              "      <td>1.732051</td>\n",
              "      <td>2.236068</td>\n",
              "      <td>9.219544</td>\n",
              "      <td>32.634338</td>\n",
              "    </tr>\n",
              "  </tbody>\n",
              "</table>\n",
              "</div>\n",
              "      <button class=\"colab-df-convert\" onclick=\"convertToInteractive('df-6fa2e076-0215-44b1-a1f0-50455658c841')\"\n",
              "              title=\"Convert this dataframe to an interactive table.\"\n",
              "              style=\"display:none;\">\n",
              "        \n",
              "  <svg xmlns=\"http://www.w3.org/2000/svg\" height=\"24px\"viewBox=\"0 0 24 24\"\n",
              "       width=\"24px\">\n",
              "    <path d=\"M0 0h24v24H0V0z\" fill=\"none\"/>\n",
              "    <path d=\"M18.56 5.44l.94 2.06.94-2.06 2.06-.94-2.06-.94-.94-2.06-.94 2.06-2.06.94zm-11 1L8.5 8.5l.94-2.06 2.06-.94-2.06-.94L8.5 2.5l-.94 2.06-2.06.94zm10 10l.94 2.06.94-2.06 2.06-.94-2.06-.94-.94-2.06-.94 2.06-2.06.94z\"/><path d=\"M17.41 7.96l-1.37-1.37c-.4-.4-.92-.59-1.43-.59-.52 0-1.04.2-1.43.59L10.3 9.45l-7.72 7.72c-.78.78-.78 2.05 0 2.83L4 21.41c.39.39.9.59 1.41.59.51 0 1.02-.2 1.41-.59l7.78-7.78 2.81-2.81c.8-.78.8-2.07 0-2.86zM5.41 20L4 18.59l7.72-7.72 1.47 1.35L5.41 20z\"/>\n",
              "  </svg>\n",
              "      </button>\n",
              "      \n",
              "  <style>\n",
              "    .colab-df-container {\n",
              "      display:flex;\n",
              "      flex-wrap:wrap;\n",
              "      gap: 12px;\n",
              "    }\n",
              "\n",
              "    .colab-df-convert {\n",
              "      background-color: #E8F0FE;\n",
              "      border: none;\n",
              "      border-radius: 50%;\n",
              "      cursor: pointer;\n",
              "      display: none;\n",
              "      fill: #1967D2;\n",
              "      height: 32px;\n",
              "      padding: 0 0 0 0;\n",
              "      width: 32px;\n",
              "    }\n",
              "\n",
              "    .colab-df-convert:hover {\n",
              "      background-color: #E2EBFA;\n",
              "      box-shadow: 0px 1px 2px rgba(60, 64, 67, 0.3), 0px 1px 3px 1px rgba(60, 64, 67, 0.15);\n",
              "      fill: #174EA6;\n",
              "    }\n",
              "\n",
              "    [theme=dark] .colab-df-convert {\n",
              "      background-color: #3B4455;\n",
              "      fill: #D2E3FC;\n",
              "    }\n",
              "\n",
              "    [theme=dark] .colab-df-convert:hover {\n",
              "      background-color: #434B5C;\n",
              "      box-shadow: 0px 1px 3px 1px rgba(0, 0, 0, 0.15);\n",
              "      filter: drop-shadow(0px 1px 2px rgba(0, 0, 0, 0.3));\n",
              "      fill: #FFFFFF;\n",
              "    }\n",
              "  </style>\n",
              "\n",
              "      <script>\n",
              "        const buttonEl =\n",
              "          document.querySelector('#df-6fa2e076-0215-44b1-a1f0-50455658c841 button.colab-df-convert');\n",
              "        buttonEl.style.display =\n",
              "          google.colab.kernel.accessAllowed ? 'block' : 'none';\n",
              "\n",
              "        async function convertToInteractive(key) {\n",
              "          const element = document.querySelector('#df-6fa2e076-0215-44b1-a1f0-50455658c841');\n",
              "          const dataTable =\n",
              "            await google.colab.kernel.invokeFunction('convertToInteractive',\n",
              "                                                     [key], {});\n",
              "          if (!dataTable) return;\n",
              "\n",
              "          const docLinkHtml = 'Like what you see? Visit the ' +\n",
              "            '<a target=\"_blank\" href=https://colab.research.google.com/notebooks/data_table.ipynb>data table notebook</a>'\n",
              "            + ' to learn more about interactive tables.';\n",
              "          element.innerHTML = '';\n",
              "          dataTable['output_type'] = 'display_data';\n",
              "          await google.colab.output.renderOutput(dataTable, element);\n",
              "          const docLink = document.createElement('div');\n",
              "          docLink.innerHTML = docLinkHtml;\n",
              "          element.appendChild(docLink);\n",
              "        }\n",
              "      </script>\n",
              "    </div>\n",
              "  </div>\n",
              "  "
            ]
          },
          "metadata": {},
          "execution_count": 49
        }
      ]
    },
    {
      "cell_type": "code",
      "source": [
        "model_toyota_sqrt.predict(df_toyota1_sqrt.iloc[0:5,1:9])"
      ],
      "metadata": {
        "colab": {
          "base_uri": "https://localhost:8080/"
        },
        "outputId": "1abed3da-727f-4a33-b856-03d93c9e6576",
        "id": "fgydk1KJ7BaD"
      },
      "execution_count": 50,
      "outputs": [
        {
          "output_type": "execute_result",
          "data": {
            "text/plain": [
              "0    125.801429\n",
              "1    123.090971\n",
              "2    125.629827\n",
              "3    123.306056\n",
              "4    121.503936\n",
              "dtype: float64"
            ]
          },
          "metadata": {},
          "execution_count": 50
        }
      ]
    },
    {
      "cell_type": "code",
      "source": [
        "## Actual price\n",
        "df_toyota1_sqrt.iloc[0:5,0:1]"
      ],
      "metadata": {
        "colab": {
          "base_uri": "https://localhost:8080/",
          "height": 206
        },
        "outputId": "924cec43-3a68-41b1-83c7-7ac241f2e83a",
        "id": "5EFdWjdk7BaD"
      },
      "execution_count": 51,
      "outputs": [
        {
          "output_type": "execute_result",
          "data": {
            "text/plain": [
              "        Price\n",
              "0  116.189500\n",
              "1  117.260394\n",
              "2  118.110118\n",
              "3  122.270193\n",
              "4  117.260394"
            ],
            "text/html": [
              "\n",
              "  <div id=\"df-76c23b00-d7cd-4da3-9067-ca0daf3d5ce9\">\n",
              "    <div class=\"colab-df-container\">\n",
              "      <div>\n",
              "<style scoped>\n",
              "    .dataframe tbody tr th:only-of-type {\n",
              "        vertical-align: middle;\n",
              "    }\n",
              "\n",
              "    .dataframe tbody tr th {\n",
              "        vertical-align: top;\n",
              "    }\n",
              "\n",
              "    .dataframe thead th {\n",
              "        text-align: right;\n",
              "    }\n",
              "</style>\n",
              "<table border=\"1\" class=\"dataframe\">\n",
              "  <thead>\n",
              "    <tr style=\"text-align: right;\">\n",
              "      <th></th>\n",
              "      <th>Price</th>\n",
              "    </tr>\n",
              "  </thead>\n",
              "  <tbody>\n",
              "    <tr>\n",
              "      <th>0</th>\n",
              "      <td>116.189500</td>\n",
              "    </tr>\n",
              "    <tr>\n",
              "      <th>1</th>\n",
              "      <td>117.260394</td>\n",
              "    </tr>\n",
              "    <tr>\n",
              "      <th>2</th>\n",
              "      <td>118.110118</td>\n",
              "    </tr>\n",
              "    <tr>\n",
              "      <th>3</th>\n",
              "      <td>122.270193</td>\n",
              "    </tr>\n",
              "    <tr>\n",
              "      <th>4</th>\n",
              "      <td>117.260394</td>\n",
              "    </tr>\n",
              "  </tbody>\n",
              "</table>\n",
              "</div>\n",
              "      <button class=\"colab-df-convert\" onclick=\"convertToInteractive('df-76c23b00-d7cd-4da3-9067-ca0daf3d5ce9')\"\n",
              "              title=\"Convert this dataframe to an interactive table.\"\n",
              "              style=\"display:none;\">\n",
              "        \n",
              "  <svg xmlns=\"http://www.w3.org/2000/svg\" height=\"24px\"viewBox=\"0 0 24 24\"\n",
              "       width=\"24px\">\n",
              "    <path d=\"M0 0h24v24H0V0z\" fill=\"none\"/>\n",
              "    <path d=\"M18.56 5.44l.94 2.06.94-2.06 2.06-.94-2.06-.94-.94-2.06-.94 2.06-2.06.94zm-11 1L8.5 8.5l.94-2.06 2.06-.94-2.06-.94L8.5 2.5l-.94 2.06-2.06.94zm10 10l.94 2.06.94-2.06 2.06-.94-2.06-.94-.94-2.06-.94 2.06-2.06.94z\"/><path d=\"M17.41 7.96l-1.37-1.37c-.4-.4-.92-.59-1.43-.59-.52 0-1.04.2-1.43.59L10.3 9.45l-7.72 7.72c-.78.78-.78 2.05 0 2.83L4 21.41c.39.39.9.59 1.41.59.51 0 1.02-.2 1.41-.59l7.78-7.78 2.81-2.81c.8-.78.8-2.07 0-2.86zM5.41 20L4 18.59l7.72-7.72 1.47 1.35L5.41 20z\"/>\n",
              "  </svg>\n",
              "      </button>\n",
              "      \n",
              "  <style>\n",
              "    .colab-df-container {\n",
              "      display:flex;\n",
              "      flex-wrap:wrap;\n",
              "      gap: 12px;\n",
              "    }\n",
              "\n",
              "    .colab-df-convert {\n",
              "      background-color: #E8F0FE;\n",
              "      border: none;\n",
              "      border-radius: 50%;\n",
              "      cursor: pointer;\n",
              "      display: none;\n",
              "      fill: #1967D2;\n",
              "      height: 32px;\n",
              "      padding: 0 0 0 0;\n",
              "      width: 32px;\n",
              "    }\n",
              "\n",
              "    .colab-df-convert:hover {\n",
              "      background-color: #E2EBFA;\n",
              "      box-shadow: 0px 1px 2px rgba(60, 64, 67, 0.3), 0px 1px 3px 1px rgba(60, 64, 67, 0.15);\n",
              "      fill: #174EA6;\n",
              "    }\n",
              "\n",
              "    [theme=dark] .colab-df-convert {\n",
              "      background-color: #3B4455;\n",
              "      fill: #D2E3FC;\n",
              "    }\n",
              "\n",
              "    [theme=dark] .colab-df-convert:hover {\n",
              "      background-color: #434B5C;\n",
              "      box-shadow: 0px 1px 3px 1px rgba(0, 0, 0, 0.15);\n",
              "      filter: drop-shadow(0px 1px 2px rgba(0, 0, 0, 0.3));\n",
              "      fill: #FFFFFF;\n",
              "    }\n",
              "  </style>\n",
              "\n",
              "      <script>\n",
              "        const buttonEl =\n",
              "          document.querySelector('#df-76c23b00-d7cd-4da3-9067-ca0daf3d5ce9 button.colab-df-convert');\n",
              "        buttonEl.style.display =\n",
              "          google.colab.kernel.accessAllowed ? 'block' : 'none';\n",
              "\n",
              "        async function convertToInteractive(key) {\n",
              "          const element = document.querySelector('#df-76c23b00-d7cd-4da3-9067-ca0daf3d5ce9');\n",
              "          const dataTable =\n",
              "            await google.colab.kernel.invokeFunction('convertToInteractive',\n",
              "                                                     [key], {});\n",
              "          if (!dataTable) return;\n",
              "\n",
              "          const docLinkHtml = 'Like what you see? Visit the ' +\n",
              "            '<a target=\"_blank\" href=https://colab.research.google.com/notebooks/data_table.ipynb>data table notebook</a>'\n",
              "            + ' to learn more about interactive tables.';\n",
              "          element.innerHTML = '';\n",
              "          dataTable['output_type'] = 'display_data';\n",
              "          await google.colab.output.renderOutput(dataTable, element);\n",
              "          const docLink = document.createElement('div');\n",
              "          docLink.innerHTML = docLinkHtml;\n",
              "          element.appendChild(docLink);\n",
              "        }\n",
              "      </script>\n",
              "    </div>\n",
              "  </div>\n",
              "  "
            ]
          },
          "metadata": {},
          "execution_count": 51
        }
      ]
    },
    {
      "cell_type": "markdown",
      "source": [
        "Final Concusion: \n",
        "\n",
        "All four MLR models parameters details are as follows. \n",
        "\n",
        "With Actual Data: R-squared:\t0.864 Adj. R-squared:\t0.863\n",
        "(p-value of cc: 0.179, p-value of Doors: 0.995)\n",
        "\n",
        "With Normalized Data: R-squared:\t0.761 Adj. R-squared:\t0.760\n",
        "(p-value of Doors: 0.318)\n",
        "\n",
        "With Log Transformation: R-squared:\t0.761 Adj. R-squared:\t0.759\n",
        "(p-value of cc: 0.183, p-value of Doors: 0.698)\n",
        "\n",
        "With Square Root Transformation: R-squared:\t0.808 Adj. R-squared:\t0.807\n",
        "(p-value of Doors: 0.225)\n",
        "\n",
        "After comparing above models, observed that MLR with Actual Data is best model. However, p-values of two columns are cocern.\n",
        "\n",
        "Also, we can use Square Root Transformation model since p-value is effected for only one column 'Doors' (Alpha = 0.05 for 95% confidence interval)."
      ],
      "metadata": {
        "id": "UhLswObV-WdB"
      }
    }
  ]
}