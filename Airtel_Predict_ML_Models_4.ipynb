{
  "nbformat": 4,
  "nbformat_minor": 0,
  "metadata": {
    "colab": {
      "provenance": [],
      "collapsed_sections": [
        "rLlJLPKEPts9",
        "Z9kKVC1qeG0p",
        "3U0FBtuPt33n",
        "EpBRloQ2pG74",
        "VadtAWSJHct8"
      ]
    },
    "kernelspec": {
      "name": "python3",
      "display_name": "Python 3"
    },
    "language_info": {
      "name": "python"
    }
  },
  "cells": [
    {
      "cell_type": "markdown",
      "source": [
        "# **Airtel Stock Prediction Models - Daily**"
      ],
      "metadata": {
        "id": "GHyUq1uvz9dD"
      }
    },
    {
      "cell_type": "markdown",
      "source": [
        "Models Analyzed: \n",
        "1.   Random Forest Regressor\n",
        "2.   Adaboost Regressor\n",
        "3.   Keras Regressor \n",
        "4.   ARIMA\n",
        "5.   ML Pipeline\n",
        "\n"
      ],
      "metadata": {
        "id": "YJD8W-l03kL-"
      }
    },
    {
      "cell_type": "markdown",
      "source": [
        "**Import necessary libraries**"
      ],
      "metadata": {
        "id": "oDJdXkyW4yyd"
      }
    },
    {
      "cell_type": "code",
      "execution_count": 60,
      "metadata": {
        "id": "7f27dfc4"
      },
      "outputs": [],
      "source": [
        "import warnings \n",
        "warnings.filterwarnings(\"ignore\")"
      ]
    },
    {
      "cell_type": "code",
      "execution_count": 61,
      "metadata": {
        "id": "DbfpojqCzCxl"
      },
      "outputs": [],
      "source": [
        "# Basic and Visualization libraries\n",
        "import pandas as pd\n",
        "import numpy as np\n",
        "import matplotlib.pyplot as plt\n",
        "import seaborn as sns\n",
        "from sklearn.metrics import mean_squared_error\n",
        "from sklearn.preprocessing import StandardScaler\n",
        "\n",
        "# Regressor models\n",
        "from sklearn.tree import DecisionTreeRegressor\n",
        "from sklearn.ensemble import RandomForestRegressor\n",
        "from sklearn.ensemble import AdaBoostRegressor\n",
        "\n",
        "# Keras and Neural Networks\n",
        "from keras.models import Sequential\n",
        "from keras.layers import Dense\n",
        "from keras.wrappers.scikit_learn import KerasRegressor\n",
        "from keras.optimizers import Adam\n",
        "from keras.layers import Dropout\n",
        "\n",
        "# Autocorrelation plot\n",
        "from statsmodels.graphics.tsaplots import plot_acf, plot_pacf\n",
        "\n",
        "# Auto Regressive Integrated Moving Average\n",
        "from statsmodels.tsa.arima_model import ARIMA\n",
        "\n",
        "# Pipeline model\n",
        "from sklearn.pipeline import Pipeline"
      ]
    },
    {
      "cell_type": "code",
      "source": [
        "# Read csv file\n",
        "df_stock = pd.read_csv('BHARTIAIRTEL.csv')\n",
        "df_stock.head()"
      ],
      "metadata": {
        "colab": {
          "base_uri": "https://localhost:8080/",
          "height": 496
        },
        "id": "KegntA5G0NdR",
        "outputId": "d1705e01-7b05-4374-a3ad-973caad89470"
      },
      "execution_count": 62,
      "outputs": [
        {
          "output_type": "execute_result",
          "data": {
            "text/plain": [
              "       Symbol Series       Date  Prev Close  Open Price  High Price  \\\n",
              "0  BHARTIARTL     EQ  04-Nov-22      818.65      815.70      821.80   \n",
              "1  BHARTIARTL     BL  03-Nov-22      802.10      809.85      809.85   \n",
              "2  BHARTIARTL     EQ  03-Nov-22      809.85      809.75      824.40   \n",
              "3  BHARTIARTL     EQ  31-Oct-22      816.85      823.00      833.80   \n",
              "4  BHARTIARTL     EQ  28-Oct-22      817.10      819.00      824.40   \n",
              "\n",
              "   Low Price  Last Price  Close Price  Average Price  Total Traded Quantity  \\\n",
              "0     809.20      816.10       816.40         814.59                3768226   \n",
              "1     809.85      809.85       809.85         809.85                3400871   \n",
              "2     804.20      817.50       818.65         817.78                5897840   \n",
              "3     820.00      832.00       832.00         829.27                5487233   \n",
              "4     811.30      819.50       816.85         816.70                3905093   \n",
              "\n",
              "       Turnover  No. of Trades Deliverable Qty % Dly Qt to Traded Qty  \n",
              "0  3.069542e+09          90470         2243180                  59.53  \n",
              "1  2.754195e+09              1               -                      -  \n",
              "2  4.823129e+09         160802         3380905                  57.32  \n",
              "3  4.550408e+09         166517         3411499                  62.17  \n",
              "4  3.189280e+09         106794         1890500                   67.1  "
            ],
            "text/html": [
              "\n",
              "  <div id=\"df-e3e917f4-c1b9-4478-a496-2bd7a5be8d0a\">\n",
              "    <div class=\"colab-df-container\">\n",
              "      <div>\n",
              "<style scoped>\n",
              "    .dataframe tbody tr th:only-of-type {\n",
              "        vertical-align: middle;\n",
              "    }\n",
              "\n",
              "    .dataframe tbody tr th {\n",
              "        vertical-align: top;\n",
              "    }\n",
              "\n",
              "    .dataframe thead th {\n",
              "        text-align: right;\n",
              "    }\n",
              "</style>\n",
              "<table border=\"1\" class=\"dataframe\">\n",
              "  <thead>\n",
              "    <tr style=\"text-align: right;\">\n",
              "      <th></th>\n",
              "      <th>Symbol</th>\n",
              "      <th>Series</th>\n",
              "      <th>Date</th>\n",
              "      <th>Prev Close</th>\n",
              "      <th>Open Price</th>\n",
              "      <th>High Price</th>\n",
              "      <th>Low Price</th>\n",
              "      <th>Last Price</th>\n",
              "      <th>Close Price</th>\n",
              "      <th>Average Price</th>\n",
              "      <th>Total Traded Quantity</th>\n",
              "      <th>Turnover</th>\n",
              "      <th>No. of Trades</th>\n",
              "      <th>Deliverable Qty</th>\n",
              "      <th>% Dly Qt to Traded Qty</th>\n",
              "    </tr>\n",
              "  </thead>\n",
              "  <tbody>\n",
              "    <tr>\n",
              "      <th>0</th>\n",
              "      <td>BHARTIARTL</td>\n",
              "      <td>EQ</td>\n",
              "      <td>04-Nov-22</td>\n",
              "      <td>818.65</td>\n",
              "      <td>815.70</td>\n",
              "      <td>821.80</td>\n",
              "      <td>809.20</td>\n",
              "      <td>816.10</td>\n",
              "      <td>816.40</td>\n",
              "      <td>814.59</td>\n",
              "      <td>3768226</td>\n",
              "      <td>3.069542e+09</td>\n",
              "      <td>90470</td>\n",
              "      <td>2243180</td>\n",
              "      <td>59.53</td>\n",
              "    </tr>\n",
              "    <tr>\n",
              "      <th>1</th>\n",
              "      <td>BHARTIARTL</td>\n",
              "      <td>BL</td>\n",
              "      <td>03-Nov-22</td>\n",
              "      <td>802.10</td>\n",
              "      <td>809.85</td>\n",
              "      <td>809.85</td>\n",
              "      <td>809.85</td>\n",
              "      <td>809.85</td>\n",
              "      <td>809.85</td>\n",
              "      <td>809.85</td>\n",
              "      <td>3400871</td>\n",
              "      <td>2.754195e+09</td>\n",
              "      <td>1</td>\n",
              "      <td>-</td>\n",
              "      <td>-</td>\n",
              "    </tr>\n",
              "    <tr>\n",
              "      <th>2</th>\n",
              "      <td>BHARTIARTL</td>\n",
              "      <td>EQ</td>\n",
              "      <td>03-Nov-22</td>\n",
              "      <td>809.85</td>\n",
              "      <td>809.75</td>\n",
              "      <td>824.40</td>\n",
              "      <td>804.20</td>\n",
              "      <td>817.50</td>\n",
              "      <td>818.65</td>\n",
              "      <td>817.78</td>\n",
              "      <td>5897840</td>\n",
              "      <td>4.823129e+09</td>\n",
              "      <td>160802</td>\n",
              "      <td>3380905</td>\n",
              "      <td>57.32</td>\n",
              "    </tr>\n",
              "    <tr>\n",
              "      <th>3</th>\n",
              "      <td>BHARTIARTL</td>\n",
              "      <td>EQ</td>\n",
              "      <td>31-Oct-22</td>\n",
              "      <td>816.85</td>\n",
              "      <td>823.00</td>\n",
              "      <td>833.80</td>\n",
              "      <td>820.00</td>\n",
              "      <td>832.00</td>\n",
              "      <td>832.00</td>\n",
              "      <td>829.27</td>\n",
              "      <td>5487233</td>\n",
              "      <td>4.550408e+09</td>\n",
              "      <td>166517</td>\n",
              "      <td>3411499</td>\n",
              "      <td>62.17</td>\n",
              "    </tr>\n",
              "    <tr>\n",
              "      <th>4</th>\n",
              "      <td>BHARTIARTL</td>\n",
              "      <td>EQ</td>\n",
              "      <td>28-Oct-22</td>\n",
              "      <td>817.10</td>\n",
              "      <td>819.00</td>\n",
              "      <td>824.40</td>\n",
              "      <td>811.30</td>\n",
              "      <td>819.50</td>\n",
              "      <td>816.85</td>\n",
              "      <td>816.70</td>\n",
              "      <td>3905093</td>\n",
              "      <td>3.189280e+09</td>\n",
              "      <td>106794</td>\n",
              "      <td>1890500</td>\n",
              "      <td>67.1</td>\n",
              "    </tr>\n",
              "  </tbody>\n",
              "</table>\n",
              "</div>\n",
              "      <button class=\"colab-df-convert\" onclick=\"convertToInteractive('df-e3e917f4-c1b9-4478-a496-2bd7a5be8d0a')\"\n",
              "              title=\"Convert this dataframe to an interactive table.\"\n",
              "              style=\"display:none;\">\n",
              "        \n",
              "  <svg xmlns=\"http://www.w3.org/2000/svg\" height=\"24px\"viewBox=\"0 0 24 24\"\n",
              "       width=\"24px\">\n",
              "    <path d=\"M0 0h24v24H0V0z\" fill=\"none\"/>\n",
              "    <path d=\"M18.56 5.44l.94 2.06.94-2.06 2.06-.94-2.06-.94-.94-2.06-.94 2.06-2.06.94zm-11 1L8.5 8.5l.94-2.06 2.06-.94-2.06-.94L8.5 2.5l-.94 2.06-2.06.94zm10 10l.94 2.06.94-2.06 2.06-.94-2.06-.94-.94-2.06-.94 2.06-2.06.94z\"/><path d=\"M17.41 7.96l-1.37-1.37c-.4-.4-.92-.59-1.43-.59-.52 0-1.04.2-1.43.59L10.3 9.45l-7.72 7.72c-.78.78-.78 2.05 0 2.83L4 21.41c.39.39.9.59 1.41.59.51 0 1.02-.2 1.41-.59l7.78-7.78 2.81-2.81c.8-.78.8-2.07 0-2.86zM5.41 20L4 18.59l7.72-7.72 1.47 1.35L5.41 20z\"/>\n",
              "  </svg>\n",
              "      </button>\n",
              "      \n",
              "  <style>\n",
              "    .colab-df-container {\n",
              "      display:flex;\n",
              "      flex-wrap:wrap;\n",
              "      gap: 12px;\n",
              "    }\n",
              "\n",
              "    .colab-df-convert {\n",
              "      background-color: #E8F0FE;\n",
              "      border: none;\n",
              "      border-radius: 50%;\n",
              "      cursor: pointer;\n",
              "      display: none;\n",
              "      fill: #1967D2;\n",
              "      height: 32px;\n",
              "      padding: 0 0 0 0;\n",
              "      width: 32px;\n",
              "    }\n",
              "\n",
              "    .colab-df-convert:hover {\n",
              "      background-color: #E2EBFA;\n",
              "      box-shadow: 0px 1px 2px rgba(60, 64, 67, 0.3), 0px 1px 3px 1px rgba(60, 64, 67, 0.15);\n",
              "      fill: #174EA6;\n",
              "    }\n",
              "\n",
              "    [theme=dark] .colab-df-convert {\n",
              "      background-color: #3B4455;\n",
              "      fill: #D2E3FC;\n",
              "    }\n",
              "\n",
              "    [theme=dark] .colab-df-convert:hover {\n",
              "      background-color: #434B5C;\n",
              "      box-shadow: 0px 1px 3px 1px rgba(0, 0, 0, 0.15);\n",
              "      filter: drop-shadow(0px 1px 2px rgba(0, 0, 0, 0.3));\n",
              "      fill: #FFFFFF;\n",
              "    }\n",
              "  </style>\n",
              "\n",
              "      <script>\n",
              "        const buttonEl =\n",
              "          document.querySelector('#df-e3e917f4-c1b9-4478-a496-2bd7a5be8d0a button.colab-df-convert');\n",
              "        buttonEl.style.display =\n",
              "          google.colab.kernel.accessAllowed ? 'block' : 'none';\n",
              "\n",
              "        async function convertToInteractive(key) {\n",
              "          const element = document.querySelector('#df-e3e917f4-c1b9-4478-a496-2bd7a5be8d0a');\n",
              "          const dataTable =\n",
              "            await google.colab.kernel.invokeFunction('convertToInteractive',\n",
              "                                                     [key], {});\n",
              "          if (!dataTable) return;\n",
              "\n",
              "          const docLinkHtml = 'Like what you see? Visit the ' +\n",
              "            '<a target=\"_blank\" href=https://colab.research.google.com/notebooks/data_table.ipynb>data table notebook</a>'\n",
              "            + ' to learn more about interactive tables.';\n",
              "          element.innerHTML = '';\n",
              "          dataTable['output_type'] = 'display_data';\n",
              "          await google.colab.output.renderOutput(dataTable, element);\n",
              "          const docLink = document.createElement('div');\n",
              "          docLink.innerHTML = docLinkHtml;\n",
              "          element.appendChild(docLink);\n",
              "        }\n",
              "      </script>\n",
              "    </div>\n",
              "  </div>\n",
              "  "
            ]
          },
          "metadata": {},
          "execution_count": 62
        }
      ]
    },
    {
      "cell_type": "markdown",
      "source": [
        "**Exploratory Data Analysis (EDA)**"
      ],
      "metadata": {
        "id": "8lafu6d51PEH"
      }
    },
    {
      "cell_type": "code",
      "execution_count": 63,
      "metadata": {
        "colab": {
          "base_uri": "https://localhost:8080/"
        },
        "id": "c97607d1",
        "outputId": "499369cf-a7a9-4d1c-899f-3cec344f233c"
      },
      "outputs": [
        {
          "output_type": "execute_result",
          "data": {
            "text/plain": [
              "(1743, 15)"
            ]
          },
          "metadata": {},
          "execution_count": 63
        }
      ],
      "source": [
        "df_stock.shape"
      ]
    },
    {
      "cell_type": "code",
      "execution_count": 64,
      "metadata": {
        "scrolled": true,
        "colab": {
          "base_uri": "https://localhost:8080/"
        },
        "id": "21a6209b",
        "outputId": "98bfcf43-07ab-4d14-cc97-9d003369ce72"
      },
      "outputs": [
        {
          "output_type": "stream",
          "name": "stdout",
          "text": [
            "<class 'pandas.core.frame.DataFrame'>\n",
            "RangeIndex: 1743 entries, 0 to 1742\n",
            "Data columns (total 15 columns):\n",
            " #   Column                  Non-Null Count  Dtype  \n",
            "---  ------                  --------------  -----  \n",
            " 0   Symbol                  1743 non-null   object \n",
            " 1   Series                  1743 non-null   object \n",
            " 2   Date                    1743 non-null   object \n",
            " 3   Prev Close              1743 non-null   float64\n",
            " 4   Open Price              1743 non-null   float64\n",
            " 5   High Price              1743 non-null   float64\n",
            " 6   Low Price               1743 non-null   float64\n",
            " 7   Last Price              1743 non-null   float64\n",
            " 8   Close Price             1743 non-null   float64\n",
            " 9   Average Price           1743 non-null   float64\n",
            " 10  Total Traded Quantity   1743 non-null   int64  \n",
            " 11  Turnover                1743 non-null   float64\n",
            " 12  No. of Trades           1743 non-null   int64  \n",
            " 13  Deliverable Qty         1743 non-null   object \n",
            " 14  % Dly Qt to Traded Qty  1743 non-null   object \n",
            "dtypes: float64(8), int64(2), object(5)\n",
            "memory usage: 204.4+ KB\n"
          ]
        }
      ],
      "source": [
        "df_stock.info()"
      ]
    },
    {
      "cell_type": "markdown",
      "source": [
        "Insights: 1. No null values in the dataset. \n",
        "2. Need to remove Series values other than 'EQ'\n",
        "3. Need to remove columns which are not useful for price predictions i.e. remove columns other than 'Date' and 'Close Price'\n",
        "4. 'Close Price' column to be renamed to 'Close_Price'\n",
        "5. Date column type to be changed from object to Date \n",
        "5. Sort data in ascending order of date\n",
        "6. Set Date column as new index"
      ],
      "metadata": {
        "id": "B9LE2JQ1S5m-"
      }
    },
    {
      "cell_type": "code",
      "source": [
        "# Dropping all Series column values which are not equal to 'EQ'\n",
        "values=['EQ']\n",
        "df_stock = df_stock[df_stock['Series'].isin(values)]"
      ],
      "metadata": {
        "id": "o18QmCa15o2X"
      },
      "execution_count": 65,
      "outputs": []
    },
    {
      "cell_type": "code",
      "source": [
        "df_stock = df_stock[['Date', 'Close Price' ]]"
      ],
      "metadata": {
        "id": "sW11BFC-1UH6"
      },
      "execution_count": 66,
      "outputs": []
    },
    {
      "cell_type": "code",
      "source": [
        "# Renaming of column name 'Close Price'\n",
        "df_stock = df_stock.rename(columns={'Close Price': 'Close_Price'})\n",
        "df_stock.head()"
      ],
      "metadata": {
        "colab": {
          "base_uri": "https://localhost:8080/",
          "height": 206
        },
        "id": "knhPiO9366ND",
        "outputId": "87aac1d8-6f00-4ede-d805-9d11be00d23c"
      },
      "execution_count": 67,
      "outputs": [
        {
          "output_type": "execute_result",
          "data": {
            "text/plain": [
              "        Date  Close_Price\n",
              "0  04-Nov-22       816.40\n",
              "2  03-Nov-22       818.65\n",
              "3  31-Oct-22       832.00\n",
              "4  28-Oct-22       816.85\n",
              "5  27-Oct-22       817.10"
            ],
            "text/html": [
              "\n",
              "  <div id=\"df-66f88bb4-feca-428c-a020-b1b708bed558\">\n",
              "    <div class=\"colab-df-container\">\n",
              "      <div>\n",
              "<style scoped>\n",
              "    .dataframe tbody tr th:only-of-type {\n",
              "        vertical-align: middle;\n",
              "    }\n",
              "\n",
              "    .dataframe tbody tr th {\n",
              "        vertical-align: top;\n",
              "    }\n",
              "\n",
              "    .dataframe thead th {\n",
              "        text-align: right;\n",
              "    }\n",
              "</style>\n",
              "<table border=\"1\" class=\"dataframe\">\n",
              "  <thead>\n",
              "    <tr style=\"text-align: right;\">\n",
              "      <th></th>\n",
              "      <th>Date</th>\n",
              "      <th>Close_Price</th>\n",
              "    </tr>\n",
              "  </thead>\n",
              "  <tbody>\n",
              "    <tr>\n",
              "      <th>0</th>\n",
              "      <td>04-Nov-22</td>\n",
              "      <td>816.40</td>\n",
              "    </tr>\n",
              "    <tr>\n",
              "      <th>2</th>\n",
              "      <td>03-Nov-22</td>\n",
              "      <td>818.65</td>\n",
              "    </tr>\n",
              "    <tr>\n",
              "      <th>3</th>\n",
              "      <td>31-Oct-22</td>\n",
              "      <td>832.00</td>\n",
              "    </tr>\n",
              "    <tr>\n",
              "      <th>4</th>\n",
              "      <td>28-Oct-22</td>\n",
              "      <td>816.85</td>\n",
              "    </tr>\n",
              "    <tr>\n",
              "      <th>5</th>\n",
              "      <td>27-Oct-22</td>\n",
              "      <td>817.10</td>\n",
              "    </tr>\n",
              "  </tbody>\n",
              "</table>\n",
              "</div>\n",
              "      <button class=\"colab-df-convert\" onclick=\"convertToInteractive('df-66f88bb4-feca-428c-a020-b1b708bed558')\"\n",
              "              title=\"Convert this dataframe to an interactive table.\"\n",
              "              style=\"display:none;\">\n",
              "        \n",
              "  <svg xmlns=\"http://www.w3.org/2000/svg\" height=\"24px\"viewBox=\"0 0 24 24\"\n",
              "       width=\"24px\">\n",
              "    <path d=\"M0 0h24v24H0V0z\" fill=\"none\"/>\n",
              "    <path d=\"M18.56 5.44l.94 2.06.94-2.06 2.06-.94-2.06-.94-.94-2.06-.94 2.06-2.06.94zm-11 1L8.5 8.5l.94-2.06 2.06-.94-2.06-.94L8.5 2.5l-.94 2.06-2.06.94zm10 10l.94 2.06.94-2.06 2.06-.94-2.06-.94-.94-2.06-.94 2.06-2.06.94z\"/><path d=\"M17.41 7.96l-1.37-1.37c-.4-.4-.92-.59-1.43-.59-.52 0-1.04.2-1.43.59L10.3 9.45l-7.72 7.72c-.78.78-.78 2.05 0 2.83L4 21.41c.39.39.9.59 1.41.59.51 0 1.02-.2 1.41-.59l7.78-7.78 2.81-2.81c.8-.78.8-2.07 0-2.86zM5.41 20L4 18.59l7.72-7.72 1.47 1.35L5.41 20z\"/>\n",
              "  </svg>\n",
              "      </button>\n",
              "      \n",
              "  <style>\n",
              "    .colab-df-container {\n",
              "      display:flex;\n",
              "      flex-wrap:wrap;\n",
              "      gap: 12px;\n",
              "    }\n",
              "\n",
              "    .colab-df-convert {\n",
              "      background-color: #E8F0FE;\n",
              "      border: none;\n",
              "      border-radius: 50%;\n",
              "      cursor: pointer;\n",
              "      display: none;\n",
              "      fill: #1967D2;\n",
              "      height: 32px;\n",
              "      padding: 0 0 0 0;\n",
              "      width: 32px;\n",
              "    }\n",
              "\n",
              "    .colab-df-convert:hover {\n",
              "      background-color: #E2EBFA;\n",
              "      box-shadow: 0px 1px 2px rgba(60, 64, 67, 0.3), 0px 1px 3px 1px rgba(60, 64, 67, 0.15);\n",
              "      fill: #174EA6;\n",
              "    }\n",
              "\n",
              "    [theme=dark] .colab-df-convert {\n",
              "      background-color: #3B4455;\n",
              "      fill: #D2E3FC;\n",
              "    }\n",
              "\n",
              "    [theme=dark] .colab-df-convert:hover {\n",
              "      background-color: #434B5C;\n",
              "      box-shadow: 0px 1px 3px 1px rgba(0, 0, 0, 0.15);\n",
              "      filter: drop-shadow(0px 1px 2px rgba(0, 0, 0, 0.3));\n",
              "      fill: #FFFFFF;\n",
              "    }\n",
              "  </style>\n",
              "\n",
              "      <script>\n",
              "        const buttonEl =\n",
              "          document.querySelector('#df-66f88bb4-feca-428c-a020-b1b708bed558 button.colab-df-convert');\n",
              "        buttonEl.style.display =\n",
              "          google.colab.kernel.accessAllowed ? 'block' : 'none';\n",
              "\n",
              "        async function convertToInteractive(key) {\n",
              "          const element = document.querySelector('#df-66f88bb4-feca-428c-a020-b1b708bed558');\n",
              "          const dataTable =\n",
              "            await google.colab.kernel.invokeFunction('convertToInteractive',\n",
              "                                                     [key], {});\n",
              "          if (!dataTable) return;\n",
              "\n",
              "          const docLinkHtml = 'Like what you see? Visit the ' +\n",
              "            '<a target=\"_blank\" href=https://colab.research.google.com/notebooks/data_table.ipynb>data table notebook</a>'\n",
              "            + ' to learn more about interactive tables.';\n",
              "          element.innerHTML = '';\n",
              "          dataTable['output_type'] = 'display_data';\n",
              "          await google.colab.output.renderOutput(dataTable, element);\n",
              "          const docLink = document.createElement('div');\n",
              "          docLink.innerHTML = docLinkHtml;\n",
              "          element.appendChild(docLink);\n",
              "        }\n",
              "      </script>\n",
              "    </div>\n",
              "  </div>\n",
              "  "
            ]
          },
          "metadata": {},
          "execution_count": 67
        }
      ]
    },
    {
      "cell_type": "code",
      "execution_count": 68,
      "metadata": {
        "scrolled": true,
        "colab": {
          "base_uri": "https://localhost:8080/"
        },
        "id": "b35a0f4e",
        "outputId": "8e52fd9b-8c6f-42cf-98a6-0f8c8ca98fe9"
      },
      "outputs": [
        {
          "output_type": "execute_result",
          "data": {
            "text/plain": [
              "Date           1726\n",
              "Close_Price    1492\n",
              "dtype: int64"
            ]
          },
          "metadata": {},
          "execution_count": 68
        }
      ],
      "source": [
        "df_stock.nunique()"
      ]
    },
    {
      "cell_type": "code",
      "source": [
        "# Find all duplicate rows\n",
        "df_stock[df_stock.duplicated()]"
      ],
      "metadata": {
        "colab": {
          "base_uri": "https://localhost:8080/",
          "height": 175
        },
        "id": "FsKahPBSUpKR",
        "outputId": "598869a9-ba06-412f-9842-7f256ee67e0f"
      },
      "execution_count": 69,
      "outputs": [
        {
          "output_type": "execute_result",
          "data": {
            "text/plain": [
              "           Date  Close_Price\n",
              "756   04-Nov-19       378.00\n",
              "1498  03-Nov-16       308.95\n",
              "1500  02-Nov-16       309.60\n",
              "1502  01-Nov-16       317.45"
            ],
            "text/html": [
              "\n",
              "  <div id=\"df-4d8ce54a-b430-4b3c-94da-f7c19e15e99a\">\n",
              "    <div class=\"colab-df-container\">\n",
              "      <div>\n",
              "<style scoped>\n",
              "    .dataframe tbody tr th:only-of-type {\n",
              "        vertical-align: middle;\n",
              "    }\n",
              "\n",
              "    .dataframe tbody tr th {\n",
              "        vertical-align: top;\n",
              "    }\n",
              "\n",
              "    .dataframe thead th {\n",
              "        text-align: right;\n",
              "    }\n",
              "</style>\n",
              "<table border=\"1\" class=\"dataframe\">\n",
              "  <thead>\n",
              "    <tr style=\"text-align: right;\">\n",
              "      <th></th>\n",
              "      <th>Date</th>\n",
              "      <th>Close_Price</th>\n",
              "    </tr>\n",
              "  </thead>\n",
              "  <tbody>\n",
              "    <tr>\n",
              "      <th>756</th>\n",
              "      <td>04-Nov-19</td>\n",
              "      <td>378.00</td>\n",
              "    </tr>\n",
              "    <tr>\n",
              "      <th>1498</th>\n",
              "      <td>03-Nov-16</td>\n",
              "      <td>308.95</td>\n",
              "    </tr>\n",
              "    <tr>\n",
              "      <th>1500</th>\n",
              "      <td>02-Nov-16</td>\n",
              "      <td>309.60</td>\n",
              "    </tr>\n",
              "    <tr>\n",
              "      <th>1502</th>\n",
              "      <td>01-Nov-16</td>\n",
              "      <td>317.45</td>\n",
              "    </tr>\n",
              "  </tbody>\n",
              "</table>\n",
              "</div>\n",
              "      <button class=\"colab-df-convert\" onclick=\"convertToInteractive('df-4d8ce54a-b430-4b3c-94da-f7c19e15e99a')\"\n",
              "              title=\"Convert this dataframe to an interactive table.\"\n",
              "              style=\"display:none;\">\n",
              "        \n",
              "  <svg xmlns=\"http://www.w3.org/2000/svg\" height=\"24px\"viewBox=\"0 0 24 24\"\n",
              "       width=\"24px\">\n",
              "    <path d=\"M0 0h24v24H0V0z\" fill=\"none\"/>\n",
              "    <path d=\"M18.56 5.44l.94 2.06.94-2.06 2.06-.94-2.06-.94-.94-2.06-.94 2.06-2.06.94zm-11 1L8.5 8.5l.94-2.06 2.06-.94-2.06-.94L8.5 2.5l-.94 2.06-2.06.94zm10 10l.94 2.06.94-2.06 2.06-.94-2.06-.94-.94-2.06-.94 2.06-2.06.94z\"/><path d=\"M17.41 7.96l-1.37-1.37c-.4-.4-.92-.59-1.43-.59-.52 0-1.04.2-1.43.59L10.3 9.45l-7.72 7.72c-.78.78-.78 2.05 0 2.83L4 21.41c.39.39.9.59 1.41.59.51 0 1.02-.2 1.41-.59l7.78-7.78 2.81-2.81c.8-.78.8-2.07 0-2.86zM5.41 20L4 18.59l7.72-7.72 1.47 1.35L5.41 20z\"/>\n",
              "  </svg>\n",
              "      </button>\n",
              "      \n",
              "  <style>\n",
              "    .colab-df-container {\n",
              "      display:flex;\n",
              "      flex-wrap:wrap;\n",
              "      gap: 12px;\n",
              "    }\n",
              "\n",
              "    .colab-df-convert {\n",
              "      background-color: #E8F0FE;\n",
              "      border: none;\n",
              "      border-radius: 50%;\n",
              "      cursor: pointer;\n",
              "      display: none;\n",
              "      fill: #1967D2;\n",
              "      height: 32px;\n",
              "      padding: 0 0 0 0;\n",
              "      width: 32px;\n",
              "    }\n",
              "\n",
              "    .colab-df-convert:hover {\n",
              "      background-color: #E2EBFA;\n",
              "      box-shadow: 0px 1px 2px rgba(60, 64, 67, 0.3), 0px 1px 3px 1px rgba(60, 64, 67, 0.15);\n",
              "      fill: #174EA6;\n",
              "    }\n",
              "\n",
              "    [theme=dark] .colab-df-convert {\n",
              "      background-color: #3B4455;\n",
              "      fill: #D2E3FC;\n",
              "    }\n",
              "\n",
              "    [theme=dark] .colab-df-convert:hover {\n",
              "      background-color: #434B5C;\n",
              "      box-shadow: 0px 1px 3px 1px rgba(0, 0, 0, 0.15);\n",
              "      filter: drop-shadow(0px 1px 2px rgba(0, 0, 0, 0.3));\n",
              "      fill: #FFFFFF;\n",
              "    }\n",
              "  </style>\n",
              "\n",
              "      <script>\n",
              "        const buttonEl =\n",
              "          document.querySelector('#df-4d8ce54a-b430-4b3c-94da-f7c19e15e99a button.colab-df-convert');\n",
              "        buttonEl.style.display =\n",
              "          google.colab.kernel.accessAllowed ? 'block' : 'none';\n",
              "\n",
              "        async function convertToInteractive(key) {\n",
              "          const element = document.querySelector('#df-4d8ce54a-b430-4b3c-94da-f7c19e15e99a');\n",
              "          const dataTable =\n",
              "            await google.colab.kernel.invokeFunction('convertToInteractive',\n",
              "                                                     [key], {});\n",
              "          if (!dataTable) return;\n",
              "\n",
              "          const docLinkHtml = 'Like what you see? Visit the ' +\n",
              "            '<a target=\"_blank\" href=https://colab.research.google.com/notebooks/data_table.ipynb>data table notebook</a>'\n",
              "            + ' to learn more about interactive tables.';\n",
              "          element.innerHTML = '';\n",
              "          dataTable['output_type'] = 'display_data';\n",
              "          await google.colab.output.renderOutput(dataTable, element);\n",
              "          const docLink = document.createElement('div');\n",
              "          docLink.innerHTML = docLinkHtml;\n",
              "          element.appendChild(docLink);\n",
              "        }\n",
              "      </script>\n",
              "    </div>\n",
              "  </div>\n",
              "  "
            ]
          },
          "metadata": {},
          "execution_count": 69
        }
      ]
    },
    {
      "cell_type": "code",
      "source": [
        "# Remove duplicate rows\n",
        "df_stock = df_stock.drop_duplicates()\n",
        "df_stock.nunique()"
      ],
      "metadata": {
        "colab": {
          "base_uri": "https://localhost:8080/"
        },
        "id": "P8iAhRXkVSnw",
        "outputId": "7df68920-6b3a-4292-914a-144bddb20922"
      },
      "execution_count": 70,
      "outputs": [
        {
          "output_type": "execute_result",
          "data": {
            "text/plain": [
              "Date           1726\n",
              "Close_Price    1492\n",
              "dtype: int64"
            ]
          },
          "metadata": {},
          "execution_count": 70
        }
      ]
    },
    {
      "cell_type": "code",
      "source": [
        "df_stock['Date'] = pd.to_datetime(df_stock['Date'])\n",
        "df_stock.head()"
      ],
      "metadata": {
        "colab": {
          "base_uri": "https://localhost:8080/",
          "height": 206
        },
        "id": "Ek4xBTXn4G9n",
        "outputId": "9d7ade6d-b4a6-41a6-8eea-182908054d3c"
      },
      "execution_count": 71,
      "outputs": [
        {
          "output_type": "execute_result",
          "data": {
            "text/plain": [
              "        Date  Close_Price\n",
              "0 2022-11-04       816.40\n",
              "2 2022-11-03       818.65\n",
              "3 2022-10-31       832.00\n",
              "4 2022-10-28       816.85\n",
              "5 2022-10-27       817.10"
            ],
            "text/html": [
              "\n",
              "  <div id=\"df-7f9dcd1e-cf5e-4ab1-912f-b96b0f2a101d\">\n",
              "    <div class=\"colab-df-container\">\n",
              "      <div>\n",
              "<style scoped>\n",
              "    .dataframe tbody tr th:only-of-type {\n",
              "        vertical-align: middle;\n",
              "    }\n",
              "\n",
              "    .dataframe tbody tr th {\n",
              "        vertical-align: top;\n",
              "    }\n",
              "\n",
              "    .dataframe thead th {\n",
              "        text-align: right;\n",
              "    }\n",
              "</style>\n",
              "<table border=\"1\" class=\"dataframe\">\n",
              "  <thead>\n",
              "    <tr style=\"text-align: right;\">\n",
              "      <th></th>\n",
              "      <th>Date</th>\n",
              "      <th>Close_Price</th>\n",
              "    </tr>\n",
              "  </thead>\n",
              "  <tbody>\n",
              "    <tr>\n",
              "      <th>0</th>\n",
              "      <td>2022-11-04</td>\n",
              "      <td>816.40</td>\n",
              "    </tr>\n",
              "    <tr>\n",
              "      <th>2</th>\n",
              "      <td>2022-11-03</td>\n",
              "      <td>818.65</td>\n",
              "    </tr>\n",
              "    <tr>\n",
              "      <th>3</th>\n",
              "      <td>2022-10-31</td>\n",
              "      <td>832.00</td>\n",
              "    </tr>\n",
              "    <tr>\n",
              "      <th>4</th>\n",
              "      <td>2022-10-28</td>\n",
              "      <td>816.85</td>\n",
              "    </tr>\n",
              "    <tr>\n",
              "      <th>5</th>\n",
              "      <td>2022-10-27</td>\n",
              "      <td>817.10</td>\n",
              "    </tr>\n",
              "  </tbody>\n",
              "</table>\n",
              "</div>\n",
              "      <button class=\"colab-df-convert\" onclick=\"convertToInteractive('df-7f9dcd1e-cf5e-4ab1-912f-b96b0f2a101d')\"\n",
              "              title=\"Convert this dataframe to an interactive table.\"\n",
              "              style=\"display:none;\">\n",
              "        \n",
              "  <svg xmlns=\"http://www.w3.org/2000/svg\" height=\"24px\"viewBox=\"0 0 24 24\"\n",
              "       width=\"24px\">\n",
              "    <path d=\"M0 0h24v24H0V0z\" fill=\"none\"/>\n",
              "    <path d=\"M18.56 5.44l.94 2.06.94-2.06 2.06-.94-2.06-.94-.94-2.06-.94 2.06-2.06.94zm-11 1L8.5 8.5l.94-2.06 2.06-.94-2.06-.94L8.5 2.5l-.94 2.06-2.06.94zm10 10l.94 2.06.94-2.06 2.06-.94-2.06-.94-.94-2.06-.94 2.06-2.06.94z\"/><path d=\"M17.41 7.96l-1.37-1.37c-.4-.4-.92-.59-1.43-.59-.52 0-1.04.2-1.43.59L10.3 9.45l-7.72 7.72c-.78.78-.78 2.05 0 2.83L4 21.41c.39.39.9.59 1.41.59.51 0 1.02-.2 1.41-.59l7.78-7.78 2.81-2.81c.8-.78.8-2.07 0-2.86zM5.41 20L4 18.59l7.72-7.72 1.47 1.35L5.41 20z\"/>\n",
              "  </svg>\n",
              "      </button>\n",
              "      \n",
              "  <style>\n",
              "    .colab-df-container {\n",
              "      display:flex;\n",
              "      flex-wrap:wrap;\n",
              "      gap: 12px;\n",
              "    }\n",
              "\n",
              "    .colab-df-convert {\n",
              "      background-color: #E8F0FE;\n",
              "      border: none;\n",
              "      border-radius: 50%;\n",
              "      cursor: pointer;\n",
              "      display: none;\n",
              "      fill: #1967D2;\n",
              "      height: 32px;\n",
              "      padding: 0 0 0 0;\n",
              "      width: 32px;\n",
              "    }\n",
              "\n",
              "    .colab-df-convert:hover {\n",
              "      background-color: #E2EBFA;\n",
              "      box-shadow: 0px 1px 2px rgba(60, 64, 67, 0.3), 0px 1px 3px 1px rgba(60, 64, 67, 0.15);\n",
              "      fill: #174EA6;\n",
              "    }\n",
              "\n",
              "    [theme=dark] .colab-df-convert {\n",
              "      background-color: #3B4455;\n",
              "      fill: #D2E3FC;\n",
              "    }\n",
              "\n",
              "    [theme=dark] .colab-df-convert:hover {\n",
              "      background-color: #434B5C;\n",
              "      box-shadow: 0px 1px 3px 1px rgba(0, 0, 0, 0.15);\n",
              "      filter: drop-shadow(0px 1px 2px rgba(0, 0, 0, 0.3));\n",
              "      fill: #FFFFFF;\n",
              "    }\n",
              "  </style>\n",
              "\n",
              "      <script>\n",
              "        const buttonEl =\n",
              "          document.querySelector('#df-7f9dcd1e-cf5e-4ab1-912f-b96b0f2a101d button.colab-df-convert');\n",
              "        buttonEl.style.display =\n",
              "          google.colab.kernel.accessAllowed ? 'block' : 'none';\n",
              "\n",
              "        async function convertToInteractive(key) {\n",
              "          const element = document.querySelector('#df-7f9dcd1e-cf5e-4ab1-912f-b96b0f2a101d');\n",
              "          const dataTable =\n",
              "            await google.colab.kernel.invokeFunction('convertToInteractive',\n",
              "                                                     [key], {});\n",
              "          if (!dataTable) return;\n",
              "\n",
              "          const docLinkHtml = 'Like what you see? Visit the ' +\n",
              "            '<a target=\"_blank\" href=https://colab.research.google.com/notebooks/data_table.ipynb>data table notebook</a>'\n",
              "            + ' to learn more about interactive tables.';\n",
              "          element.innerHTML = '';\n",
              "          dataTable['output_type'] = 'display_data';\n",
              "          await google.colab.output.renderOutput(dataTable, element);\n",
              "          const docLink = document.createElement('div');\n",
              "          docLink.innerHTML = docLinkHtml;\n",
              "          element.appendChild(docLink);\n",
              "        }\n",
              "      </script>\n",
              "    </div>\n",
              "  </div>\n",
              "  "
            ]
          },
          "metadata": {},
          "execution_count": 71
        }
      ]
    },
    {
      "cell_type": "code",
      "source": [
        "# Set Date column as index \n",
        "df_stock=df_stock.set_index(pd.DatetimeIndex(df_stock['Date']))\n",
        "df_stock.info()"
      ],
      "metadata": {
        "colab": {
          "base_uri": "https://localhost:8080/"
        },
        "id": "GbJ4WnEIagVa",
        "outputId": "5cda8046-2acc-4413-c08e-3aefad41fdde"
      },
      "execution_count": 72,
      "outputs": [
        {
          "output_type": "stream",
          "name": "stdout",
          "text": [
            "<class 'pandas.core.frame.DataFrame'>\n",
            "DatetimeIndex: 1726 entries, 2022-11-04 to 2015-11-09\n",
            "Data columns (total 2 columns):\n",
            " #   Column       Non-Null Count  Dtype         \n",
            "---  ------       --------------  -----         \n",
            " 0   Date         1726 non-null   datetime64[ns]\n",
            " 1   Close_Price  1726 non-null   float64       \n",
            "dtypes: datetime64[ns](1), float64(1)\n",
            "memory usage: 40.5 KB\n"
          ]
        }
      ]
    },
    {
      "cell_type": "code",
      "source": [
        "# Sort index in ascending order\n",
        "df_stock = df_stock.sort_index(ascending=True)\n",
        "df_stock.head()"
      ],
      "metadata": {
        "colab": {
          "base_uri": "https://localhost:8080/",
          "height": 238
        },
        "id": "7lrm37JOZcyb",
        "outputId": "a495cf75-d7fb-4432-c26e-8f6a74c3f7e6"
      },
      "execution_count": 73,
      "outputs": [
        {
          "output_type": "execute_result",
          "data": {
            "text/plain": [
              "                 Date  Close_Price\n",
              "Date                              \n",
              "2015-11-09 2015-11-09       335.25\n",
              "2015-11-10 2015-11-10       331.65\n",
              "2015-11-11 2015-11-11       331.90\n",
              "2015-11-13 2015-11-13       333.90\n",
              "2015-11-16 2015-11-16       335.75"
            ],
            "text/html": [
              "\n",
              "  <div id=\"df-a109d050-297a-425e-8c88-e05231ab0a78\">\n",
              "    <div class=\"colab-df-container\">\n",
              "      <div>\n",
              "<style scoped>\n",
              "    .dataframe tbody tr th:only-of-type {\n",
              "        vertical-align: middle;\n",
              "    }\n",
              "\n",
              "    .dataframe tbody tr th {\n",
              "        vertical-align: top;\n",
              "    }\n",
              "\n",
              "    .dataframe thead th {\n",
              "        text-align: right;\n",
              "    }\n",
              "</style>\n",
              "<table border=\"1\" class=\"dataframe\">\n",
              "  <thead>\n",
              "    <tr style=\"text-align: right;\">\n",
              "      <th></th>\n",
              "      <th>Date</th>\n",
              "      <th>Close_Price</th>\n",
              "    </tr>\n",
              "    <tr>\n",
              "      <th>Date</th>\n",
              "      <th></th>\n",
              "      <th></th>\n",
              "    </tr>\n",
              "  </thead>\n",
              "  <tbody>\n",
              "    <tr>\n",
              "      <th>2015-11-09</th>\n",
              "      <td>2015-11-09</td>\n",
              "      <td>335.25</td>\n",
              "    </tr>\n",
              "    <tr>\n",
              "      <th>2015-11-10</th>\n",
              "      <td>2015-11-10</td>\n",
              "      <td>331.65</td>\n",
              "    </tr>\n",
              "    <tr>\n",
              "      <th>2015-11-11</th>\n",
              "      <td>2015-11-11</td>\n",
              "      <td>331.90</td>\n",
              "    </tr>\n",
              "    <tr>\n",
              "      <th>2015-11-13</th>\n",
              "      <td>2015-11-13</td>\n",
              "      <td>333.90</td>\n",
              "    </tr>\n",
              "    <tr>\n",
              "      <th>2015-11-16</th>\n",
              "      <td>2015-11-16</td>\n",
              "      <td>335.75</td>\n",
              "    </tr>\n",
              "  </tbody>\n",
              "</table>\n",
              "</div>\n",
              "      <button class=\"colab-df-convert\" onclick=\"convertToInteractive('df-a109d050-297a-425e-8c88-e05231ab0a78')\"\n",
              "              title=\"Convert this dataframe to an interactive table.\"\n",
              "              style=\"display:none;\">\n",
              "        \n",
              "  <svg xmlns=\"http://www.w3.org/2000/svg\" height=\"24px\"viewBox=\"0 0 24 24\"\n",
              "       width=\"24px\">\n",
              "    <path d=\"M0 0h24v24H0V0z\" fill=\"none\"/>\n",
              "    <path d=\"M18.56 5.44l.94 2.06.94-2.06 2.06-.94-2.06-.94-.94-2.06-.94 2.06-2.06.94zm-11 1L8.5 8.5l.94-2.06 2.06-.94-2.06-.94L8.5 2.5l-.94 2.06-2.06.94zm10 10l.94 2.06.94-2.06 2.06-.94-2.06-.94-.94-2.06-.94 2.06-2.06.94z\"/><path d=\"M17.41 7.96l-1.37-1.37c-.4-.4-.92-.59-1.43-.59-.52 0-1.04.2-1.43.59L10.3 9.45l-7.72 7.72c-.78.78-.78 2.05 0 2.83L4 21.41c.39.39.9.59 1.41.59.51 0 1.02-.2 1.41-.59l7.78-7.78 2.81-2.81c.8-.78.8-2.07 0-2.86zM5.41 20L4 18.59l7.72-7.72 1.47 1.35L5.41 20z\"/>\n",
              "  </svg>\n",
              "      </button>\n",
              "      \n",
              "  <style>\n",
              "    .colab-df-container {\n",
              "      display:flex;\n",
              "      flex-wrap:wrap;\n",
              "      gap: 12px;\n",
              "    }\n",
              "\n",
              "    .colab-df-convert {\n",
              "      background-color: #E8F0FE;\n",
              "      border: none;\n",
              "      border-radius: 50%;\n",
              "      cursor: pointer;\n",
              "      display: none;\n",
              "      fill: #1967D2;\n",
              "      height: 32px;\n",
              "      padding: 0 0 0 0;\n",
              "      width: 32px;\n",
              "    }\n",
              "\n",
              "    .colab-df-convert:hover {\n",
              "      background-color: #E2EBFA;\n",
              "      box-shadow: 0px 1px 2px rgba(60, 64, 67, 0.3), 0px 1px 3px 1px rgba(60, 64, 67, 0.15);\n",
              "      fill: #174EA6;\n",
              "    }\n",
              "\n",
              "    [theme=dark] .colab-df-convert {\n",
              "      background-color: #3B4455;\n",
              "      fill: #D2E3FC;\n",
              "    }\n",
              "\n",
              "    [theme=dark] .colab-df-convert:hover {\n",
              "      background-color: #434B5C;\n",
              "      box-shadow: 0px 1px 3px 1px rgba(0, 0, 0, 0.15);\n",
              "      filter: drop-shadow(0px 1px 2px rgba(0, 0, 0, 0.3));\n",
              "      fill: #FFFFFF;\n",
              "    }\n",
              "  </style>\n",
              "\n",
              "      <script>\n",
              "        const buttonEl =\n",
              "          document.querySelector('#df-a109d050-297a-425e-8c88-e05231ab0a78 button.colab-df-convert');\n",
              "        buttonEl.style.display =\n",
              "          google.colab.kernel.accessAllowed ? 'block' : 'none';\n",
              "\n",
              "        async function convertToInteractive(key) {\n",
              "          const element = document.querySelector('#df-a109d050-297a-425e-8c88-e05231ab0a78');\n",
              "          const dataTable =\n",
              "            await google.colab.kernel.invokeFunction('convertToInteractive',\n",
              "                                                     [key], {});\n",
              "          if (!dataTable) return;\n",
              "\n",
              "          const docLinkHtml = 'Like what you see? Visit the ' +\n",
              "            '<a target=\"_blank\" href=https://colab.research.google.com/notebooks/data_table.ipynb>data table notebook</a>'\n",
              "            + ' to learn more about interactive tables.';\n",
              "          element.innerHTML = '';\n",
              "          dataTable['output_type'] = 'display_data';\n",
              "          await google.colab.output.renderOutput(dataTable, element);\n",
              "          const docLink = document.createElement('div');\n",
              "          docLink.innerHTML = docLinkHtml;\n",
              "          element.appendChild(docLink);\n",
              "        }\n",
              "      </script>\n",
              "    </div>\n",
              "  </div>\n",
              "  "
            ]
          },
          "metadata": {},
          "execution_count": 73
        }
      ]
    },
    {
      "cell_type": "code",
      "source": [
        "# Providing data range for understanding\n",
        "print(f'Dataframe contains stock prices between {df_stock.Date.min().strftime(\"%Y-%m-%d\")} and {df_stock.Date.max().strftime(\"%Y-%m-%d\")}')\n",
        "print(f'Total days {(df_stock.Date.max() - df_stock.Date.min()).days} days')"
      ],
      "metadata": {
        "colab": {
          "base_uri": "https://localhost:8080/"
        },
        "id": "u1QNI7l98ajd",
        "outputId": "65f7cf2a-b657-419d-c731-239763051b58"
      },
      "execution_count": 74,
      "outputs": [
        {
          "output_type": "stream",
          "name": "stdout",
          "text": [
            "Dataframe contains stock prices between 2015-11-09 and 2022-11-04\n",
            "Total days 2552 days\n"
          ]
        }
      ]
    },
    {
      "cell_type": "code",
      "source": [
        "df_stock['Date']= pd.to_datetime(df_stock[\"Date\"]).dt.strftime(\"%Y%m%d\")\n",
        "df_stock.head()"
      ],
      "metadata": {
        "colab": {
          "base_uri": "https://localhost:8080/",
          "height": 238
        },
        "id": "Nja5KJCc8LRM",
        "outputId": "fe84bffa-86a5-4e8a-d8c6-05d5bab475a7"
      },
      "execution_count": 75,
      "outputs": [
        {
          "output_type": "execute_result",
          "data": {
            "text/plain": [
              "                Date  Close_Price\n",
              "Date                             \n",
              "2015-11-09  20151109       335.25\n",
              "2015-11-10  20151110       331.65\n",
              "2015-11-11  20151111       331.90\n",
              "2015-11-13  20151113       333.90\n",
              "2015-11-16  20151116       335.75"
            ],
            "text/html": [
              "\n",
              "  <div id=\"df-aa972ffa-92a1-4bbb-94cc-b429bb5b950d\">\n",
              "    <div class=\"colab-df-container\">\n",
              "      <div>\n",
              "<style scoped>\n",
              "    .dataframe tbody tr th:only-of-type {\n",
              "        vertical-align: middle;\n",
              "    }\n",
              "\n",
              "    .dataframe tbody tr th {\n",
              "        vertical-align: top;\n",
              "    }\n",
              "\n",
              "    .dataframe thead th {\n",
              "        text-align: right;\n",
              "    }\n",
              "</style>\n",
              "<table border=\"1\" class=\"dataframe\">\n",
              "  <thead>\n",
              "    <tr style=\"text-align: right;\">\n",
              "      <th></th>\n",
              "      <th>Date</th>\n",
              "      <th>Close_Price</th>\n",
              "    </tr>\n",
              "    <tr>\n",
              "      <th>Date</th>\n",
              "      <th></th>\n",
              "      <th></th>\n",
              "    </tr>\n",
              "  </thead>\n",
              "  <tbody>\n",
              "    <tr>\n",
              "      <th>2015-11-09</th>\n",
              "      <td>20151109</td>\n",
              "      <td>335.25</td>\n",
              "    </tr>\n",
              "    <tr>\n",
              "      <th>2015-11-10</th>\n",
              "      <td>20151110</td>\n",
              "      <td>331.65</td>\n",
              "    </tr>\n",
              "    <tr>\n",
              "      <th>2015-11-11</th>\n",
              "      <td>20151111</td>\n",
              "      <td>331.90</td>\n",
              "    </tr>\n",
              "    <tr>\n",
              "      <th>2015-11-13</th>\n",
              "      <td>20151113</td>\n",
              "      <td>333.90</td>\n",
              "    </tr>\n",
              "    <tr>\n",
              "      <th>2015-11-16</th>\n",
              "      <td>20151116</td>\n",
              "      <td>335.75</td>\n",
              "    </tr>\n",
              "  </tbody>\n",
              "</table>\n",
              "</div>\n",
              "      <button class=\"colab-df-convert\" onclick=\"convertToInteractive('df-aa972ffa-92a1-4bbb-94cc-b429bb5b950d')\"\n",
              "              title=\"Convert this dataframe to an interactive table.\"\n",
              "              style=\"display:none;\">\n",
              "        \n",
              "  <svg xmlns=\"http://www.w3.org/2000/svg\" height=\"24px\"viewBox=\"0 0 24 24\"\n",
              "       width=\"24px\">\n",
              "    <path d=\"M0 0h24v24H0V0z\" fill=\"none\"/>\n",
              "    <path d=\"M18.56 5.44l.94 2.06.94-2.06 2.06-.94-2.06-.94-.94-2.06-.94 2.06-2.06.94zm-11 1L8.5 8.5l.94-2.06 2.06-.94-2.06-.94L8.5 2.5l-.94 2.06-2.06.94zm10 10l.94 2.06.94-2.06 2.06-.94-2.06-.94-.94-2.06-.94 2.06-2.06.94z\"/><path d=\"M17.41 7.96l-1.37-1.37c-.4-.4-.92-.59-1.43-.59-.52 0-1.04.2-1.43.59L10.3 9.45l-7.72 7.72c-.78.78-.78 2.05 0 2.83L4 21.41c.39.39.9.59 1.41.59.51 0 1.02-.2 1.41-.59l7.78-7.78 2.81-2.81c.8-.78.8-2.07 0-2.86zM5.41 20L4 18.59l7.72-7.72 1.47 1.35L5.41 20z\"/>\n",
              "  </svg>\n",
              "      </button>\n",
              "      \n",
              "  <style>\n",
              "    .colab-df-container {\n",
              "      display:flex;\n",
              "      flex-wrap:wrap;\n",
              "      gap: 12px;\n",
              "    }\n",
              "\n",
              "    .colab-df-convert {\n",
              "      background-color: #E8F0FE;\n",
              "      border: none;\n",
              "      border-radius: 50%;\n",
              "      cursor: pointer;\n",
              "      display: none;\n",
              "      fill: #1967D2;\n",
              "      height: 32px;\n",
              "      padding: 0 0 0 0;\n",
              "      width: 32px;\n",
              "    }\n",
              "\n",
              "    .colab-df-convert:hover {\n",
              "      background-color: #E2EBFA;\n",
              "      box-shadow: 0px 1px 2px rgba(60, 64, 67, 0.3), 0px 1px 3px 1px rgba(60, 64, 67, 0.15);\n",
              "      fill: #174EA6;\n",
              "    }\n",
              "\n",
              "    [theme=dark] .colab-df-convert {\n",
              "      background-color: #3B4455;\n",
              "      fill: #D2E3FC;\n",
              "    }\n",
              "\n",
              "    [theme=dark] .colab-df-convert:hover {\n",
              "      background-color: #434B5C;\n",
              "      box-shadow: 0px 1px 3px 1px rgba(0, 0, 0, 0.15);\n",
              "      filter: drop-shadow(0px 1px 2px rgba(0, 0, 0, 0.3));\n",
              "      fill: #FFFFFF;\n",
              "    }\n",
              "  </style>\n",
              "\n",
              "      <script>\n",
              "        const buttonEl =\n",
              "          document.querySelector('#df-aa972ffa-92a1-4bbb-94cc-b429bb5b950d button.colab-df-convert');\n",
              "        buttonEl.style.display =\n",
              "          google.colab.kernel.accessAllowed ? 'block' : 'none';\n",
              "\n",
              "        async function convertToInteractive(key) {\n",
              "          const element = document.querySelector('#df-aa972ffa-92a1-4bbb-94cc-b429bb5b950d');\n",
              "          const dataTable =\n",
              "            await google.colab.kernel.invokeFunction('convertToInteractive',\n",
              "                                                     [key], {});\n",
              "          if (!dataTable) return;\n",
              "\n",
              "          const docLinkHtml = 'Like what you see? Visit the ' +\n",
              "            '<a target=\"_blank\" href=https://colab.research.google.com/notebooks/data_table.ipynb>data table notebook</a>'\n",
              "            + ' to learn more about interactive tables.';\n",
              "          element.innerHTML = '';\n",
              "          dataTable['output_type'] = 'display_data';\n",
              "          await google.colab.output.renderOutput(dataTable, element);\n",
              "          const docLink = document.createElement('div');\n",
              "          docLink.innerHTML = docLinkHtml;\n",
              "          element.appendChild(docLink);\n",
              "        }\n",
              "      </script>\n",
              "    </div>\n",
              "  </div>\n",
              "  "
            ]
          },
          "metadata": {},
          "execution_count": 75
        }
      ]
    },
    {
      "cell_type": "code",
      "source": [
        "df_stock.info()"
      ],
      "metadata": {
        "colab": {
          "base_uri": "https://localhost:8080/"
        },
        "id": "vfUXHwR_70tu",
        "outputId": "6707444f-f094-462f-d823-a0a549a99ce6"
      },
      "execution_count": 76,
      "outputs": [
        {
          "output_type": "stream",
          "name": "stdout",
          "text": [
            "<class 'pandas.core.frame.DataFrame'>\n",
            "DatetimeIndex: 1726 entries, 2015-11-09 to 2022-11-04\n",
            "Data columns (total 2 columns):\n",
            " #   Column       Non-Null Count  Dtype  \n",
            "---  ------       --------------  -----  \n",
            " 0   Date         1726 non-null   object \n",
            " 1   Close_Price  1726 non-null   float64\n",
            "dtypes: float64(1), object(1)\n",
            "memory usage: 40.5+ KB\n"
          ]
        }
      ]
    },
    {
      "cell_type": "code",
      "source": [
        "# Convert Date column to integer\n",
        "df_stock['Date'] = df_stock['Date'].astype('int64')"
      ],
      "metadata": {
        "id": "INEaquoI9XgI"
      },
      "execution_count": 77,
      "outputs": []
    },
    {
      "cell_type": "code",
      "source": [
        "df_stock.info()"
      ],
      "metadata": {
        "colab": {
          "base_uri": "https://localhost:8080/"
        },
        "id": "Zhb4-Bfi9l7x",
        "outputId": "324fbd8f-d5ca-4bf8-e96a-8363417daf07"
      },
      "execution_count": 78,
      "outputs": [
        {
          "output_type": "stream",
          "name": "stdout",
          "text": [
            "<class 'pandas.core.frame.DataFrame'>\n",
            "DatetimeIndex: 1726 entries, 2015-11-09 to 2022-11-04\n",
            "Data columns (total 2 columns):\n",
            " #   Column       Non-Null Count  Dtype  \n",
            "---  ------       --------------  -----  \n",
            " 0   Date         1726 non-null   int64  \n",
            " 1   Close_Price  1726 non-null   float64\n",
            "dtypes: float64(1), int64(1)\n",
            "memory usage: 40.5 KB\n"
          ]
        }
      ]
    },
    {
      "cell_type": "markdown",
      "source": [
        "**Finding Outliers and Treatment**"
      ],
      "metadata": {
        "id": "42PhAPQZY3WH"
      }
    },
    {
      "cell_type": "code",
      "execution_count": 79,
      "metadata": {
        "colab": {
          "base_uri": "https://localhost:8080/",
          "height": 172
        },
        "id": "5351743f",
        "outputId": "304d77fd-a0bb-41de-c2c8-c8d4a65d8573"
      },
      "outputs": [
        {
          "output_type": "display_data",
          "data": {
            "text/plain": [
              "<Figure size 720x144 with 1 Axes>"
            ],
            "image/png": "[encoded data removed]"
          },
          "metadata": {
            "needs_background": "light"
          }
        }
      ],
      "source": [
        "# Boxplot\n",
        "plt.figure(figsize=(10,2))\n",
        "ax = sns.boxplot(x=df_stock['Close_Price'],whis=1.5,data=df_stock)"
      ]
    },
    {
      "cell_type": "markdown",
      "source": [
        "Insight: No outliers in the dataset"
      ],
      "metadata": {
        "id": "rcDDIIlWZJBT"
      }
    },
    {
      "cell_type": "markdown",
      "metadata": {
        "id": "eefb71ed"
      },
      "source": [
        "**Data Visualizations**"
      ]
    },
    {
      "cell_type": "markdown",
      "metadata": {
        "id": "d3c6b96b"
      },
      "source": [
        "**Histogram**"
      ]
    },
    {
      "cell_type": "code",
      "execution_count": 80,
      "metadata": {
        "colab": {
          "base_uri": "https://localhost:8080/",
          "height": 298
        },
        "id": "c8ea6f86",
        "outputId": "d4d6118c-c0ae-4764-fdcf-b889dcb16ccc"
      },
      "outputs": [
        {
          "output_type": "display_data",
          "data": {
            "text/plain": [
              "<Figure size 576x288 with 0 Axes>"
            ]
          },
          "metadata": {}
        },
        {
          "output_type": "display_data",
          "data": {
            "text/plain": [
              "<Figure size 432x288 with 1 Axes>"
            ],
            "image/png": "[encoded data removed]"
          },
          "metadata": {
            "needs_background": "light"
          }
        }
      ],
      "source": [
        "plt.figure(figsize=(8,4))\n",
        "df_stock.hist(\"Close_Price\")\n",
        "plt.show()"
      ]
    },
    {
      "cell_type": "markdown",
      "metadata": {
        "id": "364eb876"
      },
      "source": [
        "**Density Plot**"
      ]
    },
    {
      "cell_type": "code",
      "execution_count": 81,
      "metadata": {
        "colab": {
          "base_uri": "https://localhost:8080/",
          "height": 320
        },
        "id": "155a5528",
        "outputId": "3c12131b-ddda-40b1-8c02-2afe391d51b5"
      },
      "outputs": [
        {
          "output_type": "display_data",
          "data": {
            "text/plain": [
              "<Figure size 720x360 with 1 Axes>"
            ],
            "image/png": "[encoded data removed]"
          },
          "metadata": {
            "needs_background": "light"
          }
        }
      ],
      "source": [
        "plt.figure(figsize=(10,5))\n",
        "df_stock[\"Close_Price\"].plot(kind='kde')\n",
        "plt.show()"
      ]
    },
    {
      "cell_type": "markdown",
      "source": [
        "**Scatter Plot**"
      ],
      "metadata": {
        "id": "A9-sE2wp9Zvx"
      }
    },
    {
      "cell_type": "code",
      "execution_count": 82,
      "metadata": {
        "colab": {
          "base_uri": "https://localhost:8080/",
          "height": 318
        },
        "id": "15d6af7f",
        "outputId": "590710d0-d93c-4d43-eefa-7e121410474c"
      },
      "outputs": [
        {
          "output_type": "display_data",
          "data": {
            "text/plain": [
              "<Figure size 720x360 with 1 Axes>"
            ],
            "image/png": "[encoded data removed]"
          },
          "metadata": {
            "needs_background": "light"
          }
        }
      ],
      "source": [
        "plt.figure(figsize=(10,5))\n",
        "df_stock['Close_Price'].plot()\n",
        "plt.show()"
      ]
    },
    {
      "cell_type": "markdown",
      "metadata": {
        "id": "6c2184fa"
      },
      "source": [
        "Insight: Trend is upword or positive. Seasonality can be observed slightly."
      ]
    },
    {
      "cell_type": "markdown",
      "metadata": {
        "id": "947892aa"
      },
      "source": [
        "**Correlation between variables**"
      ]
    },
    {
      "cell_type": "code",
      "source": [
        "df_stock.corr()"
      ],
      "metadata": {
        "colab": {
          "base_uri": "https://localhost:8080/",
          "height": 112
        },
        "id": "wnhINctABhdC",
        "outputId": "b6d81e30-4488-47fa-fd64-ff5fb3e56c2f"
      },
      "execution_count": 83,
      "outputs": [
        {
          "output_type": "execute_result",
          "data": {
            "text/plain": [
              "                 Date  Close_Price\n",
              "Date         1.000000     0.830831\n",
              "Close_Price  0.830831     1.000000"
            ],
            "text/html": [
              "\n",
              "  <div id=\"df-ce6b8f0f-e61d-4f50-845a-cec6eaed2297\">\n",
              "    <div class=\"colab-df-container\">\n",
              "      <div>\n",
              "<style scoped>\n",
              "    .dataframe tbody tr th:only-of-type {\n",
              "        vertical-align: middle;\n",
              "    }\n",
              "\n",
              "    .dataframe tbody tr th {\n",
              "        vertical-align: top;\n",
              "    }\n",
              "\n",
              "    .dataframe thead th {\n",
              "        text-align: right;\n",
              "    }\n",
              "</style>\n",
              "<table border=\"1\" class=\"dataframe\">\n",
              "  <thead>\n",
              "    <tr style=\"text-align: right;\">\n",
              "      <th></th>\n",
              "      <th>Date</th>\n",
              "      <th>Close_Price</th>\n",
              "    </tr>\n",
              "  </thead>\n",
              "  <tbody>\n",
              "    <tr>\n",
              "      <th>Date</th>\n",
              "      <td>1.000000</td>\n",
              "      <td>0.830831</td>\n",
              "    </tr>\n",
              "    <tr>\n",
              "      <th>Close_Price</th>\n",
              "      <td>0.830831</td>\n",
              "      <td>1.000000</td>\n",
              "    </tr>\n",
              "  </tbody>\n",
              "</table>\n",
              "</div>\n",
              "      <button class=\"colab-df-convert\" onclick=\"convertToInteractive('df-ce6b8f0f-e61d-4f50-845a-cec6eaed2297')\"\n",
              "              title=\"Convert this dataframe to an interactive table.\"\n",
              "              style=\"display:none;\">\n",
              "        \n",
              "  <svg xmlns=\"http://www.w3.org/2000/svg\" height=\"24px\"viewBox=\"0 0 24 24\"\n",
              "       width=\"24px\">\n",
              "    <path d=\"M0 0h24v24H0V0z\" fill=\"none\"/>\n",
              "    <path d=\"M18.56 5.44l.94 2.06.94-2.06 2.06-.94-2.06-.94-.94-2.06-.94 2.06-2.06.94zm-11 1L8.5 8.5l.94-2.06 2.06-.94-2.06-.94L8.5 2.5l-.94 2.06-2.06.94zm10 10l.94 2.06.94-2.06 2.06-.94-2.06-.94-.94-2.06-.94 2.06-2.06.94z\"/><path d=\"M17.41 7.96l-1.37-1.37c-.4-.4-.92-.59-1.43-.59-.52 0-1.04.2-1.43.59L10.3 9.45l-7.72 7.72c-.78.78-.78 2.05 0 2.83L4 21.41c.39.39.9.59 1.41.59.51 0 1.02-.2 1.41-.59l7.78-7.78 2.81-2.81c.8-.78.8-2.07 0-2.86zM5.41 20L4 18.59l7.72-7.72 1.47 1.35L5.41 20z\"/>\n",
              "  </svg>\n",
              "      </button>\n",
              "      \n",
              "  <style>\n",
              "    .colab-df-container {\n",
              "      display:flex;\n",
              "      flex-wrap:wrap;\n",
              "      gap: 12px;\n",
              "    }\n",
              "\n",
              "    .colab-df-convert {\n",
              "      background-color: #E8F0FE;\n",
              "      border: none;\n",
              "      border-radius: 50%;\n",
              "      cursor: pointer;\n",
              "      display: none;\n",
              "      fill: #1967D2;\n",
              "      height: 32px;\n",
              "      padding: 0 0 0 0;\n",
              "      width: 32px;\n",
              "    }\n",
              "\n",
              "    .colab-df-convert:hover {\n",
              "      background-color: #E2EBFA;\n",
              "      box-shadow: 0px 1px 2px rgba(60, 64, 67, 0.3), 0px 1px 3px 1px rgba(60, 64, 67, 0.15);\n",
              "      fill: #174EA6;\n",
              "    }\n",
              "\n",
              "    [theme=dark] .colab-df-convert {\n",
              "      background-color: #3B4455;\n",
              "      fill: #D2E3FC;\n",
              "    }\n",
              "\n",
              "    [theme=dark] .colab-df-convert:hover {\n",
              "      background-color: #434B5C;\n",
              "      box-shadow: 0px 1px 3px 1px rgba(0, 0, 0, 0.15);\n",
              "      filter: drop-shadow(0px 1px 2px rgba(0, 0, 0, 0.3));\n",
              "      fill: #FFFFFF;\n",
              "    }\n",
              "  </style>\n",
              "\n",
              "      <script>\n",
              "        const buttonEl =\n",
              "          document.querySelector('#df-ce6b8f0f-e61d-4f50-845a-cec6eaed2297 button.colab-df-convert');\n",
              "        buttonEl.style.display =\n",
              "          google.colab.kernel.accessAllowed ? 'block' : 'none';\n",
              "\n",
              "        async function convertToInteractive(key) {\n",
              "          const element = document.querySelector('#df-ce6b8f0f-e61d-4f50-845a-cec6eaed2297');\n",
              "          const dataTable =\n",
              "            await google.colab.kernel.invokeFunction('convertToInteractive',\n",
              "                                                     [key], {});\n",
              "          if (!dataTable) return;\n",
              "\n",
              "          const docLinkHtml = 'Like what you see? Visit the ' +\n",
              "            '<a target=\"_blank\" href=https://colab.research.google.com/notebooks/data_table.ipynb>data table notebook</a>'\n",
              "            + ' to learn more about interactive tables.';\n",
              "          element.innerHTML = '';\n",
              "          dataTable['output_type'] = 'display_data';\n",
              "          await google.colab.output.renderOutput(dataTable, element);\n",
              "          const docLink = document.createElement('div');\n",
              "          docLink.innerHTML = docLinkHtml;\n",
              "          element.appendChild(docLink);\n",
              "        }\n",
              "      </script>\n",
              "    </div>\n",
              "  </div>\n",
              "  "
            ]
          },
          "metadata": {},
          "execution_count": 83
        }
      ]
    },
    {
      "cell_type": "code",
      "execution_count": 84,
      "metadata": {
        "colab": {
          "base_uri": "https://localhost:8080/",
          "height": 391
        },
        "id": "3257684f",
        "outputId": "5b7e406a-6fbe-4244-c2d8-28e5a21985f6"
      },
      "outputs": [
        {
          "output_type": "execute_result",
          "data": {
            "text/plain": [
              "<seaborn.axisgrid.PairGrid at 0x7f4235267fd0>"
            ]
          },
          "metadata": {},
          "execution_count": 84
        },
        {
          "output_type": "display_data",
          "data": {
            "text/plain": [
              "<Figure size 360x360 with 6 Axes>"
            ],
            "image/png": "[encoded data removed]"
          },
          "metadata": {
            "needs_background": "light"
          }
        }
      ],
      "source": [
        "sns.pairplot(df_stock)"
      ]
    },
    {
      "cell_type": "markdown",
      "metadata": {
        "id": "7c6473d5"
      },
      "source": [
        "Final Conclusion: Have significant relationship exists between Data and Close_Price"
      ]
    },
    {
      "cell_type": "markdown",
      "source": [
        "**Analysis and Splitting of Data into Train and Test**"
      ],
      "metadata": {
        "id": "O5UxGFIn93S1"
      }
    },
    {
      "cell_type": "code",
      "source": [
        "df_stock.tail(19)"
      ],
      "metadata": {
        "id": "PWnezhb58xpO",
        "colab": {
          "base_uri": "https://localhost:8080/",
          "height": 677
        },
        "outputId": "0c81347e-05bd-4b0b-a704-7a93d4f26e13"
      },
      "execution_count": 85,
      "outputs": [
        {
          "output_type": "execute_result",
          "data": {
            "text/plain": [
              "                Date  Close_Price\n",
              "Date                             \n",
              "2022-10-06  20221006       788.60\n",
              "2022-10-07  20221007       793.10\n",
              "2022-10-10  20221010       792.35\n",
              "2022-10-11  20221011       780.30\n",
              "2022-10-12  20221012       775.55\n",
              "2022-10-13  20221013       768.90\n",
              "2022-10-14  20221014       765.95\n",
              "2022-10-17  20221017       766.00\n",
              "2022-10-18  20221018       783.15\n",
              "2022-10-19  20221019       783.40\n",
              "2022-10-20  20221020       792.90\n",
              "2022-10-21  20221021       797.45\n",
              "2022-10-24  20221024       802.10\n",
              "2022-10-25  20221025       802.30\n",
              "2022-10-27  20221027       817.10\n",
              "2022-10-28  20221028       816.85\n",
              "2022-10-31  20221031       832.00\n",
              "2022-11-03  20221103       818.65\n",
              "2022-11-04  20221104       816.40"
            ],
            "text/html": [
              "\n",
              "  <div id=\"df-9733b50b-a1ed-4c39-8338-65cbb266bb50\">\n",
              "    <div class=\"colab-df-container\">\n",
              "      <div>\n",
              "<style scoped>\n",
              "    .dataframe tbody tr th:only-of-type {\n",
              "        vertical-align: middle;\n",
              "    }\n",
              "\n",
              "    .dataframe tbody tr th {\n",
              "        vertical-align: top;\n",
              "    }\n",
              "\n",
              "    .dataframe thead th {\n",
              "        text-align: right;\n",
              "    }\n",
              "</style>\n",
              "<table border=\"1\" class=\"dataframe\">\n",
              "  <thead>\n",
              "    <tr style=\"text-align: right;\">\n",
              "      <th></th>\n",
              "      <th>Date</th>\n",
              "      <th>Close_Price</th>\n",
              "    </tr>\n",
              "    <tr>\n",
              "      <th>Date</th>\n",
              "      <th></th>\n",
              "      <th></th>\n",
              "    </tr>\n",
              "  </thead>\n",
              "  <tbody>\n",
              "    <tr>\n",
              "      <th>2022-10-06</th>\n",
              "      <td>20221006</td>\n",
              "      <td>788.60</td>\n",
              "    </tr>\n",
              "    <tr>\n",
              "      <th>2022-10-07</th>\n",
              "      <td>20221007</td>\n",
              "      <td>793.10</td>\n",
              "    </tr>\n",
              "    <tr>\n",
              "      <th>2022-10-10</th>\n",
              "      <td>20221010</td>\n",
              "      <td>792.35</td>\n",
              "    </tr>\n",
              "    <tr>\n",
              "      <th>2022-10-11</th>\n",
              "      <td>20221011</td>\n",
              "      <td>780.30</td>\n",
              "    </tr>\n",
              "    <tr>\n",
              "      <th>2022-10-12</th>\n",
              "      <td>20221012</td>\n",
              "      <td>775.55</td>\n",
              "    </tr>\n",
              "    <tr>\n",
              "      <th>2022-10-13</th>\n",
              "      <td>20221013</td>\n",
              "      <td>768.90</td>\n",
              "    </tr>\n",
              "    <tr>\n",
              "      <th>2022-10-14</th>\n",
              "      <td>20221014</td>\n",
              "      <td>765.95</td>\n",
              "    </tr>\n",
              "    <tr>\n",
              "      <th>2022-10-17</th>\n",
              "      <td>20221017</td>\n",
              "      <td>766.00</td>\n",
              "    </tr>\n",
              "    <tr>\n",
              "      <th>2022-10-18</th>\n",
              "      <td>20221018</td>\n",
              "      <td>783.15</td>\n",
              "    </tr>\n",
              "    <tr>\n",
              "      <th>2022-10-19</th>\n",
              "      <td>20221019</td>\n",
              "      <td>783.40</td>\n",
              "    </tr>\n",
              "    <tr>\n",
              "      <th>2022-10-20</th>\n",
              "      <td>20221020</td>\n",
              "      <td>792.90</td>\n",
              "    </tr>\n",
              "    <tr>\n",
              "      <th>2022-10-21</th>\n",
              "      <td>20221021</td>\n",
              "      <td>797.45</td>\n",
              "    </tr>\n",
              "    <tr>\n",
              "      <th>2022-10-24</th>\n",
              "      <td>20221024</td>\n",
              "      <td>802.10</td>\n",
              "    </tr>\n",
              "    <tr>\n",
              "      <th>2022-10-25</th>\n",
              "      <td>20221025</td>\n",
              "      <td>802.30</td>\n",
              "    </tr>\n",
              "    <tr>\n",
              "      <th>2022-10-27</th>\n",
              "      <td>20221027</td>\n",
              "      <td>817.10</td>\n",
              "    </tr>\n",
              "    <tr>\n",
              "      <th>2022-10-28</th>\n",
              "      <td>20221028</td>\n",
              "      <td>816.85</td>\n",
              "    </tr>\n",
              "    <tr>\n",
              "      <th>2022-10-31</th>\n",
              "      <td>20221031</td>\n",
              "      <td>832.00</td>\n",
              "    </tr>\n",
              "    <tr>\n",
              "      <th>2022-11-03</th>\n",
              "      <td>20221103</td>\n",
              "      <td>818.65</td>\n",
              "    </tr>\n",
              "    <tr>\n",
              "      <th>2022-11-04</th>\n",
              "      <td>20221104</td>\n",
              "      <td>816.40</td>\n",
              "    </tr>\n",
              "  </tbody>\n",
              "</table>\n",
              "</div>\n",
              "      <button class=\"colab-df-convert\" onclick=\"convertToInteractive('df-9733b50b-a1ed-4c39-8338-65cbb266bb50')\"\n",
              "              title=\"Convert this dataframe to an interactive table.\"\n",
              "              style=\"display:none;\">\n",
              "        \n",
              "  <svg xmlns=\"http://www.w3.org/2000/svg\" height=\"24px\"viewBox=\"0 0 24 24\"\n",
              "       width=\"24px\">\n",
              "    <path d=\"M0 0h24v24H0V0z\" fill=\"none\"/>\n",
              "    <path d=\"M18.56 5.44l.94 2.06.94-2.06 2.06-.94-2.06-.94-.94-2.06-.94 2.06-2.06.94zm-11 1L8.5 8.5l.94-2.06 2.06-.94-2.06-.94L8.5 2.5l-.94 2.06-2.06.94zm10 10l.94 2.06.94-2.06 2.06-.94-2.06-.94-.94-2.06-.94 2.06-2.06.94z\"/><path d=\"M17.41 7.96l-1.37-1.37c-.4-.4-.92-.59-1.43-.59-.52 0-1.04.2-1.43.59L10.3 9.45l-7.72 7.72c-.78.78-.78 2.05 0 2.83L4 21.41c.39.39.9.59 1.41.59.51 0 1.02-.2 1.41-.59l7.78-7.78 2.81-2.81c.8-.78.8-2.07 0-2.86zM5.41 20L4 18.59l7.72-7.72 1.47 1.35L5.41 20z\"/>\n",
              "  </svg>\n",
              "      </button>\n",
              "      \n",
              "  <style>\n",
              "    .colab-df-container {\n",
              "      display:flex;\n",
              "      flex-wrap:wrap;\n",
              "      gap: 12px;\n",
              "    }\n",
              "\n",
              "    .colab-df-convert {\n",
              "      background-color: #E8F0FE;\n",
              "      border: none;\n",
              "      border-radius: 50%;\n",
              "      cursor: pointer;\n",
              "      display: none;\n",
              "      fill: #1967D2;\n",
              "      height: 32px;\n",
              "      padding: 0 0 0 0;\n",
              "      width: 32px;\n",
              "    }\n",
              "\n",
              "    .colab-df-convert:hover {\n",
              "      background-color: #E2EBFA;\n",
              "      box-shadow: 0px 1px 2px rgba(60, 64, 67, 0.3), 0px 1px 3px 1px rgba(60, 64, 67, 0.15);\n",
              "      fill: #174EA6;\n",
              "    }\n",
              "\n",
              "    [theme=dark] .colab-df-convert {\n",
              "      background-color: #3B4455;\n",
              "      fill: #D2E3FC;\n",
              "    }\n",
              "\n",
              "    [theme=dark] .colab-df-convert:hover {\n",
              "      background-color: #434B5C;\n",
              "      box-shadow: 0px 1px 3px 1px rgba(0, 0, 0, 0.15);\n",
              "      filter: drop-shadow(0px 1px 2px rgba(0, 0, 0, 0.3));\n",
              "      fill: #FFFFFF;\n",
              "    }\n",
              "  </style>\n",
              "\n",
              "      <script>\n",
              "        const buttonEl =\n",
              "          document.querySelector('#df-9733b50b-a1ed-4c39-8338-65cbb266bb50 button.colab-df-convert');\n",
              "        buttonEl.style.display =\n",
              "          google.colab.kernel.accessAllowed ? 'block' : 'none';\n",
              "\n",
              "        async function convertToInteractive(key) {\n",
              "          const element = document.querySelector('#df-9733b50b-a1ed-4c39-8338-65cbb266bb50');\n",
              "          const dataTable =\n",
              "            await google.colab.kernel.invokeFunction('convertToInteractive',\n",
              "                                                     [key], {});\n",
              "          if (!dataTable) return;\n",
              "\n",
              "          const docLinkHtml = 'Like what you see? Visit the ' +\n",
              "            '<a target=\"_blank\" href=https://colab.research.google.com/notebooks/data_table.ipynb>data table notebook</a>'\n",
              "            + ' to learn more about interactive tables.';\n",
              "          element.innerHTML = '';\n",
              "          dataTable['output_type'] = 'display_data';\n",
              "          await google.colab.output.renderOutput(dataTable, element);\n",
              "          const docLink = document.createElement('div');\n",
              "          docLink.innerHTML = docLinkHtml;\n",
              "          element.appendChild(docLink);\n",
              "        }\n",
              "      </script>\n",
              "    </div>\n",
              "  </div>\n",
              "  "
            ]
          },
          "metadata": {},
          "execution_count": 85
        }
      ]
    },
    {
      "cell_type": "code",
      "source": [
        "# We can use one month data for predicting/forecasting. Timeseries data may not do perfectly too long predictions \n",
        "# Actual values varies on a lot of other reasons other than momentum.\n",
        "n=19\n",
        "split_at = len(df_stock)-n\n",
        "print ('splitting the dataset at: ', split_at)\n",
        "\n",
        "df_stock_train = df_stock.iloc[0:split_at, :]\n",
        "df_stock_test = df_stock.iloc[split_at:, :]\n",
        "\n",
        "# Create separate train dataset for Arima use since we append data while forecasting\n",
        "df_stock_train_arima = df_stock.iloc[0:split_at, :]"
      ],
      "metadata": {
        "id": "7FwWlqIaDG_H",
        "colab": {
          "base_uri": "https://localhost:8080/"
        },
        "outputId": "b2d6faf3-be1c-46ae-fe39-d4dc41c65709"
      },
      "execution_count": 86,
      "outputs": [
        {
          "output_type": "stream",
          "name": "stdout",
          "text": [
            "splitting the dataset at:  1707\n"
          ]
        }
      ]
    },
    {
      "cell_type": "code",
      "source": [
        "print(df_stock_train.info())\n",
        "print(df_stock_train_arima.info())\n",
        "print(df_stock_test.info())"
      ],
      "metadata": {
        "colab": {
          "base_uri": "https://localhost:8080/"
        },
        "id": "7EXmDJJODFC4",
        "outputId": "12b86020-81ef-4778-dccc-d5aa3c543b07"
      },
      "execution_count": 87,
      "outputs": [
        {
          "output_type": "stream",
          "name": "stdout",
          "text": [
            "<class 'pandas.core.frame.DataFrame'>\n",
            "DatetimeIndex: 1707 entries, 2015-11-09 to 2022-10-04\n",
            "Data columns (total 2 columns):\n",
            " #   Column       Non-Null Count  Dtype  \n",
            "---  ------       --------------  -----  \n",
            " 0   Date         1707 non-null   int64  \n",
            " 1   Close_Price  1707 non-null   float64\n",
            "dtypes: float64(1), int64(1)\n",
            "memory usage: 40.0 KB\n",
            "None\n",
            "<class 'pandas.core.frame.DataFrame'>\n",
            "DatetimeIndex: 1707 entries, 2015-11-09 to 2022-10-04\n",
            "Data columns (total 2 columns):\n",
            " #   Column       Non-Null Count  Dtype  \n",
            "---  ------       --------------  -----  \n",
            " 0   Date         1707 non-null   int64  \n",
            " 1   Close_Price  1707 non-null   float64\n",
            "dtypes: float64(1), int64(1)\n",
            "memory usage: 40.0 KB\n",
            "None\n",
            "<class 'pandas.core.frame.DataFrame'>\n",
            "DatetimeIndex: 19 entries, 2022-10-06 to 2022-11-04\n",
            "Data columns (total 2 columns):\n",
            " #   Column       Non-Null Count  Dtype  \n",
            "---  ------       --------------  -----  \n",
            " 0   Date         19 non-null     int64  \n",
            " 1   Close_Price  19 non-null     float64\n",
            "dtypes: float64(1), int64(1)\n",
            "memory usage: 456.0 bytes\n",
            "None\n"
          ]
        }
      ]
    },
    {
      "cell_type": "code",
      "source": [
        "df_stock_train.tail()"
      ],
      "metadata": {
        "colab": {
          "base_uri": "https://localhost:8080/",
          "height": 238
        },
        "id": "htbHTC2aD17Y",
        "outputId": "7d84a48a-1a8f-4148-efad-93157c11af77"
      },
      "execution_count": 88,
      "outputs": [
        {
          "output_type": "execute_result",
          "data": {
            "text/plain": [
              "                Date  Close_Price\n",
              "Date                             \n",
              "2022-09-28  20220928       761.45\n",
              "2022-09-29  20220929       764.65\n",
              "2022-09-30  20220930       799.90\n",
              "2022-10-03  20221003       803.35\n",
              "2022-10-04  20221004       808.70"
            ],
            "text/html": [
              "\n",
              "  <div id=\"df-78f95450-011d-4f44-9085-c6ef9fa1acff\">\n",
              "    <div class=\"colab-df-container\">\n",
              "      <div>\n",
              "<style scoped>\n",
              "    .dataframe tbody tr th:only-of-type {\n",
              "        vertical-align: middle;\n",
              "    }\n",
              "\n",
              "    .dataframe tbody tr th {\n",
              "        vertical-align: top;\n",
              "    }\n",
              "\n",
              "    .dataframe thead th {\n",
              "        text-align: right;\n",
              "    }\n",
              "</style>\n",
              "<table border=\"1\" class=\"dataframe\">\n",
              "  <thead>\n",
              "    <tr style=\"text-align: right;\">\n",
              "      <th></th>\n",
              "      <th>Date</th>\n",
              "      <th>Close_Price</th>\n",
              "    </tr>\n",
              "    <tr>\n",
              "      <th>Date</th>\n",
              "      <th></th>\n",
              "      <th></th>\n",
              "    </tr>\n",
              "  </thead>\n",
              "  <tbody>\n",
              "    <tr>\n",
              "      <th>2022-09-28</th>\n",
              "      <td>20220928</td>\n",
              "      <td>761.45</td>\n",
              "    </tr>\n",
              "    <tr>\n",
              "      <th>2022-09-29</th>\n",
              "      <td>20220929</td>\n",
              "      <td>764.65</td>\n",
              "    </tr>\n",
              "    <tr>\n",
              "      <th>2022-09-30</th>\n",
              "      <td>20220930</td>\n",
              "      <td>799.90</td>\n",
              "    </tr>\n",
              "    <tr>\n",
              "      <th>2022-10-03</th>\n",
              "      <td>20221003</td>\n",
              "      <td>803.35</td>\n",
              "    </tr>\n",
              "    <tr>\n",
              "      <th>2022-10-04</th>\n",
              "      <td>20221004</td>\n",
              "      <td>808.70</td>\n",
              "    </tr>\n",
              "  </tbody>\n",
              "</table>\n",
              "</div>\n",
              "      <button class=\"colab-df-convert\" onclick=\"convertToInteractive('df-78f95450-011d-4f44-9085-c6ef9fa1acff')\"\n",
              "              title=\"Convert this dataframe to an interactive table.\"\n",
              "              style=\"display:none;\">\n",
              "        \n",
              "  <svg xmlns=\"http://www.w3.org/2000/svg\" height=\"24px\"viewBox=\"0 0 24 24\"\n",
              "       width=\"24px\">\n",
              "    <path d=\"M0 0h24v24H0V0z\" fill=\"none\"/>\n",
              "    <path d=\"M18.56 5.44l.94 2.06.94-2.06 2.06-.94-2.06-.94-.94-2.06-.94 2.06-2.06.94zm-11 1L8.5 8.5l.94-2.06 2.06-.94-2.06-.94L8.5 2.5l-.94 2.06-2.06.94zm10 10l.94 2.06.94-2.06 2.06-.94-2.06-.94-.94-2.06-.94 2.06-2.06.94z\"/><path d=\"M17.41 7.96l-1.37-1.37c-.4-.4-.92-.59-1.43-.59-.52 0-1.04.2-1.43.59L10.3 9.45l-7.72 7.72c-.78.78-.78 2.05 0 2.83L4 21.41c.39.39.9.59 1.41.59.51 0 1.02-.2 1.41-.59l7.78-7.78 2.81-2.81c.8-.78.8-2.07 0-2.86zM5.41 20L4 18.59l7.72-7.72 1.47 1.35L5.41 20z\"/>\n",
              "  </svg>\n",
              "      </button>\n",
              "      \n",
              "  <style>\n",
              "    .colab-df-container {\n",
              "      display:flex;\n",
              "      flex-wrap:wrap;\n",
              "      gap: 12px;\n",
              "    }\n",
              "\n",
              "    .colab-df-convert {\n",
              "      background-color: #E8F0FE;\n",
              "      border: none;\n",
              "      border-radius: 50%;\n",
              "      cursor: pointer;\n",
              "      display: none;\n",
              "      fill: #1967D2;\n",
              "      height: 32px;\n",
              "      padding: 0 0 0 0;\n",
              "      width: 32px;\n",
              "    }\n",
              "\n",
              "    .colab-df-convert:hover {\n",
              "      background-color: #E2EBFA;\n",
              "      box-shadow: 0px 1px 2px rgba(60, 64, 67, 0.3), 0px 1px 3px 1px rgba(60, 64, 67, 0.15);\n",
              "      fill: #174EA6;\n",
              "    }\n",
              "\n",
              "    [theme=dark] .colab-df-convert {\n",
              "      background-color: #3B4455;\n",
              "      fill: #D2E3FC;\n",
              "    }\n",
              "\n",
              "    [theme=dark] .colab-df-convert:hover {\n",
              "      background-color: #434B5C;\n",
              "      box-shadow: 0px 1px 3px 1px rgba(0, 0, 0, 0.15);\n",
              "      filter: drop-shadow(0px 1px 2px rgba(0, 0, 0, 0.3));\n",
              "      fill: #FFFFFF;\n",
              "    }\n",
              "  </style>\n",
              "\n",
              "      <script>\n",
              "        const buttonEl =\n",
              "          document.querySelector('#df-78f95450-011d-4f44-9085-c6ef9fa1acff button.colab-df-convert');\n",
              "        buttonEl.style.display =\n",
              "          google.colab.kernel.accessAllowed ? 'block' : 'none';\n",
              "\n",
              "        async function convertToInteractive(key) {\n",
              "          const element = document.querySelector('#df-78f95450-011d-4f44-9085-c6ef9fa1acff');\n",
              "          const dataTable =\n",
              "            await google.colab.kernel.invokeFunction('convertToInteractive',\n",
              "                                                     [key], {});\n",
              "          if (!dataTable) return;\n",
              "\n",
              "          const docLinkHtml = 'Like what you see? Visit the ' +\n",
              "            '<a target=\"_blank\" href=https://colab.research.google.com/notebooks/data_table.ipynb>data table notebook</a>'\n",
              "            + ' to learn more about interactive tables.';\n",
              "          element.innerHTML = '';\n",
              "          dataTable['output_type'] = 'display_data';\n",
              "          await google.colab.output.renderOutput(dataTable, element);\n",
              "          const docLink = document.createElement('div');\n",
              "          docLink.innerHTML = docLinkHtml;\n",
              "          element.appendChild(docLink);\n",
              "        }\n",
              "      </script>\n",
              "    </div>\n",
              "  </div>\n",
              "  "
            ]
          },
          "metadata": {},
          "execution_count": 88
        }
      ]
    },
    {
      "cell_type": "code",
      "source": [
        "df_stock_test.head()"
      ],
      "metadata": {
        "colab": {
          "base_uri": "https://localhost:8080/",
          "height": 238
        },
        "id": "69I_URQ3EHaS",
        "outputId": "7fbefee3-77fd-4034-f0d5-5b2d6a3fdf90"
      },
      "execution_count": 89,
      "outputs": [
        {
          "output_type": "execute_result",
          "data": {
            "text/plain": [
              "                Date  Close_Price\n",
              "Date                             \n",
              "2022-10-06  20221006       788.60\n",
              "2022-10-07  20221007       793.10\n",
              "2022-10-10  20221010       792.35\n",
              "2022-10-11  20221011       780.30\n",
              "2022-10-12  20221012       775.55"
            ],
            "text/html": [
              "\n",
              "  <div id=\"df-ddf5f7a9-1ebe-4794-82d3-84c6f1ab32e9\">\n",
              "    <div class=\"colab-df-container\">\n",
              "      <div>\n",
              "<style scoped>\n",
              "    .dataframe tbody tr th:only-of-type {\n",
              "        vertical-align: middle;\n",
              "    }\n",
              "\n",
              "    .dataframe tbody tr th {\n",
              "        vertical-align: top;\n",
              "    }\n",
              "\n",
              "    .dataframe thead th {\n",
              "        text-align: right;\n",
              "    }\n",
              "</style>\n",
              "<table border=\"1\" class=\"dataframe\">\n",
              "  <thead>\n",
              "    <tr style=\"text-align: right;\">\n",
              "      <th></th>\n",
              "      <th>Date</th>\n",
              "      <th>Close_Price</th>\n",
              "    </tr>\n",
              "    <tr>\n",
              "      <th>Date</th>\n",
              "      <th></th>\n",
              "      <th></th>\n",
              "    </tr>\n",
              "  </thead>\n",
              "  <tbody>\n",
              "    <tr>\n",
              "      <th>2022-10-06</th>\n",
              "      <td>20221006</td>\n",
              "      <td>788.60</td>\n",
              "    </tr>\n",
              "    <tr>\n",
              "      <th>2022-10-07</th>\n",
              "      <td>20221007</td>\n",
              "      <td>793.10</td>\n",
              "    </tr>\n",
              "    <tr>\n",
              "      <th>2022-10-10</th>\n",
              "      <td>20221010</td>\n",
              "      <td>792.35</td>\n",
              "    </tr>\n",
              "    <tr>\n",
              "      <th>2022-10-11</th>\n",
              "      <td>20221011</td>\n",
              "      <td>780.30</td>\n",
              "    </tr>\n",
              "    <tr>\n",
              "      <th>2022-10-12</th>\n",
              "      <td>20221012</td>\n",
              "      <td>775.55</td>\n",
              "    </tr>\n",
              "  </tbody>\n",
              "</table>\n",
              "</div>\n",
              "      <button class=\"colab-df-convert\" onclick=\"convertToInteractive('df-ddf5f7a9-1ebe-4794-82d3-84c6f1ab32e9')\"\n",
              "              title=\"Convert this dataframe to an interactive table.\"\n",
              "              style=\"display:none;\">\n",
              "        \n",
              "  <svg xmlns=\"http://www.w3.org/2000/svg\" height=\"24px\"viewBox=\"0 0 24 24\"\n",
              "       width=\"24px\">\n",
              "    <path d=\"M0 0h24v24H0V0z\" fill=\"none\"/>\n",
              "    <path d=\"M18.56 5.44l.94 2.06.94-2.06 2.06-.94-2.06-.94-.94-2.06-.94 2.06-2.06.94zm-11 1L8.5 8.5l.94-2.06 2.06-.94-2.06-.94L8.5 2.5l-.94 2.06-2.06.94zm10 10l.94 2.06.94-2.06 2.06-.94-2.06-.94-.94-2.06-.94 2.06-2.06.94z\"/><path d=\"M17.41 7.96l-1.37-1.37c-.4-.4-.92-.59-1.43-.59-.52 0-1.04.2-1.43.59L10.3 9.45l-7.72 7.72c-.78.78-.78 2.05 0 2.83L4 21.41c.39.39.9.59 1.41.59.51 0 1.02-.2 1.41-.59l7.78-7.78 2.81-2.81c.8-.78.8-2.07 0-2.86zM5.41 20L4 18.59l7.72-7.72 1.47 1.35L5.41 20z\"/>\n",
              "  </svg>\n",
              "      </button>\n",
              "      \n",
              "  <style>\n",
              "    .colab-df-container {\n",
              "      display:flex;\n",
              "      flex-wrap:wrap;\n",
              "      gap: 12px;\n",
              "    }\n",
              "\n",
              "    .colab-df-convert {\n",
              "      background-color: #E8F0FE;\n",
              "      border: none;\n",
              "      border-radius: 50%;\n",
              "      cursor: pointer;\n",
              "      display: none;\n",
              "      fill: #1967D2;\n",
              "      height: 32px;\n",
              "      padding: 0 0 0 0;\n",
              "      width: 32px;\n",
              "    }\n",
              "\n",
              "    .colab-df-convert:hover {\n",
              "      background-color: #E2EBFA;\n",
              "      box-shadow: 0px 1px 2px rgba(60, 64, 67, 0.3), 0px 1px 3px 1px rgba(60, 64, 67, 0.15);\n",
              "      fill: #174EA6;\n",
              "    }\n",
              "\n",
              "    [theme=dark] .colab-df-convert {\n",
              "      background-color: #3B4455;\n",
              "      fill: #D2E3FC;\n",
              "    }\n",
              "\n",
              "    [theme=dark] .colab-df-convert:hover {\n",
              "      background-color: #434B5C;\n",
              "      box-shadow: 0px 1px 3px 1px rgba(0, 0, 0, 0.15);\n",
              "      filter: drop-shadow(0px 1px 2px rgba(0, 0, 0, 0.3));\n",
              "      fill: #FFFFFF;\n",
              "    }\n",
              "  </style>\n",
              "\n",
              "      <script>\n",
              "        const buttonEl =\n",
              "          document.querySelector('#df-ddf5f7a9-1ebe-4794-82d3-84c6f1ab32e9 button.colab-df-convert');\n",
              "        buttonEl.style.display =\n",
              "          google.colab.kernel.accessAllowed ? 'block' : 'none';\n",
              "\n",
              "        async function convertToInteractive(key) {\n",
              "          const element = document.querySelector('#df-ddf5f7a9-1ebe-4794-82d3-84c6f1ab32e9');\n",
              "          const dataTable =\n",
              "            await google.colab.kernel.invokeFunction('convertToInteractive',\n",
              "                                                     [key], {});\n",
              "          if (!dataTable) return;\n",
              "\n",
              "          const docLinkHtml = 'Like what you see? Visit the ' +\n",
              "            '<a target=\"_blank\" href=https://colab.research.google.com/notebooks/data_table.ipynb>data table notebook</a>'\n",
              "            + ' to learn more about interactive tables.';\n",
              "          element.innerHTML = '';\n",
              "          dataTable['output_type'] = 'display_data';\n",
              "          await google.colab.output.renderOutput(dataTable, element);\n",
              "          const docLink = document.createElement('div');\n",
              "          docLink.innerHTML = docLinkHtml;\n",
              "          element.appendChild(docLink);\n",
              "        }\n",
              "      </script>\n",
              "    </div>\n",
              "  </div>\n",
              "  "
            ]
          },
          "metadata": {},
          "execution_count": 89
        }
      ]
    },
    {
      "cell_type": "code",
      "source": [
        "df_stock_train_x = df_stock_train['Date']\n",
        "df_stock_train_y = df_stock_train['Close_Price']\n",
        "\n",
        "df_stock_train_array_x = df_stock_train_x.values.reshape(-1,1)\n",
        "df_stock_train_array_y = df_stock_train_y.values.reshape(-1,1)"
      ],
      "metadata": {
        "id": "6Chi2FYVU3At"
      },
      "execution_count": 90,
      "outputs": []
    },
    {
      "cell_type": "markdown",
      "source": [
        "## **Random Forest Regressor Model**"
      ],
      "metadata": {
        "id": "rLlJLPKEPts9"
      }
    },
    {
      "cell_type": "code",
      "source": [
        "rf_model = RandomForestRegressor(n_estimators = 300, max_depth = 7, \n",
        "                                 random_state = 18)\n",
        "rf_model.fit(df_stock_train_array_x, df_stock_train_array_y)"
      ],
      "metadata": {
        "colab": {
          "base_uri": "https://localhost:8080/"
        },
        "id": "Bj1fNvo0Qymw",
        "outputId": "20f772d9-92a4-4fc0-9693-a8ce1f1836e5"
      },
      "execution_count": 91,
      "outputs": [
        {
          "output_type": "execute_result",
          "data": {
            "text/plain": [
              "RandomForestRegressor(max_depth=7, n_estimators=300, random_state=18)"
            ]
          },
          "metadata": {},
          "execution_count": 91
        }
      ]
    },
    {
      "cell_type": "markdown",
      "source": [
        "**Prediction**"
      ],
      "metadata": {
        "id": "db0xwNR8W-6t"
      }
    },
    {
      "cell_type": "code",
      "source": [
        "df_stock_test_array_x = df_stock_test['Date'].values.reshape(-1,1)"
      ],
      "metadata": {
        "id": "qmPLUu6KXCmq"
      },
      "execution_count": 92,
      "outputs": []
    },
    {
      "cell_type": "code",
      "source": [
        "# Prediction\n",
        "pred_test = rf_model.predict(df_stock_test_array_x)"
      ],
      "metadata": {
        "id": "gDUIr0IOWlak"
      },
      "execution_count": 93,
      "outputs": []
    },
    {
      "cell_type": "code",
      "source": [
        "pred_test"
      ],
      "metadata": {
        "colab": {
          "base_uri": "https://localhost:8080/"
        },
        "id": "tfnlAkQbbTkK",
        "outputId": "35e60ee5-2562-4f88-d93e-0bbf876f574c"
      },
      "execution_count": 94,
      "outputs": [
        {
          "output_type": "execute_result",
          "data": {
            "text/plain": [
              "array([803.98415397, 803.98415397, 803.98415397, 803.98415397,\n",
              "       803.98415397, 803.98415397, 803.98415397, 803.98415397,\n",
              "       803.98415397, 803.98415397, 803.98415397, 803.98415397,\n",
              "       803.98415397, 803.98415397, 803.98415397, 803.98415397,\n",
              "       803.98415397, 803.98415397, 803.98415397])"
            ]
          },
          "metadata": {},
          "execution_count": 94
        }
      ]
    },
    {
      "cell_type": "markdown",
      "source": [
        "**Evaluation of Model**"
      ],
      "metadata": {
        "id": "VBKL1Zt9Xi3N"
      }
    },
    {
      "cell_type": "code",
      "source": [
        "mse = mean_squared_error(df_stock_test['Close_Price'], pred_test)\n",
        "rmse_rf = mse**.5\n",
        "print(mse)\n",
        "print(rmse_rf)"
      ],
      "metadata": {
        "colab": {
          "base_uri": "https://localhost:8080/"
        },
        "id": "0T8xH3rEXnD1",
        "outputId": "ed240b89-30f2-47ad-924f-3f5295d120c6"
      },
      "execution_count": 95,
      "outputs": [
        {
          "output_type": "stream",
          "name": "stdout",
          "text": [
            "447.4533793590533\n",
            "21.15309384839611\n"
          ]
        }
      ]
    },
    {
      "cell_type": "markdown",
      "source": [
        "**Understanding the predictions by charts**"
      ],
      "metadata": {
        "id": "Y9GMvWp_Z9dp"
      }
    },
    {
      "cell_type": "code",
      "source": [
        "plt.plot(df_stock_test['Date'], df_stock_test['Close_Price'], color='red', label='Actual Stock Price')\n",
        "plt.plot(df_stock_test['Date'], pred_test, color='blue', label='Predicted Stock Price')\n",
        "plt.title('Stock Prediction')\n",
        "plt.xlabel('Date')\n",
        "plt.ylabel('Price')\n",
        "plt.legend()\n",
        "plt.show()"
      ],
      "metadata": {
        "colab": {
          "base_uri": "https://localhost:8080/",
          "height": 0
        },
        "id": "nHhbZCcsaEpp",
        "outputId": "c067d27b-0176-440a-803e-cafe00547e44"
      },
      "execution_count": 96,
      "outputs": [
        {
          "output_type": "display_data",
          "data": {
            "text/plain": [
              "<Figure size 432x288 with 1 Axes>"
            ],
            "image/png": "[encoded data removed]"
          },
          "metadata": {
            "needs_background": "light"
          }
        }
      ]
    },
    {
      "cell_type": "markdown",
      "source": [
        "## **Adaboost Regressor**"
      ],
      "metadata": {
        "id": "Z9kKVC1qeG0p"
      }
    },
    {
      "cell_type": "code",
      "source": [
        "# Choosing Decision Tree with one level as weak learner\n",
        "dtr = DecisionTreeRegressor(max_depth=7)"
      ],
      "metadata": {
        "id": "xYn5-_5XeMna"
      },
      "execution_count": 97,
      "outputs": []
    },
    {
      "cell_type": "code",
      "source": [
        "# Adaboost Regressor\n",
        "model_adaboost = AdaBoostRegressor(n_estimators=50, base_estimator=dtr, learning_rate=0.001, loss='linear') \n",
        "print(model_adaboost)"
      ],
      "metadata": {
        "colab": {
          "base_uri": "https://localhost:8080/"
        },
        "id": "4vXyELKHkn9a",
        "outputId": "946d1430-34ad-43fb-8502-7f6929f2bed1"
      },
      "execution_count": 98,
      "outputs": [
        {
          "output_type": "stream",
          "name": "stdout",
          "text": [
            "AdaBoostRegressor(base_estimator=DecisionTreeRegressor(max_depth=7),\n",
            "                  learning_rate=0.001)\n"
          ]
        }
      ]
    },
    {
      "cell_type": "code",
      "source": [
        "# Fitting the model on training data\n",
        "model_adaboost.fit(df_stock_train_array_x, df_stock_train_array_y)"
      ],
      "metadata": {
        "colab": {
          "base_uri": "https://localhost:8080/"
        },
        "id": "-XkavkHdlWx3",
        "outputId": "440db9df-6416-4f6e-9cea-23d9f8864eca"
      },
      "execution_count": 99,
      "outputs": [
        {
          "output_type": "execute_result",
          "data": {
            "text/plain": [
              "AdaBoostRegressor(base_estimator=DecisionTreeRegressor(max_depth=7),\n",
              "                  learning_rate=0.001)"
            ]
          },
          "metadata": {},
          "execution_count": 99
        }
      ]
    },
    {
      "cell_type": "code",
      "source": [
        "# Predict on test data now\n",
        "pred_test_ab = model_adaboost.predict(df_stock_test_array_x) "
      ],
      "metadata": {
        "id": "l5UOf5s4l7Ul"
      },
      "execution_count": 100,
      "outputs": []
    },
    {
      "cell_type": "code",
      "source": [
        "pred_test_ab"
      ],
      "metadata": {
        "colab": {
          "base_uri": "https://localhost:8080/"
        },
        "id": "9GDsTEI-SP-C",
        "outputId": "5e60dda4-2e5a-4153-b301-2744835e2da1"
      },
      "execution_count": 101,
      "outputs": [
        {
          "output_type": "execute_result",
          "data": {
            "text/plain": [
              "array([805.64285714, 805.64285714, 805.64285714, 805.64285714,\n",
              "       805.64285714, 805.64285714, 805.64285714, 805.64285714,\n",
              "       805.64285714, 805.64285714, 805.64285714, 805.64285714,\n",
              "       805.64285714, 805.64285714, 805.64285714, 805.64285714,\n",
              "       805.64285714, 805.64285714, 805.64285714])"
            ]
          },
          "metadata": {},
          "execution_count": 101
        }
      ]
    },
    {
      "cell_type": "markdown",
      "source": [
        "**Evaluation of Adaboost Model**"
      ],
      "metadata": {
        "id": "qXrMjn4Fmi7O"
      }
    },
    {
      "cell_type": "code",
      "source": [
        "mse = mean_squared_error(df_stock_test['Close_Price'], pred_test_ab)\n",
        "rmse_ab = mse**.5\n",
        "print(mse)\n",
        "print(rmse_ab)"
      ],
      "metadata": {
        "colab": {
          "base_uri": "https://localhost:8080/"
        },
        "outputId": "df7a1478-5495-4cfe-bfff-5628df8326c9",
        "id": "BmpfwfRKmi7O"
      },
      "execution_count": 102,
      "outputs": [
        {
          "output_type": "stream",
          "name": "stdout",
          "text": [
            "482.0952389903324\n",
            "21.956667301535823\n"
          ]
        }
      ]
    },
    {
      "cell_type": "markdown",
      "source": [
        "**Understanding the predictions by charts (Adaboost)**"
      ],
      "metadata": {
        "id": "8uIY8y-Wmi7O"
      }
    },
    {
      "cell_type": "code",
      "source": [
        "plt.plot(df_stock_test['Date'], df_stock_test['Close_Price'], color='red', label='Actual Stock Price')\n",
        "plt.plot(df_stock_test['Date'], pred_test_ab, color='blue', label='Predicted Stock Price')\n",
        "plt.title('Stock Prediction')\n",
        "plt.xlabel('Date')\n",
        "plt.ylabel('Price')\n",
        "plt.legend()\n",
        "plt.show()"
      ],
      "metadata": {
        "colab": {
          "base_uri": "https://localhost:8080/",
          "height": 0
        },
        "outputId": "02c11c62-6f0d-4c9d-dfd5-238280659bc7",
        "id": "tOnb1mPmmi7O"
      },
      "execution_count": 103,
      "outputs": [
        {
          "output_type": "display_data",
          "data": {
            "text/plain": [
              "<Figure size 432x288 with 1 Axes>"
            ],
            "image/png": "[encoded data removed]"
          },
          "metadata": {
            "needs_background": "light"
          }
        }
      ]
    },
    {
      "cell_type": "markdown",
      "source": [
        "## **Neural Networks**"
      ],
      "metadata": {
        "id": "3U0FBtuPt33n"
      }
    },
    {
      "cell_type": "code",
      "source": [
        "# Defining the baseline_model\n",
        "\n",
        "def baseline_model():\n",
        "    model = Sequential()\n",
        "    model.add(Dense(13,input_dim = 1, activation = 'linear'))\n",
        "    model.add(Dropout(0.1))\n",
        "    model.add(Dense(7, activation = 'linear'))\n",
        "    model.add(Dropout(0.1))\n",
        "    model.add(Dense(1,activation = 'linear'))\n",
        "    \n",
        "    adam = Adam(lr = 0.001) \n",
        "    model.compile(loss = 'mean_squared_error',optimizer = adam, metrics = ['mse'])\n",
        "    return model\n"
      ],
      "metadata": {
        "id": "M935t9M-t89-"
      },
      "execution_count": 104,
      "outputs": []
    },
    {
      "cell_type": "code",
      "source": [
        "# Create the model\n",
        "model_kr = KerasRegressor(build_fn = baseline_model, verbose = 0, batch_size = 20, epochs = 100)\n",
        "history = model_kr.fit(df_stock_train_array_x, df_stock_train_array_y)"
      ],
      "metadata": {
        "id": "m5li_0gVvP5B"
      },
      "execution_count": 105,
      "outputs": []
    },
    {
      "cell_type": "code",
      "source": [
        "# Prediction\n",
        "pred_test_kr = model_kr.predict(df_stock_test_array_x)"
      ],
      "metadata": {
        "id": "Ifu60pSTPas0"
      },
      "execution_count": 106,
      "outputs": []
    },
    {
      "cell_type": "code",
      "source": [
        "pred_test_kr"
      ],
      "metadata": {
        "colab": {
          "base_uri": "https://localhost:8080/"
        },
        "id": "hqN8jiCaPtpP",
        "outputId": "d258d9db-fd2c-4992-ac07-9e842154297a"
      },
      "execution_count": 107,
      "outputs": [
        {
          "output_type": "execute_result",
          "data": {
            "text/plain": [
              "array([1121.3912, 1121.3918, 1121.3915, 1121.3951, 1121.3951, 1121.3951,\n",
              "       1121.3932, 1121.3936, 1121.3927, 1121.3927, 1121.3927, 1121.3927,\n",
              "       1121.3942, 1121.3942, 1121.3944, 1121.3944, 1121.3951, 1121.3976,\n",
              "       1121.3983], dtype=float32)"
            ]
          },
          "metadata": {},
          "execution_count": 107
        }
      ]
    },
    {
      "cell_type": "markdown",
      "source": [
        "**Evaluation of Keros Regresssor Model**"
      ],
      "metadata": {
        "id": "lgMBhIqdTu1h"
      }
    },
    {
      "cell_type": "code",
      "source": [
        "mse = mean_squared_error(df_stock_test['Close_Price'], pred_test_kr)\n",
        "rmse_kr = mse**.5\n",
        "print(mse)\n",
        "print(rmse_kr)"
      ],
      "metadata": {
        "colab": {
          "base_uri": "https://localhost:8080/"
        },
        "outputId": "9b72d0e9-6f74-4fa1-8ba9-bd29f237fa35",
        "id": "iREn1J3rTu1h"
      },
      "execution_count": 108,
      "outputs": [
        {
          "output_type": "stream",
          "name": "stdout",
          "text": [
            "107299.01208630852\n",
            "327.565279122053\n"
          ]
        }
      ]
    },
    {
      "cell_type": "markdown",
      "source": [
        "**Understanding the predictions by charts (Keros Regressor)**"
      ],
      "metadata": {
        "id": "nx8HDmCsTu1h"
      }
    },
    {
      "cell_type": "code",
      "source": [
        "plt.plot(df_stock_test['Date'], df_stock_test['Close_Price'], color='red', label='Actual Stock Price')\n",
        "plt.plot(df_stock_test['Date'], pred_test_kr, color='blue', label='Predicted Stock Price')\n",
        "plt.title('Stock Prediction')\n",
        "plt.xlabel('Date')\n",
        "plt.ylabel('Price')\n",
        "plt.legend()\n",
        "plt.show()"
      ],
      "metadata": {
        "colab": {
          "base_uri": "https://localhost:8080/",
          "height": 0
        },
        "outputId": "6b782cd1-0052-421f-d688-c431f5720268",
        "id": "wMlBXBSjTu1h"
      },
      "execution_count": 109,
      "outputs": [
        {
          "output_type": "display_data",
          "data": {
            "text/plain": [
              "<Figure size 432x288 with 1 Axes>"
            ],
            "image/png": "[encoded data removed]"
          },
          "metadata": {
            "needs_background": "light"
          }
        }
      ]
    },
    {
      "cell_type": "markdown",
      "source": [
        "## **ARIMA (Auto Regressive Integrated Moving Average)**"
      ],
      "metadata": {
        "id": "EpBRloQ2pG74"
      }
    },
    {
      "cell_type": "code",
      "source": [
        "# Plot PACF to choose right p value for Arima order (Auto Regression)\n",
        "plot_pacf(df_stock_train_arima['Close_Price'], lags=10)"
      ],
      "metadata": {
        "colab": {
          "base_uri": "https://localhost:8080/",
          "height": 0
        },
        "id": "AorILeuppXrL",
        "outputId": "bc0d5d1e-f916-43d5-8237-44158b20cb24"
      },
      "execution_count": 110,
      "outputs": [
        {
          "output_type": "execute_result",
          "data": {
            "text/plain": [
              "<Figure size 432x288 with 1 Axes>"
            ],
            "image/png": "[encoded data removed]"
          },
          "metadata": {},
          "execution_count": 110
        },
        {
          "output_type": "display_data",
          "data": {
            "text/plain": [
              "<Figure size 432x288 with 1 Axes>"
            ],
            "image/png": "[encoded data removed]"
          },
          "metadata": {
            "needs_background": "light"
          }
        }
      ]
    },
    {
      "cell_type": "code",
      "source": [
        "# Plot ACF to choose right q value for Arima order (Moving Average)\n",
        "plot_acf(df_stock_train_arima['Close_Price'], lags=10)"
      ],
      "metadata": {
        "colab": {
          "base_uri": "https://localhost:8080/",
          "height": 0
        },
        "id": "mTEAgTVMqjrF",
        "outputId": "83bf863e-1147-43f6-9db6-f0384d023db6"
      },
      "execution_count": 111,
      "outputs": [
        {
          "output_type": "execute_result",
          "data": {
            "text/plain": [
              "<Figure size 432x288 with 1 Axes>"
            ],
            "image/png": "[encoded data removed]"
          },
          "metadata": {},
          "execution_count": 111
        },
        {
          "output_type": "display_data",
          "data": {
            "text/plain": [
              "<Figure size 432x288 with 1 Axes>"
            ],
            "image/png": "[encoded data removed]"
          },
          "metadata": {
            "needs_background": "light"
          }
        }
      ]
    },
    {
      "cell_type": "markdown",
      "source": [
        "Insights: PACF Plot reduced exponentially at 2 from 0. So, p value of 2 will be considered.\n",
        "\n",
        "ACF plot looks better at 10, which is maximum lag. So, q value of 10 will be considered."
      ],
      "metadata": {
        "id": "FgWMreqSrT5X"
      }
    },
    {
      "cell_type": "code",
      "source": [
        "model_arima = ARIMA(df_stock_train_arima['Close_Price'], order=(2,0,10))\n",
        "model_arima_fit = model_arima.fit()\n",
        "forecast = model_arima_fit.forecast(steps=len(df_stock_test))[0]\n",
        "pred_arima = model_arima_fit.predict(start=1, end=len(df_stock_train_arima))\n",
        "warnings.filterwarnings('ignore')\n",
        "warnings.filterwarnings('ignore', 'statsmodels.tsa.arima_model.ARIMA',\n",
        "                        FutureWarning)\n",
        "model_arima_fit.plot_predict(1,len(df_stock_train_arima))"
      ],
      "metadata": {
        "colab": {
          "base_uri": "https://localhost:8080/",
          "height": 0
        },
        "id": "bu2qm0iurf7-",
        "outputId": "5137e8b3-fb3a-49b5-bac7-bb969c429d23"
      },
      "execution_count": 112,
      "outputs": [
        {
          "output_type": "execute_result",
          "data": {
            "text/plain": [
              "<Figure size 432x288 with 1 Axes>"
            ],
            "image/png": "[encoded data removed]"
          },
          "metadata": {},
          "execution_count": 112
        },
        {
          "output_type": "display_data",
          "data": {
            "text/plain": [
              "<Figure size 432x288 with 1 Axes>"
            ],
            "image/png": "[encoded data removed]"
          },
          "metadata": {
            "needs_background": "light"
          }
        }
      ]
    },
    {
      "cell_type": "code",
      "source": [
        "pred_arima"
      ],
      "metadata": {
        "colab": {
          "base_uri": "https://localhost:8080/"
        },
        "id": "-Da_b_Ob9jHw",
        "outputId": "bbad9733-2c5f-4616-c89d-6ab39adbb07e"
      },
      "execution_count": 113,
      "outputs": [
        {
          "output_type": "execute_result",
          "data": {
            "text/plain": [
              "1       335.485429\n",
              "2       332.046166\n",
              "3       332.263303\n",
              "4       334.075654\n",
              "5       335.795094\n",
              "           ...    \n",
              "1703    761.376203\n",
              "1704    763.370397\n",
              "1705    797.142830\n",
              "1706    801.381786\n",
              "1707    806.862303\n",
              "Length: 1707, dtype: float64"
            ]
          },
          "metadata": {},
          "execution_count": 113
        }
      ]
    },
    {
      "cell_type": "code",
      "source": [
        "df_stock_train_arima = df_stock_train_arima.append(df_stock_test, ignore_index = True)\n",
        "print(len(df_stock_train_arima))\n",
        "print(len(df_stock_test))"
      ],
      "metadata": {
        "id": "5Y12L6171vvd",
        "colab": {
          "base_uri": "https://localhost:8080/"
        },
        "outputId": "0c500242-0c49-48d5-d353-3f47acddb263"
      },
      "execution_count": 114,
      "outputs": [
        {
          "output_type": "stream",
          "name": "stdout",
          "text": [
            "1726\n",
            "19\n"
          ]
        }
      ]
    },
    {
      "cell_type": "code",
      "source": [
        "df_stock_train_arima.iloc[1707:, :]"
      ],
      "metadata": {
        "colab": {
          "base_uri": "https://localhost:8080/",
          "height": 0
        },
        "id": "dSPcdHkY2El8",
        "outputId": "b4e2b804-f40b-47c2-c3aa-168937d9a146"
      },
      "execution_count": 115,
      "outputs": [
        {
          "output_type": "execute_result",
          "data": {
            "text/plain": [
              "          Date  Close_Price\n",
              "1707  20221006       788.60\n",
              "1708  20221007       793.10\n",
              "1709  20221010       792.35\n",
              "1710  20221011       780.30\n",
              "1711  20221012       775.55\n",
              "1712  20221013       768.90\n",
              "1713  20221014       765.95\n",
              "1714  20221017       766.00\n",
              "1715  20221018       783.15\n",
              "1716  20221019       783.40\n",
              "1717  20221020       792.90\n",
              "1718  20221021       797.45\n",
              "1719  20221024       802.10\n",
              "1720  20221025       802.30\n",
              "1721  20221027       817.10\n",
              "1722  20221028       816.85\n",
              "1723  20221031       832.00\n",
              "1724  20221103       818.65\n",
              "1725  20221104       816.40"
            ],
            "text/html": [
              "\n",
              "  <div id=\"df-23b0edb9-4436-4422-8939-23ae3753e365\">\n",
              "    <div class=\"colab-df-container\">\n",
              "      <div>\n",
              "<style scoped>\n",
              "    .dataframe tbody tr th:only-of-type {\n",
              "        vertical-align: middle;\n",
              "    }\n",
              "\n",
              "    .dataframe tbody tr th {\n",
              "        vertical-align: top;\n",
              "    }\n",
              "\n",
              "    .dataframe thead th {\n",
              "        text-align: right;\n",
              "    }\n",
              "</style>\n",
              "<table border=\"1\" class=\"dataframe\">\n",
              "  <thead>\n",
              "    <tr style=\"text-align: right;\">\n",
              "      <th></th>\n",
              "      <th>Date</th>\n",
              "      <th>Close_Price</th>\n",
              "    </tr>\n",
              "  </thead>\n",
              "  <tbody>\n",
              "    <tr>\n",
              "      <th>1707</th>\n",
              "      <td>20221006</td>\n",
              "      <td>788.60</td>\n",
              "    </tr>\n",
              "    <tr>\n",
              "      <th>1708</th>\n",
              "      <td>20221007</td>\n",
              "      <td>793.10</td>\n",
              "    </tr>\n",
              "    <tr>\n",
              "      <th>1709</th>\n",
              "      <td>20221010</td>\n",
              "      <td>792.35</td>\n",
              "    </tr>\n",
              "    <tr>\n",
              "      <th>1710</th>\n",
              "      <td>20221011</td>\n",
              "      <td>780.30</td>\n",
              "    </tr>\n",
              "    <tr>\n",
              "      <th>1711</th>\n",
              "      <td>20221012</td>\n",
              "      <td>775.55</td>\n",
              "    </tr>\n",
              "    <tr>\n",
              "      <th>1712</th>\n",
              "      <td>20221013</td>\n",
              "      <td>768.90</td>\n",
              "    </tr>\n",
              "    <tr>\n",
              "      <th>1713</th>\n",
              "      <td>20221014</td>\n",
              "      <td>765.95</td>\n",
              "    </tr>\n",
              "    <tr>\n",
              "      <th>1714</th>\n",
              "      <td>20221017</td>\n",
              "      <td>766.00</td>\n",
              "    </tr>\n",
              "    <tr>\n",
              "      <th>1715</th>\n",
              "      <td>20221018</td>\n",
              "      <td>783.15</td>\n",
              "    </tr>\n",
              "    <tr>\n",
              "      <th>1716</th>\n",
              "      <td>20221019</td>\n",
              "      <td>783.40</td>\n",
              "    </tr>\n",
              "    <tr>\n",
              "      <th>1717</th>\n",
              "      <td>20221020</td>\n",
              "      <td>792.90</td>\n",
              "    </tr>\n",
              "    <tr>\n",
              "      <th>1718</th>\n",
              "      <td>20221021</td>\n",
              "      <td>797.45</td>\n",
              "    </tr>\n",
              "    <tr>\n",
              "      <th>1719</th>\n",
              "      <td>20221024</td>\n",
              "      <td>802.10</td>\n",
              "    </tr>\n",
              "    <tr>\n",
              "      <th>1720</th>\n",
              "      <td>20221025</td>\n",
              "      <td>802.30</td>\n",
              "    </tr>\n",
              "    <tr>\n",
              "      <th>1721</th>\n",
              "      <td>20221027</td>\n",
              "      <td>817.10</td>\n",
              "    </tr>\n",
              "    <tr>\n",
              "      <th>1722</th>\n",
              "      <td>20221028</td>\n",
              "      <td>816.85</td>\n",
              "    </tr>\n",
              "    <tr>\n",
              "      <th>1723</th>\n",
              "      <td>20221031</td>\n",
              "      <td>832.00</td>\n",
              "    </tr>\n",
              "    <tr>\n",
              "      <th>1724</th>\n",
              "      <td>20221103</td>\n",
              "      <td>818.65</td>\n",
              "    </tr>\n",
              "    <tr>\n",
              "      <th>1725</th>\n",
              "      <td>20221104</td>\n",
              "      <td>816.40</td>\n",
              "    </tr>\n",
              "  </tbody>\n",
              "</table>\n",
              "</div>\n",
              "      <button class=\"colab-df-convert\" onclick=\"convertToInteractive('df-23b0edb9-4436-4422-8939-23ae3753e365')\"\n",
              "              title=\"Convert this dataframe to an interactive table.\"\n",
              "              style=\"display:none;\">\n",
              "        \n",
              "  <svg xmlns=\"http://www.w3.org/2000/svg\" height=\"24px\"viewBox=\"0 0 24 24\"\n",
              "       width=\"24px\">\n",
              "    <path d=\"M0 0h24v24H0V0z\" fill=\"none\"/>\n",
              "    <path d=\"M18.56 5.44l.94 2.06.94-2.06 2.06-.94-2.06-.94-.94-2.06-.94 2.06-2.06.94zm-11 1L8.5 8.5l.94-2.06 2.06-.94-2.06-.94L8.5 2.5l-.94 2.06-2.06.94zm10 10l.94 2.06.94-2.06 2.06-.94-2.06-.94-.94-2.06-.94 2.06-2.06.94z\"/><path d=\"M17.41 7.96l-1.37-1.37c-.4-.4-.92-.59-1.43-.59-.52 0-1.04.2-1.43.59L10.3 9.45l-7.72 7.72c-.78.78-.78 2.05 0 2.83L4 21.41c.39.39.9.59 1.41.59.51 0 1.02-.2 1.41-.59l7.78-7.78 2.81-2.81c.8-.78.8-2.07 0-2.86zM5.41 20L4 18.59l7.72-7.72 1.47 1.35L5.41 20z\"/>\n",
              "  </svg>\n",
              "      </button>\n",
              "      \n",
              "  <style>\n",
              "    .colab-df-container {\n",
              "      display:flex;\n",
              "      flex-wrap:wrap;\n",
              "      gap: 12px;\n",
              "    }\n",
              "\n",
              "    .colab-df-convert {\n",
              "      background-color: #E8F0FE;\n",
              "      border: none;\n",
              "      border-radius: 50%;\n",
              "      cursor: pointer;\n",
              "      display: none;\n",
              "      fill: #1967D2;\n",
              "      height: 32px;\n",
              "      padding: 0 0 0 0;\n",
              "      width: 32px;\n",
              "    }\n",
              "\n",
              "    .colab-df-convert:hover {\n",
              "      background-color: #E2EBFA;\n",
              "      box-shadow: 0px 1px 2px rgba(60, 64, 67, 0.3), 0px 1px 3px 1px rgba(60, 64, 67, 0.15);\n",
              "      fill: #174EA6;\n",
              "    }\n",
              "\n",
              "    [theme=dark] .colab-df-convert {\n",
              "      background-color: #3B4455;\n",
              "      fill: #D2E3FC;\n",
              "    }\n",
              "\n",
              "    [theme=dark] .colab-df-convert:hover {\n",
              "      background-color: #434B5C;\n",
              "      box-shadow: 0px 1px 3px 1px rgba(0, 0, 0, 0.15);\n",
              "      filter: drop-shadow(0px 1px 2px rgba(0, 0, 0, 0.3));\n",
              "      fill: #FFFFFF;\n",
              "    }\n",
              "  </style>\n",
              "\n",
              "      <script>\n",
              "        const buttonEl =\n",
              "          document.querySelector('#df-23b0edb9-4436-4422-8939-23ae3753e365 button.colab-df-convert');\n",
              "        buttonEl.style.display =\n",
              "          google.colab.kernel.accessAllowed ? 'block' : 'none';\n",
              "\n",
              "        async function convertToInteractive(key) {\n",
              "          const element = document.querySelector('#df-23b0edb9-4436-4422-8939-23ae3753e365');\n",
              "          const dataTable =\n",
              "            await google.colab.kernel.invokeFunction('convertToInteractive',\n",
              "                                                     [key], {});\n",
              "          if (!dataTable) return;\n",
              "\n",
              "          const docLinkHtml = 'Like what you see? Visit the ' +\n",
              "            '<a target=\"_blank\" href=https://colab.research.google.com/notebooks/data_table.ipynb>data table notebook</a>'\n",
              "            + ' to learn more about interactive tables.';\n",
              "          element.innerHTML = '';\n",
              "          dataTable['output_type'] = 'display_data';\n",
              "          await google.colab.output.renderOutput(dataTable, element);\n",
              "          const docLink = document.createElement('div');\n",
              "          docLink.innerHTML = docLinkHtml;\n",
              "          element.appendChild(docLink);\n",
              "        }\n",
              "      </script>\n",
              "    </div>\n",
              "  </div>\n",
              "  "
            ]
          },
          "metadata": {},
          "execution_count": 115
        }
      ]
    },
    {
      "cell_type": "code",
      "source": [
        "pred_test_arima = model_arima_fit.predict(start=split_at, end=len(df_stock_train_arima)-1)\n",
        "warnings.filterwarnings('ignore')\n",
        "warnings.filterwarnings('ignore', 'statsmodels.tsa.arima_model.ARIMA',\n",
        "                        FutureWarning)\n",
        "model_arima_fit.plot_predict(split_at,len(df_stock_train_arima)-1)"
      ],
      "metadata": {
        "colab": {
          "base_uri": "https://localhost:8080/",
          "height": 0
        },
        "id": "5sMxDeHw2RBo",
        "outputId": "ea11df8c-0deb-4581-efc1-e1c183d29131"
      },
      "execution_count": 116,
      "outputs": [
        {
          "output_type": "execute_result",
          "data": {
            "text/plain": [
              "<Figure size 432x288 with 1 Axes>"
            ],
            "image/png": "[encoded data removed]"
          },
          "metadata": {},
          "execution_count": 116
        },
        {
          "output_type": "display_data",
          "data": {
            "text/plain": [
              "<Figure size 432x288 with 1 Axes>"
            ],
            "image/png": "[encoded data removed]"
          },
          "metadata": {
            "needs_background": "light"
          }
        }
      ]
    },
    {
      "cell_type": "code",
      "source": [
        "pred_test_arima"
      ],
      "metadata": {
        "colab": {
          "base_uri": "https://localhost:8080/"
        },
        "id": "CBI6wwBZzalU",
        "outputId": "e74a1798-dc68-4242-f16b-042cd98b53e4"
      },
      "execution_count": 117,
      "outputs": [
        {
          "output_type": "execute_result",
          "data": {
            "text/plain": [
              "1707    806.862303\n",
              "1708    806.461266\n",
              "1709    806.601081\n",
              "1710    805.805382\n",
              "1711    805.809522\n",
              "1712    805.028861\n",
              "1713    804.783738\n",
              "1714    806.066442\n",
              "1715    806.416590\n",
              "1716    806.561181\n",
              "1717    806.312480\n",
              "1718    805.967812\n",
              "1719    805.600003\n",
              "1720    805.226888\n",
              "1721    804.852837\n",
              "1722    804.478919\n",
              "1723    804.105395\n",
              "1724    803.732329\n",
              "1725    803.359737\n",
              "dtype: float64"
            ]
          },
          "metadata": {},
          "execution_count": 117
        }
      ]
    },
    {
      "cell_type": "code",
      "source": [
        "print(forecast)\n",
        "print(len(forecast))"
      ],
      "metadata": {
        "colab": {
          "base_uri": "https://localhost:8080/"
        },
        "id": "CfwyERmA8WR7",
        "outputId": "c28397f3-07e4-41de-d99e-3ff051d5ee26"
      },
      "execution_count": 118,
      "outputs": [
        {
          "output_type": "stream",
          "name": "stdout",
          "text": [
            "[806.86230337 806.46126608 806.60108102 805.80538202 805.8095219\n",
            " 805.02886137 804.7837379  806.06644165 806.41658999 806.56118128\n",
            " 806.31248025 805.96781242 805.60000274 805.2268881  804.85283692\n",
            " 804.47891872 804.10539498 803.7323293  803.35973679]\n",
            "19\n"
          ]
        }
      ]
    },
    {
      "cell_type": "markdown",
      "source": [
        "Observation: Results of forecast and prediction of new values after appending into train dataset are same."
      ],
      "metadata": {
        "id": "78zJJo_l8zUC"
      }
    },
    {
      "cell_type": "markdown",
      "source": [
        "**Evaluation of Arima Model**"
      ],
      "metadata": {
        "id": "uYuVQS9Z3Mx2"
      }
    },
    {
      "cell_type": "code",
      "source": [
        "mse = mean_squared_error(df_stock_test['Close_Price'], pred_test_arima)\n",
        "rmse_arima = mse**.5\n",
        "print(mse)\n",
        "print(rmse_arima)"
      ],
      "metadata": {
        "colab": {
          "base_uri": "https://localhost:8080/"
        },
        "outputId": "b4a2e5c3-d72a-47e6-f7ee-3a83b41c2cce",
        "id": "02vLAzqZ3Mx2"
      },
      "execution_count": 119,
      "outputs": [
        {
          "output_type": "stream",
          "name": "stdout",
          "text": [
            "501.3018524980821\n",
            "22.389771157787255\n"
          ]
        }
      ]
    },
    {
      "cell_type": "markdown",
      "source": [
        "**Understanding the predictions by charts (Arima)**"
      ],
      "metadata": {
        "id": "rsNUNVEZ3Mx2"
      }
    },
    {
      "cell_type": "code",
      "source": [
        "plt.plot(df_stock_test['Date'], df_stock_test['Close_Price'], color='red', label='Actual Stock Price')\n",
        "plt.plot(df_stock_test['Date'], pred_test_arima, color='blue', label='Predicted Stock Price')\n",
        "plt.title('Stock Prediction')\n",
        "plt.xlabel('Date')\n",
        "plt.ylabel('Price')\n",
        "plt.legend()\n",
        "plt.show()"
      ],
      "metadata": {
        "colab": {
          "base_uri": "https://localhost:8080/",
          "height": 0
        },
        "outputId": "9af809e6-e0ea-4ef6-ae37-6684899c0d44",
        "id": "iSn_Yed73Mx2"
      },
      "execution_count": 120,
      "outputs": [
        {
          "output_type": "display_data",
          "data": {
            "text/plain": [
              "<Figure size 432x288 with 1 Axes>"
            ],
            "image/png": "[encoded data removed]"
          },
          "metadata": {
            "needs_background": "light"
          }
        }
      ]
    },
    {
      "cell_type": "markdown",
      "source": [
        "## **Pipeline model-1**"
      ],
      "metadata": {
        "id": "VadtAWSJHct8"
      }
    },
    {
      "cell_type": "code",
      "source": [
        "from sklearn.pipeline import make_pipeline\n",
        "\n",
        "pipe_rf = RandomForestRegressor(n_estimators = 300, max_depth = 7, random_state = 18)\n",
        "\n",
        "dtr = DecisionTreeRegressor(max_depth=7)\n",
        "pipe_ab = AdaBoostRegressor(n_estimators=50, base_estimator=dtr, learning_rate=0.001, loss='linear')\n",
        "\n",
        "rf_pipeline = Pipeline([\n",
        "    ('scale', StandardScaler()),\n",
        "    ('RF', pipe_rf)\n",
        "   ])\n",
        "\n",
        "ab_pipeline = Pipeline([\n",
        "    ('scale', StandardScaler()),\n",
        "    ('AB', pipe_ab)\n",
        "   ])"
      ],
      "metadata": {
        "id": "sgA9T5agIVYo"
      },
      "execution_count": 121,
      "outputs": []
    },
    {
      "cell_type": "code",
      "source": [
        "def baseline_model():\n",
        "    model = Sequential()\n",
        "    model.add(Dense(13,input_dim = 1, activation = 'linear'))\n",
        "    model.add(Dropout(0.1))\n",
        "    model.add(Dense(7, activation = 'linear'))\n",
        "    model.add(Dropout(0.1))\n",
        "    model.add(Dense(1,activation = 'linear'))\n",
        "    \n",
        "    adam = Adam(lr = 0.001) \n",
        "    model.compile(loss = 'mean_squared_error',optimizer = adam, metrics = ['mse'])\n",
        "    return model"
      ],
      "metadata": {
        "id": "3WQ-X2IOGIV_"
      },
      "execution_count": 122,
      "outputs": []
    },
    {
      "cell_type": "code",
      "source": [
        "pipe_kr = KerasRegressor(build_fn = baseline_model, verbose = 0, batch_size = 20, epochs = 100)\n",
        "kr_pipeline = Pipeline([\n",
        "    ('scale', StandardScaler()),\n",
        "    ('KR', pipe_kr)\n",
        "])"
      ],
      "metadata": {
        "id": "pDtqDGYvGZkL"
      },
      "execution_count": 123,
      "outputs": []
    },
    {
      "cell_type": "code",
      "source": [
        "from sklearn.ensemble import StackingRegressor\n",
        "estimators = [\n",
        "    ('Random Forest', rf_pipeline),\n",
        "    ('Adaboost', ab_pipeline)\n",
        "   # ('Keras', kr_pipeline)\n",
        "    ]\n",
        "stacking_regressor = StackingRegressor(estimators=estimators)"
      ],
      "metadata": {
        "id": "dTWnuUxBk86-"
      },
      "execution_count": 124,
      "outputs": []
    },
    {
      "cell_type": "code",
      "source": [
        "stacking_regressor.fit(df_stock_train_array_x, df_stock_train_array_y)"
      ],
      "metadata": {
        "colab": {
          "base_uri": "https://localhost:8080/"
        },
        "id": "qll9bqZwSKRf",
        "outputId": "094c84e4-555c-4609-d21b-5f43c15875e3"
      },
      "execution_count": 125,
      "outputs": [
        {
          "output_type": "execute_result",
          "data": {
            "text/plain": [
              "StackingRegressor(estimators=[('Random Forest',\n",
              "                               Pipeline(steps=[('scale', StandardScaler()),\n",
              "                                               ('RF',\n",
              "                                                RandomForestRegressor(max_depth=7,\n",
              "                                                                      n_estimators=300,\n",
              "                                                                      random_state=18))])),\n",
              "                              ('Adaboost',\n",
              "                               Pipeline(steps=[('scale', StandardScaler()),\n",
              "                                               ('AB',\n",
              "                                                AdaBoostRegressor(base_estimator=DecisionTreeRegressor(max_depth=7),\n",
              "                                                                  learning_rate=0.001))]))])"
            ]
          },
          "metadata": {},
          "execution_count": 125
        }
      ]
    },
    {
      "cell_type": "code",
      "source": [
        "df_stock_test_array_x = df_stock_test['Date'].values.reshape(-1,1)"
      ],
      "metadata": {
        "id": "-VBRA91JS-H3"
      },
      "execution_count": 126,
      "outputs": []
    },
    {
      "cell_type": "code",
      "source": [
        "# Prediction\n",
        "pred_stack = stacking_regressor.predict(df_stock_test_array_x)"
      ],
      "metadata": {
        "id": "febrv9n_S-H3"
      },
      "execution_count": 127,
      "outputs": []
    },
    {
      "cell_type": "code",
      "source": [
        "pred_stack"
      ],
      "metadata": {
        "colab": {
          "base_uri": "https://localhost:8080/"
        },
        "outputId": "8cf6e974-7709-4020-c4e5-cebcfd584771",
        "id": "GHSJyYmaS-H3"
      },
      "execution_count": 128,
      "outputs": [
        {
          "output_type": "execute_result",
          "data": {
            "text/plain": [
              "array([1073.15520375, 1073.15520375, 1073.15520375, 1073.15520375,\n",
              "       1073.15520375, 1073.15520375, 1073.15520375, 1073.15520375,\n",
              "       1073.15520375, 1073.15520375, 1073.15520375, 1073.15520375,\n",
              "       1073.15520375, 1073.15520375, 1073.15520375, 1073.15520375,\n",
              "       1073.15520375, 1073.15520375, 1073.15520375])"
            ]
          },
          "metadata": {},
          "execution_count": 128
        }
      ]
    },
    {
      "cell_type": "markdown",
      "source": [
        "**Evaluation of Model**"
      ],
      "metadata": {
        "id": "dqchocdyS-H3"
      }
    },
    {
      "cell_type": "code",
      "source": [
        "mse = mean_squared_error(df_stock_test['Close_Price'], pred_stack)\n",
        "rmse_stack1 = mse**.5\n",
        "print(mse)\n",
        "print(rmse_stack1)"
      ],
      "metadata": {
        "colab": {
          "base_uri": "https://localhost:8080/"
        },
        "outputId": "c601b981-54dc-4262-f23f-ce040b54b719",
        "id": "GenG4rQCS-H3"
      },
      "execution_count": 129,
      "outputs": [
        {
          "output_type": "stream",
          "name": "stdout",
          "text": [
            "78075.64457423816\n",
            "279.42019356918024\n"
          ]
        }
      ]
    },
    {
      "cell_type": "markdown",
      "source": [
        "**Understanding the predictions by charts**"
      ],
      "metadata": {
        "id": "QbIGg6NfS-H3"
      }
    },
    {
      "cell_type": "code",
      "source": [
        "plt.plot(df_stock_test['Date'], df_stock_test['Close_Price'], color='red', label='Actual Stock Price')\n",
        "plt.plot(df_stock_test['Date'], pred_stack, color='blue', label='Predicted Stock Price')\n",
        "plt.title('Stock Prediction')\n",
        "plt.xlabel('Date')\n",
        "plt.ylabel('Price')\n",
        "plt.legend()\n",
        "plt.show()"
      ],
      "metadata": {
        "colab": {
          "base_uri": "https://localhost:8080/",
          "height": 0
        },
        "outputId": "1524bea0-b233-4420-f576-e5dbb837a8cb",
        "id": "g0Nx-mPOS-H3"
      },
      "execution_count": 130,
      "outputs": [
        {
          "output_type": "display_data",
          "data": {
            "text/plain": [
              "<Figure size 432x288 with 1 Axes>"
            ],
            "image/png": "[encoded data removed]"
          },
          "metadata": {
            "needs_background": "light"
          }
        }
      ]
    },
    {
      "cell_type": "markdown",
      "source": [
        "## **Pipeline Model-2**"
      ],
      "metadata": {
        "id": "qf_H7huRy3Ag"
      }
    },
    {
      "cell_type": "code",
      "source": [
        "# Difference between Pipeline and make_pipeline\n",
        "# In Pipeline, we need to give name of regressor/classifier string.\n",
        "# In make_pipeline, no need to give names.\n",
        "from sklearn.linear_model import LassoCV\n",
        "from sklearn.ensemble import HistGradientBoostingRegressor\n",
        "\n",
        "from sklearn.linear_model import RidgeCV\n",
        "from sklearn.ensemble import StackingRegressor\n",
        "\n",
        "lasso_pipeline = make_pipeline(StandardScaler(), LassoCV())\n",
        "rf_pipeline = make_pipeline(StandardScaler(), RandomForestRegressor(random_state=42))\n",
        "gbdt_pipeline = make_pipeline(StandardScaler(), HistGradientBoostingRegressor(random_state=0))\n",
        "\n",
        "estimators = [\n",
        "    (\"Random Forest\", rf_pipeline),\n",
        "    (\"Lasso\", lasso_pipeline),\n",
        "    (\"Gradient Boosting\", gbdt_pipeline)\n",
        "]\n",
        "\n",
        "stacking_regressor = StackingRegressor(estimators=estimators, final_estimator=RidgeCV())\n",
        "stacking_regressor\n",
        "\n",
        "\n"
      ],
      "metadata": {
        "colab": {
          "base_uri": "https://localhost:8080/"
        },
        "id": "xLFbPqP6y8o9",
        "outputId": "06f8f373-9731-4f9c-fa56-18ff5ae6ae36"
      },
      "execution_count": 131,
      "outputs": [
        {
          "output_type": "execute_result",
          "data": {
            "text/plain": [
              "StackingRegressor(estimators=[('Random Forest',\n",
              "                               Pipeline(steps=[('standardscaler',\n",
              "                                                StandardScaler()),\n",
              "                                               ('randomforestregressor',\n",
              "                                                RandomForestRegressor(random_state=42))])),\n",
              "                              ('Lasso',\n",
              "                               Pipeline(steps=[('standardscaler',\n",
              "                                                StandardScaler()),\n",
              "                                               ('lassocv', LassoCV())])),\n",
              "                              ('Gradient Boosting',\n",
              "                               Pipeline(steps=[('standardscaler',\n",
              "                                                StandardScaler()),\n",
              "                                               ('histgradientboostingregressor',\n",
              "                                                HistGradientBoostingRegressor(random_state=0))]))],\n",
              "                  final_estimator=RidgeCV(alphas=array([ 0.1,  1. , 10. ])))"
            ]
          },
          "metadata": {},
          "execution_count": 131
        }
      ]
    },
    {
      "cell_type": "code",
      "source": [
        "stacking_regressor.fit(df_stock_train_array_x, df_stock_train_array_y)"
      ],
      "metadata": {
        "colab": {
          "base_uri": "https://localhost:8080/"
        },
        "id": "S93OxLf53SmU",
        "outputId": "47cbe51c-cc56-4805-fc53-76c4e32aa1ab"
      },
      "execution_count": 132,
      "outputs": [
        {
          "output_type": "execute_result",
          "data": {
            "text/plain": [
              "StackingRegressor(estimators=[('Random Forest',\n",
              "                               Pipeline(steps=[('standardscaler',\n",
              "                                                StandardScaler()),\n",
              "                                               ('randomforestregressor',\n",
              "                                                RandomForestRegressor(random_state=42))])),\n",
              "                              ('Lasso',\n",
              "                               Pipeline(steps=[('standardscaler',\n",
              "                                                StandardScaler()),\n",
              "                                               ('lassocv', LassoCV())])),\n",
              "                              ('Gradient Boosting',\n",
              "                               Pipeline(steps=[('standardscaler',\n",
              "                                                StandardScaler()),\n",
              "                                               ('histgradientboostingregressor',\n",
              "                                                HistGradientBoostingRegressor(random_state=0))]))],\n",
              "                  final_estimator=RidgeCV(alphas=array([ 0.1,  1. , 10. ])))"
            ]
          },
          "metadata": {},
          "execution_count": 132
        }
      ]
    },
    {
      "cell_type": "code",
      "source": [
        "df_stock_test_array_x = df_stock_test['Date'].values.reshape(-1,1)"
      ],
      "metadata": {
        "id": "WhxgaH-l3TAz"
      },
      "execution_count": 133,
      "outputs": []
    },
    {
      "cell_type": "code",
      "source": [
        "# Prediction\n",
        "pred_stack = stacking_regressor.predict(df_stock_test_array_x)\n",
        "#pred_stack = cross_val_predict(estimators, X, y, n_jobs=2, verbose=0)"
      ],
      "metadata": {
        "id": "gpNgeE8P3TAz"
      },
      "execution_count": 134,
      "outputs": []
    },
    {
      "cell_type": "code",
      "source": [
        "pred_stack"
      ],
      "metadata": {
        "colab": {
          "base_uri": "https://localhost:8080/"
        },
        "outputId": "46ea4b45-027d-4706-9ce4-96ab3db12f2c",
        "id": "dljwgVBB3TAz"
      },
      "execution_count": 135,
      "outputs": [
        {
          "output_type": "execute_result",
          "data": {
            "text/plain": [
              "array([1065.97460299, 1065.97300048, 1065.96819294, 1065.96659042,\n",
              "       1065.96498791, 1065.9633854 , 1065.96178289, 1065.95697535,\n",
              "       1065.95537284, 1065.95377032, 1065.95216781, 1065.9505653 ,\n",
              "       1065.94575776, 1065.94415525, 1065.94095022, 1065.93934771,\n",
              "       1065.93454017, 1065.81915927, 1065.81755675])"
            ]
          },
          "metadata": {},
          "execution_count": 135
        }
      ]
    },
    {
      "cell_type": "code",
      "source": [
        "df_stock_test['Close_Price']"
      ],
      "metadata": {
        "colab": {
          "base_uri": "https://localhost:8080/"
        },
        "id": "nx5ebefLAc7P",
        "outputId": "03678c81-fa68-4fdd-f18a-ad5e0a647cf7"
      },
      "execution_count": 136,
      "outputs": [
        {
          "output_type": "execute_result",
          "data": {
            "text/plain": [
              "Date\n",
              "2022-10-06    788.60\n",
              "2022-10-07    793.10\n",
              "2022-10-10    792.35\n",
              "2022-10-11    780.30\n",
              "2022-10-12    775.55\n",
              "2022-10-13    768.90\n",
              "2022-10-14    765.95\n",
              "2022-10-17    766.00\n",
              "2022-10-18    783.15\n",
              "2022-10-19    783.40\n",
              "2022-10-20    792.90\n",
              "2022-10-21    797.45\n",
              "2022-10-24    802.10\n",
              "2022-10-25    802.30\n",
              "2022-10-27    817.10\n",
              "2022-10-28    816.85\n",
              "2022-10-31    832.00\n",
              "2022-11-03    818.65\n",
              "2022-11-04    816.40\n",
              "Name: Close_Price, dtype: float64"
            ]
          },
          "metadata": {},
          "execution_count": 136
        }
      ]
    },
    {
      "cell_type": "markdown",
      "source": [
        "**Evaluation of Model**"
      ],
      "metadata": {
        "id": "BIfoLtFH3TAz"
      }
    },
    {
      "cell_type": "code",
      "source": [
        "mse = mean_squared_error(df_stock_test['Close_Price'], pred_stack)\n",
        "rmse_stack2 = mse**.5\n",
        "print(mse)\n",
        "print(rmse_stack2)"
      ],
      "metadata": {
        "colab": {
          "base_uri": "https://localhost:8080/"
        },
        "outputId": "1dcc042a-f3f7-4f3e-c76a-9b890c253112",
        "id": "7Ix2IFqE3TAz"
      },
      "execution_count": 137,
      "outputs": [
        {
          "output_type": "stream",
          "name": "stdout",
          "text": [
            "74106.32717439684\n",
            "272.2247732562135\n"
          ]
        }
      ]
    },
    {
      "cell_type": "markdown",
      "source": [
        "**Understanding the predictions by charts**"
      ],
      "metadata": {
        "id": "YqvaOm5J3TAz"
      }
    },
    {
      "cell_type": "code",
      "source": [
        "plt.plot(df_stock_test['Date'], df_stock_test['Close_Price'], color='red', label='Actual Stock Price')\n",
        "plt.plot(df_stock_test['Date'], pred_stack, color='blue', label='Predicted Stock Price')\n",
        "plt.title('Stock Prediction')\n",
        "plt.xlabel('Date')\n",
        "plt.ylabel('Price')\n",
        "plt.legend()\n",
        "plt.show()"
      ],
      "metadata": {
        "colab": {
          "base_uri": "https://localhost:8080/",
          "height": 295
        },
        "outputId": "1b1eb561-76c4-472e-d959-48c1eb6df9b9",
        "id": "nTzOOg5H3TAz"
      },
      "execution_count": 138,
      "outputs": [
        {
          "output_type": "display_data",
          "data": {
            "text/plain": [
              "<Figure size 432x288 with 1 Axes>"
            ],
            "image/png": "[encoded data removed]"
          },
          "metadata": {
            "needs_background": "light"
          }
        }
      ]
    },
    {
      "cell_type": "markdown",
      "source": [
        "## **Smoothed Exponential Moving Average**"
      ],
      "metadata": {
        "id": "YgH_jG2J39Uf"
      }
    },
    {
      "cell_type": "code",
      "source": [
        "# Set Date column as index \n",
        "df_stock=df_stock.reset_index(drop=True)\n",
        "df_stock.info()"
      ],
      "metadata": {
        "colab": {
          "base_uri": "https://localhost:8080/"
        },
        "id": "wt8Ea8z48ezq",
        "outputId": "f2ff1a1c-b98a-49fa-ab9e-9b914a571d9c"
      },
      "execution_count": 139,
      "outputs": [
        {
          "output_type": "stream",
          "name": "stdout",
          "text": [
            "<class 'pandas.core.frame.DataFrame'>\n",
            "RangeIndex: 1726 entries, 0 to 1725\n",
            "Data columns (total 2 columns):\n",
            " #   Column       Non-Null Count  Dtype  \n",
            "---  ------       --------------  -----  \n",
            " 0   Date         1726 non-null   int64  \n",
            " 1   Close_Price  1726 non-null   float64\n",
            "dtypes: float64(1), int64(1)\n",
            "memory usage: 27.1 KB\n"
          ]
        }
      ]
    },
    {
      "cell_type": "code",
      "source": [
        "from statsmodels.tsa.api import ExponentialSmoothing, SimpleExpSmoothing\n",
        "\n",
        "fit1 = SimpleExpSmoothing(df_stock['Close_Price'], initialization_method=\"heuristic\").fit(\n",
        "    smoothing_level=0.2, optimized=False\n",
        ")\n",
        "fcast1 = fit1.forecast(3).rename(r\"$\\alpha=0.2$\")\n",
        "fit2 = SimpleExpSmoothing(df_stock['Close_Price'], initialization_method=\"heuristic\").fit(\n",
        "    smoothing_level=0.6, optimized=False\n",
        ")\n",
        "fcast2 = fit2.forecast(3).rename(r\"$\\alpha=0.6$\")\n",
        "fit3 = SimpleExpSmoothing(df_stock['Close_Price'], initialization_method=\"estimated\").fit()\n",
        "fcast3 = fit3.forecast(3).rename(r\"$\\alpha=%s$\" % fit3.model.params[\"smoothing_level\"])\n",
        "\n",
        "\n",
        "plt.figure(figsize=(12, 8))\n",
        "plt.plot(df_stock['Close_Price'].tail(19), marker=\"o\", color=\"black\")\n",
        "plt.plot(fit1.fittedvalues[-19:], marker=\"o\", color=\"blue\")\n",
        "(line1,) = plt.plot(fcast1, marker=\"o\", color=\"blue\")\n",
        "plt.plot(fit2.fittedvalues[-19:], marker=\"o\", color=\"red\")\n",
        "(line2,) = plt.plot(fcast2, marker=\"o\", color=\"red\")\n",
        "plt.plot(fit3.fittedvalues[-19:], marker=\"o\", color=\"green\")\n",
        "(line3,) = plt.plot(fcast3, marker=\"o\", color=\"green\")\n",
        "plt.legend([line1, line2, line3], [fcast1.name, fcast2.name, fcast3.name])\n"
      ],
      "metadata": {
        "colab": {
          "base_uri": "https://localhost:8080/",
          "height": 500
        },
        "id": "Cp8yTMAq4HE0",
        "outputId": "20dd9e70-ec68-434c-9c8d-c3c2adfbcd9c"
      },
      "execution_count": 140,
      "outputs": [
        {
          "output_type": "execute_result",
          "data": {
            "text/plain": [
              "<matplotlib.legend.Legend at 0x7f4230803490>"
            ]
          },
          "metadata": {},
          "execution_count": 140
        },
        {
          "output_type": "display_data",
          "data": {
            "text/plain": [
              "<Figure size 864x576 with 1 Axes>"
            ],
            "image/png": "[encoded data removed]"
          },
          "metadata": {
            "needs_background": "light"
          }
        }
      ]
    },
    {
      "cell_type": "code",
      "source": [
        "fcast3"
      ],
      "metadata": {
        "colab": {
          "base_uri": "https://localhost:8080/"
        },
        "id": "bRgQIwmn6dOU",
        "outputId": "51cc5e14-bc6a-41bd-e3d0-713877c77a6f"
      },
      "execution_count": 141,
      "outputs": [
        {
          "output_type": "execute_result",
          "data": {
            "text/plain": [
              "1726    816.552637\n",
              "1727    816.552637\n",
              "1728    816.552637\n",
              "Name: $\\alpha=0.9475249707386263$, dtype: float64"
            ]
          },
          "metadata": {},
          "execution_count": 141
        }
      ]
    },
    {
      "cell_type": "code",
      "source": [
        "fit1.fittedvalues"
      ],
      "metadata": {
        "colab": {
          "base_uri": "https://localhost:8080/"
        },
        "id": "hw8fCYVS_ykF",
        "outputId": "d34dc601-0bd9-4e1e-921a-f4f4ec8ec3ee"
      },
      "execution_count": 142,
      "outputs": [
        {
          "output_type": "execute_result",
          "data": {
            "text/plain": [
              "0       331.053333\n",
              "1       331.892667\n",
              "2       331.844133\n",
              "3       331.855307\n",
              "4       332.264245\n",
              "           ...    \n",
              "1721    790.969771\n",
              "1722    796.195817\n",
              "1723    800.326654\n",
              "1724    806.661323\n",
              "1725    809.059058\n",
              "Length: 1726, dtype: float64"
            ]
          },
          "metadata": {},
          "execution_count": 142
        }
      ]
    },
    {
      "cell_type": "markdown",
      "source": [
        "**Evaluation of Model**"
      ],
      "metadata": {
        "id": "pYcOdrnjZu2q"
      }
    },
    {
      "cell_type": "code",
      "source": [
        "mse = mean_squared_error(df_stock['Close_Price'], fit3.fittedvalues)\n",
        "rmse_sema = mse**.5\n",
        "print(mse)\n",
        "print(rmse_sema)"
      ],
      "metadata": {
        "colab": {
          "base_uri": "https://localhost:8080/"
        },
        "outputId": "b245a47d-7ed2-47a2-8342-598f21ee3422",
        "id": "cgVBKN0GZu2q"
      },
      "execution_count": 143,
      "outputs": [
        {
          "output_type": "stream",
          "name": "stdout",
          "text": [
            "89.0665186730228\n",
            "9.43750595618476\n"
          ]
        }
      ]
    },
    {
      "cell_type": "markdown",
      "source": [
        "# **Comparision of Various Models and Conclusion**"
      ],
      "metadata": {
        "id": "k5uzzkccIh6j"
      }
    },
    {
      "cell_type": "code",
      "source": [
        "# Display RMSE values of all four models\n",
        "df_rmse = pd.DataFrame ({'Model Name': ['Ramdom Forest', 'Adaboost', 'Keras', 'ARIMA', 'Pipeline_1', 'Pipeline_2', 'SEMA'], \n",
        "                         'RMSE Value': [rmse_rf, rmse_ab, rmse_kr, rmse_arima, rmse_stack1, rmse_stack2, rmse_sema]})\n",
        "df_rmse"
      ],
      "metadata": {
        "colab": {
          "base_uri": "https://localhost:8080/",
          "height": 269
        },
        "id": "9OX0YEu1IoR1",
        "outputId": "15759a23-840b-4ca6-b935-34786dcdfc90"
      },
      "execution_count": 144,
      "outputs": [
        {
          "output_type": "execute_result",
          "data": {
            "text/plain": [
              "      Model Name  RMSE Value\n",
              "0  Ramdom Forest   21.153094\n",
              "1       Adaboost   21.956667\n",
              "2          Keras  327.565279\n",
              "3          ARIMA   22.389771\n",
              "4     Pipeline_1  279.420194\n",
              "5     Pipeline_2  272.224773\n",
              "6           SEMA    9.437506"
            ],
            "text/html": [
              "\n",
              "  <div id=\"df-29325849-a02a-4a7e-8586-f3d6dde4ac39\">\n",
              "    <div class=\"colab-df-container\">\n",
              "      <div>\n",
              "<style scoped>\n",
              "    .dataframe tbody tr th:only-of-type {\n",
              "        vertical-align: middle;\n",
              "    }\n",
              "\n",
              "    .dataframe tbody tr th {\n",
              "        vertical-align: top;\n",
              "    }\n",
              "\n",
              "    .dataframe thead th {\n",
              "        text-align: right;\n",
              "    }\n",
              "</style>\n",
              "<table border=\"1\" class=\"dataframe\">\n",
              "  <thead>\n",
              "    <tr style=\"text-align: right;\">\n",
              "      <th></th>\n",
              "      <th>Model Name</th>\n",
              "      <th>RMSE Value</th>\n",
              "    </tr>\n",
              "  </thead>\n",
              "  <tbody>\n",
              "    <tr>\n",
              "      <th>0</th>\n",
              "      <td>Ramdom Forest</td>\n",
              "      <td>21.153094</td>\n",
              "    </tr>\n",
              "    <tr>\n",
              "      <th>1</th>\n",
              "      <td>Adaboost</td>\n",
              "      <td>21.956667</td>\n",
              "    </tr>\n",
              "    <tr>\n",
              "      <th>2</th>\n",
              "      <td>Keras</td>\n",
              "      <td>327.565279</td>\n",
              "    </tr>\n",
              "    <tr>\n",
              "      <th>3</th>\n",
              "      <td>ARIMA</td>\n",
              "      <td>22.389771</td>\n",
              "    </tr>\n",
              "    <tr>\n",
              "      <th>4</th>\n",
              "      <td>Pipeline_1</td>\n",
              "      <td>279.420194</td>\n",
              "    </tr>\n",
              "    <tr>\n",
              "      <th>5</th>\n",
              "      <td>Pipeline_2</td>\n",
              "      <td>272.224773</td>\n",
              "    </tr>\n",
              "    <tr>\n",
              "      <th>6</th>\n",
              "      <td>SEMA</td>\n",
              "      <td>9.437506</td>\n",
              "    </tr>\n",
              "  </tbody>\n",
              "</table>\n",
              "</div>\n",
              "      <button class=\"colab-df-convert\" onclick=\"convertToInteractive('df-29325849-a02a-4a7e-8586-f3d6dde4ac39')\"\n",
              "              title=\"Convert this dataframe to an interactive table.\"\n",
              "              style=\"display:none;\">\n",
              "        \n",
              "  <svg xmlns=\"http://www.w3.org/2000/svg\" height=\"24px\"viewBox=\"0 0 24 24\"\n",
              "       width=\"24px\">\n",
              "    <path d=\"M0 0h24v24H0V0z\" fill=\"none\"/>\n",
              "    <path d=\"M18.56 5.44l.94 2.06.94-2.06 2.06-.94-2.06-.94-.94-2.06-.94 2.06-2.06.94zm-11 1L8.5 8.5l.94-2.06 2.06-.94-2.06-.94L8.5 2.5l-.94 2.06-2.06.94zm10 10l.94 2.06.94-2.06 2.06-.94-2.06-.94-.94-2.06-.94 2.06-2.06.94z\"/><path d=\"M17.41 7.96l-1.37-1.37c-.4-.4-.92-.59-1.43-.59-.52 0-1.04.2-1.43.59L10.3 9.45l-7.72 7.72c-.78.78-.78 2.05 0 2.83L4 21.41c.39.39.9.59 1.41.59.51 0 1.02-.2 1.41-.59l7.78-7.78 2.81-2.81c.8-.78.8-2.07 0-2.86zM5.41 20L4 18.59l7.72-7.72 1.47 1.35L5.41 20z\"/>\n",
              "  </svg>\n",
              "      </button>\n",
              "      \n",
              "  <style>\n",
              "    .colab-df-container {\n",
              "      display:flex;\n",
              "      flex-wrap:wrap;\n",
              "      gap: 12px;\n",
              "    }\n",
              "\n",
              "    .colab-df-convert {\n",
              "      background-color: #E8F0FE;\n",
              "      border: none;\n",
              "      border-radius: 50%;\n",
              "      cursor: pointer;\n",
              "      display: none;\n",
              "      fill: #1967D2;\n",
              "      height: 32px;\n",
              "      padding: 0 0 0 0;\n",
              "      width: 32px;\n",
              "    }\n",
              "\n",
              "    .colab-df-convert:hover {\n",
              "      background-color: #E2EBFA;\n",
              "      box-shadow: 0px 1px 2px rgba(60, 64, 67, 0.3), 0px 1px 3px 1px rgba(60, 64, 67, 0.15);\n",
              "      fill: #174EA6;\n",
              "    }\n",
              "\n",
              "    [theme=dark] .colab-df-convert {\n",
              "      background-color: #3B4455;\n",
              "      fill: #D2E3FC;\n",
              "    }\n",
              "\n",
              "    [theme=dark] .colab-df-convert:hover {\n",
              "      background-color: #434B5C;\n",
              "      box-shadow: 0px 1px 3px 1px rgba(0, 0, 0, 0.15);\n",
              "      filter: drop-shadow(0px 1px 2px rgba(0, 0, 0, 0.3));\n",
              "      fill: #FFFFFF;\n",
              "    }\n",
              "  </style>\n",
              "\n",
              "      <script>\n",
              "        const buttonEl =\n",
              "          document.querySelector('#df-29325849-a02a-4a7e-8586-f3d6dde4ac39 button.colab-df-convert');\n",
              "        buttonEl.style.display =\n",
              "          google.colab.kernel.accessAllowed ? 'block' : 'none';\n",
              "\n",
              "        async function convertToInteractive(key) {\n",
              "          const element = document.querySelector('#df-29325849-a02a-4a7e-8586-f3d6dde4ac39');\n",
              "          const dataTable =\n",
              "            await google.colab.kernel.invokeFunction('convertToInteractive',\n",
              "                                                     [key], {});\n",
              "          if (!dataTable) return;\n",
              "\n",
              "          const docLinkHtml = 'Like what you see? Visit the ' +\n",
              "            '<a target=\"_blank\" href=https://colab.research.google.com/notebooks/data_table.ipynb>data table notebook</a>'\n",
              "            + ' to learn more about interactive tables.';\n",
              "          element.innerHTML = '';\n",
              "          dataTable['output_type'] = 'display_data';\n",
              "          await google.colab.output.renderOutput(dataTable, element);\n",
              "          const docLink = document.createElement('div');\n",
              "          docLink.innerHTML = docLinkHtml;\n",
              "          element.appendChild(docLink);\n",
              "        }\n",
              "      </script>\n",
              "    </div>\n",
              "  </div>\n",
              "  "
            ]
          },
          "metadata": {},
          "execution_count": 144
        }
      ]
    },
    {
      "cell_type": "markdown",
      "source": [
        "Final Conclusion: By analyzing RMSE values and prediction charts for closeness of predicted values to actual values, we can certainly confirm that Smoothed Exponential Moving Average is the best prediction method. "
      ],
      "metadata": {
        "id": "MZiXehiMLC8G"
      }
    }
  ]
}