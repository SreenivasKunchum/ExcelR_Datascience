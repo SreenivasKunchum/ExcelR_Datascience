{
  "nbformat": 4,
  "nbformat_minor": 0,
  "metadata": {
    "colab": {
      "provenance": [],
      "collapsed_sections": []
    },
    "kernelspec": {
      "name": "python3",
      "display_name": "Python 3"
    },
    "language_info": {
      "name": "python"
    },
    "gpuClass": "standard"
  },
  "cells": [
    {
      "cell_type": "markdown",
      "source": [
        "# **Support Vector Machine (SVM) - Salary Data**"
      ],
      "metadata": {
        "id": "aPawij3MQgdy"
      }
    },
    {
      "cell_type": "code",
      "execution_count": 1,
      "metadata": {
        "id": "iNzWIAOEvrm0"
      },
      "outputs": [],
      "source": [
        "import pandas as pd\n",
        "import numpy as np\n",
        "\n",
        "from sklearn.model_selection import train_test_split, GridSearchCV\n",
        "\n",
        "from sklearn.svm import SVC\n",
        "from sklearn.metrics import confusion_matrix, classification_report, accuracy_score"
      ]
    },
    {
      "cell_type": "code",
      "source": [
        "# Read csv file and store data for processing\n",
        "df_sal_train = pd.read_csv('SalaryData_Train.csv')\n",
        "df_sal_train.head()"
      ],
      "metadata": {
        "colab": {
          "base_uri": "https://localhost:8080/",
          "height": 357
        },
        "id": "-DoO-Nj0RSlc",
        "outputId": "376fe598-e3fd-48e0-8bbe-8ffd3a3f8a53"
      },
      "execution_count": 2,
      "outputs": [
        {
          "output_type": "execute_result",
          "data": {
            "text/plain": [
              "   age          workclass   education  educationno        maritalstatus  \\\n",
              "0   39          State-gov   Bachelors           13        Never-married   \n",
              "1   50   Self-emp-not-inc   Bachelors           13   Married-civ-spouse   \n",
              "2   38            Private     HS-grad            9             Divorced   \n",
              "3   53            Private        11th            7   Married-civ-spouse   \n",
              "4   28            Private   Bachelors           13   Married-civ-spouse   \n",
              "\n",
              "           occupation    relationship    race      sex  capitalgain  \\\n",
              "0        Adm-clerical   Not-in-family   White     Male         2174   \n",
              "1     Exec-managerial         Husband   White     Male            0   \n",
              "2   Handlers-cleaners   Not-in-family   White     Male            0   \n",
              "3   Handlers-cleaners         Husband   Black     Male            0   \n",
              "4      Prof-specialty            Wife   Black   Female            0   \n",
              "\n",
              "   capitalloss  hoursperweek          native  Salary  \n",
              "0            0            40   United-States   <=50K  \n",
              "1            0            13   United-States   <=50K  \n",
              "2            0            40   United-States   <=50K  \n",
              "3            0            40   United-States   <=50K  \n",
              "4            0            40            Cuba   <=50K  "
            ],
            "text/html": [
              "\n",
              "  <div id=\"df-1b0f801f-6faf-44de-9a61-198e4168c208\">\n",
              "    <div class=\"colab-df-container\">\n",
              "      <div>\n",
              "<style scoped>\n",
              "    .dataframe tbody tr th:only-of-type {\n",
              "        vertical-align: middle;\n",
              "    }\n",
              "\n",
              "    .dataframe tbody tr th {\n",
              "        vertical-align: top;\n",
              "    }\n",
              "\n",
              "    .dataframe thead th {\n",
              "        text-align: right;\n",
              "    }\n",
              "</style>\n",
              "<table border=\"1\" class=\"dataframe\">\n",
              "  <thead>\n",
              "    <tr style=\"text-align: right;\">\n",
              "      <th></th>\n",
              "      <th>age</th>\n",
              "      <th>workclass</th>\n",
              "      <th>education</th>\n",
              "      <th>educationno</th>\n",
              "      <th>maritalstatus</th>\n",
              "      <th>occupation</th>\n",
              "      <th>relationship</th>\n",
              "      <th>race</th>\n",
              "      <th>sex</th>\n",
              "      <th>capitalgain</th>\n",
              "      <th>capitalloss</th>\n",
              "      <th>hoursperweek</th>\n",
              "      <th>native</th>\n",
              "      <th>Salary</th>\n",
              "    </tr>\n",
              "  </thead>\n",
              "  <tbody>\n",
              "    <tr>\n",
              "      <th>0</th>\n",
              "      <td>39</td>\n",
              "      <td>State-gov</td>\n",
              "      <td>Bachelors</td>\n",
              "      <td>13</td>\n",
              "      <td>Never-married</td>\n",
              "      <td>Adm-clerical</td>\n",
              "      <td>Not-in-family</td>\n",
              "      <td>White</td>\n",
              "      <td>Male</td>\n",
              "      <td>2174</td>\n",
              "      <td>0</td>\n",
              "      <td>40</td>\n",
              "      <td>United-States</td>\n",
              "      <td>&lt;=50K</td>\n",
              "    </tr>\n",
              "    <tr>\n",
              "      <th>1</th>\n",
              "      <td>50</td>\n",
              "      <td>Self-emp-not-inc</td>\n",
              "      <td>Bachelors</td>\n",
              "      <td>13</td>\n",
              "      <td>Married-civ-spouse</td>\n",
              "      <td>Exec-managerial</td>\n",
              "      <td>Husband</td>\n",
              "      <td>White</td>\n",
              "      <td>Male</td>\n",
              "      <td>0</td>\n",
              "      <td>0</td>\n",
              "      <td>13</td>\n",
              "      <td>United-States</td>\n",
              "      <td>&lt;=50K</td>\n",
              "    </tr>\n",
              "    <tr>\n",
              "      <th>2</th>\n",
              "      <td>38</td>\n",
              "      <td>Private</td>\n",
              "      <td>HS-grad</td>\n",
              "      <td>9</td>\n",
              "      <td>Divorced</td>\n",
              "      <td>Handlers-cleaners</td>\n",
              "      <td>Not-in-family</td>\n",
              "      <td>White</td>\n",
              "      <td>Male</td>\n",
              "      <td>0</td>\n",
              "      <td>0</td>\n",
              "      <td>40</td>\n",
              "      <td>United-States</td>\n",
              "      <td>&lt;=50K</td>\n",
              "    </tr>\n",
              "    <tr>\n",
              "      <th>3</th>\n",
              "      <td>53</td>\n",
              "      <td>Private</td>\n",
              "      <td>11th</td>\n",
              "      <td>7</td>\n",
              "      <td>Married-civ-spouse</td>\n",
              "      <td>Handlers-cleaners</td>\n",
              "      <td>Husband</td>\n",
              "      <td>Black</td>\n",
              "      <td>Male</td>\n",
              "      <td>0</td>\n",
              "      <td>0</td>\n",
              "      <td>40</td>\n",
              "      <td>United-States</td>\n",
              "      <td>&lt;=50K</td>\n",
              "    </tr>\n",
              "    <tr>\n",
              "      <th>4</th>\n",
              "      <td>28</td>\n",
              "      <td>Private</td>\n",
              "      <td>Bachelors</td>\n",
              "      <td>13</td>\n",
              "      <td>Married-civ-spouse</td>\n",
              "      <td>Prof-specialty</td>\n",
              "      <td>Wife</td>\n",
              "      <td>Black</td>\n",
              "      <td>Female</td>\n",
              "      <td>0</td>\n",
              "      <td>0</td>\n",
              "      <td>40</td>\n",
              "      <td>Cuba</td>\n",
              "      <td>&lt;=50K</td>\n",
              "    </tr>\n",
              "  </tbody>\n",
              "</table>\n",
              "</div>\n",
              "      <button class=\"colab-df-convert\" onclick=\"convertToInteractive('df-1b0f801f-6faf-44de-9a61-198e4168c208')\"\n",
              "              title=\"Convert this dataframe to an interactive table.\"\n",
              "              style=\"display:none;\">\n",
              "        \n",
              "  <svg xmlns=\"http://www.w3.org/2000/svg\" height=\"24px\"viewBox=\"0 0 24 24\"\n",
              "       width=\"24px\">\n",
              "    <path d=\"M0 0h24v24H0V0z\" fill=\"none\"/>\n",
              "    <path d=\"M18.56 5.44l.94 2.06.94-2.06 2.06-.94-2.06-.94-.94-2.06-.94 2.06-2.06.94zm-11 1L8.5 8.5l.94-2.06 2.06-.94-2.06-.94L8.5 2.5l-.94 2.06-2.06.94zm10 10l.94 2.06.94-2.06 2.06-.94-2.06-.94-.94-2.06-.94 2.06-2.06.94z\"/><path d=\"M17.41 7.96l-1.37-1.37c-.4-.4-.92-.59-1.43-.59-.52 0-1.04.2-1.43.59L10.3 9.45l-7.72 7.72c-.78.78-.78 2.05 0 2.83L4 21.41c.39.39.9.59 1.41.59.51 0 1.02-.2 1.41-.59l7.78-7.78 2.81-2.81c.8-.78.8-2.07 0-2.86zM5.41 20L4 18.59l7.72-7.72 1.47 1.35L5.41 20z\"/>\n",
              "  </svg>\n",
              "      </button>\n",
              "      \n",
              "  <style>\n",
              "    .colab-df-container {\n",
              "      display:flex;\n",
              "      flex-wrap:wrap;\n",
              "      gap: 12px;\n",
              "    }\n",
              "\n",
              "    .colab-df-convert {\n",
              "      background-color: #E8F0FE;\n",
              "      border: none;\n",
              "      border-radius: 50%;\n",
              "      cursor: pointer;\n",
              "      display: none;\n",
              "      fill: #1967D2;\n",
              "      height: 32px;\n",
              "      padding: 0 0 0 0;\n",
              "      width: 32px;\n",
              "    }\n",
              "\n",
              "    .colab-df-convert:hover {\n",
              "      background-color: #E2EBFA;\n",
              "      box-shadow: 0px 1px 2px rgba(60, 64, 67, 0.3), 0px 1px 3px 1px rgba(60, 64, 67, 0.15);\n",
              "      fill: #174EA6;\n",
              "    }\n",
              "\n",
              "    [theme=dark] .colab-df-convert {\n",
              "      background-color: #3B4455;\n",
              "      fill: #D2E3FC;\n",
              "    }\n",
              "\n",
              "    [theme=dark] .colab-df-convert:hover {\n",
              "      background-color: #434B5C;\n",
              "      box-shadow: 0px 1px 3px 1px rgba(0, 0, 0, 0.15);\n",
              "      filter: drop-shadow(0px 1px 2px rgba(0, 0, 0, 0.3));\n",
              "      fill: #FFFFFF;\n",
              "    }\n",
              "  </style>\n",
              "\n",
              "      <script>\n",
              "        const buttonEl =\n",
              "          document.querySelector('#df-1b0f801f-6faf-44de-9a61-198e4168c208 button.colab-df-convert');\n",
              "        buttonEl.style.display =\n",
              "          google.colab.kernel.accessAllowed ? 'block' : 'none';\n",
              "\n",
              "        async function convertToInteractive(key) {\n",
              "          const element = document.querySelector('#df-1b0f801f-6faf-44de-9a61-198e4168c208');\n",
              "          const dataTable =\n",
              "            await google.colab.kernel.invokeFunction('convertToInteractive',\n",
              "                                                     [key], {});\n",
              "          if (!dataTable) return;\n",
              "\n",
              "          const docLinkHtml = 'Like what you see? Visit the ' +\n",
              "            '<a target=\"_blank\" href=https://colab.research.google.com/notebooks/data_table.ipynb>data table notebook</a>'\n",
              "            + ' to learn more about interactive tables.';\n",
              "          element.innerHTML = '';\n",
              "          dataTable['output_type'] = 'display_data';\n",
              "          await google.colab.output.renderOutput(dataTable, element);\n",
              "          const docLink = document.createElement('div');\n",
              "          docLink.innerHTML = docLinkHtml;\n",
              "          element.appendChild(docLink);\n",
              "        }\n",
              "      </script>\n",
              "    </div>\n",
              "  </div>\n",
              "  "
            ]
          },
          "metadata": {},
          "execution_count": 2
        }
      ]
    },
    {
      "cell_type": "markdown",
      "source": [
        "## **Exploratory Data Analysis (EDA)**"
      ],
      "metadata": {
        "id": "oBZy5wVzSAUY"
      }
    },
    {
      "cell_type": "code",
      "source": [
        "df_sal_train.shape"
      ],
      "metadata": {
        "colab": {
          "base_uri": "https://localhost:8080/"
        },
        "id": "UvAweTe5SGUy",
        "outputId": "9fe9334d-3318-4771-c033-f186af6727c5"
      },
      "execution_count": 3,
      "outputs": [
        {
          "output_type": "execute_result",
          "data": {
            "text/plain": [
              "(30161, 14)"
            ]
          },
          "metadata": {},
          "execution_count": 3
        }
      ]
    },
    {
      "cell_type": "code",
      "source": [
        "df_sal_train.info()"
      ],
      "metadata": {
        "colab": {
          "base_uri": "https://localhost:8080/"
        },
        "id": "YvUM4-HfSYbd",
        "outputId": "34848139-aec2-4249-949a-1ae204dbaf41"
      },
      "execution_count": 4,
      "outputs": [
        {
          "output_type": "stream",
          "name": "stdout",
          "text": [
            "<class 'pandas.core.frame.DataFrame'>\n",
            "RangeIndex: 30161 entries, 0 to 30160\n",
            "Data columns (total 14 columns):\n",
            " #   Column         Non-Null Count  Dtype \n",
            "---  ------         --------------  ----- \n",
            " 0   age            30161 non-null  int64 \n",
            " 1   workclass      30161 non-null  object\n",
            " 2   education      30161 non-null  object\n",
            " 3   educationno    30161 non-null  int64 \n",
            " 4   maritalstatus  30161 non-null  object\n",
            " 5   occupation     30161 non-null  object\n",
            " 6   relationship   30161 non-null  object\n",
            " 7   race           30161 non-null  object\n",
            " 8   sex            30161 non-null  object\n",
            " 9   capitalgain    30161 non-null  int64 \n",
            " 10  capitalloss    30161 non-null  int64 \n",
            " 11  hoursperweek   30161 non-null  int64 \n",
            " 12  native         30161 non-null  object\n",
            " 13  Salary         30161 non-null  object\n",
            "dtypes: int64(5), object(9)\n",
            "memory usage: 3.2+ MB\n"
          ]
        }
      ]
    },
    {
      "cell_type": "markdown",
      "source": [
        "Note: maritcalstatus, relationship and race columns may not impact salary finalization. So, dropping these columns."
      ],
      "metadata": {
        "id": "YqMhOiytTX_N"
      }
    },
    {
      "cell_type": "code",
      "source": [
        "df_sal_train = df_sal_train.drop(['maritalstatus', 'relationship', 'race'], axis=1)\n",
        "df_sal_train.info()"
      ],
      "metadata": {
        "colab": {
          "base_uri": "https://localhost:8080/"
        },
        "id": "p5hd0BnATkyv",
        "outputId": "c190aea8-8550-4c03-94b4-51a9fb324b0d"
      },
      "execution_count": 5,
      "outputs": [
        {
          "output_type": "stream",
          "name": "stdout",
          "text": [
            "<class 'pandas.core.frame.DataFrame'>\n",
            "RangeIndex: 30161 entries, 0 to 30160\n",
            "Data columns (total 11 columns):\n",
            " #   Column        Non-Null Count  Dtype \n",
            "---  ------        --------------  ----- \n",
            " 0   age           30161 non-null  int64 \n",
            " 1   workclass     30161 non-null  object\n",
            " 2   education     30161 non-null  object\n",
            " 3   educationno   30161 non-null  int64 \n",
            " 4   occupation    30161 non-null  object\n",
            " 5   sex           30161 non-null  object\n",
            " 6   capitalgain   30161 non-null  int64 \n",
            " 7   capitalloss   30161 non-null  int64 \n",
            " 8   hoursperweek  30161 non-null  int64 \n",
            " 9   native        30161 non-null  object\n",
            " 10  Salary        30161 non-null  object\n",
            "dtypes: int64(5), object(6)\n",
            "memory usage: 2.5+ MB\n"
          ]
        }
      ]
    },
    {
      "cell_type": "code",
      "source": [
        "df_sal_train.shape"
      ],
      "metadata": {
        "colab": {
          "base_uri": "https://localhost:8080/"
        },
        "id": "2hfov1tPTTQM",
        "outputId": "8c590caf-cc5e-4d72-df04-d4ccf989454a"
      },
      "execution_count": 6,
      "outputs": [
        {
          "output_type": "execute_result",
          "data": {
            "text/plain": [
              "(30161, 11)"
            ]
          },
          "metadata": {},
          "execution_count": 6
        }
      ]
    },
    {
      "cell_type": "code",
      "source": [
        "# Convert all string object columns to categorical columns\n",
        "columns = ['workclass', 'education', 'occupation', 'sex', 'native', 'Salary']\n",
        "\n",
        "for x in columns:\n",
        "  df_sal_train[x] = df_sal_train[x].astype('category')\n",
        "\n",
        "df_sal_train.info()"
      ],
      "metadata": {
        "colab": {
          "base_uri": "https://localhost:8080/"
        },
        "id": "iXu87BrnScPI",
        "outputId": "ec77ce4c-c722-464f-ad68-ecc151c1706f"
      },
      "execution_count": 7,
      "outputs": [
        {
          "output_type": "stream",
          "name": "stdout",
          "text": [
            "<class 'pandas.core.frame.DataFrame'>\n",
            "RangeIndex: 30161 entries, 0 to 30160\n",
            "Data columns (total 11 columns):\n",
            " #   Column        Non-Null Count  Dtype   \n",
            "---  ------        --------------  -----   \n",
            " 0   age           30161 non-null  int64   \n",
            " 1   workclass     30161 non-null  category\n",
            " 2   education     30161 non-null  category\n",
            " 3   educationno   30161 non-null  int64   \n",
            " 4   occupation    30161 non-null  category\n",
            " 5   sex           30161 non-null  category\n",
            " 6   capitalgain   30161 non-null  int64   \n",
            " 7   capitalloss   30161 non-null  int64   \n",
            " 8   hoursperweek  30161 non-null  int64   \n",
            " 9   native        30161 non-null  category\n",
            " 10  Salary        30161 non-null  category\n",
            "dtypes: category(6), int64(5)\n",
            "memory usage: 1.3 MB\n"
          ]
        }
      ]
    },
    {
      "cell_type": "code",
      "source": [
        "# Change categorical input features to dummies\n",
        "# Change output categorical values to numeric catcodes \n",
        "df_temp = pd.get_dummies(df_sal_train.drop('Salary', axis=1))\n",
        "df_temp['Salary'] = df_sal_train['Salary'].cat.codes \n",
        "\n",
        "df_temp.info()"
      ],
      "metadata": {
        "colab": {
          "base_uri": "https://localhost:8080/"
        },
        "id": "FZmiarQJUnzr",
        "outputId": "da45718a-deed-4d3d-de3b-0899a5a99612"
      },
      "execution_count": 8,
      "outputs": [
        {
          "output_type": "stream",
          "name": "stdout",
          "text": [
            "<class 'pandas.core.frame.DataFrame'>\n",
            "RangeIndex: 30161 entries, 0 to 30160\n",
            "Data columns (total 85 columns):\n",
            " #   Column                              Non-Null Count  Dtype\n",
            "---  ------                              --------------  -----\n",
            " 0   age                                 30161 non-null  int64\n",
            " 1   educationno                         30161 non-null  int64\n",
            " 2   capitalgain                         30161 non-null  int64\n",
            " 3   capitalloss                         30161 non-null  int64\n",
            " 4   hoursperweek                        30161 non-null  int64\n",
            " 5   workclass_ Federal-gov              30161 non-null  uint8\n",
            " 6   workclass_ Local-gov                30161 non-null  uint8\n",
            " 7   workclass_ Private                  30161 non-null  uint8\n",
            " 8   workclass_ Self-emp-inc             30161 non-null  uint8\n",
            " 9   workclass_ Self-emp-not-inc         30161 non-null  uint8\n",
            " 10  workclass_ State-gov                30161 non-null  uint8\n",
            " 11  workclass_ Without-pay              30161 non-null  uint8\n",
            " 12  education_ 10th                     30161 non-null  uint8\n",
            " 13  education_ 11th                     30161 non-null  uint8\n",
            " 14  education_ 12th                     30161 non-null  uint8\n",
            " 15  education_ 1st-4th                  30161 non-null  uint8\n",
            " 16  education_ 5th-6th                  30161 non-null  uint8\n",
            " 17  education_ 7th-8th                  30161 non-null  uint8\n",
            " 18  education_ 9th                      30161 non-null  uint8\n",
            " 19  education_ Assoc-acdm               30161 non-null  uint8\n",
            " 20  education_ Assoc-voc                30161 non-null  uint8\n",
            " 21  education_ Bachelors                30161 non-null  uint8\n",
            " 22  education_ Doctorate                30161 non-null  uint8\n",
            " 23  education_ HS-grad                  30161 non-null  uint8\n",
            " 24  education_ Masters                  30161 non-null  uint8\n",
            " 25  education_ Preschool                30161 non-null  uint8\n",
            " 26  education_ Prof-school              30161 non-null  uint8\n",
            " 27  education_ Some-college             30161 non-null  uint8\n",
            " 28  occupation_ Adm-clerical            30161 non-null  uint8\n",
            " 29  occupation_ Armed-Forces            30161 non-null  uint8\n",
            " 30  occupation_ Craft-repair            30161 non-null  uint8\n",
            " 31  occupation_ Exec-managerial         30161 non-null  uint8\n",
            " 32  occupation_ Farming-fishing         30161 non-null  uint8\n",
            " 33  occupation_ Handlers-cleaners       30161 non-null  uint8\n",
            " 34  occupation_ Machine-op-inspct       30161 non-null  uint8\n",
            " 35  occupation_ Other-service           30161 non-null  uint8\n",
            " 36  occupation_ Priv-house-serv         30161 non-null  uint8\n",
            " 37  occupation_ Prof-specialty          30161 non-null  uint8\n",
            " 38  occupation_ Protective-serv         30161 non-null  uint8\n",
            " 39  occupation_ Sales                   30161 non-null  uint8\n",
            " 40  occupation_ Tech-support            30161 non-null  uint8\n",
            " 41  occupation_ Transport-moving        30161 non-null  uint8\n",
            " 42  sex_ Female                         30161 non-null  uint8\n",
            " 43  sex_ Male                           30161 non-null  uint8\n",
            " 44  native_ Cambodia                    30161 non-null  uint8\n",
            " 45  native_ Canada                      30161 non-null  uint8\n",
            " 46  native_ China                       30161 non-null  uint8\n",
            " 47  native_ Columbia                    30161 non-null  uint8\n",
            " 48  native_ Cuba                        30161 non-null  uint8\n",
            " 49  native_ Dominican-Republic          30161 non-null  uint8\n",
            " 50  native_ Ecuador                     30161 non-null  uint8\n",
            " 51  native_ El-Salvador                 30161 non-null  uint8\n",
            " 52  native_ England                     30161 non-null  uint8\n",
            " 53  native_ France                      30161 non-null  uint8\n",
            " 54  native_ Germany                     30161 non-null  uint8\n",
            " 55  native_ Greece                      30161 non-null  uint8\n",
            " 56  native_ Guatemala                   30161 non-null  uint8\n",
            " 57  native_ Haiti                       30161 non-null  uint8\n",
            " 58  native_ Honduras                    30161 non-null  uint8\n",
            " 59  native_ Hong                        30161 non-null  uint8\n",
            " 60  native_ Hungary                     30161 non-null  uint8\n",
            " 61  native_ India                       30161 non-null  uint8\n",
            " 62  native_ Iran                        30161 non-null  uint8\n",
            " 63  native_ Ireland                     30161 non-null  uint8\n",
            " 64  native_ Italy                       30161 non-null  uint8\n",
            " 65  native_ Jamaica                     30161 non-null  uint8\n",
            " 66  native_ Japan                       30161 non-null  uint8\n",
            " 67  native_ Laos                        30161 non-null  uint8\n",
            " 68  native_ Mexico                      30161 non-null  uint8\n",
            " 69  native_ Nicaragua                   30161 non-null  uint8\n",
            " 70  native_ Outlying-US(Guam-USVI-etc)  30161 non-null  uint8\n",
            " 71  native_ Peru                        30161 non-null  uint8\n",
            " 72  native_ Philippines                 30161 non-null  uint8\n",
            " 73  native_ Poland                      30161 non-null  uint8\n",
            " 74  native_ Portugal                    30161 non-null  uint8\n",
            " 75  native_ Puerto-Rico                 30161 non-null  uint8\n",
            " 76  native_ Scotland                    30161 non-null  uint8\n",
            " 77  native_ South                       30161 non-null  uint8\n",
            " 78  native_ Taiwan                      30161 non-null  uint8\n",
            " 79  native_ Thailand                    30161 non-null  uint8\n",
            " 80  native_ Trinadad&Tobago             30161 non-null  uint8\n",
            " 81  native_ United-States               30161 non-null  uint8\n",
            " 82  native_ Vietnam                     30161 non-null  uint8\n",
            " 83  native_ Yugoslavia                  30161 non-null  uint8\n",
            " 84  Salary                              30161 non-null  int8 \n",
            "dtypes: int64(5), int8(1), uint8(79)\n",
            "memory usage: 3.5 MB\n"
          ]
        }
      ]
    },
    {
      "cell_type": "code",
      "source": [
        "# Separate out x and y variables\n",
        "x = df_temp.drop('Salary', axis=1)\n",
        "y = df_temp['Salary']\n",
        "\n",
        "print('x shape: ', x.shape)\n",
        "print('y shape: ', y.shape)"
      ],
      "metadata": {
        "colab": {
          "base_uri": "https://localhost:8080/"
        },
        "id": "u_Q_00D6YCSD",
        "outputId": "ef9fa97d-ee6c-4e58-814f-17eaeccdff6d"
      },
      "execution_count": 9,
      "outputs": [
        {
          "output_type": "stream",
          "name": "stdout",
          "text": [
            "x shape:  (30161, 84)\n",
            "y shape:  (30161,)\n"
          ]
        }
      ]
    },
    {
      "cell_type": "markdown",
      "source": [
        "## **Hyper Parameter Tuning**"
      ],
      "metadata": {
        "id": "t3cMeY_DWK1F"
      }
    },
    {
      "cell_type": "markdown",
      "source": [
        "Note: Since data is large about 30161 rows, GridsearchCV for getting best hyper parameters, step execution did not complete even after 20 mins. \n",
        "\n",
        "Initially tried after converting input categorical columns to dummies columns. Execution did not complete even after 20 mins with GPU. \n",
        "\n",
        "Hence, tried again by changing categorical values to category numeric codes instead of creating many dummy columns. This also did not complete even after 10 minutes. \n",
        "\n",
        "So, skipped this step for this problem."
      ],
      "metadata": {
        "id": "blv5jilXgp4q"
      }
    },
    {
      "cell_type": "markdown",
      "source": [
        "## **SVM Model Creation**"
      ],
      "metadata": {
        "id": "-UA9gs-dy_MI"
      }
    },
    {
      "cell_type": "code",
      "source": [
        "svc = SVC(C=0.1, kernel='rbf')"
      ],
      "metadata": {
        "id": "EYEuD1Agzq0o"
      },
      "execution_count": 10,
      "outputs": []
    },
    {
      "cell_type": "code",
      "source": [
        "svc.fit(x,y)"
      ],
      "metadata": {
        "id": "F_h7j3cPz5xC",
        "colab": {
          "base_uri": "https://localhost:8080/"
        },
        "outputId": "239c3aa9-72f6-497c-ed75-75b21a895af7"
      },
      "execution_count": 11,
      "outputs": [
        {
          "output_type": "execute_result",
          "data": {
            "text/plain": [
              "SVC(C=0.1)"
            ]
          },
          "metadata": {},
          "execution_count": 11
        }
      ]
    },
    {
      "cell_type": "code",
      "source": [
        "preds = svc.predict(x)"
      ],
      "metadata": {
        "id": "mI8gbfb90PmQ"
      },
      "execution_count": 12,
      "outputs": []
    },
    {
      "cell_type": "code",
      "source": [
        "confusion_matrix(y, preds)"
      ],
      "metadata": {
        "colab": {
          "base_uri": "https://localhost:8080/"
        },
        "id": "dJxZgoi10J3o",
        "outputId": "033d72f2-6509-42d6-e785-120992fa22bd"
      },
      "execution_count": 13,
      "outputs": [
        {
          "output_type": "execute_result",
          "data": {
            "text/plain": [
              "array([[21942,   711],\n",
              "       [ 5449,  2059]])"
            ]
          },
          "metadata": {},
          "execution_count": 13
        }
      ]
    },
    {
      "cell_type": "code",
      "source": [
        "print(classification_report(y,preds))"
      ],
      "metadata": {
        "colab": {
          "base_uri": "https://localhost:8080/"
        },
        "id": "4ZXFIHR70iJI",
        "outputId": "19874197-df6d-46e6-e59a-6a79e3a84fc6"
      },
      "execution_count": 14,
      "outputs": [
        {
          "output_type": "stream",
          "name": "stdout",
          "text": [
            "              precision    recall  f1-score   support\n",
            "\n",
            "           0       0.80      0.97      0.88     22653\n",
            "           1       0.74      0.27      0.40      7508\n",
            "\n",
            "    accuracy                           0.80     30161\n",
            "   macro avg       0.77      0.62      0.64     30161\n",
            "weighted avg       0.79      0.80      0.76     30161\n",
            "\n"
          ]
        }
      ]
    },
    {
      "cell_type": "code",
      "source": [
        "accuracy_score(y,preds)"
      ],
      "metadata": {
        "colab": {
          "base_uri": "https://localhost:8080/"
        },
        "id": "XB8Noloe0q3W",
        "outputId": "193bbada-363a-451d-d990-b63aad3731c7"
      },
      "execution_count": 15,
      "outputs": [
        {
          "output_type": "execute_result",
          "data": {
            "text/plain": [
              "0.7957627399622028"
            ]
          },
          "metadata": {},
          "execution_count": 15
        }
      ]
    },
    {
      "cell_type": "markdown",
      "source": [
        "Note: SVM model got created with 79% accuracy"
      ],
      "metadata": {
        "id": "ANoIIN7Z0xTF"
      }
    },
    {
      "cell_type": "markdown",
      "source": [
        "## **Prediction for Test Data**"
      ],
      "metadata": {
        "id": "CJVdIePo059E"
      }
    },
    {
      "cell_type": "code",
      "source": [
        "# Read test csv file and store data for processing\n",
        "df_sal_test = pd.read_csv('SalaryData_Test.csv')\n",
        "df_sal_test.head()"
      ],
      "metadata": {
        "colab": {
          "base_uri": "https://localhost:8080/",
          "height": 357
        },
        "outputId": "9d98c320-1098-46bf-9bc6-9cc2490b9036",
        "id": "FdEeIk121Nlp"
      },
      "execution_count": 16,
      "outputs": [
        {
          "output_type": "execute_result",
          "data": {
            "text/plain": [
              "   age   workclass      education  educationno        maritalstatus  \\\n",
              "0   25     Private           11th            7        Never-married   \n",
              "1   38     Private        HS-grad            9   Married-civ-spouse   \n",
              "2   28   Local-gov     Assoc-acdm           12   Married-civ-spouse   \n",
              "3   44     Private   Some-college           10   Married-civ-spouse   \n",
              "4   34     Private           10th            6        Never-married   \n",
              "\n",
              "           occupation    relationship    race    sex  capitalgain  \\\n",
              "0   Machine-op-inspct       Own-child   Black   Male            0   \n",
              "1     Farming-fishing         Husband   White   Male            0   \n",
              "2     Protective-serv         Husband   White   Male            0   \n",
              "3   Machine-op-inspct         Husband   Black   Male         7688   \n",
              "4       Other-service   Not-in-family   White   Male            0   \n",
              "\n",
              "   capitalloss  hoursperweek          native  Salary  \n",
              "0            0            40   United-States   <=50K  \n",
              "1            0            50   United-States   <=50K  \n",
              "2            0            40   United-States    >50K  \n",
              "3            0            40   United-States    >50K  \n",
              "4            0            30   United-States   <=50K  "
            ],
            "text/html": [
              "\n",
              "  <div id=\"df-eb5fa16c-e22a-4e3a-8162-696b2140b91b\">\n",
              "    <div class=\"colab-df-container\">\n",
              "      <div>\n",
              "<style scoped>\n",
              "    .dataframe tbody tr th:only-of-type {\n",
              "        vertical-align: middle;\n",
              "    }\n",
              "\n",
              "    .dataframe tbody tr th {\n",
              "        vertical-align: top;\n",
              "    }\n",
              "\n",
              "    .dataframe thead th {\n",
              "        text-align: right;\n",
              "    }\n",
              "</style>\n",
              "<table border=\"1\" class=\"dataframe\">\n",
              "  <thead>\n",
              "    <tr style=\"text-align: right;\">\n",
              "      <th></th>\n",
              "      <th>age</th>\n",
              "      <th>workclass</th>\n",
              "      <th>education</th>\n",
              "      <th>educationno</th>\n",
              "      <th>maritalstatus</th>\n",
              "      <th>occupation</th>\n",
              "      <th>relationship</th>\n",
              "      <th>race</th>\n",
              "      <th>sex</th>\n",
              "      <th>capitalgain</th>\n",
              "      <th>capitalloss</th>\n",
              "      <th>hoursperweek</th>\n",
              "      <th>native</th>\n",
              "      <th>Salary</th>\n",
              "    </tr>\n",
              "  </thead>\n",
              "  <tbody>\n",
              "    <tr>\n",
              "      <th>0</th>\n",
              "      <td>25</td>\n",
              "      <td>Private</td>\n",
              "      <td>11th</td>\n",
              "      <td>7</td>\n",
              "      <td>Never-married</td>\n",
              "      <td>Machine-op-inspct</td>\n",
              "      <td>Own-child</td>\n",
              "      <td>Black</td>\n",
              "      <td>Male</td>\n",
              "      <td>0</td>\n",
              "      <td>0</td>\n",
              "      <td>40</td>\n",
              "      <td>United-States</td>\n",
              "      <td>&lt;=50K</td>\n",
              "    </tr>\n",
              "    <tr>\n",
              "      <th>1</th>\n",
              "      <td>38</td>\n",
              "      <td>Private</td>\n",
              "      <td>HS-grad</td>\n",
              "      <td>9</td>\n",
              "      <td>Married-civ-spouse</td>\n",
              "      <td>Farming-fishing</td>\n",
              "      <td>Husband</td>\n",
              "      <td>White</td>\n",
              "      <td>Male</td>\n",
              "      <td>0</td>\n",
              "      <td>0</td>\n",
              "      <td>50</td>\n",
              "      <td>United-States</td>\n",
              "      <td>&lt;=50K</td>\n",
              "    </tr>\n",
              "    <tr>\n",
              "      <th>2</th>\n",
              "      <td>28</td>\n",
              "      <td>Local-gov</td>\n",
              "      <td>Assoc-acdm</td>\n",
              "      <td>12</td>\n",
              "      <td>Married-civ-spouse</td>\n",
              "      <td>Protective-serv</td>\n",
              "      <td>Husband</td>\n",
              "      <td>White</td>\n",
              "      <td>Male</td>\n",
              "      <td>0</td>\n",
              "      <td>0</td>\n",
              "      <td>40</td>\n",
              "      <td>United-States</td>\n",
              "      <td>&gt;50K</td>\n",
              "    </tr>\n",
              "    <tr>\n",
              "      <th>3</th>\n",
              "      <td>44</td>\n",
              "      <td>Private</td>\n",
              "      <td>Some-college</td>\n",
              "      <td>10</td>\n",
              "      <td>Married-civ-spouse</td>\n",
              "      <td>Machine-op-inspct</td>\n",
              "      <td>Husband</td>\n",
              "      <td>Black</td>\n",
              "      <td>Male</td>\n",
              "      <td>7688</td>\n",
              "      <td>0</td>\n",
              "      <td>40</td>\n",
              "      <td>United-States</td>\n",
              "      <td>&gt;50K</td>\n",
              "    </tr>\n",
              "    <tr>\n",
              "      <th>4</th>\n",
              "      <td>34</td>\n",
              "      <td>Private</td>\n",
              "      <td>10th</td>\n",
              "      <td>6</td>\n",
              "      <td>Never-married</td>\n",
              "      <td>Other-service</td>\n",
              "      <td>Not-in-family</td>\n",
              "      <td>White</td>\n",
              "      <td>Male</td>\n",
              "      <td>0</td>\n",
              "      <td>0</td>\n",
              "      <td>30</td>\n",
              "      <td>United-States</td>\n",
              "      <td>&lt;=50K</td>\n",
              "    </tr>\n",
              "  </tbody>\n",
              "</table>\n",
              "</div>\n",
              "      <button class=\"colab-df-convert\" onclick=\"convertToInteractive('df-eb5fa16c-e22a-4e3a-8162-696b2140b91b')\"\n",
              "              title=\"Convert this dataframe to an interactive table.\"\n",
              "              style=\"display:none;\">\n",
              "        \n",
              "  <svg xmlns=\"http://www.w3.org/2000/svg\" height=\"24px\"viewBox=\"0 0 24 24\"\n",
              "       width=\"24px\">\n",
              "    <path d=\"M0 0h24v24H0V0z\" fill=\"none\"/>\n",
              "    <path d=\"M18.56 5.44l.94 2.06.94-2.06 2.06-.94-2.06-.94-.94-2.06-.94 2.06-2.06.94zm-11 1L8.5 8.5l.94-2.06 2.06-.94-2.06-.94L8.5 2.5l-.94 2.06-2.06.94zm10 10l.94 2.06.94-2.06 2.06-.94-2.06-.94-.94-2.06-.94 2.06-2.06.94z\"/><path d=\"M17.41 7.96l-1.37-1.37c-.4-.4-.92-.59-1.43-.59-.52 0-1.04.2-1.43.59L10.3 9.45l-7.72 7.72c-.78.78-.78 2.05 0 2.83L4 21.41c.39.39.9.59 1.41.59.51 0 1.02-.2 1.41-.59l7.78-7.78 2.81-2.81c.8-.78.8-2.07 0-2.86zM5.41 20L4 18.59l7.72-7.72 1.47 1.35L5.41 20z\"/>\n",
              "  </svg>\n",
              "      </button>\n",
              "      \n",
              "  <style>\n",
              "    .colab-df-container {\n",
              "      display:flex;\n",
              "      flex-wrap:wrap;\n",
              "      gap: 12px;\n",
              "    }\n",
              "\n",
              "    .colab-df-convert {\n",
              "      background-color: #E8F0FE;\n",
              "      border: none;\n",
              "      border-radius: 50%;\n",
              "      cursor: pointer;\n",
              "      display: none;\n",
              "      fill: #1967D2;\n",
              "      height: 32px;\n",
              "      padding: 0 0 0 0;\n",
              "      width: 32px;\n",
              "    }\n",
              "\n",
              "    .colab-df-convert:hover {\n",
              "      background-color: #E2EBFA;\n",
              "      box-shadow: 0px 1px 2px rgba(60, 64, 67, 0.3), 0px 1px 3px 1px rgba(60, 64, 67, 0.15);\n",
              "      fill: #174EA6;\n",
              "    }\n",
              "\n",
              "    [theme=dark] .colab-df-convert {\n",
              "      background-color: #3B4455;\n",
              "      fill: #D2E3FC;\n",
              "    }\n",
              "\n",
              "    [theme=dark] .colab-df-convert:hover {\n",
              "      background-color: #434B5C;\n",
              "      box-shadow: 0px 1px 3px 1px rgba(0, 0, 0, 0.15);\n",
              "      filter: drop-shadow(0px 1px 2px rgba(0, 0, 0, 0.3));\n",
              "      fill: #FFFFFF;\n",
              "    }\n",
              "  </style>\n",
              "\n",
              "      <script>\n",
              "        const buttonEl =\n",
              "          document.querySelector('#df-eb5fa16c-e22a-4e3a-8162-696b2140b91b button.colab-df-convert');\n",
              "        buttonEl.style.display =\n",
              "          google.colab.kernel.accessAllowed ? 'block' : 'none';\n",
              "\n",
              "        async function convertToInteractive(key) {\n",
              "          const element = document.querySelector('#df-eb5fa16c-e22a-4e3a-8162-696b2140b91b');\n",
              "          const dataTable =\n",
              "            await google.colab.kernel.invokeFunction('convertToInteractive',\n",
              "                                                     [key], {});\n",
              "          if (!dataTable) return;\n",
              "\n",
              "          const docLinkHtml = 'Like what you see? Visit the ' +\n",
              "            '<a target=\"_blank\" href=https://colab.research.google.com/notebooks/data_table.ipynb>data table notebook</a>'\n",
              "            + ' to learn more about interactive tables.';\n",
              "          element.innerHTML = '';\n",
              "          dataTable['output_type'] = 'display_data';\n",
              "          await google.colab.output.renderOutput(dataTable, element);\n",
              "          const docLink = document.createElement('div');\n",
              "          docLink.innerHTML = docLinkHtml;\n",
              "          element.appendChild(docLink);\n",
              "        }\n",
              "      </script>\n",
              "    </div>\n",
              "  </div>\n",
              "  "
            ]
          },
          "metadata": {},
          "execution_count": 16
        }
      ]
    },
    {
      "cell_type": "markdown",
      "source": [
        "**EDA for Test Data**"
      ],
      "metadata": {
        "id": "Yq071NLm5xC0"
      }
    },
    {
      "cell_type": "code",
      "source": [
        "df_sal_test.shape"
      ],
      "metadata": {
        "id": "Mdy5ryMN1Nlp",
        "colab": {
          "base_uri": "https://localhost:8080/"
        },
        "outputId": "598e12db-f5c7-49cf-942c-a3069f47aedc"
      },
      "execution_count": 17,
      "outputs": [
        {
          "output_type": "execute_result",
          "data": {
            "text/plain": [
              "(15060, 14)"
            ]
          },
          "metadata": {},
          "execution_count": 17
        }
      ]
    },
    {
      "cell_type": "code",
      "source": [
        "df_sal_test.info()"
      ],
      "metadata": {
        "id": "LPIiI2aq1Nlp",
        "colab": {
          "base_uri": "https://localhost:8080/"
        },
        "outputId": "8772584a-bb27-4e7a-a6b6-222d917a3efe"
      },
      "execution_count": 18,
      "outputs": [
        {
          "output_type": "stream",
          "name": "stdout",
          "text": [
            "<class 'pandas.core.frame.DataFrame'>\n",
            "RangeIndex: 15060 entries, 0 to 15059\n",
            "Data columns (total 14 columns):\n",
            " #   Column         Non-Null Count  Dtype \n",
            "---  ------         --------------  ----- \n",
            " 0   age            15060 non-null  int64 \n",
            " 1   workclass      15060 non-null  object\n",
            " 2   education      15060 non-null  object\n",
            " 3   educationno    15060 non-null  int64 \n",
            " 4   maritalstatus  15060 non-null  object\n",
            " 5   occupation     15060 non-null  object\n",
            " 6   relationship   15060 non-null  object\n",
            " 7   race           15060 non-null  object\n",
            " 8   sex            15060 non-null  object\n",
            " 9   capitalgain    15060 non-null  int64 \n",
            " 10  capitalloss    15060 non-null  int64 \n",
            " 11  hoursperweek   15060 non-null  int64 \n",
            " 12  native         15060 non-null  object\n",
            " 13  Salary         15060 non-null  object\n",
            "dtypes: int64(5), object(9)\n",
            "memory usage: 1.6+ MB\n"
          ]
        }
      ]
    },
    {
      "cell_type": "code",
      "source": [
        "# Drop the columns with less impact as we did in Train dataset\n",
        "df_sal_test = df_sal_test.drop(['maritalstatus', 'relationship', 'race'], axis=1)\n",
        "df_sal_test.info()"
      ],
      "metadata": {
        "id": "cSUdhQmg1Nlp",
        "colab": {
          "base_uri": "https://localhost:8080/"
        },
        "outputId": "b1a111ab-34a0-472b-af0a-da325c81c1bd"
      },
      "execution_count": 19,
      "outputs": [
        {
          "output_type": "stream",
          "name": "stdout",
          "text": [
            "<class 'pandas.core.frame.DataFrame'>\n",
            "RangeIndex: 15060 entries, 0 to 15059\n",
            "Data columns (total 11 columns):\n",
            " #   Column        Non-Null Count  Dtype \n",
            "---  ------        --------------  ----- \n",
            " 0   age           15060 non-null  int64 \n",
            " 1   workclass     15060 non-null  object\n",
            " 2   education     15060 non-null  object\n",
            " 3   educationno   15060 non-null  int64 \n",
            " 4   occupation    15060 non-null  object\n",
            " 5   sex           15060 non-null  object\n",
            " 6   capitalgain   15060 non-null  int64 \n",
            " 7   capitalloss   15060 non-null  int64 \n",
            " 8   hoursperweek  15060 non-null  int64 \n",
            " 9   native        15060 non-null  object\n",
            " 10  Salary        15060 non-null  object\n",
            "dtypes: int64(5), object(6)\n",
            "memory usage: 1.3+ MB\n"
          ]
        }
      ]
    },
    {
      "cell_type": "code",
      "source": [
        "df_sal_test.shape"
      ],
      "metadata": {
        "id": "fIII8wmm1Nlp",
        "colab": {
          "base_uri": "https://localhost:8080/"
        },
        "outputId": "51794061-0d17-4822-f72a-7a855f882911"
      },
      "execution_count": 20,
      "outputs": [
        {
          "output_type": "execute_result",
          "data": {
            "text/plain": [
              "(15060, 11)"
            ]
          },
          "metadata": {},
          "execution_count": 20
        }
      ]
    },
    {
      "cell_type": "code",
      "source": [
        "# Convert all string object columns to categorical columns\n",
        "columns = ['workclass', 'education', 'occupation', 'sex', 'native', 'Salary']\n",
        "\n",
        "for x in columns:\n",
        "  df_sal_test[x] = df_sal_test[x].astype('category')\n",
        "\n",
        "df_sal_test.info()"
      ],
      "metadata": {
        "id": "UGkT5RcS1Nlp",
        "colab": {
          "base_uri": "https://localhost:8080/"
        },
        "outputId": "7138f707-d2a9-4539-f2b2-2422a67b44ad"
      },
      "execution_count": 21,
      "outputs": [
        {
          "output_type": "stream",
          "name": "stdout",
          "text": [
            "<class 'pandas.core.frame.DataFrame'>\n",
            "RangeIndex: 15060 entries, 0 to 15059\n",
            "Data columns (total 11 columns):\n",
            " #   Column        Non-Null Count  Dtype   \n",
            "---  ------        --------------  -----   \n",
            " 0   age           15060 non-null  int64   \n",
            " 1   workclass     15060 non-null  category\n",
            " 2   education     15060 non-null  category\n",
            " 3   educationno   15060 non-null  int64   \n",
            " 4   occupation    15060 non-null  category\n",
            " 5   sex           15060 non-null  category\n",
            " 6   capitalgain   15060 non-null  int64   \n",
            " 7   capitalloss   15060 non-null  int64   \n",
            " 8   hoursperweek  15060 non-null  int64   \n",
            " 9   native        15060 non-null  category\n",
            " 10  Salary        15060 non-null  category\n",
            "dtypes: category(6), int64(5)\n",
            "memory usage: 679.9 KB\n"
          ]
        }
      ]
    },
    {
      "cell_type": "code",
      "source": [
        "# Change categorical input features to dummies\n",
        "# Change output categorical values to numeric catcodes \n",
        "df_temp1 = pd.get_dummies(df_sal_test.drop('Salary', axis=1))\n",
        "df_temp1['Salary'] = df_sal_test['Salary'].cat.codes \n",
        "\n",
        "df_temp1.info()"
      ],
      "metadata": {
        "id": "tQEpOa1r1Nlp",
        "colab": {
          "base_uri": "https://localhost:8080/"
        },
        "outputId": "ac65fc20-1da2-460f-dc12-734cf4b14e4a"
      },
      "execution_count": 22,
      "outputs": [
        {
          "output_type": "stream",
          "name": "stdout",
          "text": [
            "<class 'pandas.core.frame.DataFrame'>\n",
            "RangeIndex: 15060 entries, 0 to 15059\n",
            "Data columns (total 85 columns):\n",
            " #   Column                              Non-Null Count  Dtype\n",
            "---  ------                              --------------  -----\n",
            " 0   age                                 15060 non-null  int64\n",
            " 1   educationno                         15060 non-null  int64\n",
            " 2   capitalgain                         15060 non-null  int64\n",
            " 3   capitalloss                         15060 non-null  int64\n",
            " 4   hoursperweek                        15060 non-null  int64\n",
            " 5   workclass_ Federal-gov              15060 non-null  uint8\n",
            " 6   workclass_ Local-gov                15060 non-null  uint8\n",
            " 7   workclass_ Private                  15060 non-null  uint8\n",
            " 8   workclass_ Self-emp-inc             15060 non-null  uint8\n",
            " 9   workclass_ Self-emp-not-inc         15060 non-null  uint8\n",
            " 10  workclass_ State-gov                15060 non-null  uint8\n",
            " 11  workclass_ Without-pay              15060 non-null  uint8\n",
            " 12  education_ 10th                     15060 non-null  uint8\n",
            " 13  education_ 11th                     15060 non-null  uint8\n",
            " 14  education_ 12th                     15060 non-null  uint8\n",
            " 15  education_ 1st-4th                  15060 non-null  uint8\n",
            " 16  education_ 5th-6th                  15060 non-null  uint8\n",
            " 17  education_ 7th-8th                  15060 non-null  uint8\n",
            " 18  education_ 9th                      15060 non-null  uint8\n",
            " 19  education_ Assoc-acdm               15060 non-null  uint8\n",
            " 20  education_ Assoc-voc                15060 non-null  uint8\n",
            " 21  education_ Bachelors                15060 non-null  uint8\n",
            " 22  education_ Doctorate                15060 non-null  uint8\n",
            " 23  education_ HS-grad                  15060 non-null  uint8\n",
            " 24  education_ Masters                  15060 non-null  uint8\n",
            " 25  education_ Preschool                15060 non-null  uint8\n",
            " 26  education_ Prof-school              15060 non-null  uint8\n",
            " 27  education_ Some-college             15060 non-null  uint8\n",
            " 28  occupation_ Adm-clerical            15060 non-null  uint8\n",
            " 29  occupation_ Armed-Forces            15060 non-null  uint8\n",
            " 30  occupation_ Craft-repair            15060 non-null  uint8\n",
            " 31  occupation_ Exec-managerial         15060 non-null  uint8\n",
            " 32  occupation_ Farming-fishing         15060 non-null  uint8\n",
            " 33  occupation_ Handlers-cleaners       15060 non-null  uint8\n",
            " 34  occupation_ Machine-op-inspct       15060 non-null  uint8\n",
            " 35  occupation_ Other-service           15060 non-null  uint8\n",
            " 36  occupation_ Priv-house-serv         15060 non-null  uint8\n",
            " 37  occupation_ Prof-specialty          15060 non-null  uint8\n",
            " 38  occupation_ Protective-serv         15060 non-null  uint8\n",
            " 39  occupation_ Sales                   15060 non-null  uint8\n",
            " 40  occupation_ Tech-support            15060 non-null  uint8\n",
            " 41  occupation_ Transport-moving        15060 non-null  uint8\n",
            " 42  sex_ Female                         15060 non-null  uint8\n",
            " 43  sex_ Male                           15060 non-null  uint8\n",
            " 44  native_ Cambodia                    15060 non-null  uint8\n",
            " 45  native_ Canada                      15060 non-null  uint8\n",
            " 46  native_ China                       15060 non-null  uint8\n",
            " 47  native_ Columbia                    15060 non-null  uint8\n",
            " 48  native_ Cuba                        15060 non-null  uint8\n",
            " 49  native_ Dominican-Republic          15060 non-null  uint8\n",
            " 50  native_ Ecuador                     15060 non-null  uint8\n",
            " 51  native_ El-Salvador                 15060 non-null  uint8\n",
            " 52  native_ England                     15060 non-null  uint8\n",
            " 53  native_ France                      15060 non-null  uint8\n",
            " 54  native_ Germany                     15060 non-null  uint8\n",
            " 55  native_ Greece                      15060 non-null  uint8\n",
            " 56  native_ Guatemala                   15060 non-null  uint8\n",
            " 57  native_ Haiti                       15060 non-null  uint8\n",
            " 58  native_ Honduras                    15060 non-null  uint8\n",
            " 59  native_ Hong                        15060 non-null  uint8\n",
            " 60  native_ Hungary                     15060 non-null  uint8\n",
            " 61  native_ India                       15060 non-null  uint8\n",
            " 62  native_ Iran                        15060 non-null  uint8\n",
            " 63  native_ Ireland                     15060 non-null  uint8\n",
            " 64  native_ Italy                       15060 non-null  uint8\n",
            " 65  native_ Jamaica                     15060 non-null  uint8\n",
            " 66  native_ Japan                       15060 non-null  uint8\n",
            " 67  native_ Laos                        15060 non-null  uint8\n",
            " 68  native_ Mexico                      15060 non-null  uint8\n",
            " 69  native_ Nicaragua                   15060 non-null  uint8\n",
            " 70  native_ Outlying-US(Guam-USVI-etc)  15060 non-null  uint8\n",
            " 71  native_ Peru                        15060 non-null  uint8\n",
            " 72  native_ Philippines                 15060 non-null  uint8\n",
            " 73  native_ Poland                      15060 non-null  uint8\n",
            " 74  native_ Portugal                    15060 non-null  uint8\n",
            " 75  native_ Puerto-Rico                 15060 non-null  uint8\n",
            " 76  native_ Scotland                    15060 non-null  uint8\n",
            " 77  native_ South                       15060 non-null  uint8\n",
            " 78  native_ Taiwan                      15060 non-null  uint8\n",
            " 79  native_ Thailand                    15060 non-null  uint8\n",
            " 80  native_ Trinadad&Tobago             15060 non-null  uint8\n",
            " 81  native_ United-States               15060 non-null  uint8\n",
            " 82  native_ Vietnam                     15060 non-null  uint8\n",
            " 83  native_ Yugoslavia                  15060 non-null  uint8\n",
            " 84  Salary                              15060 non-null  int8 \n",
            "dtypes: int64(5), int8(1), uint8(79)\n",
            "memory usage: 1.7 MB\n"
          ]
        }
      ]
    },
    {
      "cell_type": "code",
      "source": [
        "# Separate out x and y variables\n",
        "x_test = df_temp1.drop('Salary', axis=1)\n",
        "y_test = df_temp1['Salary']\n",
        "\n",
        "print('x_test shape: ', x_test.shape)\n",
        "print('y_test shape: ', y_test.shape)"
      ],
      "metadata": {
        "id": "cdblokfN1Nlp",
        "colab": {
          "base_uri": "https://localhost:8080/"
        },
        "outputId": "cde635b7-d97f-48b6-ebbb-913ef6f8d69c"
      },
      "execution_count": 23,
      "outputs": [
        {
          "output_type": "stream",
          "name": "stdout",
          "text": [
            "x_test shape:  (15060, 84)\n",
            "y_test shape:  (15060,)\n"
          ]
        }
      ]
    },
    {
      "cell_type": "markdown",
      "source": [
        "**Prediction for Test Data**"
      ],
      "metadata": {
        "id": "vJrHU6Sr55yt"
      }
    },
    {
      "cell_type": "code",
      "source": [
        "preds_test = svc.predict(x_test)"
      ],
      "metadata": {
        "id": "4RnnG8K-59BY"
      },
      "execution_count": 24,
      "outputs": []
    },
    {
      "cell_type": "code",
      "source": [
        "confusion_matrix(y_test, preds_test)"
      ],
      "metadata": {
        "colab": {
          "base_uri": "https://localhost:8080/"
        },
        "id": "B7rJourR6JwN",
        "outputId": "bd080e29-4f66-4bdc-8f42-8d14f8cf2b2e"
      },
      "execution_count": 25,
      "outputs": [
        {
          "output_type": "execute_result",
          "data": {
            "text/plain": [
              "array([[10991,   369],\n",
              "       [ 2703,   997]])"
            ]
          },
          "metadata": {},
          "execution_count": 25
        }
      ]
    },
    {
      "cell_type": "code",
      "source": [
        "print(classification_report(y_test, preds_test))"
      ],
      "metadata": {
        "colab": {
          "base_uri": "https://localhost:8080/"
        },
        "id": "uve2Yhkp6RaZ",
        "outputId": "d7ddcf5e-0d76-4215-9b71-53ac63be93dd"
      },
      "execution_count": 26,
      "outputs": [
        {
          "output_type": "stream",
          "name": "stdout",
          "text": [
            "              precision    recall  f1-score   support\n",
            "\n",
            "           0       0.80      0.97      0.88     11360\n",
            "           1       0.73      0.27      0.39      3700\n",
            "\n",
            "    accuracy                           0.80     15060\n",
            "   macro avg       0.77      0.62      0.64     15060\n",
            "weighted avg       0.78      0.80      0.76     15060\n",
            "\n"
          ]
        }
      ]
    },
    {
      "cell_type": "code",
      "source": [
        "accuracy_score(y_test, preds_test)"
      ],
      "metadata": {
        "colab": {
          "base_uri": "https://localhost:8080/"
        },
        "id": "EJAnwk8W6Xih",
        "outputId": "42903b17-2d67-4068-888d-e842976c0157"
      },
      "execution_count": 27,
      "outputs": [
        {
          "output_type": "execute_result",
          "data": {
            "text/plain": [
              "0.7960159362549801"
            ]
          },
          "metadata": {},
          "execution_count": 27
        }
      ]
    },
    {
      "cell_type": "markdown",
      "source": [
        "**Conclusion: SVM got created with 80% accuracy.**"
      ],
      "metadata": {
        "id": "Ievam_R36rai"
      }
    }
  ]
}